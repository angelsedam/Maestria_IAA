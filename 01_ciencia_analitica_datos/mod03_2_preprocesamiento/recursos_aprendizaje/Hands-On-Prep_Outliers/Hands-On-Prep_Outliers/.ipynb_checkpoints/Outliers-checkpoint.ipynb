{
 "cells": [
  {
   "cell_type": "markdown",
   "metadata": {
    "id": "qkfSqB1JLD4b"
   },
   "source": [
    "# Hands-On Data Preprocessing in Python\n",
    "    \n",
    "    AUTHOR: Dr. Roy Jafari \n",
    "\n",
    "### Chapter 11: Data Cleaning Level III\n",
    "### **Outliers (sólo Univariate outlier detection)**"
   ]
  },
  {
   "cell_type": "code",
   "execution_count": 1,
   "metadata": {
    "id": "aNQ-PTQdLD4d"
   },
   "outputs": [],
   "source": [
    "import numpy as np\n",
    "import matplotlib.pyplot as plt\n",
    "import pandas as pd\n",
    "import seaborn as sns"
   ]
  },
  {
   "cell_type": "markdown",
   "metadata": {
    "id": "XeS7aBJiLD4m"
   },
   "source": [
    "# Detecting Outliers\n",
    "## Univariate Outlier detection"
   ]
  },
  {
   "cell_type": "code",
   "execution_count": 2,
   "metadata": {
    "id": "SNr9kHJfLD4m",
    "outputId": "e3c17b98-2844-4fe7-9f9c-a5d5b0bbb670",
    "scrolled": false
   },
   "outputs": [
    {
     "data": {
      "text/html": [
       "<div>\n",
       "<style scoped>\n",
       "    .dataframe tbody tr th:only-of-type {\n",
       "        vertical-align: middle;\n",
       "    }\n",
       "\n",
       "    .dataframe tbody tr th {\n",
       "        vertical-align: top;\n",
       "    }\n",
       "\n",
       "    .dataframe thead th {\n",
       "        text-align: right;\n",
       "    }\n",
       "</style>\n",
       "<table border=\"1\" class=\"dataframe\">\n",
       "  <thead>\n",
       "    <tr style=\"text-align: right;\">\n",
       "      <th></th>\n",
       "      <th>Music</th>\n",
       "      <th>Slow songs or fast songs</th>\n",
       "      <th>Dance</th>\n",
       "      <th>Folk</th>\n",
       "      <th>Country</th>\n",
       "      <th>Classical music</th>\n",
       "      <th>Musical</th>\n",
       "      <th>Pop</th>\n",
       "      <th>Rock</th>\n",
       "      <th>Metal or Hardrock</th>\n",
       "      <th>...</th>\n",
       "      <th>Age</th>\n",
       "      <th>Height</th>\n",
       "      <th>Weight</th>\n",
       "      <th>Number of siblings</th>\n",
       "      <th>Gender</th>\n",
       "      <th>Left - right handed</th>\n",
       "      <th>Education</th>\n",
       "      <th>Only child</th>\n",
       "      <th>Village - town</th>\n",
       "      <th>House - block of flats</th>\n",
       "    </tr>\n",
       "  </thead>\n",
       "  <tbody>\n",
       "    <tr>\n",
       "      <th>0</th>\n",
       "      <td>5.0</td>\n",
       "      <td>3.0</td>\n",
       "      <td>2.0</td>\n",
       "      <td>1.0</td>\n",
       "      <td>2.0</td>\n",
       "      <td>2.0</td>\n",
       "      <td>1.0</td>\n",
       "      <td>5.0</td>\n",
       "      <td>5.0</td>\n",
       "      <td>1.0</td>\n",
       "      <td>...</td>\n",
       "      <td>20.0</td>\n",
       "      <td>163.0</td>\n",
       "      <td>48.0</td>\n",
       "      <td>1.0</td>\n",
       "      <td>female</td>\n",
       "      <td>right handed</td>\n",
       "      <td>college/bachelor degree</td>\n",
       "      <td>no</td>\n",
       "      <td>village</td>\n",
       "      <td>block of flats</td>\n",
       "    </tr>\n",
       "    <tr>\n",
       "      <th>1</th>\n",
       "      <td>4.0</td>\n",
       "      <td>4.0</td>\n",
       "      <td>2.0</td>\n",
       "      <td>1.0</td>\n",
       "      <td>1.0</td>\n",
       "      <td>1.0</td>\n",
       "      <td>2.0</td>\n",
       "      <td>3.0</td>\n",
       "      <td>5.0</td>\n",
       "      <td>4.0</td>\n",
       "      <td>...</td>\n",
       "      <td>19.0</td>\n",
       "      <td>163.0</td>\n",
       "      <td>58.0</td>\n",
       "      <td>2.0</td>\n",
       "      <td>female</td>\n",
       "      <td>right handed</td>\n",
       "      <td>college/bachelor degree</td>\n",
       "      <td>no</td>\n",
       "      <td>city</td>\n",
       "      <td>block of flats</td>\n",
       "    </tr>\n",
       "  </tbody>\n",
       "</table>\n",
       "<p>2 rows × 150 columns</p>\n",
       "</div>"
      ],
      "text/plain": [
       "   Music  Slow songs or fast songs  Dance  Folk  Country  Classical music  \\\n",
       "0    5.0                       3.0    2.0   1.0      2.0              2.0   \n",
       "1    4.0                       4.0    2.0   1.0      1.0              1.0   \n",
       "\n",
       "   Musical  Pop  Rock  Metal or Hardrock  ...   Age  Height  Weight  \\\n",
       "0      1.0  5.0   5.0                1.0  ...  20.0   163.0    48.0   \n",
       "1      2.0  3.0   5.0                4.0  ...  19.0   163.0    58.0   \n",
       "\n",
       "   Number of siblings  Gender  Left - right handed                Education  \\\n",
       "0                 1.0  female         right handed  college/bachelor degree   \n",
       "1                 2.0  female         right handed  college/bachelor degree   \n",
       "\n",
       "   Only child  Village - town  House - block of flats  \n",
       "0          no         village          block of flats  \n",
       "1          no            city          block of flats  \n",
       "\n",
       "[2 rows x 150 columns]"
      ]
     },
     "execution_count": 2,
     "metadata": {},
     "output_type": "execute_result"
    }
   ],
   "source": [
    "response_df = pd.read_csv('responses.csv')\n",
    "response_df.head(2)"
   ]
  },
  {
   "cell_type": "markdown",
   "metadata": {
    "id": "lYY7LG42LD4m"
   },
   "source": [
    "#### Example of detecting outliers across one numerical attribute"
   ]
  },
  {
   "cell_type": "code",
   "execution_count": 3,
   "metadata": {
    "id": "bywDzYpHLD4m",
    "outputId": "9223f4e8-fe53-415b-c6ef-a179be23e814"
   },
   "outputs": [
    {
     "data": {
      "image/png": "[encoded data removed]",
      "text/plain": [
       "<Figure size 432x288 with 1 Axes>"
      ]
     },
     "metadata": {
      "needs_background": "light"
     },
     "output_type": "display_data"
    }
   ],
   "source": [
    "fig = plt.boxplot(response_df.Weight.dropna(),vert=False)"
   ]
  },
  {
   "cell_type": "code",
   "execution_count": 4,
   "metadata": {
    "id": "y_wbqw7BLD4m",
    "outputId": "44a8df3a-2d34-4dbe-b456-68581206ba36",
    "scrolled": false
   },
   "outputs": [
    {
     "data": {
      "text/html": [
       "<div>\n",
       "<style scoped>\n",
       "    .dataframe tbody tr th:only-of-type {\n",
       "        vertical-align: middle;\n",
       "    }\n",
       "\n",
       "    .dataframe tbody tr th {\n",
       "        vertical-align: top;\n",
       "    }\n",
       "\n",
       "    .dataframe thead th {\n",
       "        text-align: right;\n",
       "    }\n",
       "</style>\n",
       "<table border=\"1\" class=\"dataframe\">\n",
       "  <thead>\n",
       "    <tr style=\"text-align: right;\">\n",
       "      <th></th>\n",
       "      <th>Music</th>\n",
       "      <th>Slow songs or fast songs</th>\n",
       "      <th>Dance</th>\n",
       "      <th>Folk</th>\n",
       "      <th>Country</th>\n",
       "      <th>Classical music</th>\n",
       "      <th>Musical</th>\n",
       "      <th>Pop</th>\n",
       "      <th>Rock</th>\n",
       "      <th>Metal or Hardrock</th>\n",
       "      <th>...</th>\n",
       "      <th>Age</th>\n",
       "      <th>Height</th>\n",
       "      <th>Weight</th>\n",
       "      <th>Number of siblings</th>\n",
       "      <th>Gender</th>\n",
       "      <th>Left - right handed</th>\n",
       "      <th>Education</th>\n",
       "      <th>Only child</th>\n",
       "      <th>Village - town</th>\n",
       "      <th>House - block of flats</th>\n",
       "    </tr>\n",
       "  </thead>\n",
       "  <tbody>\n",
       "    <tr>\n",
       "      <th>292</th>\n",
       "      <td>5.0</td>\n",
       "      <td>4.0</td>\n",
       "      <td>5.0</td>\n",
       "      <td>2.0</td>\n",
       "      <td>3.0</td>\n",
       "      <td>2.0</td>\n",
       "      <td>5.0</td>\n",
       "      <td>5.0</td>\n",
       "      <td>4.0</td>\n",
       "      <td>1.0</td>\n",
       "      <td>...</td>\n",
       "      <td>21.0</td>\n",
       "      <td>184.0</td>\n",
       "      <td>120.0</td>\n",
       "      <td>1.0</td>\n",
       "      <td>female</td>\n",
       "      <td>right handed</td>\n",
       "      <td>secondary school</td>\n",
       "      <td>no</td>\n",
       "      <td>city</td>\n",
       "      <td>house/bungalow</td>\n",
       "    </tr>\n",
       "    <tr>\n",
       "      <th>612</th>\n",
       "      <td>5.0</td>\n",
       "      <td>3.0</td>\n",
       "      <td>5.0</td>\n",
       "      <td>1.0</td>\n",
       "      <td>1.0</td>\n",
       "      <td>3.0</td>\n",
       "      <td>2.0</td>\n",
       "      <td>3.0</td>\n",
       "      <td>4.0</td>\n",
       "      <td>3.0</td>\n",
       "      <td>...</td>\n",
       "      <td>23.0</td>\n",
       "      <td>172.0</td>\n",
       "      <td>110.0</td>\n",
       "      <td>2.0</td>\n",
       "      <td>male</td>\n",
       "      <td>right handed</td>\n",
       "      <td>secondary school</td>\n",
       "      <td>no</td>\n",
       "      <td>village</td>\n",
       "      <td>block of flats</td>\n",
       "    </tr>\n",
       "    <tr>\n",
       "      <th>715</th>\n",
       "      <td>4.0</td>\n",
       "      <td>3.0</td>\n",
       "      <td>2.0</td>\n",
       "      <td>3.0</td>\n",
       "      <td>3.0</td>\n",
       "      <td>3.0</td>\n",
       "      <td>4.0</td>\n",
       "      <td>2.0</td>\n",
       "      <td>5.0</td>\n",
       "      <td>5.0</td>\n",
       "      <td>...</td>\n",
       "      <td>29.0</td>\n",
       "      <td>183.0</td>\n",
       "      <td>111.0</td>\n",
       "      <td>1.0</td>\n",
       "      <td>male</td>\n",
       "      <td>left handed</td>\n",
       "      <td>secondary school</td>\n",
       "      <td>no</td>\n",
       "      <td>village</td>\n",
       "      <td>house/bungalow</td>\n",
       "    </tr>\n",
       "    <tr>\n",
       "      <th>793</th>\n",
       "      <td>2.0</td>\n",
       "      <td>3.0</td>\n",
       "      <td>3.0</td>\n",
       "      <td>1.0</td>\n",
       "      <td>2.0</td>\n",
       "      <td>3.0</td>\n",
       "      <td>3.0</td>\n",
       "      <td>3.0</td>\n",
       "      <td>2.0</td>\n",
       "      <td>4.0</td>\n",
       "      <td>...</td>\n",
       "      <td>24.0</td>\n",
       "      <td>185.0</td>\n",
       "      <td>120.0</td>\n",
       "      <td>2.0</td>\n",
       "      <td>male</td>\n",
       "      <td>right handed</td>\n",
       "      <td>doctorate degree</td>\n",
       "      <td>no</td>\n",
       "      <td>city</td>\n",
       "      <td>house/bungalow</td>\n",
       "    </tr>\n",
       "    <tr>\n",
       "      <th>796</th>\n",
       "      <td>3.0</td>\n",
       "      <td>5.0</td>\n",
       "      <td>3.0</td>\n",
       "      <td>2.0</td>\n",
       "      <td>2.0</td>\n",
       "      <td>4.0</td>\n",
       "      <td>3.0</td>\n",
       "      <td>5.0</td>\n",
       "      <td>1.0</td>\n",
       "      <td>4.0</td>\n",
       "      <td>...</td>\n",
       "      <td>27.0</td>\n",
       "      <td>189.0</td>\n",
       "      <td>113.0</td>\n",
       "      <td>3.0</td>\n",
       "      <td>male</td>\n",
       "      <td>left handed</td>\n",
       "      <td>doctorate degree</td>\n",
       "      <td>no</td>\n",
       "      <td>city</td>\n",
       "      <td>house/bungalow</td>\n",
       "    </tr>\n",
       "    <tr>\n",
       "      <th>859</th>\n",
       "      <td>5.0</td>\n",
       "      <td>3.0</td>\n",
       "      <td>4.0</td>\n",
       "      <td>4.0</td>\n",
       "      <td>2.0</td>\n",
       "      <td>3.0</td>\n",
       "      <td>3.0</td>\n",
       "      <td>4.0</td>\n",
       "      <td>3.0</td>\n",
       "      <td>2.0</td>\n",
       "      <td>...</td>\n",
       "      <td>20.0</td>\n",
       "      <td>190.0</td>\n",
       "      <td>125.0</td>\n",
       "      <td>1.0</td>\n",
       "      <td>male</td>\n",
       "      <td>right handed</td>\n",
       "      <td>secondary school</td>\n",
       "      <td>no</td>\n",
       "      <td>city</td>\n",
       "      <td>block of flats</td>\n",
       "    </tr>\n",
       "    <tr>\n",
       "      <th>885</th>\n",
       "      <td>3.0</td>\n",
       "      <td>4.0</td>\n",
       "      <td>3.0</td>\n",
       "      <td>2.0</td>\n",
       "      <td>2.0</td>\n",
       "      <td>2.0</td>\n",
       "      <td>3.0</td>\n",
       "      <td>4.0</td>\n",
       "      <td>4.0</td>\n",
       "      <td>4.0</td>\n",
       "      <td>...</td>\n",
       "      <td>23.0</td>\n",
       "      <td>NaN</td>\n",
       "      <td>165.0</td>\n",
       "      <td>0.0</td>\n",
       "      <td>female</td>\n",
       "      <td>right handed</td>\n",
       "      <td>secondary school</td>\n",
       "      <td>yes</td>\n",
       "      <td>city</td>\n",
       "      <td>house/bungalow</td>\n",
       "    </tr>\n",
       "    <tr>\n",
       "      <th>973</th>\n",
       "      <td>5.0</td>\n",
       "      <td>3.0</td>\n",
       "      <td>2.0</td>\n",
       "      <td>5.0</td>\n",
       "      <td>5.0</td>\n",
       "      <td>4.0</td>\n",
       "      <td>5.0</td>\n",
       "      <td>2.0</td>\n",
       "      <td>5.0</td>\n",
       "      <td>5.0</td>\n",
       "      <td>...</td>\n",
       "      <td>20.0</td>\n",
       "      <td>175.0</td>\n",
       "      <td>120.0</td>\n",
       "      <td>2.0</td>\n",
       "      <td>female</td>\n",
       "      <td>right handed</td>\n",
       "      <td>secondary school</td>\n",
       "      <td>no</td>\n",
       "      <td>city</td>\n",
       "      <td>block of flats</td>\n",
       "    </tr>\n",
       "    <tr>\n",
       "      <th>992</th>\n",
       "      <td>4.0</td>\n",
       "      <td>4.0</td>\n",
       "      <td>4.0</td>\n",
       "      <td>1.0</td>\n",
       "      <td>4.0</td>\n",
       "      <td>4.0</td>\n",
       "      <td>1.0</td>\n",
       "      <td>3.0</td>\n",
       "      <td>4.0</td>\n",
       "      <td>4.0</td>\n",
       "      <td>...</td>\n",
       "      <td>30.0</td>\n",
       "      <td>200.0</td>\n",
       "      <td>150.0</td>\n",
       "      <td>1.0</td>\n",
       "      <td>male</td>\n",
       "      <td>right handed</td>\n",
       "      <td>masters degree</td>\n",
       "      <td>no</td>\n",
       "      <td>city</td>\n",
       "      <td>block of flats</td>\n",
       "    </tr>\n",
       "  </tbody>\n",
       "</table>\n",
       "<p>9 rows × 150 columns</p>\n",
       "</div>"
      ],
      "text/plain": [
       "     Music  Slow songs or fast songs  Dance  Folk  Country  Classical music  \\\n",
       "292    5.0                       4.0    5.0   2.0      3.0              2.0   \n",
       "612    5.0                       3.0    5.0   1.0      1.0              3.0   \n",
       "715    4.0                       3.0    2.0   3.0      3.0              3.0   \n",
       "793    2.0                       3.0    3.0   1.0      2.0              3.0   \n",
       "796    3.0                       5.0    3.0   2.0      2.0              4.0   \n",
       "859    5.0                       3.0    4.0   4.0      2.0              3.0   \n",
       "885    3.0                       4.0    3.0   2.0      2.0              2.0   \n",
       "973    5.0                       3.0    2.0   5.0      5.0              4.0   \n",
       "992    4.0                       4.0    4.0   1.0      4.0              4.0   \n",
       "\n",
       "     Musical  Pop  Rock  Metal or Hardrock  ...   Age  Height  Weight  \\\n",
       "292      5.0  5.0   4.0                1.0  ...  21.0   184.0   120.0   \n",
       "612      2.0  3.0   4.0                3.0  ...  23.0   172.0   110.0   \n",
       "715      4.0  2.0   5.0                5.0  ...  29.0   183.0   111.0   \n",
       "793      3.0  3.0   2.0                4.0  ...  24.0   185.0   120.0   \n",
       "796      3.0  5.0   1.0                4.0  ...  27.0   189.0   113.0   \n",
       "859      3.0  4.0   3.0                2.0  ...  20.0   190.0   125.0   \n",
       "885      3.0  4.0   4.0                4.0  ...  23.0     NaN   165.0   \n",
       "973      5.0  2.0   5.0                5.0  ...  20.0   175.0   120.0   \n",
       "992      1.0  3.0   4.0                4.0  ...  30.0   200.0   150.0   \n",
       "\n",
       "     Number of siblings  Gender  Left - right handed         Education  \\\n",
       "292                 1.0  female         right handed  secondary school   \n",
       "612                 2.0    male         right handed  secondary school   \n",
       "715                 1.0    male          left handed  secondary school   \n",
       "793                 2.0    male         right handed  doctorate degree   \n",
       "796                 3.0    male          left handed  doctorate degree   \n",
       "859                 1.0    male         right handed  secondary school   \n",
       "885                 0.0  female         right handed  secondary school   \n",
       "973                 2.0  female         right handed  secondary school   \n",
       "992                 1.0    male         right handed    masters degree   \n",
       "\n",
       "     Only child  Village - town  House - block of flats  \n",
       "292          no            city          house/bungalow  \n",
       "612          no         village          block of flats  \n",
       "715          no         village          house/bungalow  \n",
       "793          no            city          house/bungalow  \n",
       "796          no            city          house/bungalow  \n",
       "859          no            city          block of flats  \n",
       "885         yes            city          house/bungalow  \n",
       "973          no            city          block of flats  \n",
       "992          no            city          block of flats  \n",
       "\n",
       "[9 rows x 150 columns]"
      ]
     },
     "execution_count": 4,
     "metadata": {},
     "output_type": "execute_result"
    }
   ],
   "source": [
    "response_df[response_df.Weight>105]"
   ]
  },
  {
   "cell_type": "code",
   "execution_count": 5,
   "metadata": {
    "id": "aKid3XaPLD4m",
    "outputId": "e10bbcb9-8a99-4930-ec4e-7c9901cb2a66"
   },
   "outputs": [
    {
     "name": "stdout",
     "output_type": "stream",
     "text": [
      "{'whiskers': [<matplotlib.lines.Line2D object at 0x0000019A0DF55D30>, <matplotlib.lines.Line2D object at 0x0000019A0DF77040>], 'caps': [<matplotlib.lines.Line2D object at 0x0000019A0DF773D0>, <matplotlib.lines.Line2D object at 0x0000019A0DF775E0>], 'boxes': [<matplotlib.lines.Line2D object at 0x0000019A0DF55A60>], 'medians': [<matplotlib.lines.Line2D object at 0x0000019A0DF778B0>], 'fliers': [<matplotlib.lines.Line2D object at 0x0000019A0DF77B80>], 'means': []}\n"
     ]
    }
   ],
   "source": [
    "print(fig)"
   ]
  },
  {
   "cell_type": "code",
   "execution_count": 6,
   "metadata": {
    "id": "6qJ8oF1mLD4m",
    "outputId": "4e1246ef-d9f8-46be-9e0e-7ae1c78a0e28"
   },
   "outputs": [
    {
     "data": {
      "text/plain": [
       "(array([120., 110., 111., 120., 113., 125., 165., 120., 150.]),\n",
       " array([1., 1., 1., 1., 1., 1., 1., 1., 1.]))"
      ]
     },
     "execution_count": 6,
     "metadata": {},
     "output_type": "execute_result"
    }
   ],
   "source": [
    "fig['fliers'][0].get_data()"
   ]
  },
  {
   "cell_type": "code",
   "execution_count": 7,
   "metadata": {
    "id": "9KuWv2A8LD4m",
    "outputId": "090786db-0a84-42fc-e865-81935caafcd8",
    "scrolled": true
   },
   "outputs": [
    {
     "data": {
      "text/html": [
       "<div>\n",
       "<style scoped>\n",
       "    .dataframe tbody tr th:only-of-type {\n",
       "        vertical-align: middle;\n",
       "    }\n",
       "\n",
       "    .dataframe tbody tr th {\n",
       "        vertical-align: top;\n",
       "    }\n",
       "\n",
       "    .dataframe thead th {\n",
       "        text-align: right;\n",
       "    }\n",
       "</style>\n",
       "<table border=\"1\" class=\"dataframe\">\n",
       "  <thead>\n",
       "    <tr style=\"text-align: right;\">\n",
       "      <th></th>\n",
       "      <th>Music</th>\n",
       "      <th>Slow songs or fast songs</th>\n",
       "      <th>Dance</th>\n",
       "      <th>Folk</th>\n",
       "      <th>Country</th>\n",
       "      <th>Classical music</th>\n",
       "      <th>Musical</th>\n",
       "      <th>Pop</th>\n",
       "      <th>Rock</th>\n",
       "      <th>Metal or Hardrock</th>\n",
       "      <th>...</th>\n",
       "      <th>Age</th>\n",
       "      <th>Height</th>\n",
       "      <th>Weight</th>\n",
       "      <th>Number of siblings</th>\n",
       "      <th>Gender</th>\n",
       "      <th>Left - right handed</th>\n",
       "      <th>Education</th>\n",
       "      <th>Only child</th>\n",
       "      <th>Village - town</th>\n",
       "      <th>House - block of flats</th>\n",
       "    </tr>\n",
       "  </thead>\n",
       "  <tbody>\n",
       "    <tr>\n",
       "      <th>292</th>\n",
       "      <td>5.0</td>\n",
       "      <td>4.0</td>\n",
       "      <td>5.0</td>\n",
       "      <td>2.0</td>\n",
       "      <td>3.0</td>\n",
       "      <td>2.0</td>\n",
       "      <td>5.0</td>\n",
       "      <td>5.0</td>\n",
       "      <td>4.0</td>\n",
       "      <td>1.0</td>\n",
       "      <td>...</td>\n",
       "      <td>21.0</td>\n",
       "      <td>184.0</td>\n",
       "      <td>120.0</td>\n",
       "      <td>1.0</td>\n",
       "      <td>female</td>\n",
       "      <td>right handed</td>\n",
       "      <td>secondary school</td>\n",
       "      <td>no</td>\n",
       "      <td>city</td>\n",
       "      <td>house/bungalow</td>\n",
       "    </tr>\n",
       "    <tr>\n",
       "      <th>612</th>\n",
       "      <td>5.0</td>\n",
       "      <td>3.0</td>\n",
       "      <td>5.0</td>\n",
       "      <td>1.0</td>\n",
       "      <td>1.0</td>\n",
       "      <td>3.0</td>\n",
       "      <td>2.0</td>\n",
       "      <td>3.0</td>\n",
       "      <td>4.0</td>\n",
       "      <td>3.0</td>\n",
       "      <td>...</td>\n",
       "      <td>23.0</td>\n",
       "      <td>172.0</td>\n",
       "      <td>110.0</td>\n",
       "      <td>2.0</td>\n",
       "      <td>male</td>\n",
       "      <td>right handed</td>\n",
       "      <td>secondary school</td>\n",
       "      <td>no</td>\n",
       "      <td>village</td>\n",
       "      <td>block of flats</td>\n",
       "    </tr>\n",
       "    <tr>\n",
       "      <th>715</th>\n",
       "      <td>4.0</td>\n",
       "      <td>3.0</td>\n",
       "      <td>2.0</td>\n",
       "      <td>3.0</td>\n",
       "      <td>3.0</td>\n",
       "      <td>3.0</td>\n",
       "      <td>4.0</td>\n",
       "      <td>2.0</td>\n",
       "      <td>5.0</td>\n",
       "      <td>5.0</td>\n",
       "      <td>...</td>\n",
       "      <td>29.0</td>\n",
       "      <td>183.0</td>\n",
       "      <td>111.0</td>\n",
       "      <td>1.0</td>\n",
       "      <td>male</td>\n",
       "      <td>left handed</td>\n",
       "      <td>secondary school</td>\n",
       "      <td>no</td>\n",
       "      <td>village</td>\n",
       "      <td>house/bungalow</td>\n",
       "    </tr>\n",
       "    <tr>\n",
       "      <th>793</th>\n",
       "      <td>2.0</td>\n",
       "      <td>3.0</td>\n",
       "      <td>3.0</td>\n",
       "      <td>1.0</td>\n",
       "      <td>2.0</td>\n",
       "      <td>3.0</td>\n",
       "      <td>3.0</td>\n",
       "      <td>3.0</td>\n",
       "      <td>2.0</td>\n",
       "      <td>4.0</td>\n",
       "      <td>...</td>\n",
       "      <td>24.0</td>\n",
       "      <td>185.0</td>\n",
       "      <td>120.0</td>\n",
       "      <td>2.0</td>\n",
       "      <td>male</td>\n",
       "      <td>right handed</td>\n",
       "      <td>doctorate degree</td>\n",
       "      <td>no</td>\n",
       "      <td>city</td>\n",
       "      <td>house/bungalow</td>\n",
       "    </tr>\n",
       "    <tr>\n",
       "      <th>796</th>\n",
       "      <td>3.0</td>\n",
       "      <td>5.0</td>\n",
       "      <td>3.0</td>\n",
       "      <td>2.0</td>\n",
       "      <td>2.0</td>\n",
       "      <td>4.0</td>\n",
       "      <td>3.0</td>\n",
       "      <td>5.0</td>\n",
       "      <td>1.0</td>\n",
       "      <td>4.0</td>\n",
       "      <td>...</td>\n",
       "      <td>27.0</td>\n",
       "      <td>189.0</td>\n",
       "      <td>113.0</td>\n",
       "      <td>3.0</td>\n",
       "      <td>male</td>\n",
       "      <td>left handed</td>\n",
       "      <td>doctorate degree</td>\n",
       "      <td>no</td>\n",
       "      <td>city</td>\n",
       "      <td>house/bungalow</td>\n",
       "    </tr>\n",
       "    <tr>\n",
       "      <th>859</th>\n",
       "      <td>5.0</td>\n",
       "      <td>3.0</td>\n",
       "      <td>4.0</td>\n",
       "      <td>4.0</td>\n",
       "      <td>2.0</td>\n",
       "      <td>3.0</td>\n",
       "      <td>3.0</td>\n",
       "      <td>4.0</td>\n",
       "      <td>3.0</td>\n",
       "      <td>2.0</td>\n",
       "      <td>...</td>\n",
       "      <td>20.0</td>\n",
       "      <td>190.0</td>\n",
       "      <td>125.0</td>\n",
       "      <td>1.0</td>\n",
       "      <td>male</td>\n",
       "      <td>right handed</td>\n",
       "      <td>secondary school</td>\n",
       "      <td>no</td>\n",
       "      <td>city</td>\n",
       "      <td>block of flats</td>\n",
       "    </tr>\n",
       "    <tr>\n",
       "      <th>885</th>\n",
       "      <td>3.0</td>\n",
       "      <td>4.0</td>\n",
       "      <td>3.0</td>\n",
       "      <td>2.0</td>\n",
       "      <td>2.0</td>\n",
       "      <td>2.0</td>\n",
       "      <td>3.0</td>\n",
       "      <td>4.0</td>\n",
       "      <td>4.0</td>\n",
       "      <td>4.0</td>\n",
       "      <td>...</td>\n",
       "      <td>23.0</td>\n",
       "      <td>NaN</td>\n",
       "      <td>165.0</td>\n",
       "      <td>0.0</td>\n",
       "      <td>female</td>\n",
       "      <td>right handed</td>\n",
       "      <td>secondary school</td>\n",
       "      <td>yes</td>\n",
       "      <td>city</td>\n",
       "      <td>house/bungalow</td>\n",
       "    </tr>\n",
       "    <tr>\n",
       "      <th>973</th>\n",
       "      <td>5.0</td>\n",
       "      <td>3.0</td>\n",
       "      <td>2.0</td>\n",
       "      <td>5.0</td>\n",
       "      <td>5.0</td>\n",
       "      <td>4.0</td>\n",
       "      <td>5.0</td>\n",
       "      <td>2.0</td>\n",
       "      <td>5.0</td>\n",
       "      <td>5.0</td>\n",
       "      <td>...</td>\n",
       "      <td>20.0</td>\n",
       "      <td>175.0</td>\n",
       "      <td>120.0</td>\n",
       "      <td>2.0</td>\n",
       "      <td>female</td>\n",
       "      <td>right handed</td>\n",
       "      <td>secondary school</td>\n",
       "      <td>no</td>\n",
       "      <td>city</td>\n",
       "      <td>block of flats</td>\n",
       "    </tr>\n",
       "    <tr>\n",
       "      <th>992</th>\n",
       "      <td>4.0</td>\n",
       "      <td>4.0</td>\n",
       "      <td>4.0</td>\n",
       "      <td>1.0</td>\n",
       "      <td>4.0</td>\n",
       "      <td>4.0</td>\n",
       "      <td>1.0</td>\n",
       "      <td>3.0</td>\n",
       "      <td>4.0</td>\n",
       "      <td>4.0</td>\n",
       "      <td>...</td>\n",
       "      <td>30.0</td>\n",
       "      <td>200.0</td>\n",
       "      <td>150.0</td>\n",
       "      <td>1.0</td>\n",
       "      <td>male</td>\n",
       "      <td>right handed</td>\n",
       "      <td>masters degree</td>\n",
       "      <td>no</td>\n",
       "      <td>city</td>\n",
       "      <td>block of flats</td>\n",
       "    </tr>\n",
       "  </tbody>\n",
       "</table>\n",
       "<p>9 rows × 150 columns</p>\n",
       "</div>"
      ],
      "text/plain": [
       "     Music  Slow songs or fast songs  Dance  Folk  Country  Classical music  \\\n",
       "292    5.0                       4.0    5.0   2.0      3.0              2.0   \n",
       "612    5.0                       3.0    5.0   1.0      1.0              3.0   \n",
       "715    4.0                       3.0    2.0   3.0      3.0              3.0   \n",
       "793    2.0                       3.0    3.0   1.0      2.0              3.0   \n",
       "796    3.0                       5.0    3.0   2.0      2.0              4.0   \n",
       "859    5.0                       3.0    4.0   4.0      2.0              3.0   \n",
       "885    3.0                       4.0    3.0   2.0      2.0              2.0   \n",
       "973    5.0                       3.0    2.0   5.0      5.0              4.0   \n",
       "992    4.0                       4.0    4.0   1.0      4.0              4.0   \n",
       "\n",
       "     Musical  Pop  Rock  Metal or Hardrock  ...   Age  Height  Weight  \\\n",
       "292      5.0  5.0   4.0                1.0  ...  21.0   184.0   120.0   \n",
       "612      2.0  3.0   4.0                3.0  ...  23.0   172.0   110.0   \n",
       "715      4.0  2.0   5.0                5.0  ...  29.0   183.0   111.0   \n",
       "793      3.0  3.0   2.0                4.0  ...  24.0   185.0   120.0   \n",
       "796      3.0  5.0   1.0                4.0  ...  27.0   189.0   113.0   \n",
       "859      3.0  4.0   3.0                2.0  ...  20.0   190.0   125.0   \n",
       "885      3.0  4.0   4.0                4.0  ...  23.0     NaN   165.0   \n",
       "973      5.0  2.0   5.0                5.0  ...  20.0   175.0   120.0   \n",
       "992      1.0  3.0   4.0                4.0  ...  30.0   200.0   150.0   \n",
       "\n",
       "     Number of siblings  Gender  Left - right handed         Education  \\\n",
       "292                 1.0  female         right handed  secondary school   \n",
       "612                 2.0    male         right handed  secondary school   \n",
       "715                 1.0    male          left handed  secondary school   \n",
       "793                 2.0    male         right handed  doctorate degree   \n",
       "796                 3.0    male          left handed  doctorate degree   \n",
       "859                 1.0    male         right handed  secondary school   \n",
       "885                 0.0  female         right handed  secondary school   \n",
       "973                 2.0  female         right handed  secondary school   \n",
       "992                 1.0    male         right handed    masters degree   \n",
       "\n",
       "     Only child  Village - town  House - block of flats  \n",
       "292          no            city          house/bungalow  \n",
       "612          no         village          block of flats  \n",
       "715          no         village          house/bungalow  \n",
       "793          no            city          house/bungalow  \n",
       "796          no            city          house/bungalow  \n",
       "859          no            city          block of flats  \n",
       "885         yes            city          house/bungalow  \n",
       "973          no            city          block of flats  \n",
       "992          no            city          block of flats  \n",
       "\n",
       "[9 rows x 150 columns]"
      ]
     },
     "execution_count": 7,
     "metadata": {},
     "output_type": "execute_result"
    }
   ],
   "source": [
    "Q1 = response_df.Weight.quantile(0.25)\n",
    "Q3 = response_df.Weight.quantile(0.75)\n",
    "IQR = Q3-Q1\n",
    "\n",
    "BM = (response_df.Weight > (Q3+1.5 *IQR)) | (response_df.Weight < (Q1-1.5 *IQR))\n",
    "response_df[BM]"
   ]
  },
  {
   "cell_type": "markdown",
   "metadata": {
    "id": "rL4cd54-LD4m"
   },
   "source": [
    "#### Example of detecting outliers across one categorical attribute"
   ]
  },
  {
   "cell_type": "code",
   "execution_count": 8,
   "metadata": {
    "id": "fa7RMbtLLD4m",
    "outputId": "212e918d-e47f-46f9-ba01-e87359b29608"
   },
   "outputs": [
    {
     "data": {
      "text/plain": [
       "secondary school                    621\n",
       "college/bachelor degree             212\n",
       "masters degree                       81\n",
       "primary school                       80\n",
       "currently a primary school pupil     10\n",
       "doctorate degree                      5\n",
       "Name: Education, dtype: int64"
      ]
     },
     "execution_count": 8,
     "metadata": {},
     "output_type": "execute_result"
    }
   ],
   "source": [
    "response_df.Education.value_counts()"
   ]
  },
  {
   "cell_type": "code",
   "execution_count": 9,
   "metadata": {
    "id": "WzDeusWELD4m",
    "outputId": "f905eec1-c2c4-4f1f-8cf3-e544b2e47a75",
    "scrolled": true
   },
   "outputs": [
    {
     "data": {
      "text/plain": [
       "<AxesSubplot:>"
      ]
     },
     "execution_count": 9,
     "metadata": {},
     "output_type": "execute_result"
    },
    {
     "data": {
      "image/png": "[encoded data removed]",
      "text/plain": [
       "<Figure size 432x288 with 1 Axes>"
      ]
     },
     "metadata": {
      "needs_background": "light"
     },
     "output_type": "display_data"
    }
   ],
   "source": [
    "response_df.Education.value_counts().plot.bar()"
   ]
  },
  {
   "cell_type": "markdown",
   "metadata": {
    "id": "53UKHYqVLD4o"
   },
   "source": [
    "# Dealing with outliers\n",
    "## Example 1"
   ]
  },
  {
   "cell_type": "code",
   "execution_count": 10,
   "metadata": {
    "id": "u2A8DBw1LD4o",
    "outputId": "67f042a4-6a7d-4a0f-dc24-d42bc2787682"
   },
   "outputs": [
    {
     "data": {
      "image/png": "[encoded data removed]",
      "text/plain": [
       "<Figure size 432x288 with 1 Axes>"
      ]
     },
     "metadata": {
      "needs_background": "light"
     },
     "output_type": "display_data"
    },
    {
     "data": {
      "image/png": "[encoded data removed]",
      "text/plain": [
       "<Figure size 432x288 with 1 Axes>"
      ]
     },
     "metadata": {
      "needs_background": "light"
     },
     "output_type": "display_data"
    }
   ],
   "source": [
    "response_df.Weight.plot.hist(histtype='step')\n",
    "plt.show()\n",
    "BM = response_df.Weight<105\n",
    "response_df.Weight[BM].plot.hist(histtype='step')\n",
    "plt.show()"
   ]
  },
  {
   "cell_type": "markdown",
   "metadata": {
    "id": "eHabnCGyLD4o"
   },
   "source": [
    "## Example 2"
   ]
  },
  {
   "cell_type": "code",
   "execution_count": 11,
   "metadata": {
    "id": "xgURF36FLD4o",
    "outputId": "b29efe2d-5dbe-480f-8695-664443f5f3c1"
   },
   "outputs": [
    {
     "data": {
      "image/png": "[encoded data removed]",
      "text/plain": [
       "<Figure size 432x288 with 1 Axes>"
      ]
     },
     "metadata": {
      "needs_background": "light"
     },
     "output_type": "display_data"
    }
   ],
   "source": [
    "sns.regplot(x='Height', y='Weight',data=response_df)\n",
    "plt.show()"
   ]
  },
  {
   "cell_type": "code",
   "execution_count": 12,
   "metadata": {
    "id": "uu2uIgsALD4o",
    "outputId": "25d705f5-1adc-46ef-bda8-a6b7af96a8ee"
   },
   "outputs": [
    {
     "data": {
      "image/png": "[encoded data removed]",
      "text/plain": [
       "<Figure size 432x288 with 1 Axes>"
      ]
     },
     "metadata": {
      "needs_background": "light"
     },
     "output_type": "display_data"
    }
   ],
   "source": [
    "BM = (response_df.Weight>130) | (response_df.Height<70)\n",
    "sns.regplot(x='Height',y='Weight',data=response_df[~BM])\n",
    "plt.show()"
   ]
  },
  {
   "cell_type": "markdown",
   "metadata": {
    "id": "yUCvthzYLD4o"
   },
   "source": [
    "### Example 3"
   ]
  },
  {
   "cell_type": "markdown",
   "metadata": {
    "id": "RivHt0wnLD4o"
   },
   "source": [
    "#### Dealing with missing values"
   ]
  },
  {
   "cell_type": "code",
   "execution_count": 13,
   "metadata": {
    "id": "Tn9Aud9JLD4o",
    "outputId": "e9e877df-9169-42ca-9f0e-d2e2c5ce6ba4"
   },
   "outputs": [
    {
     "name": "stdout",
     "output_type": "stream",
     "text": [
      "<class 'pandas.core.frame.DataFrame'>\n",
      "RangeIndex: 1010 entries, 0 to 1009\n",
      "Data columns (total 3 columns):\n",
      " #   Column  Non-Null Count  Dtype  \n",
      "---  ------  --------------  -----  \n",
      " 0   Weight  990 non-null    float64\n",
      " 1   Height  990 non-null    float64\n",
      " 2   Gender  1004 non-null   object \n",
      "dtypes: float64(2), object(1)\n",
      "memory usage: 23.8+ KB\n"
     ]
    }
   ],
   "source": [
    "select_attributes = ['Weight','Height','Gender']\n",
    "pre_process_df = pd.DataFrame(response_df[select_attributes])\n",
    "pre_process_df.info()"
   ]
  },
  {
   "cell_type": "code",
   "execution_count": 14,
   "metadata": {
    "id": "FrknwDHILD4o"
   },
   "outputs": [],
   "source": [
    "pre_process_df.dropna(inplace=True)"
   ]
  },
  {
   "cell_type": "code",
   "execution_count": 15,
   "metadata": {
    "id": "OzovYL1TLD4o",
    "outputId": "12288a00-36b1-4776-9482-1dcf40ffb3ac"
   },
   "outputs": [
    {
     "name": "stdout",
     "output_type": "stream",
     "text": [
      "<class 'pandas.core.frame.DataFrame'>\n",
      "Int64Index: 975 entries, 0 to 1009\n",
      "Data columns (total 3 columns):\n",
      " #   Column  Non-Null Count  Dtype  \n",
      "---  ------  --------------  -----  \n",
      " 0   Weight  975 non-null    float64\n",
      " 1   Height  975 non-null    float64\n",
      " 2   Gender  975 non-null    object \n",
      "dtypes: float64(2), object(1)\n",
      "memory usage: 30.5+ KB\n"
     ]
    }
   ],
   "source": [
    "pre_process_df.info()"
   ]
  },
  {
   "cell_type": "markdown",
   "metadata": {
    "id": "UgIv1brrLD4o"
   },
   "source": [
    "#### Detecting univariate outliers and dealing with them"
   ]
  },
  {
   "cell_type": "code",
   "execution_count": 16,
   "metadata": {
    "id": "hKppgzryLD4o",
    "outputId": "d733eca1-09d1-4b00-a2f5-62a18747464b"
   },
   "outputs": [
    {
     "data": {
      "image/png": "[encoded data removed]",
      "text/plain": [
       "<Figure size 432x288 with 3 Axes>"
      ]
     },
     "metadata": {
      "needs_background": "light"
     },
     "output_type": "display_data"
    }
   ],
   "source": [
    "num_attributes = ['Weight','Height']\n",
    "for i,att in enumerate(num_attributes):\n",
    "    plt.subplot(1,3,i+1)\n",
    "    pre_process_df[att].plot.box()\n",
    "\n",
    "plt.subplot(1,3,3)\n",
    "pre_process_df.Gender.value_counts().plot.bar()\n",
    "plt.tight_layout()\n",
    "plt.show()"
   ]
  },
  {
   "cell_type": "code",
   "execution_count": 17,
   "metadata": {
    "id": "JpfTJwvHLD4o"
   },
   "outputs": [],
   "source": [
    "Q3 = pre_process_df.Weight.quantile(0.75)\n",
    "Q1 = pre_process_df.Weight.quantile(0.25)\n",
    "IQR = Q3 - Q1\n",
    "\n",
    "upper_cap = Q3+IQR*1.5\n",
    "\n",
    "BM = pre_process_df.Weight > upper_cap\n",
    "pre_process_df.loc[pre_process_df[BM].index,'Weight'] = upper_cap"
   ]
  },
  {
   "cell_type": "code",
   "execution_count": 18,
   "metadata": {
    "id": "Qr_U2oF4LD4o",
    "outputId": "6ce6cda1-20a7-49f7-d3c6-29443cfcdbfc"
   },
   "outputs": [
    {
     "data": {
      "text/plain": [
       "<AxesSubplot:>"
      ]
     },
     "execution_count": 18,
     "metadata": {},
     "output_type": "execute_result"
    },
    {
     "data": {
      "image/png": "[encoded data removed]",
      "text/plain": [
       "<Figure size 432x288 with 1 Axes>"
      ]
     },
     "metadata": {
      "needs_background": "light"
     },
     "output_type": "display_data"
    }
   ],
   "source": [
    "pre_process_df.Weight.plot.box()"
   ]
  },
  {
   "cell_type": "code",
   "execution_count": 19,
   "metadata": {
    "id": "8OnKtNxOLD4p"
   },
   "outputs": [],
   "source": [
    "Q3 = pre_process_df.Height.quantile(0.75)\n",
    "Q1 = pre_process_df.Height.quantile(0.25)\n",
    "IQR = Q3 - Q1\n",
    "\n",
    "lower_cap = Q1-IQR*1.5\n",
    "upper_cap = Q3+IQR*1.5\n",
    "\n",
    "BM = pre_process_df.Height < lower_cap\n",
    "pre_process_df.loc[pre_process_df[BM].index,'Height'] = lower_cap\n",
    "\n",
    "BM = pre_process_df.Height > upper_cap\n",
    "pre_process_df.loc[pre_process_df[BM].index,'Height'] = upper_cap"
   ]
  },
  {
   "cell_type": "code",
   "execution_count": 20,
   "metadata": {
    "id": "MVKbXjQXLD4p",
    "outputId": "93281a8c-5be4-47d9-a580-93e5ced686d3"
   },
   "outputs": [
    {
     "data": {
      "text/plain": [
       "<AxesSubplot:>"
      ]
     },
     "execution_count": 20,
     "metadata": {},
     "output_type": "execute_result"
    },
    {
     "data": {
      "image/png": "[encoded data removed]",
      "text/plain": [
       "<Figure size 432x288 with 1 Axes>"
      ]
     },
     "metadata": {
      "needs_background": "light"
     },
     "output_type": "display_data"
    }
   ],
   "source": [
    "pre_process_df.Height.plot.box()"
   ]
  }
 ],
 "metadata": {
  "colab": {
   "provenance": []
  },
  "kernelspec": {
   "display_name": "Python 3 (ipykernel)",
   "language": "python",
   "name": "python3"
  },
  "language_info": {
   "codemirror_mode": {
    "name": "ipython",
    "version": 3
   },
   "file_extension": ".py",
   "mimetype": "text/x-python",
   "name": "python",
   "nbconvert_exporter": "python",
   "pygments_lexer": "ipython3",
   "version": "3.9.12"
  }
 },
 "nbformat": 4,
 "nbformat_minor": 1
}
