{
  "nbformat": 4,
  "nbformat_minor": 0,
  "metadata": {
    "colab": {
      "provenance": []
    },
    "kernelspec": {
      "name": "python3",
      "display_name": "Python 3"
    },
    "language_info": {
      "name": "python"
    }
  },
  "cells": [
    {
      "cell_type": "markdown",
      "source": [
        "#**Maestría en Inteligencia Artificial Aplicada**\n",
        "\n",
        "##**Curso: Inteligencia Artificial y Aprendizaje Automático**\n",
        "\n",
        "###Tecnológico de Monterrey\n",
        "\n",
        "###Prof Luis Eduardo Falcón Morales\n",
        "\n",
        "## **Adtividad de las Semanas 5 y 6**\n",
        "###**Problema de asignación de créditos: South German Dataset.**"
      ],
      "metadata": {
        "id": "dBbWMn9ebmi8"
      }
    },
    {
      "cell_type": "markdown",
      "source": [
        "## **Nombre y matrícula:**"
      ],
      "metadata": {
        "id": "YiwEw8XsZG2W"
      }
    },
    {
      "cell_type": "markdown",
      "source": [
        "# **Parte I: Partición, análisis y pre-procesamiento de los datos.**"
      ],
      "metadata": {
        "id": "AUxxkjE6shkH"
      }
    },
    {
      "cell_type": "markdown",
      "source": [
        "## **Ejercicio 1**"
      ],
      "metadata": {
        "id": "a08Di3GjkL1Y"
      }
    },
    {
      "cell_type": "code",
      "execution_count": null,
      "metadata": {
        "id": "6VGEpE4SblfD"
      },
      "outputs": [],
      "source": [
        "# Aquí deberás incluir todas las librerías que requieras durante esta actividad:\n",
        "import numpy as np\n",
        "import pandas as pd\n",
        "import matplotlib.pyplot as plt\n",
        "import seaborn as sns\n",
        "from google.colab import drive\n",
        "import os\n",
        "\n",
        "from sklearn.model_selection import train_test_split\n",
        "from sklearn.preprocessing import MinMaxScaler\n",
        "\n",
        "from sklearn.pipeline import Pipeline\n",
        "from sklearn.compose import ColumnTransformer\n",
        "from sklearn.impute import SimpleImputer\n",
        "from sklearn.preprocessing import OneHotEncoder\n",
        "from sklearn.preprocessing import OrdinalEncoder\n",
        "from sklearn.preprocessing import RobustScaler\n",
        "from sklearn.preprocessing import PowerTransformer\n",
        "\n",
        "from sklearn.model_selection import cross_validate\n",
        "from sklearn.model_selection import RepeatedKFold\n",
        "from sklearn.model_selection import RepeatedStratifiedKFold\n",
        "from sklearn.preprocessing import LabelEncoder\n",
        "from sklearn.preprocessing import FunctionTransformer\n",
        "\n",
        "from sklearn.linear_model import LogisticRegression\n",
        "from sklearn.neighbors import KNeighborsClassifier\n",
        "from sklearn.tree import DecisionTreeClassifier\n",
        "from sklearn.ensemble import RandomForestClassifier\n",
        "from xgboost import XGBClassifier\n",
        "from sklearn.neural_network import MLPClassifier\n",
        "from sklearn.svm import SVC\n",
        "from imblearn.combine import SMOTETomek\n",
        "from imblearn.over_sampling import SMOTE\n",
        "from imblearn.under_sampling import TomekLinks\n",
        "\n",
        "from sklearn.metrics import confusion_matrix, classification_report\n",
        "from sklearn.metrics import roc_auc_score\n",
        "from sklearn.metrics import accuracy_score, recall_score, f1_score, roc_auc_score\n",
        "\n"
      ]
    },
    {
      "cell_type": "code",
      "source": [
        "# Cargamos los datos:\n",
        "\n",
        "drive.mount('/content/drive')\n",
        "DIR = \"/content/drive/MyDrive/Colab Notebooks/MNA/IAy_AA/semana_5_6/\"\n",
        "os.chdir(DIR)\n",
        "df = pd.read_csv(\"SouthGermanCredit.asc\",sep=' ')\n",
        "print(df.shape)\n",
        "df.head(3)"
      ],
      "metadata": {
        "id": "RriCpzMBb2mr",
        "colab": {
          "base_uri": "https://localhost:8080/",
          "height": 209
        },
        "outputId": "205e373f-2cf0-4f61-a067-2b212de3c9ee"
      },
      "execution_count": null,
      "outputs": [
        {
          "output_type": "stream",
          "name": "stdout",
          "text": [
            "Drive already mounted at /content/drive; to attempt to forcibly remount, call drive.mount(\"/content/drive\", force_remount=True).\n",
            "(1000, 21)\n"
          ]
        },
        {
          "output_type": "execute_result",
          "data": {
            "text/plain": [
              "   laufkont  laufzeit  moral  verw  hoehe  sparkont  beszeit  rate  famges  \\\n",
              "0         1        18      4     2   1049         1        2     4       2   \n",
              "1         1         9      4     0   2799         1        3     2       3   \n",
              "2         2        12      2     9    841         2        4     2       2   \n",
              "\n",
              "   buerge  ...  verm  alter  weitkred  wohn  bishkred  beruf  pers  telef  \\\n",
              "0       1  ...     2     21         3     1         1      3     2      1   \n",
              "1       1  ...     1     36         3     1         2      3     1      1   \n",
              "2       1  ...     1     23         3     1         1      2     2      1   \n",
              "\n",
              "   gastarb  kredit  \n",
              "0        2       1  \n",
              "1        2       1  \n",
              "2        2       1  \n",
              "\n",
              "[3 rows x 21 columns]"
            ],
            "text/html": [
              "\n",
              "  <div id=\"df-ae8aed3d-817f-49a7-881f-4da0fa1e1f67\" class=\"colab-df-container\">\n",
              "    <div>\n",
              "<style scoped>\n",
              "    .dataframe tbody tr th:only-of-type {\n",
              "        vertical-align: middle;\n",
              "    }\n",
              "\n",
              "    .dataframe tbody tr th {\n",
              "        vertical-align: top;\n",
              "    }\n",
              "\n",
              "    .dataframe thead th {\n",
              "        text-align: right;\n",
              "    }\n",
              "</style>\n",
              "<table border=\"1\" class=\"dataframe\">\n",
              "  <thead>\n",
              "    <tr style=\"text-align: right;\">\n",
              "      <th></th>\n",
              "      <th>laufkont</th>\n",
              "      <th>laufzeit</th>\n",
              "      <th>moral</th>\n",
              "      <th>verw</th>\n",
              "      <th>hoehe</th>\n",
              "      <th>sparkont</th>\n",
              "      <th>beszeit</th>\n",
              "      <th>rate</th>\n",
              "      <th>famges</th>\n",
              "      <th>buerge</th>\n",
              "      <th>...</th>\n",
              "      <th>verm</th>\n",
              "      <th>alter</th>\n",
              "      <th>weitkred</th>\n",
              "      <th>wohn</th>\n",
              "      <th>bishkred</th>\n",
              "      <th>beruf</th>\n",
              "      <th>pers</th>\n",
              "      <th>telef</th>\n",
              "      <th>gastarb</th>\n",
              "      <th>kredit</th>\n",
              "    </tr>\n",
              "  </thead>\n",
              "  <tbody>\n",
              "    <tr>\n",
              "      <th>0</th>\n",
              "      <td>1</td>\n",
              "      <td>18</td>\n",
              "      <td>4</td>\n",
              "      <td>2</td>\n",
              "      <td>1049</td>\n",
              "      <td>1</td>\n",
              "      <td>2</td>\n",
              "      <td>4</td>\n",
              "      <td>2</td>\n",
              "      <td>1</td>\n",
              "      <td>...</td>\n",
              "      <td>2</td>\n",
              "      <td>21</td>\n",
              "      <td>3</td>\n",
              "      <td>1</td>\n",
              "      <td>1</td>\n",
              "      <td>3</td>\n",
              "      <td>2</td>\n",
              "      <td>1</td>\n",
              "      <td>2</td>\n",
              "      <td>1</td>\n",
              "    </tr>\n",
              "    <tr>\n",
              "      <th>1</th>\n",
              "      <td>1</td>\n",
              "      <td>9</td>\n",
              "      <td>4</td>\n",
              "      <td>0</td>\n",
              "      <td>2799</td>\n",
              "      <td>1</td>\n",
              "      <td>3</td>\n",
              "      <td>2</td>\n",
              "      <td>3</td>\n",
              "      <td>1</td>\n",
              "      <td>...</td>\n",
              "      <td>1</td>\n",
              "      <td>36</td>\n",
              "      <td>3</td>\n",
              "      <td>1</td>\n",
              "      <td>2</td>\n",
              "      <td>3</td>\n",
              "      <td>1</td>\n",
              "      <td>1</td>\n",
              "      <td>2</td>\n",
              "      <td>1</td>\n",
              "    </tr>\n",
              "    <tr>\n",
              "      <th>2</th>\n",
              "      <td>2</td>\n",
              "      <td>12</td>\n",
              "      <td>2</td>\n",
              "      <td>9</td>\n",
              "      <td>841</td>\n",
              "      <td>2</td>\n",
              "      <td>4</td>\n",
              "      <td>2</td>\n",
              "      <td>2</td>\n",
              "      <td>1</td>\n",
              "      <td>...</td>\n",
              "      <td>1</td>\n",
              "      <td>23</td>\n",
              "      <td>3</td>\n",
              "      <td>1</td>\n",
              "      <td>1</td>\n",
              "      <td>2</td>\n",
              "      <td>2</td>\n",
              "      <td>1</td>\n",
              "      <td>2</td>\n",
              "      <td>1</td>\n",
              "    </tr>\n",
              "  </tbody>\n",
              "</table>\n",
              "<p>3 rows × 21 columns</p>\n",
              "</div>\n",
              "    <div class=\"colab-df-buttons\">\n",
              "\n",
              "  <div class=\"colab-df-container\">\n",
              "    <button class=\"colab-df-convert\" onclick=\"convertToInteractive('df-ae8aed3d-817f-49a7-881f-4da0fa1e1f67')\"\n",
              "            title=\"Convert this dataframe to an interactive table.\"\n",
              "            style=\"display:none;\">\n",
              "\n",
              "  <svg xmlns=\"http://www.w3.org/2000/svg\" height=\"24px\" viewBox=\"0 -960 960 960\">\n",
              "    <path d=\"M120-120v-720h720v720H120Zm60-500h600v-160H180v160Zm220 220h160v-160H400v160Zm0 220h160v-160H400v160ZM180-400h160v-160H180v160Zm440 0h160v-160H620v160ZM180-180h160v-160H180v160Zm440 0h160v-160H620v160Z\"/>\n",
              "  </svg>\n",
              "    </button>\n",
              "\n",
              "  <style>\n",
              "    .colab-df-container {\n",
              "      display:flex;\n",
              "      gap: 12px;\n",
              "    }\n",
              "\n",
              "    .colab-df-convert {\n",
              "      background-color: #E8F0FE;\n",
              "      border: none;\n",
              "      border-radius: 50%;\n",
              "      cursor: pointer;\n",
              "      display: none;\n",
              "      fill: #1967D2;\n",
              "      height: 32px;\n",
              "      padding: 0 0 0 0;\n",
              "      width: 32px;\n",
              "    }\n",
              "\n",
              "    .colab-df-convert:hover {\n",
              "      background-color: #E2EBFA;\n",
              "      box-shadow: 0px 1px 2px rgba(60, 64, 67, 0.3), 0px 1px 3px 1px rgba(60, 64, 67, 0.15);\n",
              "      fill: #174EA6;\n",
              "    }\n",
              "\n",
              "    .colab-df-buttons div {\n",
              "      margin-bottom: 4px;\n",
              "    }\n",
              "\n",
              "    [theme=dark] .colab-df-convert {\n",
              "      background-color: #3B4455;\n",
              "      fill: #D2E3FC;\n",
              "    }\n",
              "\n",
              "    [theme=dark] .colab-df-convert:hover {\n",
              "      background-color: #434B5C;\n",
              "      box-shadow: 0px 1px 3px 1px rgba(0, 0, 0, 0.15);\n",
              "      filter: drop-shadow(0px 1px 2px rgba(0, 0, 0, 0.3));\n",
              "      fill: #FFFFFF;\n",
              "    }\n",
              "  </style>\n",
              "\n",
              "    <script>\n",
              "      const buttonEl =\n",
              "        document.querySelector('#df-ae8aed3d-817f-49a7-881f-4da0fa1e1f67 button.colab-df-convert');\n",
              "      buttonEl.style.display =\n",
              "        google.colab.kernel.accessAllowed ? 'block' : 'none';\n",
              "\n",
              "      async function convertToInteractive(key) {\n",
              "        const element = document.querySelector('#df-ae8aed3d-817f-49a7-881f-4da0fa1e1f67');\n",
              "        const dataTable =\n",
              "          await google.colab.kernel.invokeFunction('convertToInteractive',\n",
              "                                                    [key], {});\n",
              "        if (!dataTable) return;\n",
              "\n",
              "        const docLinkHtml = 'Like what you see? Visit the ' +\n",
              "          '<a target=\"_blank\" href=https://colab.research.google.com/notebooks/data_table.ipynb>data table notebook</a>'\n",
              "          + ' to learn more about interactive tables.';\n",
              "        element.innerHTML = '';\n",
              "        dataTable['output_type'] = 'display_data';\n",
              "        await google.colab.output.renderOutput(dataTable, element);\n",
              "        const docLink = document.createElement('div');\n",
              "        docLink.innerHTML = docLinkHtml;\n",
              "        element.appendChild(docLink);\n",
              "      }\n",
              "    </script>\n",
              "  </div>\n",
              "\n",
              "\n",
              "<div id=\"df-4a284a8f-37c9-4ca6-ab0f-f88850ca20ac\">\n",
              "  <button class=\"colab-df-quickchart\" onclick=\"quickchart('df-4a284a8f-37c9-4ca6-ab0f-f88850ca20ac')\"\n",
              "            title=\"Suggest charts\"\n",
              "            style=\"display:none;\">\n",
              "\n",
              "<svg xmlns=\"http://www.w3.org/2000/svg\" height=\"24px\"viewBox=\"0 0 24 24\"\n",
              "     width=\"24px\">\n",
              "    <g>\n",
              "        <path d=\"M19 3H5c-1.1 0-2 .9-2 2v14c0 1.1.9 2 2 2h14c1.1 0 2-.9 2-2V5c0-1.1-.9-2-2-2zM9 17H7v-7h2v7zm4 0h-2V7h2v10zm4 0h-2v-4h2v4z\"/>\n",
              "    </g>\n",
              "</svg>\n",
              "  </button>\n",
              "\n",
              "<style>\n",
              "  .colab-df-quickchart {\n",
              "      --bg-color: #E8F0FE;\n",
              "      --fill-color: #1967D2;\n",
              "      --hover-bg-color: #E2EBFA;\n",
              "      --hover-fill-color: #174EA6;\n",
              "      --disabled-fill-color: #AAA;\n",
              "      --disabled-bg-color: #DDD;\n",
              "  }\n",
              "\n",
              "  [theme=dark] .colab-df-quickchart {\n",
              "      --bg-color: #3B4455;\n",
              "      --fill-color: #D2E3FC;\n",
              "      --hover-bg-color: #434B5C;\n",
              "      --hover-fill-color: #FFFFFF;\n",
              "      --disabled-bg-color: #3B4455;\n",
              "      --disabled-fill-color: #666;\n",
              "  }\n",
              "\n",
              "  .colab-df-quickchart {\n",
              "    background-color: var(--bg-color);\n",
              "    border: none;\n",
              "    border-radius: 50%;\n",
              "    cursor: pointer;\n",
              "    display: none;\n",
              "    fill: var(--fill-color);\n",
              "    height: 32px;\n",
              "    padding: 0;\n",
              "    width: 32px;\n",
              "  }\n",
              "\n",
              "  .colab-df-quickchart:hover {\n",
              "    background-color: var(--hover-bg-color);\n",
              "    box-shadow: 0 1px 2px rgba(60, 64, 67, 0.3), 0 1px 3px 1px rgba(60, 64, 67, 0.15);\n",
              "    fill: var(--button-hover-fill-color);\n",
              "  }\n",
              "\n",
              "  .colab-df-quickchart-complete:disabled,\n",
              "  .colab-df-quickchart-complete:disabled:hover {\n",
              "    background-color: var(--disabled-bg-color);\n",
              "    fill: var(--disabled-fill-color);\n",
              "    box-shadow: none;\n",
              "  }\n",
              "\n",
              "  .colab-df-spinner {\n",
              "    border: 2px solid var(--fill-color);\n",
              "    border-color: transparent;\n",
              "    border-bottom-color: var(--fill-color);\n",
              "    animation:\n",
              "      spin 1s steps(1) infinite;\n",
              "  }\n",
              "\n",
              "  @keyframes spin {\n",
              "    0% {\n",
              "      border-color: transparent;\n",
              "      border-bottom-color: var(--fill-color);\n",
              "      border-left-color: var(--fill-color);\n",
              "    }\n",
              "    20% {\n",
              "      border-color: transparent;\n",
              "      border-left-color: var(--fill-color);\n",
              "      border-top-color: var(--fill-color);\n",
              "    }\n",
              "    30% {\n",
              "      border-color: transparent;\n",
              "      border-left-color: var(--fill-color);\n",
              "      border-top-color: var(--fill-color);\n",
              "      border-right-color: var(--fill-color);\n",
              "    }\n",
              "    40% {\n",
              "      border-color: transparent;\n",
              "      border-right-color: var(--fill-color);\n",
              "      border-top-color: var(--fill-color);\n",
              "    }\n",
              "    60% {\n",
              "      border-color: transparent;\n",
              "      border-right-color: var(--fill-color);\n",
              "    }\n",
              "    80% {\n",
              "      border-color: transparent;\n",
              "      border-right-color: var(--fill-color);\n",
              "      border-bottom-color: var(--fill-color);\n",
              "    }\n",
              "    90% {\n",
              "      border-color: transparent;\n",
              "      border-bottom-color: var(--fill-color);\n",
              "    }\n",
              "  }\n",
              "</style>\n",
              "\n",
              "  <script>\n",
              "    async function quickchart(key) {\n",
              "      const quickchartButtonEl =\n",
              "        document.querySelector('#' + key + ' button');\n",
              "      quickchartButtonEl.disabled = true;  // To prevent multiple clicks.\n",
              "      quickchartButtonEl.classList.add('colab-df-spinner');\n",
              "      try {\n",
              "        const charts = await google.colab.kernel.invokeFunction(\n",
              "            'suggestCharts', [key], {});\n",
              "      } catch (error) {\n",
              "        console.error('Error during call to suggestCharts:', error);\n",
              "      }\n",
              "      quickchartButtonEl.classList.remove('colab-df-spinner');\n",
              "      quickchartButtonEl.classList.add('colab-df-quickchart-complete');\n",
              "    }\n",
              "    (() => {\n",
              "      let quickchartButtonEl =\n",
              "        document.querySelector('#df-4a284a8f-37c9-4ca6-ab0f-f88850ca20ac button');\n",
              "      quickchartButtonEl.style.display =\n",
              "        google.colab.kernel.accessAllowed ? 'block' : 'none';\n",
              "    })();\n",
              "  </script>\n",
              "</div>\n",
              "    </div>\n",
              "  </div>\n"
            ],
            "application/vnd.google.colaboratory.intrinsic+json": {
              "type": "dataframe",
              "variable_name": "df"
            }
          },
          "metadata": {},
          "execution_count": 434
        }
      ]
    },
    {
      "cell_type": "code",
      "source": [
        "old_columns = df.columns.to_list()\n",
        "old_columns"
      ],
      "metadata": {
        "colab": {
          "base_uri": "https://localhost:8080/"
        },
        "id": "TrIfHkxiMXdG",
        "outputId": "29eb60bf-35e6-43c1-c05b-21e58d9ae17d"
      },
      "execution_count": null,
      "outputs": [
        {
          "output_type": "execute_result",
          "data": {
            "text/plain": [
              "['laufkont',\n",
              " 'laufzeit',\n",
              " 'moral',\n",
              " 'verw',\n",
              " 'hoehe',\n",
              " 'sparkont',\n",
              " 'beszeit',\n",
              " 'rate',\n",
              " 'famges',\n",
              " 'buerge',\n",
              " 'wohnzeit',\n",
              " 'verm',\n",
              " 'alter',\n",
              " 'weitkred',\n",
              " 'wohn',\n",
              " 'bishkred',\n",
              " 'beruf',\n",
              " 'pers',\n",
              " 'telef',\n",
              " 'gastarb',\n",
              " 'kredit']"
            ]
          },
          "metadata": {},
          "execution_count": 435
        }
      ]
    },
    {
      "cell_type": "code",
      "source": [
        "# Renombra los nombres de las columnas del alemán al inglés y desplegamos de\n",
        "# nuevo el DataFrame para ver el resultado obtenido:\n",
        "\n",
        "# ************* Inlcuye aquí tu código:*****************************\n",
        "df.rename(columns={'laufkont':'status',\n",
        "'laufzeit':'duration',\n",
        "'moral':'credit_history',\n",
        "'verw':'purpose',\n",
        "'hoehe':'amount',\n",
        "'sparkont':'savings',\n",
        "'beszeit':'employment_duration',\n",
        "'rate':'installment_rate',\n",
        "'famges':'personal_status_sex',\n",
        "'buerge':'other_debtors',\n",
        "'wohnzeit':'present_residence',\n",
        "'verm':'property',\n",
        "'alter':'age',\n",
        "'weitkred':'other_installment_plans',\n",
        "'wohn':'housing',\n",
        "'bishkred':'number_credits',\n",
        "'beruf':'job',\n",
        "'pers':'people_liable',\n",
        "'telef':'telephone',\n",
        "'gastarb':'foreign_worker',\n",
        "'kredit':'credit_risk'}, inplace = True)\n",
        "# *********** Aquí termina la sección de agregar código *************\n",
        "\n",
        "df.head().T"
      ],
      "metadata": {
        "id": "ppyf8TTgb9zq",
        "colab": {
          "base_uri": "https://localhost:8080/",
          "height": 707
        },
        "outputId": "419df0e2-bfaf-42d9-d426-b5aabcaf4f3f"
      },
      "execution_count": null,
      "outputs": [
        {
          "output_type": "execute_result",
          "data": {
            "text/plain": [
              "                            0     1    2     3     4\n",
              "status                      1     1    2     1     1\n",
              "duration                   18     9   12    12    12\n",
              "credit_history              4     4    2     4     4\n",
              "purpose                     2     0    9     0     0\n",
              "amount                   1049  2799  841  2122  2171\n",
              "savings                     1     1    2     1     1\n",
              "employment_duration         2     3    4     3     3\n",
              "installment_rate            4     2    2     3     4\n",
              "personal_status_sex         2     3    2     3     3\n",
              "other_debtors               1     1    1     1     1\n",
              "present_residence           4     2    4     2     4\n",
              "property                    2     1    1     1     2\n",
              "age                        21    36   23    39    38\n",
              "other_installment_plans     3     3    3     3     1\n",
              "housing                     1     1    1     1     2\n",
              "number_credits              1     2    1     2     2\n",
              "job                         3     3    2     2     2\n",
              "people_liable               2     1    2     1     2\n",
              "telephone                   1     1    1     1     1\n",
              "foreign_worker              2     2    2     1     1\n",
              "credit_risk                 1     1    1     1     1"
            ],
            "text/html": [
              "\n",
              "  <div id=\"df-148df274-be7a-4a89-9eec-8b07490b2733\" class=\"colab-df-container\">\n",
              "    <div>\n",
              "<style scoped>\n",
              "    .dataframe tbody tr th:only-of-type {\n",
              "        vertical-align: middle;\n",
              "    }\n",
              "\n",
              "    .dataframe tbody tr th {\n",
              "        vertical-align: top;\n",
              "    }\n",
              "\n",
              "    .dataframe thead th {\n",
              "        text-align: right;\n",
              "    }\n",
              "</style>\n",
              "<table border=\"1\" class=\"dataframe\">\n",
              "  <thead>\n",
              "    <tr style=\"text-align: right;\">\n",
              "      <th></th>\n",
              "      <th>0</th>\n",
              "      <th>1</th>\n",
              "      <th>2</th>\n",
              "      <th>3</th>\n",
              "      <th>4</th>\n",
              "    </tr>\n",
              "  </thead>\n",
              "  <tbody>\n",
              "    <tr>\n",
              "      <th>status</th>\n",
              "      <td>1</td>\n",
              "      <td>1</td>\n",
              "      <td>2</td>\n",
              "      <td>1</td>\n",
              "      <td>1</td>\n",
              "    </tr>\n",
              "    <tr>\n",
              "      <th>duration</th>\n",
              "      <td>18</td>\n",
              "      <td>9</td>\n",
              "      <td>12</td>\n",
              "      <td>12</td>\n",
              "      <td>12</td>\n",
              "    </tr>\n",
              "    <tr>\n",
              "      <th>credit_history</th>\n",
              "      <td>4</td>\n",
              "      <td>4</td>\n",
              "      <td>2</td>\n",
              "      <td>4</td>\n",
              "      <td>4</td>\n",
              "    </tr>\n",
              "    <tr>\n",
              "      <th>purpose</th>\n",
              "      <td>2</td>\n",
              "      <td>0</td>\n",
              "      <td>9</td>\n",
              "      <td>0</td>\n",
              "      <td>0</td>\n",
              "    </tr>\n",
              "    <tr>\n",
              "      <th>amount</th>\n",
              "      <td>1049</td>\n",
              "      <td>2799</td>\n",
              "      <td>841</td>\n",
              "      <td>2122</td>\n",
              "      <td>2171</td>\n",
              "    </tr>\n",
              "    <tr>\n",
              "      <th>savings</th>\n",
              "      <td>1</td>\n",
              "      <td>1</td>\n",
              "      <td>2</td>\n",
              "      <td>1</td>\n",
              "      <td>1</td>\n",
              "    </tr>\n",
              "    <tr>\n",
              "      <th>employment_duration</th>\n",
              "      <td>2</td>\n",
              "      <td>3</td>\n",
              "      <td>4</td>\n",
              "      <td>3</td>\n",
              "      <td>3</td>\n",
              "    </tr>\n",
              "    <tr>\n",
              "      <th>installment_rate</th>\n",
              "      <td>4</td>\n",
              "      <td>2</td>\n",
              "      <td>2</td>\n",
              "      <td>3</td>\n",
              "      <td>4</td>\n",
              "    </tr>\n",
              "    <tr>\n",
              "      <th>personal_status_sex</th>\n",
              "      <td>2</td>\n",
              "      <td>3</td>\n",
              "      <td>2</td>\n",
              "      <td>3</td>\n",
              "      <td>3</td>\n",
              "    </tr>\n",
              "    <tr>\n",
              "      <th>other_debtors</th>\n",
              "      <td>1</td>\n",
              "      <td>1</td>\n",
              "      <td>1</td>\n",
              "      <td>1</td>\n",
              "      <td>1</td>\n",
              "    </tr>\n",
              "    <tr>\n",
              "      <th>present_residence</th>\n",
              "      <td>4</td>\n",
              "      <td>2</td>\n",
              "      <td>4</td>\n",
              "      <td>2</td>\n",
              "      <td>4</td>\n",
              "    </tr>\n",
              "    <tr>\n",
              "      <th>property</th>\n",
              "      <td>2</td>\n",
              "      <td>1</td>\n",
              "      <td>1</td>\n",
              "      <td>1</td>\n",
              "      <td>2</td>\n",
              "    </tr>\n",
              "    <tr>\n",
              "      <th>age</th>\n",
              "      <td>21</td>\n",
              "      <td>36</td>\n",
              "      <td>23</td>\n",
              "      <td>39</td>\n",
              "      <td>38</td>\n",
              "    </tr>\n",
              "    <tr>\n",
              "      <th>other_installment_plans</th>\n",
              "      <td>3</td>\n",
              "      <td>3</td>\n",
              "      <td>3</td>\n",
              "      <td>3</td>\n",
              "      <td>1</td>\n",
              "    </tr>\n",
              "    <tr>\n",
              "      <th>housing</th>\n",
              "      <td>1</td>\n",
              "      <td>1</td>\n",
              "      <td>1</td>\n",
              "      <td>1</td>\n",
              "      <td>2</td>\n",
              "    </tr>\n",
              "    <tr>\n",
              "      <th>number_credits</th>\n",
              "      <td>1</td>\n",
              "      <td>2</td>\n",
              "      <td>1</td>\n",
              "      <td>2</td>\n",
              "      <td>2</td>\n",
              "    </tr>\n",
              "    <tr>\n",
              "      <th>job</th>\n",
              "      <td>3</td>\n",
              "      <td>3</td>\n",
              "      <td>2</td>\n",
              "      <td>2</td>\n",
              "      <td>2</td>\n",
              "    </tr>\n",
              "    <tr>\n",
              "      <th>people_liable</th>\n",
              "      <td>2</td>\n",
              "      <td>1</td>\n",
              "      <td>2</td>\n",
              "      <td>1</td>\n",
              "      <td>2</td>\n",
              "    </tr>\n",
              "    <tr>\n",
              "      <th>telephone</th>\n",
              "      <td>1</td>\n",
              "      <td>1</td>\n",
              "      <td>1</td>\n",
              "      <td>1</td>\n",
              "      <td>1</td>\n",
              "    </tr>\n",
              "    <tr>\n",
              "      <th>foreign_worker</th>\n",
              "      <td>2</td>\n",
              "      <td>2</td>\n",
              "      <td>2</td>\n",
              "      <td>1</td>\n",
              "      <td>1</td>\n",
              "    </tr>\n",
              "    <tr>\n",
              "      <th>credit_risk</th>\n",
              "      <td>1</td>\n",
              "      <td>1</td>\n",
              "      <td>1</td>\n",
              "      <td>1</td>\n",
              "      <td>1</td>\n",
              "    </tr>\n",
              "  </tbody>\n",
              "</table>\n",
              "</div>\n",
              "    <div class=\"colab-df-buttons\">\n",
              "\n",
              "  <div class=\"colab-df-container\">\n",
              "    <button class=\"colab-df-convert\" onclick=\"convertToInteractive('df-148df274-be7a-4a89-9eec-8b07490b2733')\"\n",
              "            title=\"Convert this dataframe to an interactive table.\"\n",
              "            style=\"display:none;\">\n",
              "\n",
              "  <svg xmlns=\"http://www.w3.org/2000/svg\" height=\"24px\" viewBox=\"0 -960 960 960\">\n",
              "    <path d=\"M120-120v-720h720v720H120Zm60-500h600v-160H180v160Zm220 220h160v-160H400v160Zm0 220h160v-160H400v160ZM180-400h160v-160H180v160Zm440 0h160v-160H620v160ZM180-180h160v-160H180v160Zm440 0h160v-160H620v160Z\"/>\n",
              "  </svg>\n",
              "    </button>\n",
              "\n",
              "  <style>\n",
              "    .colab-df-container {\n",
              "      display:flex;\n",
              "      gap: 12px;\n",
              "    }\n",
              "\n",
              "    .colab-df-convert {\n",
              "      background-color: #E8F0FE;\n",
              "      border: none;\n",
              "      border-radius: 50%;\n",
              "      cursor: pointer;\n",
              "      display: none;\n",
              "      fill: #1967D2;\n",
              "      height: 32px;\n",
              "      padding: 0 0 0 0;\n",
              "      width: 32px;\n",
              "    }\n",
              "\n",
              "    .colab-df-convert:hover {\n",
              "      background-color: #E2EBFA;\n",
              "      box-shadow: 0px 1px 2px rgba(60, 64, 67, 0.3), 0px 1px 3px 1px rgba(60, 64, 67, 0.15);\n",
              "      fill: #174EA6;\n",
              "    }\n",
              "\n",
              "    .colab-df-buttons div {\n",
              "      margin-bottom: 4px;\n",
              "    }\n",
              "\n",
              "    [theme=dark] .colab-df-convert {\n",
              "      background-color: #3B4455;\n",
              "      fill: #D2E3FC;\n",
              "    }\n",
              "\n",
              "    [theme=dark] .colab-df-convert:hover {\n",
              "      background-color: #434B5C;\n",
              "      box-shadow: 0px 1px 3px 1px rgba(0, 0, 0, 0.15);\n",
              "      filter: drop-shadow(0px 1px 2px rgba(0, 0, 0, 0.3));\n",
              "      fill: #FFFFFF;\n",
              "    }\n",
              "  </style>\n",
              "\n",
              "    <script>\n",
              "      const buttonEl =\n",
              "        document.querySelector('#df-148df274-be7a-4a89-9eec-8b07490b2733 button.colab-df-convert');\n",
              "      buttonEl.style.display =\n",
              "        google.colab.kernel.accessAllowed ? 'block' : 'none';\n",
              "\n",
              "      async function convertToInteractive(key) {\n",
              "        const element = document.querySelector('#df-148df274-be7a-4a89-9eec-8b07490b2733');\n",
              "        const dataTable =\n",
              "          await google.colab.kernel.invokeFunction('convertToInteractive',\n",
              "                                                    [key], {});\n",
              "        if (!dataTable) return;\n",
              "\n",
              "        const docLinkHtml = 'Like what you see? Visit the ' +\n",
              "          '<a target=\"_blank\" href=https://colab.research.google.com/notebooks/data_table.ipynb>data table notebook</a>'\n",
              "          + ' to learn more about interactive tables.';\n",
              "        element.innerHTML = '';\n",
              "        dataTable['output_type'] = 'display_data';\n",
              "        await google.colab.output.renderOutput(dataTable, element);\n",
              "        const docLink = document.createElement('div');\n",
              "        docLink.innerHTML = docLinkHtml;\n",
              "        element.appendChild(docLink);\n",
              "      }\n",
              "    </script>\n",
              "  </div>\n",
              "\n",
              "\n",
              "<div id=\"df-24f6bb72-729f-4fcf-bc12-1d4644481c27\">\n",
              "  <button class=\"colab-df-quickchart\" onclick=\"quickchart('df-24f6bb72-729f-4fcf-bc12-1d4644481c27')\"\n",
              "            title=\"Suggest charts\"\n",
              "            style=\"display:none;\">\n",
              "\n",
              "<svg xmlns=\"http://www.w3.org/2000/svg\" height=\"24px\"viewBox=\"0 0 24 24\"\n",
              "     width=\"24px\">\n",
              "    <g>\n",
              "        <path d=\"M19 3H5c-1.1 0-2 .9-2 2v14c0 1.1.9 2 2 2h14c1.1 0 2-.9 2-2V5c0-1.1-.9-2-2-2zM9 17H7v-7h2v7zm4 0h-2V7h2v10zm4 0h-2v-4h2v4z\"/>\n",
              "    </g>\n",
              "</svg>\n",
              "  </button>\n",
              "\n",
              "<style>\n",
              "  .colab-df-quickchart {\n",
              "      --bg-color: #E8F0FE;\n",
              "      --fill-color: #1967D2;\n",
              "      --hover-bg-color: #E2EBFA;\n",
              "      --hover-fill-color: #174EA6;\n",
              "      --disabled-fill-color: #AAA;\n",
              "      --disabled-bg-color: #DDD;\n",
              "  }\n",
              "\n",
              "  [theme=dark] .colab-df-quickchart {\n",
              "      --bg-color: #3B4455;\n",
              "      --fill-color: #D2E3FC;\n",
              "      --hover-bg-color: #434B5C;\n",
              "      --hover-fill-color: #FFFFFF;\n",
              "      --disabled-bg-color: #3B4455;\n",
              "      --disabled-fill-color: #666;\n",
              "  }\n",
              "\n",
              "  .colab-df-quickchart {\n",
              "    background-color: var(--bg-color);\n",
              "    border: none;\n",
              "    border-radius: 50%;\n",
              "    cursor: pointer;\n",
              "    display: none;\n",
              "    fill: var(--fill-color);\n",
              "    height: 32px;\n",
              "    padding: 0;\n",
              "    width: 32px;\n",
              "  }\n",
              "\n",
              "  .colab-df-quickchart:hover {\n",
              "    background-color: var(--hover-bg-color);\n",
              "    box-shadow: 0 1px 2px rgba(60, 64, 67, 0.3), 0 1px 3px 1px rgba(60, 64, 67, 0.15);\n",
              "    fill: var(--button-hover-fill-color);\n",
              "  }\n",
              "\n",
              "  .colab-df-quickchart-complete:disabled,\n",
              "  .colab-df-quickchart-complete:disabled:hover {\n",
              "    background-color: var(--disabled-bg-color);\n",
              "    fill: var(--disabled-fill-color);\n",
              "    box-shadow: none;\n",
              "  }\n",
              "\n",
              "  .colab-df-spinner {\n",
              "    border: 2px solid var(--fill-color);\n",
              "    border-color: transparent;\n",
              "    border-bottom-color: var(--fill-color);\n",
              "    animation:\n",
              "      spin 1s steps(1) infinite;\n",
              "  }\n",
              "\n",
              "  @keyframes spin {\n",
              "    0% {\n",
              "      border-color: transparent;\n",
              "      border-bottom-color: var(--fill-color);\n",
              "      border-left-color: var(--fill-color);\n",
              "    }\n",
              "    20% {\n",
              "      border-color: transparent;\n",
              "      border-left-color: var(--fill-color);\n",
              "      border-top-color: var(--fill-color);\n",
              "    }\n",
              "    30% {\n",
              "      border-color: transparent;\n",
              "      border-left-color: var(--fill-color);\n",
              "      border-top-color: var(--fill-color);\n",
              "      border-right-color: var(--fill-color);\n",
              "    }\n",
              "    40% {\n",
              "      border-color: transparent;\n",
              "      border-right-color: var(--fill-color);\n",
              "      border-top-color: var(--fill-color);\n",
              "    }\n",
              "    60% {\n",
              "      border-color: transparent;\n",
              "      border-right-color: var(--fill-color);\n",
              "    }\n",
              "    80% {\n",
              "      border-color: transparent;\n",
              "      border-right-color: var(--fill-color);\n",
              "      border-bottom-color: var(--fill-color);\n",
              "    }\n",
              "    90% {\n",
              "      border-color: transparent;\n",
              "      border-bottom-color: var(--fill-color);\n",
              "    }\n",
              "  }\n",
              "</style>\n",
              "\n",
              "  <script>\n",
              "    async function quickchart(key) {\n",
              "      const quickchartButtonEl =\n",
              "        document.querySelector('#' + key + ' button');\n",
              "      quickchartButtonEl.disabled = true;  // To prevent multiple clicks.\n",
              "      quickchartButtonEl.classList.add('colab-df-spinner');\n",
              "      try {\n",
              "        const charts = await google.colab.kernel.invokeFunction(\n",
              "            'suggestCharts', [key], {});\n",
              "      } catch (error) {\n",
              "        console.error('Error during call to suggestCharts:', error);\n",
              "      }\n",
              "      quickchartButtonEl.classList.remove('colab-df-spinner');\n",
              "      quickchartButtonEl.classList.add('colab-df-quickchart-complete');\n",
              "    }\n",
              "    (() => {\n",
              "      let quickchartButtonEl =\n",
              "        document.querySelector('#df-24f6bb72-729f-4fcf-bc12-1d4644481c27 button');\n",
              "      quickchartButtonEl.style.display =\n",
              "        google.colab.kernel.accessAllowed ? 'block' : 'none';\n",
              "    })();\n",
              "  </script>\n",
              "</div>\n",
              "    </div>\n",
              "  </div>\n"
            ],
            "application/vnd.google.colaboratory.intrinsic+json": {
              "type": "dataframe",
              "variable_name": "df"
            }
          },
          "metadata": {},
          "execution_count": 436
        }
      ]
    },
    {
      "cell_type": "markdown",
      "source": [
        "## **Ejercicio 2**"
      ],
      "metadata": {
        "id": "LckYCS8SlnFo"
      }
    },
    {
      "cell_type": "code",
      "source": [
        "print(df['credit_risk'].value_counts())"
      ],
      "metadata": {
        "colab": {
          "base_uri": "https://localhost:8080/"
        },
        "id": "bX9fMzyjU7Gs",
        "outputId": "d8d71506-a1f1-423d-f568-62da58205eac"
      },
      "execution_count": null,
      "outputs": [
        {
          "output_type": "stream",
          "name": "stdout",
          "text": [
            "1    700\n",
            "0    300\n",
            "Name: credit_risk, dtype: int64\n"
          ]
        }
      ]
    },
    {
      "cell_type": "code",
      "source": [
        "# Los datos originales tienen en la variable de salida \"credit_risk\" a la clase negativa (buen cliente) con el valor de 1\n",
        "# y a la clase de interés positiva (mal cliente) con el valor de 0. Realiza a continuación una transformación para que la\n",
        "# clase negativa (buen cliente) quede ahora con el valor de 0 y la clase positiva (mal cliente) quede con el valor de 1.\n",
        "\n",
        "# ************* Inlcuye aquí tu código:*****************************\n",
        "\n",
        "df['credit_risk'] = df['credit_risk'].replace({0: 1, 1: 0})\n",
        "\n",
        "print(df['credit_risk'].value_counts())\n",
        "# *********** Aquí termina la sección de agregar código *************\n",
        "\n"
      ],
      "metadata": {
        "id": "Tlg8jYbnlqNA",
        "colab": {
          "base_uri": "https://localhost:8080/"
        },
        "outputId": "53acb9c0-d13a-4493-8b19-f382cd02d497"
      },
      "execution_count": null,
      "outputs": [
        {
          "output_type": "stream",
          "name": "stdout",
          "text": [
            "0    700\n",
            "1    300\n",
            "Name: credit_risk, dtype: int64\n"
          ]
        }
      ]
    },
    {
      "cell_type": "code",
      "source": [
        "#Reemplazar los valores numericos por variables categoricas basandome en el documento codetable.txt\n",
        "status = {1:'no checking account', 2:'less than 0 DM', 3:'0 to 200 DM', 4:'200 DM or more'}\n",
        "df['status'] = df['status'].map(status)\n",
        "\n",
        "credit_history = {0 : 'delay in paying off in the past',\n",
        " 1 : 'critical account/other credits elsewhere',\n",
        " 2 : 'no credits taken/all credits paid back duly',\n",
        " 3 : 'existing credits paid back duly till now',\n",
        " 4 : 'all credits at this bank paid back duly'}\n",
        "df['credit_history'] = df['credit_history'].map(credit_history)\n",
        "\n",
        "purpose = {0 : 'others', 1 : 'car (new)', 2 : 'car (used)',3 : 'furniture/equipment', 4 : 'radio/television',\n",
        "           5 : 'domestic appliances', 6 : 'repairs', 7 : 'education', 8 : 'vacation', 9 : 'retraining', 10 : 'business'}\n",
        "df['purpose'] = df['purpose'].map(purpose)\n",
        "\n",
        "savings = {1:'unknown/no savings account', 2 :'less than 100 DM', 3:'100 to 500 DM', 4 :'500 to 1000 DM', 5:'1000 DM or more'}\n",
        "df['savings'] = df['savings'].map(savings)\n",
        "\n",
        "employment_duration = {1 : 'unemployed',2 : 'less than 1 year', 3 : '1 to 4 yrs', 4 : '4 to 7 yrs', 5 : '7 yrs or more'}\n",
        "df['employment_duration'] = df['employment_duration'].map(employment_duration)\n",
        "\n",
        "installment_rate = {1 : '35 or more', 2 : '25 to 35', 3 : '20 to 25', 4 : 'less than 20'}\n",
        "df['installment_rate'] = df['installment_rate'].map(installment_rate)\n",
        "\n",
        "personal_status_sex = {1 : 'male : divorced/separated', 2 : 'female : non-single or male : single', 3 : 'male : married/widowed', 4 : 'female : single'}\n",
        "df['personal_status_sex'] = df['personal_status_sex'].map(personal_status_sex)\n",
        "\n",
        "other_debtors = {1 : 'none', 2 : 'co-applicant', 3 : 'guarantor'}\n",
        "df['other_debtors'] = df['other_debtors'].map(other_debtors)\n",
        "\n",
        "present_residence = {1 : 'less than 1 year', 2 : '1 to 4 yrs', 3 : '4 to 7 yrs', 4 : '7 yrs or more'}\n",
        "df['present_residence'] = df['present_residence'].map(present_residence)\n",
        "\n",
        "property = {1 : 'unknown/no property', 2 : 'car or other',3 : 'building soc. savings agr./life insurance', 4 : 'real estate'}\n",
        "df['property'] = df['property'].map(property)\n",
        "\n",
        "other_installment_options = {1 : 'bank',2 : 'stores',3 : 'none'}\n",
        "df['other_installment_plans'] = df['other_installment_plans'].map(other_installment_options)\n",
        "\n",
        "housing = {1:'for free', 2:'rent', 3:'own'}\n",
        "df['housing'] = df['housing'].map(housing)\n",
        "\n",
        "job={1 : 'unemployed/unskilled - non-resident',2 : 'unskilled-resident',3 : 'skilled employee/official',4 : 'manager/self-employed/highly qualified employee'}\n",
        "df['job'] = df['job'].map(job)\n",
        "\n",
        "number_credits = {1 : '1',2 : '2-3', 3 : '4-5',4 : '6 or more'}\n",
        "df['number_credits'] = df['number_credits'].map(number_credits)\n",
        "\n",
        "people_liable = {1 : '3 or more', 2 : '0 to 2'}\n",
        "df['people_liable'] = df['people_liable'].map(people_liable)\n",
        "\n",
        "telephone = {1 : 'no',2 : 'yes (under customer name)'}\n",
        "df['telephone'] = df['telephone'].map(telephone)\n",
        "\n",
        "foreign_worker = {1 : 'yes', 2 : 'no'}\n",
        "df['foreign_worker'] = df['foreign_worker'].map(foreign_worker)"
      ],
      "metadata": {
        "id": "3UDfnQhScmYj"
      },
      "execution_count": null,
      "outputs": []
    },
    {
      "cell_type": "markdown",
      "source": [
        "## **Ejercicio 3**"
      ],
      "metadata": {
        "id": "qQx2lbzTkEsQ"
      }
    },
    {
      "cell_type": "code",
      "source": [
        "# Realiza una partición de 70-15-15 en entrenamiento, validación y prueba.\n",
        "# Los nombres de los conjuntos deberán ser como se indican en los print de abajo:\n",
        "\n",
        "# ************* Inlcuye aquí tu código:*****************************\n",
        "\n",
        "Xtrain, Xtv, ytrain, ytv = train_test_split(df.iloc[:,:-1], df.iloc[:,-1],\n",
        "                                            train_size=0.7,\n",
        "                                            random_state=0\n",
        "                                            )\n",
        "Xval, Xtest, yval, ytest = train_test_split(Xtv, ytv, train_size=0.5, shuffle=True,\n",
        "                                            random_state=0\n",
        "                                            )\n",
        "\n",
        "# *********** Aquí termina la sección de agregar código *************\n",
        "\n",
        "# Mostremos las dimensiones de la partición generada:\n",
        "print(Xtrain.shape, ytrain.shape)\n",
        "print(Xval.shape, yval.shape)\n",
        "print(Xtest.shape, ytest.shape)"
      ],
      "metadata": {
        "id": "TP5-zdWVczhy",
        "colab": {
          "base_uri": "https://localhost:8080/"
        },
        "outputId": "fa942271-a77a-4eeb-f2e3-6ad06e7de4ad"
      },
      "execution_count": null,
      "outputs": [
        {
          "output_type": "stream",
          "name": "stdout",
          "text": [
            "(700, 20) (700,)\n",
            "(150, 20) (150,)\n",
            "(150, 20) (150,)\n"
          ]
        }
      ]
    },
    {
      "cell_type": "markdown",
      "source": [
        "## **Ejercicio 4**"
      ],
      "metadata": {
        "id": "ocmGcSC2j_2x"
      }
    },
    {
      "cell_type": "markdown",
      "source": [
        "### **Describe a continuación la información de cada variable: su descripción, el tipo de variable y para el caso de las categóricas, el total de niveles que tiene.**\n",
        "\n",
        "### ++++++++ Inicia la sección de agregar texto: +++++++++++\n",
        "\n",
        "### **Variables Categóricas:**\n",
        "\n",
        "['status', 'credit_history', 'purpose', 'savings', 'employment_duration', 'installment_rate', 'personal_status_sex', 'other_debtors', 'present_residence', 'property', 'other_installment_plans', 'housing', 'number_credits', 'job', 'people_liable', 'telephone', 'foreign_worker']\n",
        "\n",
        "\n",
        "\n",
        "### **Variables Numéricas:**\n",
        "\n",
        "['duration', 'amount', 'age']\n",
        "\n",
        "\n",
        "\n",
        "En la parte de abajo indagaremos mas en los datos de las variables\n",
        "### ++++++++ Termina la sección de agregar texto. +++++++++++"
      ],
      "metadata": {
        "id": "aRkZvfhVeLxU"
      }
    },
    {
      "cell_type": "code",
      "source": [
        "# Se hace una lista de variables numéricas y otra de categóricas.\n",
        "numerical_columns = Xtrain.select_dtypes(include=np.number).columns.tolist()\n",
        "categorical_columns = Xtrain.select_dtypes(exclude=np.number).columns.tolist()\n",
        "\n",
        "print(numerical_columns)\n",
        "\n",
        "print(categorical_columns)"
      ],
      "metadata": {
        "colab": {
          "base_uri": "https://localhost:8080/"
        },
        "id": "Zm2kQ-apc2TC",
        "outputId": "4887886f-83d2-41d4-ae21-593ac574cef5"
      },
      "execution_count": null,
      "outputs": [
        {
          "output_type": "stream",
          "name": "stdout",
          "text": [
            "['duration', 'amount', 'age']\n",
            "['status', 'credit_history', 'purpose', 'savings', 'employment_duration', 'installment_rate', 'personal_status_sex', 'other_debtors', 'present_residence', 'property', 'other_installment_plans', 'housing', 'number_credits', 'job', 'people_liable', 'telephone', 'foreign_worker']\n"
          ]
        }
      ]
    },
    {
      "cell_type": "code",
      "source": [
        "Xtrain[numerical_columns].info()"
      ],
      "metadata": {
        "colab": {
          "base_uri": "https://localhost:8080/"
        },
        "id": "c--pcmA5gwCF",
        "outputId": "00f94afa-a712-4566-b2b1-763bfbb6a768"
      },
      "execution_count": null,
      "outputs": [
        {
          "output_type": "stream",
          "name": "stdout",
          "text": [
            "<class 'pandas.core.frame.DataFrame'>\n",
            "Int64Index: 700 entries, 105 to 684\n",
            "Data columns (total 3 columns):\n",
            " #   Column    Non-Null Count  Dtype\n",
            "---  ------    --------------  -----\n",
            " 0   duration  700 non-null    int64\n",
            " 1   amount    700 non-null    int64\n",
            " 2   age       700 non-null    int64\n",
            "dtypes: int64(3)\n",
            "memory usage: 21.9 KB\n"
          ]
        }
      ]
    },
    {
      "cell_type": "code",
      "source": [
        "Xtrain[numerical_columns].describe().T"
      ],
      "metadata": {
        "colab": {
          "base_uri": "https://localhost:8080/",
          "height": 143
        },
        "id": "e1e8jXyRg6WF",
        "outputId": "897d110a-7269-4a7a-fb2d-0719796fb9d6"
      },
      "execution_count": null,
      "outputs": [
        {
          "output_type": "execute_result",
          "data": {
            "text/plain": [
              "          count         mean          std    min      25%     50%      75%  \\\n",
              "duration  700.0    20.895714    12.289160    4.0    12.00    18.0    24.00   \n",
              "amount    700.0  3311.064286  2923.865875  276.0  1363.25  2295.5  3973.75   \n",
              "age       700.0    35.305714    10.971844   20.0    27.00    33.0    41.00   \n",
              "\n",
              "              max  \n",
              "duration     72.0  \n",
              "amount    18424.0  \n",
              "age          74.0  "
            ],
            "text/html": [
              "\n",
              "  <div id=\"df-21afc2fc-c452-4b9d-b28d-6177cb760f89\" class=\"colab-df-container\">\n",
              "    <div>\n",
              "<style scoped>\n",
              "    .dataframe tbody tr th:only-of-type {\n",
              "        vertical-align: middle;\n",
              "    }\n",
              "\n",
              "    .dataframe tbody tr th {\n",
              "        vertical-align: top;\n",
              "    }\n",
              "\n",
              "    .dataframe thead th {\n",
              "        text-align: right;\n",
              "    }\n",
              "</style>\n",
              "<table border=\"1\" class=\"dataframe\">\n",
              "  <thead>\n",
              "    <tr style=\"text-align: right;\">\n",
              "      <th></th>\n",
              "      <th>count</th>\n",
              "      <th>mean</th>\n",
              "      <th>std</th>\n",
              "      <th>min</th>\n",
              "      <th>25%</th>\n",
              "      <th>50%</th>\n",
              "      <th>75%</th>\n",
              "      <th>max</th>\n",
              "    </tr>\n",
              "  </thead>\n",
              "  <tbody>\n",
              "    <tr>\n",
              "      <th>duration</th>\n",
              "      <td>700.0</td>\n",
              "      <td>20.895714</td>\n",
              "      <td>12.289160</td>\n",
              "      <td>4.0</td>\n",
              "      <td>12.00</td>\n",
              "      <td>18.0</td>\n",
              "      <td>24.00</td>\n",
              "      <td>72.0</td>\n",
              "    </tr>\n",
              "    <tr>\n",
              "      <th>amount</th>\n",
              "      <td>700.0</td>\n",
              "      <td>3311.064286</td>\n",
              "      <td>2923.865875</td>\n",
              "      <td>276.0</td>\n",
              "      <td>1363.25</td>\n",
              "      <td>2295.5</td>\n",
              "      <td>3973.75</td>\n",
              "      <td>18424.0</td>\n",
              "    </tr>\n",
              "    <tr>\n",
              "      <th>age</th>\n",
              "      <td>700.0</td>\n",
              "      <td>35.305714</td>\n",
              "      <td>10.971844</td>\n",
              "      <td>20.0</td>\n",
              "      <td>27.00</td>\n",
              "      <td>33.0</td>\n",
              "      <td>41.00</td>\n",
              "      <td>74.0</td>\n",
              "    </tr>\n",
              "  </tbody>\n",
              "</table>\n",
              "</div>\n",
              "    <div class=\"colab-df-buttons\">\n",
              "\n",
              "  <div class=\"colab-df-container\">\n",
              "    <button class=\"colab-df-convert\" onclick=\"convertToInteractive('df-21afc2fc-c452-4b9d-b28d-6177cb760f89')\"\n",
              "            title=\"Convert this dataframe to an interactive table.\"\n",
              "            style=\"display:none;\">\n",
              "\n",
              "  <svg xmlns=\"http://www.w3.org/2000/svg\" height=\"24px\" viewBox=\"0 -960 960 960\">\n",
              "    <path d=\"M120-120v-720h720v720H120Zm60-500h600v-160H180v160Zm220 220h160v-160H400v160Zm0 220h160v-160H400v160ZM180-400h160v-160H180v160Zm440 0h160v-160H620v160ZM180-180h160v-160H180v160Zm440 0h160v-160H620v160Z\"/>\n",
              "  </svg>\n",
              "    </button>\n",
              "\n",
              "  <style>\n",
              "    .colab-df-container {\n",
              "      display:flex;\n",
              "      gap: 12px;\n",
              "    }\n",
              "\n",
              "    .colab-df-convert {\n",
              "      background-color: #E8F0FE;\n",
              "      border: none;\n",
              "      border-radius: 50%;\n",
              "      cursor: pointer;\n",
              "      display: none;\n",
              "      fill: #1967D2;\n",
              "      height: 32px;\n",
              "      padding: 0 0 0 0;\n",
              "      width: 32px;\n",
              "    }\n",
              "\n",
              "    .colab-df-convert:hover {\n",
              "      background-color: #E2EBFA;\n",
              "      box-shadow: 0px 1px 2px rgba(60, 64, 67, 0.3), 0px 1px 3px 1px rgba(60, 64, 67, 0.15);\n",
              "      fill: #174EA6;\n",
              "    }\n",
              "\n",
              "    .colab-df-buttons div {\n",
              "      margin-bottom: 4px;\n",
              "    }\n",
              "\n",
              "    [theme=dark] .colab-df-convert {\n",
              "      background-color: #3B4455;\n",
              "      fill: #D2E3FC;\n",
              "    }\n",
              "\n",
              "    [theme=dark] .colab-df-convert:hover {\n",
              "      background-color: #434B5C;\n",
              "      box-shadow: 0px 1px 3px 1px rgba(0, 0, 0, 0.15);\n",
              "      filter: drop-shadow(0px 1px 2px rgba(0, 0, 0, 0.3));\n",
              "      fill: #FFFFFF;\n",
              "    }\n",
              "  </style>\n",
              "\n",
              "    <script>\n",
              "      const buttonEl =\n",
              "        document.querySelector('#df-21afc2fc-c452-4b9d-b28d-6177cb760f89 button.colab-df-convert');\n",
              "      buttonEl.style.display =\n",
              "        google.colab.kernel.accessAllowed ? 'block' : 'none';\n",
              "\n",
              "      async function convertToInteractive(key) {\n",
              "        const element = document.querySelector('#df-21afc2fc-c452-4b9d-b28d-6177cb760f89');\n",
              "        const dataTable =\n",
              "          await google.colab.kernel.invokeFunction('convertToInteractive',\n",
              "                                                    [key], {});\n",
              "        if (!dataTable) return;\n",
              "\n",
              "        const docLinkHtml = 'Like what you see? Visit the ' +\n",
              "          '<a target=\"_blank\" href=https://colab.research.google.com/notebooks/data_table.ipynb>data table notebook</a>'\n",
              "          + ' to learn more about interactive tables.';\n",
              "        element.innerHTML = '';\n",
              "        dataTable['output_type'] = 'display_data';\n",
              "        await google.colab.output.renderOutput(dataTable, element);\n",
              "        const docLink = document.createElement('div');\n",
              "        docLink.innerHTML = docLinkHtml;\n",
              "        element.appendChild(docLink);\n",
              "      }\n",
              "    </script>\n",
              "  </div>\n",
              "\n",
              "\n",
              "<div id=\"df-aab0f55f-336b-41c0-a980-75647af5f3f9\">\n",
              "  <button class=\"colab-df-quickchart\" onclick=\"quickchart('df-aab0f55f-336b-41c0-a980-75647af5f3f9')\"\n",
              "            title=\"Suggest charts\"\n",
              "            style=\"display:none;\">\n",
              "\n",
              "<svg xmlns=\"http://www.w3.org/2000/svg\" height=\"24px\"viewBox=\"0 0 24 24\"\n",
              "     width=\"24px\">\n",
              "    <g>\n",
              "        <path d=\"M19 3H5c-1.1 0-2 .9-2 2v14c0 1.1.9 2 2 2h14c1.1 0 2-.9 2-2V5c0-1.1-.9-2-2-2zM9 17H7v-7h2v7zm4 0h-2V7h2v10zm4 0h-2v-4h2v4z\"/>\n",
              "    </g>\n",
              "</svg>\n",
              "  </button>\n",
              "\n",
              "<style>\n",
              "  .colab-df-quickchart {\n",
              "      --bg-color: #E8F0FE;\n",
              "      --fill-color: #1967D2;\n",
              "      --hover-bg-color: #E2EBFA;\n",
              "      --hover-fill-color: #174EA6;\n",
              "      --disabled-fill-color: #AAA;\n",
              "      --disabled-bg-color: #DDD;\n",
              "  }\n",
              "\n",
              "  [theme=dark] .colab-df-quickchart {\n",
              "      --bg-color: #3B4455;\n",
              "      --fill-color: #D2E3FC;\n",
              "      --hover-bg-color: #434B5C;\n",
              "      --hover-fill-color: #FFFFFF;\n",
              "      --disabled-bg-color: #3B4455;\n",
              "      --disabled-fill-color: #666;\n",
              "  }\n",
              "\n",
              "  .colab-df-quickchart {\n",
              "    background-color: var(--bg-color);\n",
              "    border: none;\n",
              "    border-radius: 50%;\n",
              "    cursor: pointer;\n",
              "    display: none;\n",
              "    fill: var(--fill-color);\n",
              "    height: 32px;\n",
              "    padding: 0;\n",
              "    width: 32px;\n",
              "  }\n",
              "\n",
              "  .colab-df-quickchart:hover {\n",
              "    background-color: var(--hover-bg-color);\n",
              "    box-shadow: 0 1px 2px rgba(60, 64, 67, 0.3), 0 1px 3px 1px rgba(60, 64, 67, 0.15);\n",
              "    fill: var(--button-hover-fill-color);\n",
              "  }\n",
              "\n",
              "  .colab-df-quickchart-complete:disabled,\n",
              "  .colab-df-quickchart-complete:disabled:hover {\n",
              "    background-color: var(--disabled-bg-color);\n",
              "    fill: var(--disabled-fill-color);\n",
              "    box-shadow: none;\n",
              "  }\n",
              "\n",
              "  .colab-df-spinner {\n",
              "    border: 2px solid var(--fill-color);\n",
              "    border-color: transparent;\n",
              "    border-bottom-color: var(--fill-color);\n",
              "    animation:\n",
              "      spin 1s steps(1) infinite;\n",
              "  }\n",
              "\n",
              "  @keyframes spin {\n",
              "    0% {\n",
              "      border-color: transparent;\n",
              "      border-bottom-color: var(--fill-color);\n",
              "      border-left-color: var(--fill-color);\n",
              "    }\n",
              "    20% {\n",
              "      border-color: transparent;\n",
              "      border-left-color: var(--fill-color);\n",
              "      border-top-color: var(--fill-color);\n",
              "    }\n",
              "    30% {\n",
              "      border-color: transparent;\n",
              "      border-left-color: var(--fill-color);\n",
              "      border-top-color: var(--fill-color);\n",
              "      border-right-color: var(--fill-color);\n",
              "    }\n",
              "    40% {\n",
              "      border-color: transparent;\n",
              "      border-right-color: var(--fill-color);\n",
              "      border-top-color: var(--fill-color);\n",
              "    }\n",
              "    60% {\n",
              "      border-color: transparent;\n",
              "      border-right-color: var(--fill-color);\n",
              "    }\n",
              "    80% {\n",
              "      border-color: transparent;\n",
              "      border-right-color: var(--fill-color);\n",
              "      border-bottom-color: var(--fill-color);\n",
              "    }\n",
              "    90% {\n",
              "      border-color: transparent;\n",
              "      border-bottom-color: var(--fill-color);\n",
              "    }\n",
              "  }\n",
              "</style>\n",
              "\n",
              "  <script>\n",
              "    async function quickchart(key) {\n",
              "      const quickchartButtonEl =\n",
              "        document.querySelector('#' + key + ' button');\n",
              "      quickchartButtonEl.disabled = true;  // To prevent multiple clicks.\n",
              "      quickchartButtonEl.classList.add('colab-df-spinner');\n",
              "      try {\n",
              "        const charts = await google.colab.kernel.invokeFunction(\n",
              "            'suggestCharts', [key], {});\n",
              "      } catch (error) {\n",
              "        console.error('Error during call to suggestCharts:', error);\n",
              "      }\n",
              "      quickchartButtonEl.classList.remove('colab-df-spinner');\n",
              "      quickchartButtonEl.classList.add('colab-df-quickchart-complete');\n",
              "    }\n",
              "    (() => {\n",
              "      let quickchartButtonEl =\n",
              "        document.querySelector('#df-aab0f55f-336b-41c0-a980-75647af5f3f9 button');\n",
              "      quickchartButtonEl.style.display =\n",
              "        google.colab.kernel.accessAllowed ? 'block' : 'none';\n",
              "    })();\n",
              "  </script>\n",
              "</div>\n",
              "    </div>\n",
              "  </div>\n"
            ],
            "application/vnd.google.colaboratory.intrinsic+json": {
              "type": "dataframe",
              "summary": "{\n  \"name\": \"Xtrain[numerical_columns]\",\n  \"rows\": 3,\n  \"fields\": [\n    {\n      \"column\": \"count\",\n      \"properties\": {\n        \"dtype\": \"number\",\n        \"std\": 0.0,\n        \"min\": 700.0,\n        \"max\": 700.0,\n        \"samples\": [\n          700.0\n        ],\n        \"num_unique_values\": 1,\n        \"semantic_type\": \"\",\n        \"description\": \"\"\n      }\n    },\n    {\n      \"column\": \"mean\",\n      \"properties\": {\n        \"dtype\": \"number\",\n        \"std\": 1895.4335957243875,\n        \"min\": 20.895714285714284,\n        \"max\": 3311.0642857142857,\n        \"samples\": [\n          20.895714285714284\n        ],\n        \"num_unique_values\": 3,\n        \"semantic_type\": \"\",\n        \"description\": \"\"\n      }\n    },\n    {\n      \"column\": \"std\",\n      \"properties\": {\n        \"dtype\": \"number\",\n        \"std\": 1681.380005454816,\n        \"min\": 10.971844389303287,\n        \"max\": 2923.86587482128,\n        \"samples\": [\n          12.289159600846373\n        ],\n        \"num_unique_values\": 3,\n        \"semantic_type\": \"\",\n        \"description\": \"\"\n      }\n    },\n    {\n      \"column\": \"min\",\n      \"properties\": {\n        \"dtype\": \"number\",\n        \"std\": 152.6302722267113,\n        \"min\": 4.0,\n        \"max\": 276.0,\n        \"samples\": [\n          4.0\n        ],\n        \"num_unique_values\": 3,\n        \"semantic_type\": \"\",\n        \"description\": \"\"\n      }\n    },\n    {\n      \"column\": \"25%\",\n      \"properties\": {\n        \"dtype\": \"number\",\n        \"std\": 775.8506756028078,\n        \"min\": 12.0,\n        \"max\": 1363.25,\n        \"samples\": [\n          12.0\n        ],\n        \"num_unique_values\": 3,\n        \"semantic_type\": \"\",\n        \"description\": \"\"\n      }\n    },\n    {\n      \"column\": \"50%\",\n      \"properties\": {\n        \"dtype\": \"number\",\n        \"std\": 1310.6065707653588,\n        \"min\": 18.0,\n        \"max\": 2295.5,\n        \"samples\": [\n          18.0\n        ],\n        \"num_unique_values\": 3,\n        \"semantic_type\": \"\",\n        \"description\": \"\"\n      }\n    },\n    {\n      \"column\": \"75%\",\n      \"properties\": {\n        \"dtype\": \"number\",\n        \"std\": 2275.4976241472987,\n        \"min\": 24.0,\n        \"max\": 3973.75,\n        \"samples\": [\n          24.0\n        ],\n        \"num_unique_values\": 3,\n        \"semantic_type\": \"\",\n        \"description\": \"\"\n      }\n    },\n    {\n      \"column\": \"max\",\n      \"properties\": {\n        \"dtype\": \"number\",\n        \"std\": 10594.954837091096,\n        \"min\": 72.0,\n        \"max\": 18424.0,\n        \"samples\": [\n          72.0\n        ],\n        \"num_unique_values\": 3,\n        \"semantic_type\": \"\",\n        \"description\": \"\"\n      }\n    }\n  ]\n}"
            }
          },
          "metadata": {},
          "execution_count": 443
        }
      ]
    },
    {
      "cell_type": "code",
      "source": [
        "Xtrain[categorical_columns].info()"
      ],
      "metadata": {
        "colab": {
          "base_uri": "https://localhost:8080/"
        },
        "id": "TGVD_xjVg1Vb",
        "outputId": "a3f3fad0-51f8-4576-dfd9-8f9f30bdb92e"
      },
      "execution_count": null,
      "outputs": [
        {
          "output_type": "stream",
          "name": "stdout",
          "text": [
            "<class 'pandas.core.frame.DataFrame'>\n",
            "Int64Index: 700 entries, 105 to 684\n",
            "Data columns (total 17 columns):\n",
            " #   Column                   Non-Null Count  Dtype \n",
            "---  ------                   --------------  ----- \n",
            " 0   status                   700 non-null    object\n",
            " 1   credit_history           700 non-null    object\n",
            " 2   purpose                  700 non-null    object\n",
            " 3   savings                  700 non-null    object\n",
            " 4   employment_duration      700 non-null    object\n",
            " 5   installment_rate         700 non-null    object\n",
            " 6   personal_status_sex      700 non-null    object\n",
            " 7   other_debtors            700 non-null    object\n",
            " 8   present_residence        700 non-null    object\n",
            " 9   property                 700 non-null    object\n",
            " 10  other_installment_plans  700 non-null    object\n",
            " 11  housing                  700 non-null    object\n",
            " 12  number_credits           700 non-null    object\n",
            " 13  job                      700 non-null    object\n",
            " 14  people_liable            700 non-null    object\n",
            " 15  telephone                700 non-null    object\n",
            " 16  foreign_worker           700 non-null    object\n",
            "dtypes: object(17)\n",
            "memory usage: 98.4+ KB\n"
          ]
        }
      ]
    },
    {
      "cell_type": "code",
      "source": [
        "Xtrain[categorical_columns].describe().T"
      ],
      "metadata": {
        "colab": {
          "base_uri": "https://localhost:8080/",
          "height": 582
        },
        "id": "0bSggdTaNkmw",
        "outputId": "e4c0f91e-9a63-4433-81c3-c9630f5a5379"
      },
      "execution_count": null,
      "outputs": [
        {
          "output_type": "execute_result",
          "data": {
            "text/plain": [
              "                        count unique  \\\n",
              "status                    700      4   \n",
              "credit_history            700      5   \n",
              "purpose                   700     10   \n",
              "savings                   700      5   \n",
              "employment_duration       700      5   \n",
              "installment_rate          700      4   \n",
              "personal_status_sex       700      4   \n",
              "other_debtors             700      3   \n",
              "present_residence         700      4   \n",
              "property                  700      4   \n",
              "other_installment_plans   700      3   \n",
              "housing                   700      3   \n",
              "number_credits            700      4   \n",
              "job                       700      4   \n",
              "people_liable             700      2   \n",
              "telephone                 700      2   \n",
              "foreign_worker            700      2   \n",
              "\n",
              "                                                                 top freq  \n",
              "status                                                200 DM or more  272  \n",
              "credit_history           no credits taken/all credits paid back duly  371  \n",
              "purpose                                          furniture/equipment  196  \n",
              "savings                                   unknown/no savings account  426  \n",
              "employment_duration                                       1 to 4 yrs  243  \n",
              "installment_rate                                        less than 20  333  \n",
              "personal_status_sex                           male : married/widowed  395  \n",
              "other_debtors                                                   none  631  \n",
              "present_residence                                      7 yrs or more  279  \n",
              "property                   building soc. savings agr./life insurance  241  \n",
              "other_installment_plans                                         none  572  \n",
              "housing                                                         rent  508  \n",
              "number_credits                                                     1  436  \n",
              "job                                        skilled employee/official  441  \n",
              "people_liable                                                 0 to 2  586  \n",
              "telephone                                                         no  412  \n",
              "foreign_worker                                                    no  671  "
            ],
            "text/html": [
              "\n",
              "  <div id=\"df-3c000b2f-dccd-4482-88d0-18f66151554b\" class=\"colab-df-container\">\n",
              "    <div>\n",
              "<style scoped>\n",
              "    .dataframe tbody tr th:only-of-type {\n",
              "        vertical-align: middle;\n",
              "    }\n",
              "\n",
              "    .dataframe tbody tr th {\n",
              "        vertical-align: top;\n",
              "    }\n",
              "\n",
              "    .dataframe thead th {\n",
              "        text-align: right;\n",
              "    }\n",
              "</style>\n",
              "<table border=\"1\" class=\"dataframe\">\n",
              "  <thead>\n",
              "    <tr style=\"text-align: right;\">\n",
              "      <th></th>\n",
              "      <th>count</th>\n",
              "      <th>unique</th>\n",
              "      <th>top</th>\n",
              "      <th>freq</th>\n",
              "    </tr>\n",
              "  </thead>\n",
              "  <tbody>\n",
              "    <tr>\n",
              "      <th>status</th>\n",
              "      <td>700</td>\n",
              "      <td>4</td>\n",
              "      <td>200 DM or more</td>\n",
              "      <td>272</td>\n",
              "    </tr>\n",
              "    <tr>\n",
              "      <th>credit_history</th>\n",
              "      <td>700</td>\n",
              "      <td>5</td>\n",
              "      <td>no credits taken/all credits paid back duly</td>\n",
              "      <td>371</td>\n",
              "    </tr>\n",
              "    <tr>\n",
              "      <th>purpose</th>\n",
              "      <td>700</td>\n",
              "      <td>10</td>\n",
              "      <td>furniture/equipment</td>\n",
              "      <td>196</td>\n",
              "    </tr>\n",
              "    <tr>\n",
              "      <th>savings</th>\n",
              "      <td>700</td>\n",
              "      <td>5</td>\n",
              "      <td>unknown/no savings account</td>\n",
              "      <td>426</td>\n",
              "    </tr>\n",
              "    <tr>\n",
              "      <th>employment_duration</th>\n",
              "      <td>700</td>\n",
              "      <td>5</td>\n",
              "      <td>1 to 4 yrs</td>\n",
              "      <td>243</td>\n",
              "    </tr>\n",
              "    <tr>\n",
              "      <th>installment_rate</th>\n",
              "      <td>700</td>\n",
              "      <td>4</td>\n",
              "      <td>less than 20</td>\n",
              "      <td>333</td>\n",
              "    </tr>\n",
              "    <tr>\n",
              "      <th>personal_status_sex</th>\n",
              "      <td>700</td>\n",
              "      <td>4</td>\n",
              "      <td>male : married/widowed</td>\n",
              "      <td>395</td>\n",
              "    </tr>\n",
              "    <tr>\n",
              "      <th>other_debtors</th>\n",
              "      <td>700</td>\n",
              "      <td>3</td>\n",
              "      <td>none</td>\n",
              "      <td>631</td>\n",
              "    </tr>\n",
              "    <tr>\n",
              "      <th>present_residence</th>\n",
              "      <td>700</td>\n",
              "      <td>4</td>\n",
              "      <td>7 yrs or more</td>\n",
              "      <td>279</td>\n",
              "    </tr>\n",
              "    <tr>\n",
              "      <th>property</th>\n",
              "      <td>700</td>\n",
              "      <td>4</td>\n",
              "      <td>building soc. savings agr./life insurance</td>\n",
              "      <td>241</td>\n",
              "    </tr>\n",
              "    <tr>\n",
              "      <th>other_installment_plans</th>\n",
              "      <td>700</td>\n",
              "      <td>3</td>\n",
              "      <td>none</td>\n",
              "      <td>572</td>\n",
              "    </tr>\n",
              "    <tr>\n",
              "      <th>housing</th>\n",
              "      <td>700</td>\n",
              "      <td>3</td>\n",
              "      <td>rent</td>\n",
              "      <td>508</td>\n",
              "    </tr>\n",
              "    <tr>\n",
              "      <th>number_credits</th>\n",
              "      <td>700</td>\n",
              "      <td>4</td>\n",
              "      <td>1</td>\n",
              "      <td>436</td>\n",
              "    </tr>\n",
              "    <tr>\n",
              "      <th>job</th>\n",
              "      <td>700</td>\n",
              "      <td>4</td>\n",
              "      <td>skilled employee/official</td>\n",
              "      <td>441</td>\n",
              "    </tr>\n",
              "    <tr>\n",
              "      <th>people_liable</th>\n",
              "      <td>700</td>\n",
              "      <td>2</td>\n",
              "      <td>0 to 2</td>\n",
              "      <td>586</td>\n",
              "    </tr>\n",
              "    <tr>\n",
              "      <th>telephone</th>\n",
              "      <td>700</td>\n",
              "      <td>2</td>\n",
              "      <td>no</td>\n",
              "      <td>412</td>\n",
              "    </tr>\n",
              "    <tr>\n",
              "      <th>foreign_worker</th>\n",
              "      <td>700</td>\n",
              "      <td>2</td>\n",
              "      <td>no</td>\n",
              "      <td>671</td>\n",
              "    </tr>\n",
              "  </tbody>\n",
              "</table>\n",
              "</div>\n",
              "    <div class=\"colab-df-buttons\">\n",
              "\n",
              "  <div class=\"colab-df-container\">\n",
              "    <button class=\"colab-df-convert\" onclick=\"convertToInteractive('df-3c000b2f-dccd-4482-88d0-18f66151554b')\"\n",
              "            title=\"Convert this dataframe to an interactive table.\"\n",
              "            style=\"display:none;\">\n",
              "\n",
              "  <svg xmlns=\"http://www.w3.org/2000/svg\" height=\"24px\" viewBox=\"0 -960 960 960\">\n",
              "    <path d=\"M120-120v-720h720v720H120Zm60-500h600v-160H180v160Zm220 220h160v-160H400v160Zm0 220h160v-160H400v160ZM180-400h160v-160H180v160Zm440 0h160v-160H620v160ZM180-180h160v-160H180v160Zm440 0h160v-160H620v160Z\"/>\n",
              "  </svg>\n",
              "    </button>\n",
              "\n",
              "  <style>\n",
              "    .colab-df-container {\n",
              "      display:flex;\n",
              "      gap: 12px;\n",
              "    }\n",
              "\n",
              "    .colab-df-convert {\n",
              "      background-color: #E8F0FE;\n",
              "      border: none;\n",
              "      border-radius: 50%;\n",
              "      cursor: pointer;\n",
              "      display: none;\n",
              "      fill: #1967D2;\n",
              "      height: 32px;\n",
              "      padding: 0 0 0 0;\n",
              "      width: 32px;\n",
              "    }\n",
              "\n",
              "    .colab-df-convert:hover {\n",
              "      background-color: #E2EBFA;\n",
              "      box-shadow: 0px 1px 2px rgba(60, 64, 67, 0.3), 0px 1px 3px 1px rgba(60, 64, 67, 0.15);\n",
              "      fill: #174EA6;\n",
              "    }\n",
              "\n",
              "    .colab-df-buttons div {\n",
              "      margin-bottom: 4px;\n",
              "    }\n",
              "\n",
              "    [theme=dark] .colab-df-convert {\n",
              "      background-color: #3B4455;\n",
              "      fill: #D2E3FC;\n",
              "    }\n",
              "\n",
              "    [theme=dark] .colab-df-convert:hover {\n",
              "      background-color: #434B5C;\n",
              "      box-shadow: 0px 1px 3px 1px rgba(0, 0, 0, 0.15);\n",
              "      filter: drop-shadow(0px 1px 2px rgba(0, 0, 0, 0.3));\n",
              "      fill: #FFFFFF;\n",
              "    }\n",
              "  </style>\n",
              "\n",
              "    <script>\n",
              "      const buttonEl =\n",
              "        document.querySelector('#df-3c000b2f-dccd-4482-88d0-18f66151554b button.colab-df-convert');\n",
              "      buttonEl.style.display =\n",
              "        google.colab.kernel.accessAllowed ? 'block' : 'none';\n",
              "\n",
              "      async function convertToInteractive(key) {\n",
              "        const element = document.querySelector('#df-3c000b2f-dccd-4482-88d0-18f66151554b');\n",
              "        const dataTable =\n",
              "          await google.colab.kernel.invokeFunction('convertToInteractive',\n",
              "                                                    [key], {});\n",
              "        if (!dataTable) return;\n",
              "\n",
              "        const docLinkHtml = 'Like what you see? Visit the ' +\n",
              "          '<a target=\"_blank\" href=https://colab.research.google.com/notebooks/data_table.ipynb>data table notebook</a>'\n",
              "          + ' to learn more about interactive tables.';\n",
              "        element.innerHTML = '';\n",
              "        dataTable['output_type'] = 'display_data';\n",
              "        await google.colab.output.renderOutput(dataTable, element);\n",
              "        const docLink = document.createElement('div');\n",
              "        docLink.innerHTML = docLinkHtml;\n",
              "        element.appendChild(docLink);\n",
              "      }\n",
              "    </script>\n",
              "  </div>\n",
              "\n",
              "\n",
              "<div id=\"df-2ba5048b-a96d-4b23-8194-4d950800f389\">\n",
              "  <button class=\"colab-df-quickchart\" onclick=\"quickchart('df-2ba5048b-a96d-4b23-8194-4d950800f389')\"\n",
              "            title=\"Suggest charts\"\n",
              "            style=\"display:none;\">\n",
              "\n",
              "<svg xmlns=\"http://www.w3.org/2000/svg\" height=\"24px\"viewBox=\"0 0 24 24\"\n",
              "     width=\"24px\">\n",
              "    <g>\n",
              "        <path d=\"M19 3H5c-1.1 0-2 .9-2 2v14c0 1.1.9 2 2 2h14c1.1 0 2-.9 2-2V5c0-1.1-.9-2-2-2zM9 17H7v-7h2v7zm4 0h-2V7h2v10zm4 0h-2v-4h2v4z\"/>\n",
              "    </g>\n",
              "</svg>\n",
              "  </button>\n",
              "\n",
              "<style>\n",
              "  .colab-df-quickchart {\n",
              "      --bg-color: #E8F0FE;\n",
              "      --fill-color: #1967D2;\n",
              "      --hover-bg-color: #E2EBFA;\n",
              "      --hover-fill-color: #174EA6;\n",
              "      --disabled-fill-color: #AAA;\n",
              "      --disabled-bg-color: #DDD;\n",
              "  }\n",
              "\n",
              "  [theme=dark] .colab-df-quickchart {\n",
              "      --bg-color: #3B4455;\n",
              "      --fill-color: #D2E3FC;\n",
              "      --hover-bg-color: #434B5C;\n",
              "      --hover-fill-color: #FFFFFF;\n",
              "      --disabled-bg-color: #3B4455;\n",
              "      --disabled-fill-color: #666;\n",
              "  }\n",
              "\n",
              "  .colab-df-quickchart {\n",
              "    background-color: var(--bg-color);\n",
              "    border: none;\n",
              "    border-radius: 50%;\n",
              "    cursor: pointer;\n",
              "    display: none;\n",
              "    fill: var(--fill-color);\n",
              "    height: 32px;\n",
              "    padding: 0;\n",
              "    width: 32px;\n",
              "  }\n",
              "\n",
              "  .colab-df-quickchart:hover {\n",
              "    background-color: var(--hover-bg-color);\n",
              "    box-shadow: 0 1px 2px rgba(60, 64, 67, 0.3), 0 1px 3px 1px rgba(60, 64, 67, 0.15);\n",
              "    fill: var(--button-hover-fill-color);\n",
              "  }\n",
              "\n",
              "  .colab-df-quickchart-complete:disabled,\n",
              "  .colab-df-quickchart-complete:disabled:hover {\n",
              "    background-color: var(--disabled-bg-color);\n",
              "    fill: var(--disabled-fill-color);\n",
              "    box-shadow: none;\n",
              "  }\n",
              "\n",
              "  .colab-df-spinner {\n",
              "    border: 2px solid var(--fill-color);\n",
              "    border-color: transparent;\n",
              "    border-bottom-color: var(--fill-color);\n",
              "    animation:\n",
              "      spin 1s steps(1) infinite;\n",
              "  }\n",
              "\n",
              "  @keyframes spin {\n",
              "    0% {\n",
              "      border-color: transparent;\n",
              "      border-bottom-color: var(--fill-color);\n",
              "      border-left-color: var(--fill-color);\n",
              "    }\n",
              "    20% {\n",
              "      border-color: transparent;\n",
              "      border-left-color: var(--fill-color);\n",
              "      border-top-color: var(--fill-color);\n",
              "    }\n",
              "    30% {\n",
              "      border-color: transparent;\n",
              "      border-left-color: var(--fill-color);\n",
              "      border-top-color: var(--fill-color);\n",
              "      border-right-color: var(--fill-color);\n",
              "    }\n",
              "    40% {\n",
              "      border-color: transparent;\n",
              "      border-right-color: var(--fill-color);\n",
              "      border-top-color: var(--fill-color);\n",
              "    }\n",
              "    60% {\n",
              "      border-color: transparent;\n",
              "      border-right-color: var(--fill-color);\n",
              "    }\n",
              "    80% {\n",
              "      border-color: transparent;\n",
              "      border-right-color: var(--fill-color);\n",
              "      border-bottom-color: var(--fill-color);\n",
              "    }\n",
              "    90% {\n",
              "      border-color: transparent;\n",
              "      border-bottom-color: var(--fill-color);\n",
              "    }\n",
              "  }\n",
              "</style>\n",
              "\n",
              "  <script>\n",
              "    async function quickchart(key) {\n",
              "      const quickchartButtonEl =\n",
              "        document.querySelector('#' + key + ' button');\n",
              "      quickchartButtonEl.disabled = true;  // To prevent multiple clicks.\n",
              "      quickchartButtonEl.classList.add('colab-df-spinner');\n",
              "      try {\n",
              "        const charts = await google.colab.kernel.invokeFunction(\n",
              "            'suggestCharts', [key], {});\n",
              "      } catch (error) {\n",
              "        console.error('Error during call to suggestCharts:', error);\n",
              "      }\n",
              "      quickchartButtonEl.classList.remove('colab-df-spinner');\n",
              "      quickchartButtonEl.classList.add('colab-df-quickchart-complete');\n",
              "    }\n",
              "    (() => {\n",
              "      let quickchartButtonEl =\n",
              "        document.querySelector('#df-2ba5048b-a96d-4b23-8194-4d950800f389 button');\n",
              "      quickchartButtonEl.style.display =\n",
              "        google.colab.kernel.accessAllowed ? 'block' : 'none';\n",
              "    })();\n",
              "  </script>\n",
              "</div>\n",
              "    </div>\n",
              "  </div>\n"
            ],
            "application/vnd.google.colaboratory.intrinsic+json": {
              "type": "dataframe",
              "summary": "{\n  \"name\": \"Xtrain[categorical_columns]\",\n  \"rows\": 17,\n  \"fields\": [\n    {\n      \"column\": \"count\",\n      \"properties\": {\n        \"dtype\": \"date\",\n        \"min\": \"700\",\n        \"max\": \"700\",\n        \"samples\": [\n          \"700\"\n        ],\n        \"num_unique_values\": 1,\n        \"semantic_type\": \"\",\n        \"description\": \"\"\n      }\n    },\n    {\n      \"column\": \"unique\",\n      \"properties\": {\n        \"dtype\": \"date\",\n        \"min\": 2,\n        \"max\": 10,\n        \"samples\": [\n          5\n        ],\n        \"num_unique_values\": 5,\n        \"semantic_type\": \"\",\n        \"description\": \"\"\n      }\n    },\n    {\n      \"column\": \"top\",\n      \"properties\": {\n        \"dtype\": \"string\",\n        \"samples\": [\n          \"building soc. savings agr./life insurance\"\n        ],\n        \"num_unique_values\": 15,\n        \"semantic_type\": \"\",\n        \"description\": \"\"\n      }\n    },\n    {\n      \"column\": \"freq\",\n      \"properties\": {\n        \"dtype\": \"date\",\n        \"min\": \"196\",\n        \"max\": \"671\",\n        \"samples\": [\n          \"272\"\n        ],\n        \"num_unique_values\": 17,\n        \"semantic_type\": \"\",\n        \"description\": \"\"\n      }\n    }\n  ]\n}"
            }
          },
          "metadata": {},
          "execution_count": 445
        }
      ]
    },
    {
      "cell_type": "markdown",
      "source": [
        "## **Ejercicio 5**"
      ],
      "metadata": {
        "id": "zb5bE4WJj8Rw"
      }
    },
    {
      "cell_type": "markdown",
      "source": [
        "### Análisis descriptivo de las variables usando el conjunto de entrenamiento.\n",
        "\n",
        "### Incluye a continuación todo el código que consideres necesario para analizar las variables y decidir en dado caso qué transformaciones les estarías aplicando."
      ],
      "metadata": {
        "id": "urAFNUyMjodn"
      }
    },
    {
      "cell_type": "code",
      "source": [
        "#Descripcion general de las variables numericas\n",
        "Xtrain[numerical_columns].describe()\n"
      ],
      "metadata": {
        "id": "FZNjwKewd9fK",
        "colab": {
          "base_uri": "https://localhost:8080/",
          "height": 300
        },
        "outputId": "085cca1a-deb3-4a45-afd7-fa7b54118f3c"
      },
      "execution_count": null,
      "outputs": [
        {
          "output_type": "execute_result",
          "data": {
            "text/plain": [
              "         duration        amount         age\n",
              "count  700.000000    700.000000  700.000000\n",
              "mean    20.895714   3311.064286   35.305714\n",
              "std     12.289160   2923.865875   10.971844\n",
              "min      4.000000    276.000000   20.000000\n",
              "25%     12.000000   1363.250000   27.000000\n",
              "50%     18.000000   2295.500000   33.000000\n",
              "75%     24.000000   3973.750000   41.000000\n",
              "max     72.000000  18424.000000   74.000000"
            ],
            "text/html": [
              "\n",
              "  <div id=\"df-0b92b4fe-08fb-4760-889d-4bade3e307c8\" class=\"colab-df-container\">\n",
              "    <div>\n",
              "<style scoped>\n",
              "    .dataframe tbody tr th:only-of-type {\n",
              "        vertical-align: middle;\n",
              "    }\n",
              "\n",
              "    .dataframe tbody tr th {\n",
              "        vertical-align: top;\n",
              "    }\n",
              "\n",
              "    .dataframe thead th {\n",
              "        text-align: right;\n",
              "    }\n",
              "</style>\n",
              "<table border=\"1\" class=\"dataframe\">\n",
              "  <thead>\n",
              "    <tr style=\"text-align: right;\">\n",
              "      <th></th>\n",
              "      <th>duration</th>\n",
              "      <th>amount</th>\n",
              "      <th>age</th>\n",
              "    </tr>\n",
              "  </thead>\n",
              "  <tbody>\n",
              "    <tr>\n",
              "      <th>count</th>\n",
              "      <td>700.000000</td>\n",
              "      <td>700.000000</td>\n",
              "      <td>700.000000</td>\n",
              "    </tr>\n",
              "    <tr>\n",
              "      <th>mean</th>\n",
              "      <td>20.895714</td>\n",
              "      <td>3311.064286</td>\n",
              "      <td>35.305714</td>\n",
              "    </tr>\n",
              "    <tr>\n",
              "      <th>std</th>\n",
              "      <td>12.289160</td>\n",
              "      <td>2923.865875</td>\n",
              "      <td>10.971844</td>\n",
              "    </tr>\n",
              "    <tr>\n",
              "      <th>min</th>\n",
              "      <td>4.000000</td>\n",
              "      <td>276.000000</td>\n",
              "      <td>20.000000</td>\n",
              "    </tr>\n",
              "    <tr>\n",
              "      <th>25%</th>\n",
              "      <td>12.000000</td>\n",
              "      <td>1363.250000</td>\n",
              "      <td>27.000000</td>\n",
              "    </tr>\n",
              "    <tr>\n",
              "      <th>50%</th>\n",
              "      <td>18.000000</td>\n",
              "      <td>2295.500000</td>\n",
              "      <td>33.000000</td>\n",
              "    </tr>\n",
              "    <tr>\n",
              "      <th>75%</th>\n",
              "      <td>24.000000</td>\n",
              "      <td>3973.750000</td>\n",
              "      <td>41.000000</td>\n",
              "    </tr>\n",
              "    <tr>\n",
              "      <th>max</th>\n",
              "      <td>72.000000</td>\n",
              "      <td>18424.000000</td>\n",
              "      <td>74.000000</td>\n",
              "    </tr>\n",
              "  </tbody>\n",
              "</table>\n",
              "</div>\n",
              "    <div class=\"colab-df-buttons\">\n",
              "\n",
              "  <div class=\"colab-df-container\">\n",
              "    <button class=\"colab-df-convert\" onclick=\"convertToInteractive('df-0b92b4fe-08fb-4760-889d-4bade3e307c8')\"\n",
              "            title=\"Convert this dataframe to an interactive table.\"\n",
              "            style=\"display:none;\">\n",
              "\n",
              "  <svg xmlns=\"http://www.w3.org/2000/svg\" height=\"24px\" viewBox=\"0 -960 960 960\">\n",
              "    <path d=\"M120-120v-720h720v720H120Zm60-500h600v-160H180v160Zm220 220h160v-160H400v160Zm0 220h160v-160H400v160ZM180-400h160v-160H180v160Zm440 0h160v-160H620v160ZM180-180h160v-160H180v160Zm440 0h160v-160H620v160Z\"/>\n",
              "  </svg>\n",
              "    </button>\n",
              "\n",
              "  <style>\n",
              "    .colab-df-container {\n",
              "      display:flex;\n",
              "      gap: 12px;\n",
              "    }\n",
              "\n",
              "    .colab-df-convert {\n",
              "      background-color: #E8F0FE;\n",
              "      border: none;\n",
              "      border-radius: 50%;\n",
              "      cursor: pointer;\n",
              "      display: none;\n",
              "      fill: #1967D2;\n",
              "      height: 32px;\n",
              "      padding: 0 0 0 0;\n",
              "      width: 32px;\n",
              "    }\n",
              "\n",
              "    .colab-df-convert:hover {\n",
              "      background-color: #E2EBFA;\n",
              "      box-shadow: 0px 1px 2px rgba(60, 64, 67, 0.3), 0px 1px 3px 1px rgba(60, 64, 67, 0.15);\n",
              "      fill: #174EA6;\n",
              "    }\n",
              "\n",
              "    .colab-df-buttons div {\n",
              "      margin-bottom: 4px;\n",
              "    }\n",
              "\n",
              "    [theme=dark] .colab-df-convert {\n",
              "      background-color: #3B4455;\n",
              "      fill: #D2E3FC;\n",
              "    }\n",
              "\n",
              "    [theme=dark] .colab-df-convert:hover {\n",
              "      background-color: #434B5C;\n",
              "      box-shadow: 0px 1px 3px 1px rgba(0, 0, 0, 0.15);\n",
              "      filter: drop-shadow(0px 1px 2px rgba(0, 0, 0, 0.3));\n",
              "      fill: #FFFFFF;\n",
              "    }\n",
              "  </style>\n",
              "\n",
              "    <script>\n",
              "      const buttonEl =\n",
              "        document.querySelector('#df-0b92b4fe-08fb-4760-889d-4bade3e307c8 button.colab-df-convert');\n",
              "      buttonEl.style.display =\n",
              "        google.colab.kernel.accessAllowed ? 'block' : 'none';\n",
              "\n",
              "      async function convertToInteractive(key) {\n",
              "        const element = document.querySelector('#df-0b92b4fe-08fb-4760-889d-4bade3e307c8');\n",
              "        const dataTable =\n",
              "          await google.colab.kernel.invokeFunction('convertToInteractive',\n",
              "                                                    [key], {});\n",
              "        if (!dataTable) return;\n",
              "\n",
              "        const docLinkHtml = 'Like what you see? Visit the ' +\n",
              "          '<a target=\"_blank\" href=https://colab.research.google.com/notebooks/data_table.ipynb>data table notebook</a>'\n",
              "          + ' to learn more about interactive tables.';\n",
              "        element.innerHTML = '';\n",
              "        dataTable['output_type'] = 'display_data';\n",
              "        await google.colab.output.renderOutput(dataTable, element);\n",
              "        const docLink = document.createElement('div');\n",
              "        docLink.innerHTML = docLinkHtml;\n",
              "        element.appendChild(docLink);\n",
              "      }\n",
              "    </script>\n",
              "  </div>\n",
              "\n",
              "\n",
              "<div id=\"df-31055dc4-7007-4b21-84a6-c0c15a211dfb\">\n",
              "  <button class=\"colab-df-quickchart\" onclick=\"quickchart('df-31055dc4-7007-4b21-84a6-c0c15a211dfb')\"\n",
              "            title=\"Suggest charts\"\n",
              "            style=\"display:none;\">\n",
              "\n",
              "<svg xmlns=\"http://www.w3.org/2000/svg\" height=\"24px\"viewBox=\"0 0 24 24\"\n",
              "     width=\"24px\">\n",
              "    <g>\n",
              "        <path d=\"M19 3H5c-1.1 0-2 .9-2 2v14c0 1.1.9 2 2 2h14c1.1 0 2-.9 2-2V5c0-1.1-.9-2-2-2zM9 17H7v-7h2v7zm4 0h-2V7h2v10zm4 0h-2v-4h2v4z\"/>\n",
              "    </g>\n",
              "</svg>\n",
              "  </button>\n",
              "\n",
              "<style>\n",
              "  .colab-df-quickchart {\n",
              "      --bg-color: #E8F0FE;\n",
              "      --fill-color: #1967D2;\n",
              "      --hover-bg-color: #E2EBFA;\n",
              "      --hover-fill-color: #174EA6;\n",
              "      --disabled-fill-color: #AAA;\n",
              "      --disabled-bg-color: #DDD;\n",
              "  }\n",
              "\n",
              "  [theme=dark] .colab-df-quickchart {\n",
              "      --bg-color: #3B4455;\n",
              "      --fill-color: #D2E3FC;\n",
              "      --hover-bg-color: #434B5C;\n",
              "      --hover-fill-color: #FFFFFF;\n",
              "      --disabled-bg-color: #3B4455;\n",
              "      --disabled-fill-color: #666;\n",
              "  }\n",
              "\n",
              "  .colab-df-quickchart {\n",
              "    background-color: var(--bg-color);\n",
              "    border: none;\n",
              "    border-radius: 50%;\n",
              "    cursor: pointer;\n",
              "    display: none;\n",
              "    fill: var(--fill-color);\n",
              "    height: 32px;\n",
              "    padding: 0;\n",
              "    width: 32px;\n",
              "  }\n",
              "\n",
              "  .colab-df-quickchart:hover {\n",
              "    background-color: var(--hover-bg-color);\n",
              "    box-shadow: 0 1px 2px rgba(60, 64, 67, 0.3), 0 1px 3px 1px rgba(60, 64, 67, 0.15);\n",
              "    fill: var(--button-hover-fill-color);\n",
              "  }\n",
              "\n",
              "  .colab-df-quickchart-complete:disabled,\n",
              "  .colab-df-quickchart-complete:disabled:hover {\n",
              "    background-color: var(--disabled-bg-color);\n",
              "    fill: var(--disabled-fill-color);\n",
              "    box-shadow: none;\n",
              "  }\n",
              "\n",
              "  .colab-df-spinner {\n",
              "    border: 2px solid var(--fill-color);\n",
              "    border-color: transparent;\n",
              "    border-bottom-color: var(--fill-color);\n",
              "    animation:\n",
              "      spin 1s steps(1) infinite;\n",
              "  }\n",
              "\n",
              "  @keyframes spin {\n",
              "    0% {\n",
              "      border-color: transparent;\n",
              "      border-bottom-color: var(--fill-color);\n",
              "      border-left-color: var(--fill-color);\n",
              "    }\n",
              "    20% {\n",
              "      border-color: transparent;\n",
              "      border-left-color: var(--fill-color);\n",
              "      border-top-color: var(--fill-color);\n",
              "    }\n",
              "    30% {\n",
              "      border-color: transparent;\n",
              "      border-left-color: var(--fill-color);\n",
              "      border-top-color: var(--fill-color);\n",
              "      border-right-color: var(--fill-color);\n",
              "    }\n",
              "    40% {\n",
              "      border-color: transparent;\n",
              "      border-right-color: var(--fill-color);\n",
              "      border-top-color: var(--fill-color);\n",
              "    }\n",
              "    60% {\n",
              "      border-color: transparent;\n",
              "      border-right-color: var(--fill-color);\n",
              "    }\n",
              "    80% {\n",
              "      border-color: transparent;\n",
              "      border-right-color: var(--fill-color);\n",
              "      border-bottom-color: var(--fill-color);\n",
              "    }\n",
              "    90% {\n",
              "      border-color: transparent;\n",
              "      border-bottom-color: var(--fill-color);\n",
              "    }\n",
              "  }\n",
              "</style>\n",
              "\n",
              "  <script>\n",
              "    async function quickchart(key) {\n",
              "      const quickchartButtonEl =\n",
              "        document.querySelector('#' + key + ' button');\n",
              "      quickchartButtonEl.disabled = true;  // To prevent multiple clicks.\n",
              "      quickchartButtonEl.classList.add('colab-df-spinner');\n",
              "      try {\n",
              "        const charts = await google.colab.kernel.invokeFunction(\n",
              "            'suggestCharts', [key], {});\n",
              "      } catch (error) {\n",
              "        console.error('Error during call to suggestCharts:', error);\n",
              "      }\n",
              "      quickchartButtonEl.classList.remove('colab-df-spinner');\n",
              "      quickchartButtonEl.classList.add('colab-df-quickchart-complete');\n",
              "    }\n",
              "    (() => {\n",
              "      let quickchartButtonEl =\n",
              "        document.querySelector('#df-31055dc4-7007-4b21-84a6-c0c15a211dfb button');\n",
              "      quickchartButtonEl.style.display =\n",
              "        google.colab.kernel.accessAllowed ? 'block' : 'none';\n",
              "    })();\n",
              "  </script>\n",
              "</div>\n",
              "    </div>\n",
              "  </div>\n"
            ],
            "application/vnd.google.colaboratory.intrinsic+json": {
              "type": "dataframe",
              "summary": "{\n  \"name\": \"Xtrain[numerical_columns]\",\n  \"rows\": 8,\n  \"fields\": [\n    {\n      \"column\": \"duration\",\n      \"properties\": {\n        \"dtype\": \"number\",\n        \"std\": 240.14746615536208,\n        \"min\": 4.0,\n        \"max\": 700.0,\n        \"samples\": [\n          20.895714285714284,\n          18.0,\n          700.0\n        ],\n        \"num_unique_values\": 8,\n        \"semantic_type\": \"\",\n        \"description\": \"\"\n      }\n    },\n    {\n      \"column\": \"amount\",\n      \"properties\": {\n        \"dtype\": \"number\",\n        \"std\": 5905.207284946701,\n        \"min\": 276.0,\n        \"max\": 18424.0,\n        \"samples\": [\n          3311.0642857142857,\n          2295.5,\n          700.0\n        ],\n        \"num_unique_values\": 8,\n        \"semantic_type\": \"\",\n        \"description\": \"\"\n      }\n    },\n    {\n      \"column\": \"age\",\n      \"properties\": {\n        \"dtype\": \"number\",\n        \"std\": 236.0361487213278,\n        \"min\": 10.971844389303287,\n        \"max\": 700.0,\n        \"samples\": [\n          35.30571428571429,\n          33.0,\n          700.0\n        ],\n        \"num_unique_values\": 8,\n        \"semantic_type\": \"\",\n        \"description\": \"\"\n      }\n    }\n  ]\n}"
            }
          },
          "metadata": {},
          "execution_count": 446
        }
      ]
    },
    {
      "cell_type": "code",
      "source": [
        "#Creacion de histograma para el df\n",
        "Xtrain[numerical_columns].hist(figsize=(25,4), layout=(1,5))\n",
        "plt.show()"
      ],
      "metadata": {
        "colab": {
          "base_uri": "https://localhost:8080/",
          "height": 391
        },
        "id": "OFel75EFdl7I",
        "outputId": "f21c8ee8-3098-4ba5-e10d-e3f8340d3d27"
      },
      "execution_count": null,
      "outputs": [
        {
          "output_type": "display_data",
          "data": {
            "text/plain": [
              "<Figure size 2500x400 with 5 Axes>"
            ],
            "image/png": "[encoded data removed]"
          },
          "metadata": {}
        }
      ]
    },
    {
      "cell_type": "code",
      "source": [
        "#creacion de boxplot para columnas numericas\n",
        "fig, axes = plt.subplots(1,3, figsize=(25,4))\n",
        "axes = axes.ravel()\n",
        "for col, ax in zip(Xtrain[numerical_columns], axes):\n",
        "  ax.boxplot(Xtrain[col].dropna(), labels=[f'{col}'])"
      ],
      "metadata": {
        "colab": {
          "base_uri": "https://localhost:8080/",
          "height": 304
        },
        "id": "Xd4AqyQFd7F7",
        "outputId": "d4a46a0d-cf1b-48ba-ed7d-c69cc341ef3b"
      },
      "execution_count": null,
      "outputs": [
        {
          "output_type": "display_data",
          "data": {
            "text/plain": [
              "<Figure size 2500x400 with 3 Axes>"
            ],
            "image/png": "[encoded data removed]"
          },
          "metadata": {}
        }
      ]
    },
    {
      "cell_type": "code",
      "source": [
        "# status\n",
        "fig_dims = (8,5)\n",
        "fig, ax = plt.subplots(figsize=fig_dims)\n",
        "sns.countplot(x='status',data=df, order=df['status'].value_counts().index)"
      ],
      "metadata": {
        "colab": {
          "base_uri": "https://localhost:8080/",
          "height": 483
        },
        "id": "mugb2znzefnw",
        "outputId": "b082ec26-f939-4de7-f54a-c4e0213d952e"
      },
      "execution_count": null,
      "outputs": [
        {
          "output_type": "execute_result",
          "data": {
            "text/plain": [
              "<Axes: xlabel='status', ylabel='count'>"
            ]
          },
          "metadata": {},
          "execution_count": 449
        },
        {
          "output_type": "display_data",
          "data": {
            "text/plain": [
              "<Figure size 800x500 with 1 Axes>"
            ],
            "image/png": "[encoded data removed]"
          },
          "metadata": {}
        }
      ]
    },
    {
      "cell_type": "code",
      "source": [
        "# credit_history\n",
        "fig_dims = (20, 6)\n",
        "fig, ax = plt.subplots(figsize=fig_dims)\n",
        "sns.countplot(x='credit_history', order=df['credit_history'].value_counts().index, data=df)"
      ],
      "metadata": {
        "colab": {
          "base_uri": "https://localhost:8080/",
          "height": 559
        },
        "id": "fhf_mlETfG1w",
        "outputId": "7dcd368e-ecd4-4f6d-ff1e-a5a4c2920703"
      },
      "execution_count": null,
      "outputs": [
        {
          "output_type": "execute_result",
          "data": {
            "text/plain": [
              "<Axes: xlabel='credit_history', ylabel='count'>"
            ]
          },
          "metadata": {},
          "execution_count": 450
        },
        {
          "output_type": "display_data",
          "data": {
            "text/plain": [
              "<Figure size 2000x600 with 1 Axes>"
            ],
            "image/png": "[encoded data removed]"
          },
          "metadata": {}
        }
      ]
    },
    {
      "cell_type": "code",
      "source": [
        "# purpose\n",
        "fig_dims = (17, 6)\n",
        "fig, ax = plt.subplots(figsize=fig_dims)\n",
        "sns.countplot(x='purpose', order=df['purpose'].value_counts().index, data=df)"
      ],
      "metadata": {
        "colab": {
          "base_uri": "https://localhost:8080/",
          "height": 560
        },
        "id": "71PhAkDqfGzj",
        "outputId": "2d737806-3365-4290-82de-4d926882bdc4"
      },
      "execution_count": null,
      "outputs": [
        {
          "output_type": "execute_result",
          "data": {
            "text/plain": [
              "<Axes: xlabel='purpose', ylabel='count'>"
            ]
          },
          "metadata": {},
          "execution_count": 451
        },
        {
          "output_type": "display_data",
          "data": {
            "text/plain": [
              "<Figure size 1700x600 with 1 Axes>"
            ],
            "image/png": "[encoded data removed]"
          },
          "metadata": {}
        }
      ]
    },
    {
      "cell_type": "code",
      "source": [
        "# savings\n",
        "fig_dims = (15, 6)\n",
        "fig, ax = plt.subplots(figsize=fig_dims)\n",
        "sns.countplot(x='savings', order=df['savings'].value_counts().index,data=df)"
      ],
      "metadata": {
        "colab": {
          "base_uri": "https://localhost:8080/",
          "height": 560
        },
        "id": "E0KJ2JRrfGxK",
        "outputId": "0dcbdd86-5e32-4f3d-a201-528dbcebe2ec"
      },
      "execution_count": null,
      "outputs": [
        {
          "output_type": "execute_result",
          "data": {
            "text/plain": [
              "<Axes: xlabel='savings', ylabel='count'>"
            ]
          },
          "metadata": {},
          "execution_count": 452
        },
        {
          "output_type": "display_data",
          "data": {
            "text/plain": [
              "<Figure size 1500x600 with 1 Axes>"
            ],
            "image/png": "[encoded data removed]"
          },
          "metadata": {}
        }
      ]
    },
    {
      "cell_type": "code",
      "source": [
        "# employment_duration\n",
        "fig_dims = (10, 6)\n",
        "fig, ax = plt.subplots(figsize=fig_dims)\n",
        "sns.countplot(x='employment_duration', order=df['employment_duration'].value_counts().index,data=df)"
      ],
      "metadata": {
        "colab": {
          "base_uri": "https://localhost:8080/",
          "height": 560
        },
        "id": "ac2z3ZyEfGui",
        "outputId": "ed4c2f79-0214-4610-9161-4910ec81d5ec"
      },
      "execution_count": null,
      "outputs": [
        {
          "output_type": "execute_result",
          "data": {
            "text/plain": [
              "<Axes: xlabel='employment_duration', ylabel='count'>"
            ]
          },
          "metadata": {},
          "execution_count": 453
        },
        {
          "output_type": "display_data",
          "data": {
            "text/plain": [
              "<Figure size 1000x600 with 1 Axes>"
            ],
            "image/png": "[encoded data removed]"
          },
          "metadata": {}
        }
      ]
    },
    {
      "cell_type": "code",
      "source": [
        "# installment_rate\n",
        "fig_dims = (8, 6)\n",
        "fig, ax = plt.subplots(figsize=fig_dims)\n",
        "sns.countplot(x='installment_rate', order=df['installment_rate'].value_counts().index, data=df)"
      ],
      "metadata": {
        "colab": {
          "base_uri": "https://localhost:8080/",
          "height": 560
        },
        "id": "Q-v9WTPNfGr_",
        "outputId": "23569adf-9d6d-4ad1-d70f-caf6fdc03696"
      },
      "execution_count": null,
      "outputs": [
        {
          "output_type": "execute_result",
          "data": {
            "text/plain": [
              "<Axes: xlabel='installment_rate', ylabel='count'>"
            ]
          },
          "metadata": {},
          "execution_count": 454
        },
        {
          "output_type": "display_data",
          "data": {
            "text/plain": [
              "<Figure size 800x600 with 1 Axes>"
            ],
            "image/png": "[encoded data removed]"
          },
          "metadata": {}
        }
      ]
    },
    {
      "cell_type": "code",
      "source": [
        "# personal_status_sex\n",
        "fig_dims = (15, 6)\n",
        "fig, ax = plt.subplots(figsize=fig_dims)\n",
        "sns.countplot(x='personal_status_sex', order=df['personal_status_sex'].value_counts().index, data=df)"
      ],
      "metadata": {
        "colab": {
          "base_uri": "https://localhost:8080/",
          "height": 560
        },
        "id": "DyrvIsczfGpc",
        "outputId": "c47820ae-d5b9-4b72-88af-8bdfbdf58088"
      },
      "execution_count": null,
      "outputs": [
        {
          "output_type": "execute_result",
          "data": {
            "text/plain": [
              "<Axes: xlabel='personal_status_sex', ylabel='count'>"
            ]
          },
          "metadata": {},
          "execution_count": 455
        },
        {
          "output_type": "display_data",
          "data": {
            "text/plain": [
              "<Figure size 1500x600 with 1 Axes>"
            ],
            "image/png": "[encoded data removed]"
          },
          "metadata": {}
        }
      ]
    },
    {
      "cell_type": "code",
      "source": [
        "# other_debtors\n",
        "fig_dims = (10, 6)\n",
        "fig, ax = plt.subplots(figsize=fig_dims)\n",
        "sns.countplot(x='other_debtors', order=df['other_debtors'].value_counts().index, data=df)"
      ],
      "metadata": {
        "colab": {
          "base_uri": "https://localhost:8080/",
          "height": 560
        },
        "id": "oqRzjQ5YfGm_",
        "outputId": "41dac596-8019-4704-b4d8-2c47bcd8e23b"
      },
      "execution_count": null,
      "outputs": [
        {
          "output_type": "execute_result",
          "data": {
            "text/plain": [
              "<Axes: xlabel='other_debtors', ylabel='count'>"
            ]
          },
          "metadata": {},
          "execution_count": 456
        },
        {
          "output_type": "display_data",
          "data": {
            "text/plain": [
              "<Figure size 1000x600 with 1 Axes>"
            ],
            "image/png": "[encoded data removed]"
          },
          "metadata": {}
        }
      ]
    },
    {
      "cell_type": "code",
      "source": [
        "# present_residence\n",
        "fig_dims = (10, 6)\n",
        "fig, ax = plt.subplots(figsize=fig_dims)\n",
        "sns.countplot(x='present_residence', order=df['present_residence'].value_counts().index, data=df)"
      ],
      "metadata": {
        "colab": {
          "base_uri": "https://localhost:8080/",
          "height": 560
        },
        "id": "3KL18bHtfGki",
        "outputId": "d4b5b891-079f-4c7b-d46c-35948e11d89e"
      },
      "execution_count": null,
      "outputs": [
        {
          "output_type": "execute_result",
          "data": {
            "text/plain": [
              "<Axes: xlabel='present_residence', ylabel='count'>"
            ]
          },
          "metadata": {},
          "execution_count": 457
        },
        {
          "output_type": "display_data",
          "data": {
            "text/plain": [
              "<Figure size 1000x600 with 1 Axes>"
            ],
            "image/png": "[encoded data removed]"
          },
          "metadata": {}
        }
      ]
    },
    {
      "cell_type": "code",
      "source": [
        "# property\n",
        "fig_dims = (15, 6)\n",
        "fig, ax = plt.subplots(figsize=fig_dims)\n",
        "sns.countplot(x='property', order=df['property'].value_counts().index, data=df)"
      ],
      "metadata": {
        "colab": {
          "base_uri": "https://localhost:8080/",
          "height": 560
        },
        "id": "9B5Ud1GAfGiB",
        "outputId": "0813fcb0-e12b-4d0d-aa41-4f2afd21ed27"
      },
      "execution_count": null,
      "outputs": [
        {
          "output_type": "execute_result",
          "data": {
            "text/plain": [
              "<Axes: xlabel='property', ylabel='count'>"
            ]
          },
          "metadata": {},
          "execution_count": 458
        },
        {
          "output_type": "display_data",
          "data": {
            "text/plain": [
              "<Figure size 1500x600 with 1 Axes>"
            ],
            "image/png": "[encoded data removed]"
          },
          "metadata": {}
        }
      ]
    },
    {
      "cell_type": "code",
      "source": [
        "# other_installment_plans\n",
        "fig_dims = (8,5)\n",
        "fig, ax = plt.subplots(figsize=fig_dims)\n",
        "sns.countplot(x='other_installment_plans', order=df['other_installment_plans'].value_counts().index, data=df)"
      ],
      "metadata": {
        "colab": {
          "base_uri": "https://localhost:8080/",
          "height": 483
        },
        "id": "krgwfMl7fGfl",
        "outputId": "19265593-9e7d-41b0-e5fd-4d731015ba6e"
      },
      "execution_count": null,
      "outputs": [
        {
          "output_type": "execute_result",
          "data": {
            "text/plain": [
              "<Axes: xlabel='other_installment_plans', ylabel='count'>"
            ]
          },
          "metadata": {},
          "execution_count": 459
        },
        {
          "output_type": "display_data",
          "data": {
            "text/plain": [
              "<Figure size 800x500 with 1 Axes>"
            ],
            "image/png": "[encoded data removed]"
          },
          "metadata": {}
        }
      ]
    },
    {
      "cell_type": "code",
      "source": [
        "# housing\n",
        "fig_dims = (8, 5)\n",
        "fig, ax = plt.subplots(figsize=fig_dims)\n",
        "sns.countplot(x='housing', order=df['housing'].value_counts().index, data=df)"
      ],
      "metadata": {
        "colab": {
          "base_uri": "https://localhost:8080/",
          "height": 483
        },
        "id": "0J3l7QSnfGcz",
        "outputId": "e1877e3d-cf15-45f1-e1a9-1ace847c4fd0"
      },
      "execution_count": null,
      "outputs": [
        {
          "output_type": "execute_result",
          "data": {
            "text/plain": [
              "<Axes: xlabel='housing', ylabel='count'>"
            ]
          },
          "metadata": {},
          "execution_count": 460
        },
        {
          "output_type": "display_data",
          "data": {
            "text/plain": [
              "<Figure size 800x500 with 1 Axes>"
            ],
            "image/png": "[encoded data removed]"
          },
          "metadata": {}
        }
      ]
    },
    {
      "cell_type": "code",
      "source": [
        "# number_credits\n",
        "fig_dims = (8, 5)\n",
        "fig, ax = plt.subplots(figsize=fig_dims)\n",
        "sns.countplot(x='number_credits', order=df['number_credits'].value_counts().index, data=df)"
      ],
      "metadata": {
        "colab": {
          "base_uri": "https://localhost:8080/",
          "height": 483
        },
        "id": "BjCI5hlWfGV4",
        "outputId": "37775e42-c0bf-43a8-8133-9dca81499099"
      },
      "execution_count": null,
      "outputs": [
        {
          "output_type": "execute_result",
          "data": {
            "text/plain": [
              "<Axes: xlabel='number_credits', ylabel='count'>"
            ]
          },
          "metadata": {},
          "execution_count": 461
        },
        {
          "output_type": "display_data",
          "data": {
            "text/plain": [
              "<Figure size 800x500 with 1 Axes>"
            ],
            "image/png": "[encoded data removed]"
          },
          "metadata": {}
        }
      ]
    },
    {
      "cell_type": "code",
      "source": [
        "# job\n",
        "fig_dims = (18, 6)\n",
        "fig, ax = plt.subplots(figsize=fig_dims)\n",
        "sns.countplot(x='job', order=df['job'].value_counts().index, data=df)"
      ],
      "metadata": {
        "colab": {
          "base_uri": "https://localhost:8080/",
          "height": 560
        },
        "id": "nVVq1MaLgISt",
        "outputId": "57f3bfcd-d8c7-465c-9355-a8b2c3bf0cfb"
      },
      "execution_count": null,
      "outputs": [
        {
          "output_type": "execute_result",
          "data": {
            "text/plain": [
              "<Axes: xlabel='job', ylabel='count'>"
            ]
          },
          "metadata": {},
          "execution_count": 462
        },
        {
          "output_type": "display_data",
          "data": {
            "text/plain": [
              "<Figure size 1800x600 with 1 Axes>"
            ],
            "image/png": "[encoded data removed]"
          },
          "metadata": {}
        }
      ]
    },
    {
      "cell_type": "code",
      "source": [
        "# people_liable\n",
        "fig_dims = (8, 5)\n",
        "fig, ax = plt.subplots(figsize=fig_dims)\n",
        "sns.countplot(x='people_liable', order=df['people_liable'].value_counts().index, data=df)"
      ],
      "metadata": {
        "colab": {
          "base_uri": "https://localhost:8080/",
          "height": 483
        },
        "id": "InXQ9J5QgIQW",
        "outputId": "25efb122-5af3-438d-cffb-e6c4e8ffa210"
      },
      "execution_count": null,
      "outputs": [
        {
          "output_type": "execute_result",
          "data": {
            "text/plain": [
              "<Axes: xlabel='people_liable', ylabel='count'>"
            ]
          },
          "metadata": {},
          "execution_count": 463
        },
        {
          "output_type": "display_data",
          "data": {
            "text/plain": [
              "<Figure size 800x500 with 1 Axes>"
            ],
            "image/png": "[encoded data removed]"
          },
          "metadata": {}
        }
      ]
    },
    {
      "cell_type": "code",
      "source": [
        "# telephone\n",
        "fig_dims = (8, 5)\n",
        "fig, ax = plt.subplots(figsize=fig_dims)\n",
        "sns.countplot(x='telephone', order=df['telephone'].value_counts().index, data=df)"
      ],
      "metadata": {
        "colab": {
          "base_uri": "https://localhost:8080/",
          "height": 483
        },
        "id": "Sl3J37WVgINh",
        "outputId": "02c2b48c-3836-44ce-a24b-bda58a9bd776"
      },
      "execution_count": null,
      "outputs": [
        {
          "output_type": "execute_result",
          "data": {
            "text/plain": [
              "<Axes: xlabel='telephone', ylabel='count'>"
            ]
          },
          "metadata": {},
          "execution_count": 464
        },
        {
          "output_type": "display_data",
          "data": {
            "text/plain": [
              "<Figure size 800x500 with 1 Axes>"
            ],
            "image/png": "[encoded data removed]"
          },
          "metadata": {}
        }
      ]
    },
    {
      "cell_type": "code",
      "source": [
        "# foreign_worker\n",
        "fig_dims = (8, 5)\n",
        "fig, ax = plt.subplots(figsize=fig_dims)\n",
        "sns.countplot(x='foreign_worker', order=df['foreign_worker'].value_counts().index, data=df)"
      ],
      "metadata": {
        "colab": {
          "base_uri": "https://localhost:8080/",
          "height": 484
        },
        "id": "_vqDyO5fgIH1",
        "outputId": "6339bdbb-3c19-443b-d19c-10590d30838d"
      },
      "execution_count": null,
      "outputs": [
        {
          "output_type": "execute_result",
          "data": {
            "text/plain": [
              "<Axes: xlabel='foreign_worker', ylabel='count'>"
            ]
          },
          "metadata": {},
          "execution_count": 465
        },
        {
          "output_type": "display_data",
          "data": {
            "text/plain": [
              "<Figure size 800x500 with 1 Axes>"
            ],
            "image/png": "[encoded data removed]"
          },
          "metadata": {}
        }
      ]
    },
    {
      "cell_type": "markdown",
      "source": [
        "\n",
        "### **Describe y explica a continuación las transformaciones que has decidido aplicar a cada columna:**\n",
        "\n",
        "### ++++++++ Inicia la sección de agregar texto: +++++++++++\n",
        "\n",
        "Para las variables numericas se realizara un escalamiento robusto ya que observamos outliers en los datos.\n",
        "\n",
        "Para las variables categoricas se realizara una codificacion ordinal\n",
        "\n",
        "\n",
        "### ++++++++ Termina la sección de agregar texto. +++++++++++\n"
      ],
      "metadata": {
        "id": "_-W1Y9GxiW4Q"
      }
    },
    {
      "cell_type": "markdown",
      "source": [
        "# **Parte II: Modelos de aprendizaje automático con los conjuntos originales de la partición realizada.**"
      ],
      "metadata": {
        "id": "B9i2CrLJs-1m"
      }
    },
    {
      "cell_type": "markdown",
      "source": [
        "## **Ejercicio 6**"
      ],
      "metadata": {
        "id": "UJokj9Diyeu0"
      }
    },
    {
      "cell_type": "code",
      "source": [
        "# Transformaciones que se aplicarán a las variables numéricas usando la clase Pipeline de sklearn:\n",
        "\n",
        "# ************* Inlcuye aquí tu código:*****************************\n",
        "\n",
        "# Variables numéricas:\n",
        "num_pipe = Pipeline(steps = [('robust', RobustScaler())\n",
        "                             ])\n",
        "num_pipe_nombres = numerical_columns\n",
        "\n",
        "\n",
        "# Variables categóricas:\n",
        "cat_pipe = Pipeline(steps = [('ordtrasnf', OrdinalEncoder(handle_unknown='use_encoded_value',unknown_value=-1))])\n",
        "\n",
        "cat_pipe_nombres = categorical_columns\n",
        "\n",
        "\n",
        "# Conjuntemos las transformaciones de todo tipo de variable y en dado caso\n",
        "# deja inaletardas aquellas que hayas decidido no transformar:\n",
        "\n",
        "columnasTransformer = ColumnTransformer(transformers = [('num_transf', num_pipe, num_pipe_nombres),\n",
        "                                                        ('cat_transf', cat_pipe, cat_pipe_nombres)\n",
        "                                                        ],\n",
        "                                        remainder='passthrough')\n",
        "\n",
        "# *********** Aquí termina la sección de agregar código *************\n",
        "\n",
        "\n"
      ],
      "metadata": {
        "id": "NvNYiIp9weCm"
      },
      "execution_count": null,
      "outputs": []
    },
    {
      "cell_type": "markdown",
      "source": [
        "## **Ejercicio 7**"
      ],
      "metadata": {
        "id": "hZxyRbHL0gNF"
      }
    },
    {
      "cell_type": "code",
      "source": [
        "# Como se va a utilizar Validación-Cruzada, concatena los conjuntos de entrenamiento y validación\n",
        "# en uno nuevo aumentado que llamaremos trainval para utilizar como entrenamiento:\n",
        "\n",
        "# ************* Inlcuye aquí tu código:**************************\n",
        "\n",
        "Xtrainval = pd.concat([Xtrain, Xval], axis=0)\n",
        "ytrainval = pd.concat([ytrain, yval], axis=0)\n",
        "\n",
        "# *********** Aquí termina la sección de agregar código *************\n",
        "\n",
        "\n",
        "print(Xtrainval.shape, ytrainval.shape)"
      ],
      "metadata": {
        "id": "d3lqBiH5wd1e",
        "colab": {
          "base_uri": "https://localhost:8080/"
        },
        "outputId": "75db48db-aaa6-49f9-ce80-0be087ca5568"
      },
      "execution_count": null,
      "outputs": [
        {
          "output_type": "stream",
          "name": "stdout",
          "text": [
            "(850, 20) (850,)\n"
          ]
        }
      ]
    },
    {
      "cell_type": "markdown",
      "source": [
        "## **Ejercicio 8**"
      ],
      "metadata": {
        "id": "DyzIjcVAF6Y7"
      }
    },
    {
      "cell_type": "code",
      "source": [
        "# Definimos a continuación la función que llamamos \"mis_modelos\" que incluye\n",
        "# todos los modelos que deseamos comparar en el ejercicio.\n",
        "# Por el momento todas tienen sus argumentos predeterminados, pero deberás\n",
        "# ajustarlos de manera que todos los modelos converjan durante el entrenamiento\n",
        "# y puedas comparar cuál o cuáles de ellos son los mejores modelos.\n",
        "\n",
        "def mis_modelos():\n",
        "  modelos, nombres = list(), list()\n",
        "\n",
        "\n",
        "  # ************* Inlcuye aquí tu código:**************************\n",
        "  #\n",
        "  # Deberás incluir en cada modelo los argumentos que consideres\n",
        "  # adecuados para que cada uno converja. En dado caso una decisión\n",
        "  # puede ser que un modelo tenga simplemente los valores de sus\n",
        "  # hiperparámetros con los predeterminados.\n",
        "  # Consulta en dado caso la documentación de cada modelo para\n",
        "  # la identificación de los hiperparámetros que desees ajustar.\n",
        "\n",
        "  # Regresión Logística:\n",
        "  modelos.append(LogisticRegression(max_iter=1000,\n",
        "                                    C = 0.005,\n",
        "                                    random_state=1\n",
        "                                    ))\n",
        "  nombres.append('LR')\n",
        "\n",
        "\n",
        "\n",
        "  # k-Vecinos Más Cercanos:\n",
        "  modelos.append(KNeighborsClassifier(n_neighbors = 5\n",
        "                                      ))\n",
        "  nombres.append('kNN')\n",
        "\n",
        "\n",
        "\n",
        "  # Árbol de Decisión:\n",
        "  modelos.append(DecisionTreeClassifier(max_depth = None,\n",
        "                                        min_samples_leaf=1,\n",
        "                                        random_state=7\n",
        "                                        ))\n",
        "  nombres.append('DTree')\n",
        "\n",
        "\n",
        "\n",
        "  # Bosque Aleatorio:\n",
        "  modelos.append(RandomForestClassifier(n_estimators= 100,\n",
        "                                        max_depth= None,\n",
        "                                        min_samples_split=5\n",
        "                                        ))\n",
        "  nombres.append('RF')\n",
        "\n",
        "\n",
        "\n",
        "\n",
        "  # XGBoost:\n",
        "\n",
        "  modelos.append(XGBClassifier(booster= 'gbtree',\n",
        "                               n_estimators=100,\n",
        "                               max_depth= 6,\n",
        "                               learning_rate=0.3,\n",
        "                               subsample=1.0,\n",
        "                               objective='binary:logistic'\n",
        "                               n_jobs=-1))\n",
        "  nombres.append('XGBoost')\n",
        "\n",
        "\n",
        "\n",
        "\n",
        "  # Red Neuronal Artificial: Perceptrón MultiCapa:\n",
        "  modelos.append(MLPClassifier(hidden_layer_sizes=(30,),\n",
        "                               activation='logistic',\n",
        "                               max_iter=1000,\n",
        "                               alpha=0.0001\n",
        "                               ))\n",
        "  nombres.append('MLP')\n",
        "\n",
        "\n",
        "\n",
        "  # Máquina de Vector Soporte : Support Vector Machine\n",
        "  modelos.append(SVC(kernel='rbf',\n",
        "                     C= 1.0,\n",
        "                     gamma= 'scale',\n",
        "                     class_weight='balanced'\n",
        "                     ))\n",
        "  nombres.append('SVM')\n",
        "\n",
        "  # *********** Aquí termina la sección de agregar código *************\n",
        "\n",
        "  return modelos, nombres\n",
        "\n",
        "\n",
        "\n",
        "\n",
        "\n",
        "\n",
        "# Entrenemos cada uno de los modelos y desplegamos la métricas de Train y Val.\n",
        "\n",
        "# NOTA: Observa que el método de Validación-Cruzada llama  a los resultados\n",
        "#       de \"validation\" como \"test\":\n",
        "\n",
        "modelos, nombres = mis_modelos()\n",
        "resultados = list()\n",
        "\n",
        "for i in range(len(modelos)):\n",
        "\n",
        "  # Definimos nuestro pipeline con las transformaciones y los modelos:\n",
        "  pipeline = Pipeline(steps=[('ct',columnasTransformer),('m',modelos[i])])\n",
        "\n",
        "  # Aplicaremos validación-cruzada:\n",
        "  micv = RepeatedStratifiedKFold(n_splits=5, n_repeats=3)\n",
        "\n",
        "  # Definimos las métricas que desamos recuperar:\n",
        "  mismetricas = {'accuracy','precision','recall','f1','roc_auc'}\n",
        "\n",
        "  # Llevamos a cabo el entrenamiento:\n",
        "  scores = cross_validate(pipeline,\n",
        "                          Xtrainval,\n",
        "                          ytrainval,\n",
        "                          scoring=mismetricas,\n",
        "                          cv=micv,\n",
        "                          return_train_score=True,\n",
        "                          )\n",
        "\n",
        "  # Guardemos el resultado de cada modelopara análisis posteriores.\n",
        "  resultados.append(scores)\n",
        "\n",
        "  # Desplegamos los valores de las métricas para verificar si no hay\n",
        "  # subentrenamiento o sobreentrenamiento:\n",
        "  print('>> %s' % nombres[i])\n",
        "  for j,k in enumerate(list(scores.keys())):\n",
        "    if j>1:\n",
        "      print('\\t %s %.3f (%.3f)' % (k, np.mean(scores[k]),np.std(scores[k])))"
      ],
      "metadata": {
        "id": "0hdi7AAtwd5G",
        "colab": {
          "base_uri": "https://localhost:8080/"
        },
        "outputId": "8698282a-fdd4-4dd0-bd07-6471f5055844"
      },
      "execution_count": null,
      "outputs": [
        {
          "output_type": "stream",
          "name": "stdout",
          "text": [
            ">> LR\n",
            "\t test_f1 0.150 (0.049)\n",
            "\t train_f1 0.164 (0.024)\n",
            "\t test_recall 0.084 (0.032)\n",
            "\t train_recall 0.091 (0.015)\n",
            "\t test_roc_auc 0.743 (0.020)\n",
            "\t train_roc_auc 0.767 (0.005)\n",
            "\t test_accuracy 0.733 (0.007)\n",
            "\t train_accuracy 0.736 (0.004)\n",
            "\t test_precision 0.854 (0.151)\n",
            "\t train_precision 0.856 (0.035)\n",
            ">> kNN\n",
            "\t test_f1 0.343 (0.053)\n",
            "\t train_f1 0.526 (0.017)\n",
            "\t test_recall 0.268 (0.050)\n",
            "\t train_recall 0.418 (0.018)\n",
            "\t test_roc_auc 0.645 (0.035)\n",
            "\t train_roc_auc 0.841 (0.005)\n",
            "\t test_accuracy 0.709 (0.019)\n",
            "\t train_accuracy 0.784 (0.007)\n",
            "\t test_precision 0.486 (0.061)\n",
            "\t train_precision 0.707 (0.024)\n",
            ">> DTree\n",
            "\t test_f1 0.453 (0.083)\n",
            "\t train_f1 1.000 (0.000)\n",
            "\t test_recall 0.461 (0.104)\n",
            "\t train_recall 1.000 (0.000)\n",
            "\t test_roc_auc 0.618 (0.055)\n",
            "\t train_roc_auc 1.000 (0.000)\n",
            "\t test_accuracy 0.686 (0.041)\n",
            "\t train_accuracy 1.000 (0.000)\n",
            "\t test_precision 0.450 (0.070)\n",
            "\t train_precision 1.000 (0.000)\n",
            ">> RF\n",
            "\t test_f1 0.428 (0.065)\n",
            "\t train_f1 0.972 (0.007)\n",
            "\t test_recall 0.318 (0.066)\n",
            "\t train_recall 0.948 (0.014)\n",
            "\t test_roc_auc 0.767 (0.033)\n",
            "\t train_roc_auc 1.000 (0.000)\n",
            "\t test_accuracy 0.760 (0.020)\n",
            "\t train_accuracy 0.985 (0.004)\n",
            "\t test_precision 0.677 (0.088)\n",
            "\t train_precision 0.999 (0.002)\n",
            ">> XGBoost\n",
            "\t test_f1 0.492 (0.055)\n",
            "\t train_f1 1.000 (0.000)\n",
            "\t test_recall 0.439 (0.068)\n",
            "\t train_recall 1.000 (0.000)\n",
            "\t test_roc_auc 0.762 (0.039)\n",
            "\t train_roc_auc 1.000 (0.000)\n",
            "\t test_accuracy 0.743 (0.030)\n",
            "\t train_accuracy 1.000 (0.000)\n",
            "\t test_precision 0.570 (0.064)\n",
            "\t train_precision 1.000 (0.000)\n"
          ]
        },
        {
          "output_type": "stream",
          "name": "stderr",
          "text": [
            "/usr/local/lib/python3.10/dist-packages/sklearn/neural_network/_multilayer_perceptron.py:686: ConvergenceWarning: Stochastic Optimizer: Maximum iterations (1000) reached and the optimization hasn't converged yet.\n",
            "  warnings.warn(\n",
            "/usr/local/lib/python3.10/dist-packages/sklearn/neural_network/_multilayer_perceptron.py:686: ConvergenceWarning: Stochastic Optimizer: Maximum iterations (1000) reached and the optimization hasn't converged yet.\n",
            "  warnings.warn(\n",
            "/usr/local/lib/python3.10/dist-packages/sklearn/neural_network/_multilayer_perceptron.py:686: ConvergenceWarning: Stochastic Optimizer: Maximum iterations (1000) reached and the optimization hasn't converged yet.\n",
            "  warnings.warn(\n",
            "/usr/local/lib/python3.10/dist-packages/sklearn/neural_network/_multilayer_perceptron.py:686: ConvergenceWarning: Stochastic Optimizer: Maximum iterations (1000) reached and the optimization hasn't converged yet.\n",
            "  warnings.warn(\n",
            "/usr/local/lib/python3.10/dist-packages/sklearn/neural_network/_multilayer_perceptron.py:686: ConvergenceWarning: Stochastic Optimizer: Maximum iterations (1000) reached and the optimization hasn't converged yet.\n",
            "  warnings.warn(\n",
            "/usr/local/lib/python3.10/dist-packages/sklearn/neural_network/_multilayer_perceptron.py:686: ConvergenceWarning: Stochastic Optimizer: Maximum iterations (1000) reached and the optimization hasn't converged yet.\n",
            "  warnings.warn(\n",
            "/usr/local/lib/python3.10/dist-packages/sklearn/neural_network/_multilayer_perceptron.py:686: ConvergenceWarning: Stochastic Optimizer: Maximum iterations (1000) reached and the optimization hasn't converged yet.\n",
            "  warnings.warn(\n",
            "/usr/local/lib/python3.10/dist-packages/sklearn/neural_network/_multilayer_perceptron.py:686: ConvergenceWarning: Stochastic Optimizer: Maximum iterations (1000) reached and the optimization hasn't converged yet.\n",
            "  warnings.warn(\n",
            "/usr/local/lib/python3.10/dist-packages/sklearn/neural_network/_multilayer_perceptron.py:686: ConvergenceWarning: Stochastic Optimizer: Maximum iterations (1000) reached and the optimization hasn't converged yet.\n",
            "  warnings.warn(\n",
            "/usr/local/lib/python3.10/dist-packages/sklearn/neural_network/_multilayer_perceptron.py:686: ConvergenceWarning: Stochastic Optimizer: Maximum iterations (1000) reached and the optimization hasn't converged yet.\n",
            "  warnings.warn(\n",
            "/usr/local/lib/python3.10/dist-packages/sklearn/neural_network/_multilayer_perceptron.py:686: ConvergenceWarning: Stochastic Optimizer: Maximum iterations (1000) reached and the optimization hasn't converged yet.\n",
            "  warnings.warn(\n",
            "/usr/local/lib/python3.10/dist-packages/sklearn/neural_network/_multilayer_perceptron.py:686: ConvergenceWarning: Stochastic Optimizer: Maximum iterations (1000) reached and the optimization hasn't converged yet.\n",
            "  warnings.warn(\n",
            "/usr/local/lib/python3.10/dist-packages/sklearn/neural_network/_multilayer_perceptron.py:686: ConvergenceWarning: Stochastic Optimizer: Maximum iterations (1000) reached and the optimization hasn't converged yet.\n",
            "  warnings.warn(\n",
            "/usr/local/lib/python3.10/dist-packages/sklearn/neural_network/_multilayer_perceptron.py:686: ConvergenceWarning: Stochastic Optimizer: Maximum iterations (1000) reached and the optimization hasn't converged yet.\n",
            "  warnings.warn(\n",
            "/usr/local/lib/python3.10/dist-packages/sklearn/neural_network/_multilayer_perceptron.py:686: ConvergenceWarning: Stochastic Optimizer: Maximum iterations (1000) reached and the optimization hasn't converged yet.\n",
            "  warnings.warn(\n"
          ]
        },
        {
          "output_type": "stream",
          "name": "stdout",
          "text": [
            ">> MLP\n",
            "\t test_f1 0.478 (0.060)\n",
            "\t train_f1 0.657 (0.019)\n",
            "\t test_recall 0.415 (0.066)\n",
            "\t train_recall 0.570 (0.029)\n",
            "\t test_roc_auc 0.735 (0.036)\n",
            "\t train_roc_auc 0.887 (0.011)\n",
            "\t test_accuracy 0.742 (0.025)\n",
            "\t train_accuracy 0.830 (0.006)\n",
            "\t test_precision 0.569 (0.065)\n",
            "\t train_precision 0.776 (0.009)\n",
            ">> SVM\n",
            "\t test_f1 0.564 (0.049)\n",
            "\t train_f1 0.661 (0.010)\n",
            "\t test_recall 0.654 (0.081)\n",
            "\t train_recall 0.762 (0.017)\n",
            "\t test_roc_auc 0.750 (0.037)\n",
            "\t train_roc_auc 0.854 (0.007)\n",
            "\t test_accuracy 0.712 (0.031)\n",
            "\t train_accuracy 0.777 (0.008)\n",
            "\t test_precision 0.498 (0.041)\n",
            "\t train_precision 0.584 (0.013)\n"
          ]
        }
      ]
    },
    {
      "cell_type": "markdown",
      "source": [
        "## **Ejercicio 9**"
      ],
      "metadata": {
        "id": "CGRvZ5QmBU5P"
      }
    },
    {
      "cell_type": "markdown",
      "source": [
        "### **De acuerdo a la información de la matriz de costo dada en la documentación del problema, contesta las siguientes preguntas:**\n",
        "\n",
        "### ++++++++ Inicia la sección de agregar texto: +++++++++++\n",
        "\n",
        "a.   ¿Qué error se considera más costoso por parte del banco? ¿FP o FN? Justifica tu respuesta.\n",
        "Considero que seria mas costoso un FN ya que predecir incorrectamente que un cliente es bueno para el crédito cuando en realidad no lo es significaria una pérdida financiera por incumplimiento del cliente, esto ya que inicialmente se cambiaron las metricas de los clientes.\n",
        "\n",
        "b.   ¿Cuál o cuál serían entonces las métricas a considerar como más importantes? Justifica tu respuesta.\n",
        "\n",
        "Especificidad:\n",
        "Si el banco quiere minimizar los casos de \"malos clientes\" que son aprobados erróneamente, priorizaría Especificidad. Esto ayuda a garantizar que los clientes identificados como buenos pagadores realmente lo sean.\n",
        "\n",
        "Precisión:\n",
        "Si el banco busca maximizar la precisión de las aprobaciones de crédito y está más preocupado por evitar otorgar créditos a clientes de alto riesgo, priorizaría la Precisión.\n",
        "\n",
        "Exactitud:\n",
        "Consideración: La exactitud es importante, pero en casos de desbalance de clases, puede no ser la métrica más informativa, ya que puede ser alta incluso si hay un buen rendimiento solo en la clase mayoritaria.\n",
        "\n",
        "c.   Investiga qué otras métricas se pudieran considerar, de la gran familia de métricas que existen.\n",
        "\n",
        "F1 Score: La media armónica de Precision y Recall, útil cuando hay desbalance entre clases.\n",
        "\n",
        "Especificidad (Tasa de Verdaderos Negativos): La proporción de verdaderos negativos sobre el total de casos negativos reales.\n",
        "\n",
        "Área bajo la Curva ROC (AUC-ROC): Representa la capacidad del modelo para distinguir entre clases. Cuanto mayor, mejor.\n",
        "\n",
        "Índice de Youden: La suma de Sensibilidad y Especificidad menos uno. Ayuda a encontrar el mejor equilibrio entre Sensibilidad y Especificidad.\n",
        "\n",
        "Log Loss (Pérdida Logarítmica): Evalúa la probabilidad asociada con las predicciones. Menor log loss es mejor.\n",
        "\n",
        "Cohen's Kappa: Mide la concordancia entre las predicciones del modelo y las clases reales, teniendo en cuenta la probabilidad del acuerdo por azar.\n",
        "\n",
        "### ++++++++ Termina la sección de agregar texto. +++++++++++\n"
      ],
      "metadata": {
        "id": "5MeXfRLyIOLa"
      }
    },
    {
      "cell_type": "markdown",
      "source": [
        "## **Ejercicio 10**"
      ],
      "metadata": {
        "id": "4JkGo57zMXqn"
      }
    },
    {
      "cell_type": "code",
      "source": [
        "# Obtener un diagrama de caja y bigotes (boxplot) múltiple de todos los modelos,\n",
        "# utilizando los resultados obtenidos con la métrica que consideraste más importante\n",
        "# en el ejercicio anterior:\n",
        "\n",
        "\n",
        "# ************* Inlcuye aquí tu código:**************************\n",
        "\n",
        "tmp = [resultados[j]['test_precision'] for j in range(len(resultados)) ]\n",
        "\n",
        "plt.boxplot(tmp, labels=nombres, showmeans=True)\n",
        "plt.show()\n",
        "\n",
        "# *********** Aquí termina la sección de agregar código *************\n"
      ],
      "metadata": {
        "id": "DsV2wzymwdyV",
        "colab": {
          "base_uri": "https://localhost:8080/",
          "height": 430
        },
        "outputId": "7e2a4661-710b-4c0b-b0bf-a69c78d15c14"
      },
      "execution_count": null,
      "outputs": [
        {
          "output_type": "display_data",
          "data": {
            "text/plain": [
              "<Figure size 640x480 with 1 Axes>"
            ],
            "image/png": "[encoded data removed]"
          },
          "metadata": {}
        }
      ]
    },
    {
      "cell_type": "markdown",
      "source": [
        "# **Parte III: Modelos con técnicas para clases no balanceadas.**"
      ],
      "metadata": {
        "id": "TPOqRS7pNCNH"
      }
    },
    {
      "cell_type": "markdown",
      "source": [
        "## **Ejercicio 11**"
      ],
      "metadata": {
        "id": "HowUdsf7MqIJ"
      }
    },
    {
      "cell_type": "code",
      "source": [
        "# Selecciona una técnica de sobremuestreo, submuestreo o sobremuestreo+submuestreo para\n",
        "# clases no balanceadas que consideres adecuada, en combinación con los tres mejores modelos\n",
        "# de la Parte II, para entrenar y desplegar todas las métricas que se desplegaron en la Parte II.\n",
        "\n",
        "# ************* Inlcuye aquí tu código:**************************\n",
        "from imblearn.over_sampling import RandomOverSampler\n",
        "from imblearn.pipeline import Pipeline as ImbPipeline\n",
        "\n",
        "def mis_modelos():\n",
        "  modelos, nombres = list(), list()\n",
        "\n",
        "\n",
        "  # Árbol de Decisión con Sobremuestreo:\n",
        "  modelos.append(ImbPipeline([\n",
        "      ('oversampler', RandomOverSampler(sampling_strategy='minority')),\n",
        "      ('classifier', DecisionTreeClassifier(max_depth=None, min_samples_leaf=1, random_state=7))\n",
        "  ]))\n",
        "  nombres.append('DTree_Oversampled')\n",
        "\n",
        "  # Bosque Aleatorio con Sobremuestreo:\n",
        "  modelos.append(ImbPipeline([\n",
        "      ('oversampler', RandomOverSampler(sampling_strategy='minority')),\n",
        "      ('classifier', RandomForestClassifier(n_estimators=100, max_depth=None, min_samples_split=5))\n",
        "  ]))\n",
        "  nombres.append('RF_Oversampled')\n",
        "\n",
        "  # XGBoost con Sobremuestreo:\n",
        "  modelos.append(ImbPipeline([\n",
        "      ('oversampler', RandomOverSampler(sampling_strategy='minority')),\n",
        "      ('classifier', XGBClassifier(booster='gbtree', n_estimators=100, max_depth=6, learning_rate=0.3,\n",
        "                                    subsample=1.0, objective='binary:logistic', n_jobs=-1))\n",
        "  ]))\n",
        "  nombres.append('XGBoost_Oversampled')\n",
        "\n",
        "#SVM con Sobremuestreo\n",
        "  modelos.append(ImbPipeline([\n",
        "      ('oversampler', RandomOverSampler(sampling_strategy='minority')),\n",
        "      ('classifier', SVC(kernel='rbf',\n",
        "                     C= 1.0,\n",
        "                     gamma= 'scale',\n",
        "                     class_weight='balanced'\n",
        "                     ))\n",
        "  ]))\n",
        "  nombres.append('SVM_Undersampled')\n",
        "\n",
        "\n",
        "  return modelos, nombres\n",
        "\n",
        "\n",
        "modelos, nombres = mis_modelos()\n",
        "resultados = list()\n",
        "\n",
        "for i in range(len(modelos)):\n",
        "\n",
        "  # Definimos nuestro pipeline con las transformaciones y los modelos:\n",
        "  pipeline = Pipeline(steps=[('ct',columnasTransformer),('m',modelos[i])])\n",
        "\n",
        "  # Aplicaremos validación-cruzada:\n",
        "  micv = RepeatedStratifiedKFold(n_splits=5, n_repeats=3)\n",
        "\n",
        "  # Definimos las métricas que desamos recuperar:\n",
        "  mismetricas = {'accuracy','precision','recall','f1','roc_auc'}\n",
        "\n",
        "  # Llevamos a cabo el entrenamiento:\n",
        "  scores = cross_validate(pipeline,\n",
        "                          Xtrainval,\n",
        "                          ytrainval,\n",
        "                          scoring=mismetricas,\n",
        "                          cv=micv,\n",
        "                          return_train_score=True,\n",
        "                          )\n",
        "\n",
        "  # Guardemos el resultado de cada modelopara análisis posteriores.\n",
        "  resultados.append(scores)\n",
        "\n",
        "  # Desplegamos los valores de las métricas para verificar si no hay\n",
        "  # subentrenamiento o sobreentrenamiento:\n",
        "  print('>> %s' % nombres[i])\n",
        "  for j,k in enumerate(list(scores.keys())):\n",
        "    if j>1:\n",
        "      print('\\t %s %.3f (%.3f)' % (k, np.mean(scores[k]),np.std(scores[k])))\n",
        "\n",
        "\n",
        "# *********** Aquí termina la sección de agregar código *************"
      ],
      "metadata": {
        "id": "qPGAAAa-Mqr3",
        "colab": {
          "base_uri": "https://localhost:8080/"
        },
        "outputId": "c9ad9984-0157-41ac-e0f2-143ef41e8e10"
      },
      "execution_count": null,
      "outputs": [
        {
          "output_type": "stream",
          "name": "stdout",
          "text": [
            ">> DTree_Oversampled\n",
            "\t test_f1 0.446 (0.061)\n",
            "\t train_f1 1.000 (0.000)\n",
            "\t test_recall 0.452 (0.079)\n",
            "\t train_recall 1.000 (0.000)\n",
            "\t test_roc_auc 0.613 (0.041)\n",
            "\t train_roc_auc 1.000 (0.000)\n",
            "\t test_accuracy 0.682 (0.030)\n",
            "\t train_accuracy 1.000 (0.000)\n",
            "\t test_precision 0.443 (0.055)\n",
            "\t train_precision 1.000 (0.000)\n",
            ">> RF_Oversampled\n",
            "\t test_f1 0.525 (0.053)\n",
            "\t train_f1 0.994 (0.003)\n",
            "\t test_recall 0.472 (0.073)\n",
            "\t train_recall 0.991 (0.006)\n",
            "\t test_roc_auc 0.769 (0.037)\n",
            "\t train_roc_auc 1.000 (0.000)\n",
            "\t test_accuracy 0.758 (0.023)\n",
            "\t train_accuracy 0.996 (0.002)\n",
            "\t test_precision 0.601 (0.058)\n",
            "\t train_precision 0.997 (0.004)\n",
            ">> XGBoost_Oversampled\n",
            "\t test_f1 0.518 (0.065)\n",
            "\t train_f1 1.000 (0.000)\n",
            "\t test_recall 0.479 (0.083)\n",
            "\t train_recall 1.000 (0.000)\n",
            "\t test_roc_auc 0.763 (0.026)\n",
            "\t train_roc_auc 1.000 (0.000)\n",
            "\t test_accuracy 0.748 (0.026)\n",
            "\t train_accuracy 1.000 (0.000)\n",
            "\t test_precision 0.572 (0.059)\n",
            "\t train_precision 1.000 (0.000)\n",
            ">> SVM_Undersampled\n",
            "\t test_f1 0.571 (0.057)\n",
            "\t train_f1 0.676 (0.019)\n",
            "\t test_recall 0.649 (0.061)\n",
            "\t train_recall 0.764 (0.025)\n",
            "\t test_roc_auc 0.741 (0.048)\n",
            "\t train_roc_auc 0.865 (0.007)\n",
            "\t test_accuracy 0.720 (0.043)\n",
            "\t train_accuracy 0.791 (0.013)\n",
            "\t test_precision 0.512 (0.067)\n",
            "\t train_precision 0.607 (0.020)\n"
          ]
        }
      ]
    },
    {
      "cell_type": "code",
      "source": [
        "from imblearn.under_sampling import RandomUnderSampler\n",
        "from imblearn.pipeline import Pipeline as ImbPipeline\n",
        "\n",
        "def mis_modelos():\n",
        "  modelos, nombres = list(), list()\n",
        "\n",
        "\n",
        "  # Árbol de Decisión con Submuestreo:\n",
        "  modelos.append(ImbPipeline([\n",
        "      ('undersampler', RandomUnderSampler(sampling_strategy='majority')),\n",
        "      ('classifier', DecisionTreeClassifier(max_depth=None, min_samples_leaf=1, random_state=7))\n",
        "  ]))\n",
        "  nombres.append('DTree_Undersampled')\n",
        "\n",
        "  # Bosque Aleatorio con Submuestreo:\n",
        "  modelos.append(ImbPipeline([\n",
        "      ('undersampler', RandomUnderSampler(sampling_strategy='majority')),\n",
        "      ('classifier', RandomForestClassifier(n_estimators=100, max_depth=None, min_samples_split=5))\n",
        "  ]))\n",
        "  nombres.append('RF_Undersampled')\n",
        "\n",
        "  # XGBoost con Submuestreo:\n",
        "  modelos.append(ImbPipeline([\n",
        "      ('undersampler', RandomUnderSampler(sampling_strategy='majority')),\n",
        "      ('classifier', XGBClassifier(booster='gbtree', n_estimators=100, max_depth=6, learning_rate=0.3,\n",
        "                                    subsample=1.0, objective='binary:logistic', n_jobs=-1))\n",
        "  ]))\n",
        "  nombres.append('XGBoost_Undersampled')\n",
        "\n",
        "  # XGBoost con Submuestreo:\n",
        "  modelos.append(ImbPipeline([\n",
        "      ('oversampler', RandomOverSampler(sampling_strategy='minority')),\n",
        "      ('classifier', SVC(kernel='rbf',\n",
        "                     C= 1.0,      # 1.0, 0.00001, 1000           # inversamente proporcional a la constante de regularización L2.\n",
        "                     gamma= 'scale',           # scale,  0.005\n",
        "                     class_weight='balanced',     # Siempre puedes hacer uso del balanceo en caso de que ayude.\n",
        "                     #random_state=7\n",
        "                     ))\n",
        "  ]))\n",
        "  nombres.append('SVM__Undersampled')\n",
        "\n",
        "  return modelos, nombres\n",
        "\n",
        "\n",
        "modelos, nombres = mis_modelos()\n",
        "resultados = list()\n",
        "\n",
        "for i in range(len(modelos)):\n",
        "\n",
        "  # Definimos nuestro pipeline con las transformaciones y los modelos:\n",
        "  pipeline = Pipeline(steps=[('ct',columnasTransformer),('m',modelos[i])])\n",
        "\n",
        "  # Aplicaremos validación-cruzada:\n",
        "  micv = RepeatedStratifiedKFold(n_splits=5, n_repeats=3)\n",
        "\n",
        "  # Definimos las métricas que desamos recuperar:\n",
        "  mismetricas = {'accuracy','precision','recall','f1','roc_auc'}\n",
        "\n",
        "  # Llevamos a cabo el entrenamiento:\n",
        "  scores = cross_validate(pipeline,\n",
        "                          Xtrainval,\n",
        "                          ytrainval,\n",
        "                          scoring=mismetricas,\n",
        "                          cv=micv,\n",
        "                          return_train_score=True,\n",
        "                          )\n",
        "\n",
        "  # Guardemos el resultado de cada modelopara análisis posteriores.\n",
        "  resultados.append(scores)\n",
        "\n",
        "  # Desplegamos los valores de las métricas para verificar si no hay\n",
        "  # subentrenamiento o sobreentrenamiento:\n",
        "  print('>> %s' % nombres[i])\n",
        "  for j,k in enumerate(list(scores.keys())):\n",
        "    if j>1:\n",
        "      print('\\t %s %.3f (%.3f)' % (k, np.mean(scores[k]),np.std(scores[k])))\n"
      ],
      "metadata": {
        "colab": {
          "base_uri": "https://localhost:8080/"
        },
        "id": "KwBOWsT9MsDz",
        "outputId": "e2376358-e0fe-4da3-8e9a-6bee72f32868"
      },
      "execution_count": null,
      "outputs": [
        {
          "output_type": "stream",
          "name": "stdout",
          "text": [
            ">> DTree_Undersampled\n",
            "\t test_f1 0.485 (0.030)\n",
            "\t train_f1 0.774 (0.015)\n",
            "\t test_recall 0.630 (0.063)\n",
            "\t train_recall 1.000 (0.000)\n",
            "\t test_roc_auc 0.622 (0.026)\n",
            "\t train_roc_auc 0.883 (0.010)\n",
            "\t test_accuracy 0.619 (0.028)\n",
            "\t train_accuracy 0.833 (0.015)\n",
            "\t test_precision 0.397 (0.025)\n",
            "\t train_precision 0.632 (0.021)\n",
            ">> RF_Undersampled\n",
            "\t test_f1 0.559 (0.050)\n",
            "\t train_f1 0.808 (0.018)\n",
            "\t test_recall 0.686 (0.068)\n",
            "\t train_recall 0.993 (0.004)\n",
            "\t test_roc_auc 0.758 (0.037)\n",
            "\t train_roc_auc 0.974 (0.005)\n",
            "\t test_accuracy 0.690 (0.041)\n",
            "\t train_accuracy 0.864 (0.016)\n",
            "\t test_precision 0.474 (0.049)\n",
            "\t train_precision 0.681 (0.025)\n",
            ">> XGBoost_Undersampled\n",
            "\t test_f1 0.546 (0.044)\n",
            "\t train_f1 0.809 (0.013)\n",
            "\t test_recall 0.674 (0.057)\n",
            "\t train_recall 1.000 (0.000)\n",
            "\t test_roc_auc 0.742 (0.036)\n",
            "\t train_roc_auc 0.970 (0.007)\n",
            "\t test_accuracy 0.679 (0.037)\n",
            "\t train_accuracy 0.865 (0.012)\n",
            "\t test_precision 0.461 (0.045)\n",
            "\t train_precision 0.680 (0.019)\n",
            ">> SVM__Undersampled\n",
            "\t test_f1 0.575 (0.046)\n",
            "\t train_f1 0.680 (0.012)\n",
            "\t test_recall 0.646 (0.053)\n",
            "\t train_recall 0.772 (0.020)\n",
            "\t test_roc_auc 0.743 (0.040)\n",
            "\t train_roc_auc 0.864 (0.008)\n",
            "\t test_accuracy 0.726 (0.034)\n",
            "\t train_accuracy 0.792 (0.008)\n",
            "\t test_precision 0.519 (0.049)\n",
            "\t train_precision 0.608 (0.013)\n"
          ]
        }
      ]
    },
    {
      "cell_type": "markdown",
      "source": [
        "# **Parte IV: Mejor modelo**"
      ],
      "metadata": {
        "id": "hDV5EpEIRsy4"
      }
    },
    {
      "cell_type": "markdown",
      "source": [
        "## **Ejercicio 12**"
      ],
      "metadata": {
        "id": "PORgZ7b_WTq-"
      }
    },
    {
      "cell_type": "markdown",
      "source": [
        "### **Selecciona y justifica cuál consideras es el mejor modelo que has obtenido hasta ahora.**\n",
        "\n",
        "### ++++++++ Inicia la sección de agregar texto: +++++++++++\n",
        "\n",
        "Considero que la metrica mas importante es la precision y despues de todo el proceso el modelo que me trae una mejor presicion es la SVG con un 80% sobre la clase negativa\n",
        "\n",
        "### ++++++++ Termina la sección de agregar texto. +++++++++++\n"
      ],
      "metadata": {
        "id": "FBSVeSgfWSgn"
      }
    },
    {
      "cell_type": "markdown",
      "source": [
        "## **Ejercicio 13**"
      ],
      "metadata": {
        "id": "slDkvQ37Wtst"
      }
    },
    {
      "cell_type": "code",
      "source": [
        "# Con dicho mejor modelo y utilizando la técnica de validación cruzada, busca\n",
        "# los mejores hiperparámetros de dicho modelo y despliega todas las métricas que\n",
        "#se han estado desplegando. Verifica que tu modelo no esté sobreentrenado e indica\n",
        "# cuáles son los mejores valores obtenidos de los hiperparámetros.\n",
        "\n",
        "\n",
        "# ************* Inlcuye aquí tu código:**************************\n",
        "\n",
        "from sklearn.pipeline import Pipeline\n",
        "from sklearn.model_selection import GridSearchCV\n",
        "from sklearn.svm import SVC\n",
        "from sklearn.impute import SimpleImputer\n",
        "from sklearn.preprocessing import StandardScaler\n",
        "from sklearn.compose import ColumnTransformer\n",
        "\n",
        "\n",
        "# Crea el modelo SVC\n",
        "modelo_svc = SVC(random_state=7)\n",
        "\n",
        "# Crea el pipeline con el transformador y el modelo\n",
        "pipeline = Pipeline([\n",
        "    ('transformador', columnasTransformer),\n",
        "    ('svc', modelo_svc)\n",
        "])\n",
        "\n",
        "# Define los parámetros para la búsqueda en cuadrícula\n",
        "param_grid = {\n",
        "    'svc__C': [0.001, 0.01, 0.1, 1, 10, 100],\n",
        "    'svc__gamma': ['scale', 'auto', 0.001, 0.01, 0.1, 1],\n",
        "    'svc__kernel': ['linear', 'rbf', 'poly'],\n",
        "    'svc__class_weight': [None, 'balanced']\n",
        "}\n",
        "\n",
        "# Configura GridSearchCV con el pipeline, los parámetros y la métrica que deseas optimizar\n",
        "grid_search = GridSearchCV(pipeline, param_grid, scoring='roc_auc', cv=5, n_jobs=-1)\n",
        "\n",
        "# Ajusta el modelo a los datos\n",
        "grid_search.fit(Xtrainval, ytrainval)\n",
        "\n",
        "# Obtiene los mejores hiperparámetros\n",
        "best_params = grid_search.best_params_\n",
        "\n",
        "# Obtiene el mejor modelo\n",
        "best_model = grid_search.best_estimator_\n",
        "\n",
        "# Imprime los mejores hiperparámetros\n",
        "print(\"Mejores Hiperparámetros:\", best_params)\n",
        "\n",
        "\n",
        "\n",
        "\n",
        "# *********** Aquí termina la sección de agregar código *************\n"
      ],
      "metadata": {
        "id": "vMsvBtyaRwiA",
        "colab": {
          "base_uri": "https://localhost:8080/"
        },
        "outputId": "f2dc1efd-ca1b-4de4-aa72-a8c0f8f065fe"
      },
      "execution_count": null,
      "outputs": [
        {
          "output_type": "stream",
          "name": "stdout",
          "text": [
            "Mejores Hiperparámetros: {'svc__C': 1, 'svc__class_weight': 'balanced', 'svc__gamma': 0.01, 'svc__kernel': 'rbf'}\n"
          ]
        }
      ]
    },
    {
      "cell_type": "markdown",
      "source": [
        "## **Ejercicio 14**"
      ],
      "metadata": {
        "id": "tTVcDuaUXG5N"
      }
    },
    {
      "cell_type": "code",
      "source": [
        "# 14.\tCon el mejor modelo y los mejores hiperparámetros encontrados en el ejercicio anterior,\n",
        "# utiliza ahora (por primera vez en la actividad) el conjunto de prueba (test set) para:\n",
        "\n",
        "# a.\tObtener los valores de todas las métricas que se han estado desplegando.\n",
        "\n",
        "\n",
        "# ************* Inlcuye aquí tu código:**************************\n",
        "yhat_best = best_model.predict(Xtest)\n",
        "\n",
        "print(classification_report(ytest, yhat_best))\n",
        "print('Métrica-ROC-Test:', np.round(roc_auc_score(ytest, yhat_best), 2))\n",
        "\n",
        "# *********** Aquí termina la sección de agregar código *************\n"
      ],
      "metadata": {
        "id": "ZRZUVESUXQhY",
        "colab": {
          "base_uri": "https://localhost:8080/"
        },
        "outputId": "05619a2c-a769-4035-aa57-639fb4f07c13"
      },
      "execution_count": null,
      "outputs": [
        {
          "metadata": {
            "tags": null
          },
          "name": "stdout",
          "output_type": "stream",
          "text": [
            "              precision    recall  f1-score   support\n",
            "\n",
            "           0       0.81      0.75      0.78        93\n",
            "           1       0.64      0.72      0.68        57\n",
            "\n",
            "    accuracy                           0.74       150\n",
            "   macro avg       0.73      0.74      0.73       150\n",
            "weighted avg       0.75      0.74      0.74       150\n",
            "\n",
            "Métrica-ROC-Test: 0.74\n"
          ]
        }
      ]
    },
    {
      "cell_type": "code",
      "source": [
        "# b.\tObtener la matriz de confusión.\n",
        "\n",
        "# ************* Inlcuye aquí tu código:**************************\n",
        "\n",
        "from sklearn.metrics import confusion_matrix\n",
        "\n",
        "# Obtén la matriz de confusión para el conjunto de prueba\n",
        "matriz_confusion = confusion_matrix(ytest, yhat_best)\n",
        "\n",
        "# Imprime la matriz de confusión\n",
        "print(\"Matriz de Confusión:\")\n",
        "print(matriz_confusion)\n",
        "\n",
        "# *********** Aquí termina la sección de agregar código *************"
      ],
      "metadata": {
        "id": "lBd-VuoAXZZX",
        "colab": {
          "base_uri": "https://localhost:8080/"
        },
        "outputId": "206eb48f-5916-475d-8df5-33554ced06a5"
      },
      "execution_count": null,
      "outputs": [
        {
          "output_type": "stream",
          "name": "stdout",
          "text": [
            "Matriz de Confusión:\n",
            "[[70 23]\n",
            " [16 41]]\n"
          ]
        }
      ]
    },
    {
      "cell_type": "code",
      "source": [
        "# c.\tRealiza un análisis de importancia de variables (feature importance) de este\n",
        "# mejor modelo con el conjunto de prueba (test) e incluye tus conclusiones al respecto.\n",
        "\n",
        "# ************* Inlcuye aquí tu código:**************************\n",
        "\n",
        "from sklearn.inspection import permutation_importance\n",
        "\n",
        "# Calcula la importancia de las variables mediante permutación\n",
        "resultados_permutacion = permutation_importance(best_model, Xtest, ytest, n_repeats=10, random_state=0)\n",
        "\n",
        "# Obtén la importancia promedio de las variables\n",
        "importancia_variables = resultados_permutacion.importances_mean\n",
        "\n",
        "# Crea un DataFrame para visualizar las importancias de las variables\n",
        "import pandas as pd\n",
        "df_importancia = pd.DataFrame({'Variable': Xtest.columns, 'Importancia': importancia_variables})\n",
        "df_importancia = df_importancia.sort_values(by='Importancia', ascending=False)\n",
        "\n",
        "# Imprime el DataFrame con la importancia de las variables\n",
        "print(\"Importancia de Variables:\")\n",
        "print(df_importancia)\n",
        "\n",
        "\n",
        "# *********** Aquí termina la sección de agregar código *************\n"
      ],
      "metadata": {
        "id": "Ngslji43XsO_",
        "colab": {
          "base_uri": "https://localhost:8080/"
        },
        "outputId": "a649801c-afdd-42b2-deaf-0c5fe88722fc"
      },
      "execution_count": null,
      "outputs": [
        {
          "output_type": "stream",
          "name": "stdout",
          "text": [
            "Importancia de Variables:\n",
            "                   Variable  Importancia\n",
            "0                    status     0.096000\n",
            "5                   savings     0.037333\n",
            "1                  duration     0.028667\n",
            "4                    amount     0.023333\n",
            "13  other_installment_plans     0.022000\n",
            "11                 property     0.018000\n",
            "3                   purpose     0.012667\n",
            "12                      age     0.009333\n",
            "15           number_credits     0.007333\n",
            "14                  housing     0.007333\n",
            "6       employment_duration     0.005333\n",
            "10        present_residence     0.005333\n",
            "8       personal_status_sex     0.004667\n",
            "2            credit_history     0.004667\n",
            "18                telephone     0.002667\n",
            "7          installment_rate     0.002667\n",
            "9             other_debtors     0.001333\n",
            "17            people_liable     0.000667\n",
            "19           foreign_worker     0.000000\n",
            "16                      job    -0.002000\n"
          ]
        }
      ]
    },
    {
      "cell_type": "markdown",
      "source": [
        "## **Ejercicio 15**"
      ],
      "metadata": {
        "id": "AeTAcfFKX3Sm"
      }
    },
    {
      "cell_type": "markdown",
      "source": [
        "### **Escribe tus conclusiones finales de la actividad. En particular puedes comparar tus resultados con los que se muestran en el artículo de la IEEE.**   "
      ],
      "metadata": {
        "id": "n04HnK-ZX4vl"
      }
    },
    {
      "cell_type": "markdown",
      "source": [
        "### ++++++++ Inicia la sección de agregar texto: +++++++++++\n",
        "\n",
        "\n",
        "El proceso de creación y evaluación de modelos que se ha llevado a cabo es fundamental en la construcción de soluciones de aprendizaje automático.\n",
        "\n",
        "Se han explorado varios modelos, desde regresión logística hasta máquinas de soporte vectorial y redes neuronales. Esta diversidad fue clave para entender qué enfoques funcionan mejor para tu conjunto de datos, una vez seleccionando el mejor modelo se ha  realizado una búsqueda de hiperparámetros utilizando GridSearchCV, lo cual fue de gran ayuda para encontrar la combinación óptima de parámetros para el mejor modelo.\n",
        "\n",
        "La validación cruzada y las métricas de evaluación, como precisión, recall, F1-score y ROC-AUC fueron muy utiles para evaluar el rendimiento de los modelos de manera más robusta. Esto proporciona una estimación más confiable del rendimiento en comparación con un único conjunto de entrenamiento/prueba. La experimentación continua y la optimización podrían ser parte de los siguientes pasos para perfeccionar aún más tus modelos y abordar desafíos específicos que puedan surgir en futuros conjuntos de datos.\n",
        "\n",
        "### ++++++++ Termina la sección de agregar texto. +++++++++++\n"
      ],
      "metadata": {
        "id": "R7s7iDgKYEn9"
      }
    },
    {
      "cell_type": "markdown",
      "source": [
        ">> ###**Fin de la Actividad de las Semanas 5 y 6.**"
      ],
      "metadata": {
        "id": "v-tW_CdUYMdl"
      }
    }
  ]
}