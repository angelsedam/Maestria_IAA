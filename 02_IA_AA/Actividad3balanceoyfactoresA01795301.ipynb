{
  "nbformat": 4,
  "nbformat_minor": 0,
  "metadata": {
    "colab": {
      "provenance": []
    },
    "kernelspec": {
      "name": "python3",
      "display_name": "Python 3"
    },
    "language_info": {
      "name": "python"
    }
  },
  "cells": [
    {
      "cell_type": "markdown",
      "source": [
        "**PARTE 1: Análisis descriptivo y preprocesamiento de los datos:**"
      ],
      "metadata": {
        "id": "CL1xLh5nVEei"
      }
    },
    {
      "cell_type": "markdown",
      "source": [
        "1.- Incluye una breve introducción sobre lo que se entiende por el problema de rotación de personal en las organizaciones (employee attrition problem)."
      ],
      "metadata": {
        "id": "5qU7T5c4Xv86"
      }
    },
    {
      "cell_type": "markdown",
      "source": [
        "**Introducción**\n",
        "\n",
        "El problema de rotación de personal se refiere a la tasa o porcentaje de empleados que abandonan una organización en un período de tiempo determinado. Este problema es muy comun en las empresas por diversos factores que buscamos entender por medio de este conjunto de datos. Exploraremos los tipos de trabajos, area de especialicazion, educacion entre otros factores."
      ],
      "metadata": {
        "id": "YMRgOorSV5Bl"
      }
    },
    {
      "cell_type": "markdown",
      "source": [
        "2.- Carga la base de datos y realiza los análisis necesarios para responder a las siguientes preguntas:"
      ],
      "metadata": {
        "id": "aNW9PVavX_R9"
      }
    },
    {
      "cell_type": "code",
      "source": [
        "from google.colab import drive\n",
        "drive.mount('/content/drive')"
      ],
      "metadata": {
        "colab": {
          "base_uri": "https://localhost:8080/"
        },
        "id": "6vYh5iCRcf4t",
        "outputId": "27d7a9c5-6618-4817-8b8b-d9fbcdf773e5"
      },
      "execution_count": 175,
      "outputs": [
        {
          "output_type": "stream",
          "name": "stdout",
          "text": [
            "Drive already mounted at /content/drive; to attempt to forcibly remount, call drive.mount(\"/content/drive\", force_remount=True).\n"
          ]
        }
      ]
    },
    {
      "cell_type": "code",
      "source": [
        "import os\n",
        "DIR = \"/content/drive/MyDrive/Colab Notebooks/MNA/IAy_AA/\"\n",
        "os.chdir(DIR)"
      ],
      "metadata": {
        "id": "dRYMLjqxcgVv"
      },
      "execution_count": 176,
      "outputs": []
    },
    {
      "cell_type": "code",
      "source": [
        "import pandas as pd\n",
        "import numpy as np\n",
        "import matplotlib.pyplot as plt\n",
        "import seaborn as sns\n",
        "from sklearn.impute import SimpleImputer\n",
        "from sklearn.preprocessing import MinMaxScaler, OneHotEncoder , OrdinalEncoder, StandardScaler, PolynomialFeatures\n",
        "from sklearn.compose import ColumnTransformer, make_column_selector\n",
        "from sklearn.pipeline import make_pipeline\n",
        "from sklearn.linear_model import LinearRegression\n",
        "from sklearn.metrics import mean_squared_error, r2_score"
      ],
      "metadata": {
        "id": "s23IBR1Jcgdw"
      },
      "execution_count": 177,
      "outputs": []
    },
    {
      "cell_type": "code",
      "source": [
        "hr_attrition_df = pd.read_csv('WA_Fn-UseC_-HR-Employee-Attrition.csv')\n",
        "hr_attrition_df"
      ],
      "metadata": {
        "colab": {
          "base_uri": "https://localhost:8080/",
          "height": 582
        },
        "id": "UE0gKkqHcjgN",
        "outputId": "8c1a0b0a-104c-4b62-fa15-630644494947"
      },
      "execution_count": 178,
      "outputs": [
        {
          "output_type": "execute_result",
          "data": {
            "text/plain": [
              "      Age Attrition     BusinessTravel  DailyRate              Department  \\\n",
              "0      41       Yes      Travel_Rarely       1102                   Sales   \n",
              "1      49        No  Travel_Frequently        279  Research & Development   \n",
              "2      37       Yes      Travel_Rarely       1373  Research & Development   \n",
              "3      33        No  Travel_Frequently       1392  Research & Development   \n",
              "4      27        No      Travel_Rarely        591  Research & Development   \n",
              "...   ...       ...                ...        ...                     ...   \n",
              "1465   36        No  Travel_Frequently        884  Research & Development   \n",
              "1466   39        No      Travel_Rarely        613  Research & Development   \n",
              "1467   27        No      Travel_Rarely        155  Research & Development   \n",
              "1468   49        No  Travel_Frequently       1023                   Sales   \n",
              "1469   34        No      Travel_Rarely        628  Research & Development   \n",
              "\n",
              "      DistanceFromHome  Education EducationField  EmployeeCount  \\\n",
              "0                    1          2  Life Sciences              1   \n",
              "1                    8          1  Life Sciences              1   \n",
              "2                    2          2          Other              1   \n",
              "3                    3          4  Life Sciences              1   \n",
              "4                    2          1        Medical              1   \n",
              "...                ...        ...            ...            ...   \n",
              "1465                23          2        Medical              1   \n",
              "1466                 6          1        Medical              1   \n",
              "1467                 4          3  Life Sciences              1   \n",
              "1468                 2          3        Medical              1   \n",
              "1469                 8          3        Medical              1   \n",
              "\n",
              "      EmployeeNumber  ...  RelationshipSatisfaction StandardHours  \\\n",
              "0                  1  ...                         1            80   \n",
              "1                  2  ...                         4            80   \n",
              "2                  4  ...                         2            80   \n",
              "3                  5  ...                         3            80   \n",
              "4                  7  ...                         4            80   \n",
              "...              ...  ...                       ...           ...   \n",
              "1465            2061  ...                         3            80   \n",
              "1466            2062  ...                         1            80   \n",
              "1467            2064  ...                         2            80   \n",
              "1468            2065  ...                         4            80   \n",
              "1469            2068  ...                         1            80   \n",
              "\n",
              "      StockOptionLevel  TotalWorkingYears  TrainingTimesLastYear  \\\n",
              "0                    0                  8                      0   \n",
              "1                    1                 10                      3   \n",
              "2                    0                  7                      3   \n",
              "3                    0                  8                      3   \n",
              "4                    1                  6                      3   \n",
              "...                ...                ...                    ...   \n",
              "1465                 1                 17                      3   \n",
              "1466                 1                  9                      5   \n",
              "1467                 1                  6                      0   \n",
              "1468                 0                 17                      3   \n",
              "1469                 0                  6                      3   \n",
              "\n",
              "     WorkLifeBalance  YearsAtCompany YearsInCurrentRole  \\\n",
              "0                  1               6                  4   \n",
              "1                  3              10                  7   \n",
              "2                  3               0                  0   \n",
              "3                  3               8                  7   \n",
              "4                  3               2                  2   \n",
              "...              ...             ...                ...   \n",
              "1465               3               5                  2   \n",
              "1466               3               7                  7   \n",
              "1467               3               6                  2   \n",
              "1468               2               9                  6   \n",
              "1469               4               4                  3   \n",
              "\n",
              "      YearsSinceLastPromotion  YearsWithCurrManager  \n",
              "0                           0                     5  \n",
              "1                           1                     7  \n",
              "2                           0                     0  \n",
              "3                           3                     0  \n",
              "4                           2                     2  \n",
              "...                       ...                   ...  \n",
              "1465                        0                     3  \n",
              "1466                        1                     7  \n",
              "1467                        0                     3  \n",
              "1468                        0                     8  \n",
              "1469                        1                     2  \n",
              "\n",
              "[1470 rows x 35 columns]"
            ],
            "text/html": [
              "\n",
              "  <div id=\"df-7ac544a1-f1d6-46c5-8ad9-e9a8768f72ba\" class=\"colab-df-container\">\n",
              "    <div>\n",
              "<style scoped>\n",
              "    .dataframe tbody tr th:only-of-type {\n",
              "        vertical-align: middle;\n",
              "    }\n",
              "\n",
              "    .dataframe tbody tr th {\n",
              "        vertical-align: top;\n",
              "    }\n",
              "\n",
              "    .dataframe thead th {\n",
              "        text-align: right;\n",
              "    }\n",
              "</style>\n",
              "<table border=\"1\" class=\"dataframe\">\n",
              "  <thead>\n",
              "    <tr style=\"text-align: right;\">\n",
              "      <th></th>\n",
              "      <th>Age</th>\n",
              "      <th>Attrition</th>\n",
              "      <th>BusinessTravel</th>\n",
              "      <th>DailyRate</th>\n",
              "      <th>Department</th>\n",
              "      <th>DistanceFromHome</th>\n",
              "      <th>Education</th>\n",
              "      <th>EducationField</th>\n",
              "      <th>EmployeeCount</th>\n",
              "      <th>EmployeeNumber</th>\n",
              "      <th>...</th>\n",
              "      <th>RelationshipSatisfaction</th>\n",
              "      <th>StandardHours</th>\n",
              "      <th>StockOptionLevel</th>\n",
              "      <th>TotalWorkingYears</th>\n",
              "      <th>TrainingTimesLastYear</th>\n",
              "      <th>WorkLifeBalance</th>\n",
              "      <th>YearsAtCompany</th>\n",
              "      <th>YearsInCurrentRole</th>\n",
              "      <th>YearsSinceLastPromotion</th>\n",
              "      <th>YearsWithCurrManager</th>\n",
              "    </tr>\n",
              "  </thead>\n",
              "  <tbody>\n",
              "    <tr>\n",
              "      <th>0</th>\n",
              "      <td>41</td>\n",
              "      <td>Yes</td>\n",
              "      <td>Travel_Rarely</td>\n",
              "      <td>1102</td>\n",
              "      <td>Sales</td>\n",
              "      <td>1</td>\n",
              "      <td>2</td>\n",
              "      <td>Life Sciences</td>\n",
              "      <td>1</td>\n",
              "      <td>1</td>\n",
              "      <td>...</td>\n",
              "      <td>1</td>\n",
              "      <td>80</td>\n",
              "      <td>0</td>\n",
              "      <td>8</td>\n",
              "      <td>0</td>\n",
              "      <td>1</td>\n",
              "      <td>6</td>\n",
              "      <td>4</td>\n",
              "      <td>0</td>\n",
              "      <td>5</td>\n",
              "    </tr>\n",
              "    <tr>\n",
              "      <th>1</th>\n",
              "      <td>49</td>\n",
              "      <td>No</td>\n",
              "      <td>Travel_Frequently</td>\n",
              "      <td>279</td>\n",
              "      <td>Research &amp; Development</td>\n",
              "      <td>8</td>\n",
              "      <td>1</td>\n",
              "      <td>Life Sciences</td>\n",
              "      <td>1</td>\n",
              "      <td>2</td>\n",
              "      <td>...</td>\n",
              "      <td>4</td>\n",
              "      <td>80</td>\n",
              "      <td>1</td>\n",
              "      <td>10</td>\n",
              "      <td>3</td>\n",
              "      <td>3</td>\n",
              "      <td>10</td>\n",
              "      <td>7</td>\n",
              "      <td>1</td>\n",
              "      <td>7</td>\n",
              "    </tr>\n",
              "    <tr>\n",
              "      <th>2</th>\n",
              "      <td>37</td>\n",
              "      <td>Yes</td>\n",
              "      <td>Travel_Rarely</td>\n",
              "      <td>1373</td>\n",
              "      <td>Research &amp; Development</td>\n",
              "      <td>2</td>\n",
              "      <td>2</td>\n",
              "      <td>Other</td>\n",
              "      <td>1</td>\n",
              "      <td>4</td>\n",
              "      <td>...</td>\n",
              "      <td>2</td>\n",
              "      <td>80</td>\n",
              "      <td>0</td>\n",
              "      <td>7</td>\n",
              "      <td>3</td>\n",
              "      <td>3</td>\n",
              "      <td>0</td>\n",
              "      <td>0</td>\n",
              "      <td>0</td>\n",
              "      <td>0</td>\n",
              "    </tr>\n",
              "    <tr>\n",
              "      <th>3</th>\n",
              "      <td>33</td>\n",
              "      <td>No</td>\n",
              "      <td>Travel_Frequently</td>\n",
              "      <td>1392</td>\n",
              "      <td>Research &amp; Development</td>\n",
              "      <td>3</td>\n",
              "      <td>4</td>\n",
              "      <td>Life Sciences</td>\n",
              "      <td>1</td>\n",
              "      <td>5</td>\n",
              "      <td>...</td>\n",
              "      <td>3</td>\n",
              "      <td>80</td>\n",
              "      <td>0</td>\n",
              "      <td>8</td>\n",
              "      <td>3</td>\n",
              "      <td>3</td>\n",
              "      <td>8</td>\n",
              "      <td>7</td>\n",
              "      <td>3</td>\n",
              "      <td>0</td>\n",
              "    </tr>\n",
              "    <tr>\n",
              "      <th>4</th>\n",
              "      <td>27</td>\n",
              "      <td>No</td>\n",
              "      <td>Travel_Rarely</td>\n",
              "      <td>591</td>\n",
              "      <td>Research &amp; Development</td>\n",
              "      <td>2</td>\n",
              "      <td>1</td>\n",
              "      <td>Medical</td>\n",
              "      <td>1</td>\n",
              "      <td>7</td>\n",
              "      <td>...</td>\n",
              "      <td>4</td>\n",
              "      <td>80</td>\n",
              "      <td>1</td>\n",
              "      <td>6</td>\n",
              "      <td>3</td>\n",
              "      <td>3</td>\n",
              "      <td>2</td>\n",
              "      <td>2</td>\n",
              "      <td>2</td>\n",
              "      <td>2</td>\n",
              "    </tr>\n",
              "    <tr>\n",
              "      <th>...</th>\n",
              "      <td>...</td>\n",
              "      <td>...</td>\n",
              "      <td>...</td>\n",
              "      <td>...</td>\n",
              "      <td>...</td>\n",
              "      <td>...</td>\n",
              "      <td>...</td>\n",
              "      <td>...</td>\n",
              "      <td>...</td>\n",
              "      <td>...</td>\n",
              "      <td>...</td>\n",
              "      <td>...</td>\n",
              "      <td>...</td>\n",
              "      <td>...</td>\n",
              "      <td>...</td>\n",
              "      <td>...</td>\n",
              "      <td>...</td>\n",
              "      <td>...</td>\n",
              "      <td>...</td>\n",
              "      <td>...</td>\n",
              "      <td>...</td>\n",
              "    </tr>\n",
              "    <tr>\n",
              "      <th>1465</th>\n",
              "      <td>36</td>\n",
              "      <td>No</td>\n",
              "      <td>Travel_Frequently</td>\n",
              "      <td>884</td>\n",
              "      <td>Research &amp; Development</td>\n",
              "      <td>23</td>\n",
              "      <td>2</td>\n",
              "      <td>Medical</td>\n",
              "      <td>1</td>\n",
              "      <td>2061</td>\n",
              "      <td>...</td>\n",
              "      <td>3</td>\n",
              "      <td>80</td>\n",
              "      <td>1</td>\n",
              "      <td>17</td>\n",
              "      <td>3</td>\n",
              "      <td>3</td>\n",
              "      <td>5</td>\n",
              "      <td>2</td>\n",
              "      <td>0</td>\n",
              "      <td>3</td>\n",
              "    </tr>\n",
              "    <tr>\n",
              "      <th>1466</th>\n",
              "      <td>39</td>\n",
              "      <td>No</td>\n",
              "      <td>Travel_Rarely</td>\n",
              "      <td>613</td>\n",
              "      <td>Research &amp; Development</td>\n",
              "      <td>6</td>\n",
              "      <td>1</td>\n",
              "      <td>Medical</td>\n",
              "      <td>1</td>\n",
              "      <td>2062</td>\n",
              "      <td>...</td>\n",
              "      <td>1</td>\n",
              "      <td>80</td>\n",
              "      <td>1</td>\n",
              "      <td>9</td>\n",
              "      <td>5</td>\n",
              "      <td>3</td>\n",
              "      <td>7</td>\n",
              "      <td>7</td>\n",
              "      <td>1</td>\n",
              "      <td>7</td>\n",
              "    </tr>\n",
              "    <tr>\n",
              "      <th>1467</th>\n",
              "      <td>27</td>\n",
              "      <td>No</td>\n",
              "      <td>Travel_Rarely</td>\n",
              "      <td>155</td>\n",
              "      <td>Research &amp; Development</td>\n",
              "      <td>4</td>\n",
              "      <td>3</td>\n",
              "      <td>Life Sciences</td>\n",
              "      <td>1</td>\n",
              "      <td>2064</td>\n",
              "      <td>...</td>\n",
              "      <td>2</td>\n",
              "      <td>80</td>\n",
              "      <td>1</td>\n",
              "      <td>6</td>\n",
              "      <td>0</td>\n",
              "      <td>3</td>\n",
              "      <td>6</td>\n",
              "      <td>2</td>\n",
              "      <td>0</td>\n",
              "      <td>3</td>\n",
              "    </tr>\n",
              "    <tr>\n",
              "      <th>1468</th>\n",
              "      <td>49</td>\n",
              "      <td>No</td>\n",
              "      <td>Travel_Frequently</td>\n",
              "      <td>1023</td>\n",
              "      <td>Sales</td>\n",
              "      <td>2</td>\n",
              "      <td>3</td>\n",
              "      <td>Medical</td>\n",
              "      <td>1</td>\n",
              "      <td>2065</td>\n",
              "      <td>...</td>\n",
              "      <td>4</td>\n",
              "      <td>80</td>\n",
              "      <td>0</td>\n",
              "      <td>17</td>\n",
              "      <td>3</td>\n",
              "      <td>2</td>\n",
              "      <td>9</td>\n",
              "      <td>6</td>\n",
              "      <td>0</td>\n",
              "      <td>8</td>\n",
              "    </tr>\n",
              "    <tr>\n",
              "      <th>1469</th>\n",
              "      <td>34</td>\n",
              "      <td>No</td>\n",
              "      <td>Travel_Rarely</td>\n",
              "      <td>628</td>\n",
              "      <td>Research &amp; Development</td>\n",
              "      <td>8</td>\n",
              "      <td>3</td>\n",
              "      <td>Medical</td>\n",
              "      <td>1</td>\n",
              "      <td>2068</td>\n",
              "      <td>...</td>\n",
              "      <td>1</td>\n",
              "      <td>80</td>\n",
              "      <td>0</td>\n",
              "      <td>6</td>\n",
              "      <td>3</td>\n",
              "      <td>4</td>\n",
              "      <td>4</td>\n",
              "      <td>3</td>\n",
              "      <td>1</td>\n",
              "      <td>2</td>\n",
              "    </tr>\n",
              "  </tbody>\n",
              "</table>\n",
              "<p>1470 rows × 35 columns</p>\n",
              "</div>\n",
              "    <div class=\"colab-df-buttons\">\n",
              "\n",
              "  <div class=\"colab-df-container\">\n",
              "    <button class=\"colab-df-convert\" onclick=\"convertToInteractive('df-7ac544a1-f1d6-46c5-8ad9-e9a8768f72ba')\"\n",
              "            title=\"Convert this dataframe to an interactive table.\"\n",
              "            style=\"display:none;\">\n",
              "\n",
              "  <svg xmlns=\"http://www.w3.org/2000/svg\" height=\"24px\" viewBox=\"0 -960 960 960\">\n",
              "    <path d=\"M120-120v-720h720v720H120Zm60-500h600v-160H180v160Zm220 220h160v-160H400v160Zm0 220h160v-160H400v160ZM180-400h160v-160H180v160Zm440 0h160v-160H620v160ZM180-180h160v-160H180v160Zm440 0h160v-160H620v160Z\"/>\n",
              "  </svg>\n",
              "    </button>\n",
              "\n",
              "  <style>\n",
              "    .colab-df-container {\n",
              "      display:flex;\n",
              "      gap: 12px;\n",
              "    }\n",
              "\n",
              "    .colab-df-convert {\n",
              "      background-color: #E8F0FE;\n",
              "      border: none;\n",
              "      border-radius: 50%;\n",
              "      cursor: pointer;\n",
              "      display: none;\n",
              "      fill: #1967D2;\n",
              "      height: 32px;\n",
              "      padding: 0 0 0 0;\n",
              "      width: 32px;\n",
              "    }\n",
              "\n",
              "    .colab-df-convert:hover {\n",
              "      background-color: #E2EBFA;\n",
              "      box-shadow: 0px 1px 2px rgba(60, 64, 67, 0.3), 0px 1px 3px 1px rgba(60, 64, 67, 0.15);\n",
              "      fill: #174EA6;\n",
              "    }\n",
              "\n",
              "    .colab-df-buttons div {\n",
              "      margin-bottom: 4px;\n",
              "    }\n",
              "\n",
              "    [theme=dark] .colab-df-convert {\n",
              "      background-color: #3B4455;\n",
              "      fill: #D2E3FC;\n",
              "    }\n",
              "\n",
              "    [theme=dark] .colab-df-convert:hover {\n",
              "      background-color: #434B5C;\n",
              "      box-shadow: 0px 1px 3px 1px rgba(0, 0, 0, 0.15);\n",
              "      filter: drop-shadow(0px 1px 2px rgba(0, 0, 0, 0.3));\n",
              "      fill: #FFFFFF;\n",
              "    }\n",
              "  </style>\n",
              "\n",
              "    <script>\n",
              "      const buttonEl =\n",
              "        document.querySelector('#df-7ac544a1-f1d6-46c5-8ad9-e9a8768f72ba button.colab-df-convert');\n",
              "      buttonEl.style.display =\n",
              "        google.colab.kernel.accessAllowed ? 'block' : 'none';\n",
              "\n",
              "      async function convertToInteractive(key) {\n",
              "        const element = document.querySelector('#df-7ac544a1-f1d6-46c5-8ad9-e9a8768f72ba');\n",
              "        const dataTable =\n",
              "          await google.colab.kernel.invokeFunction('convertToInteractive',\n",
              "                                                    [key], {});\n",
              "        if (!dataTable) return;\n",
              "\n",
              "        const docLinkHtml = 'Like what you see? Visit the ' +\n",
              "          '<a target=\"_blank\" href=https://colab.research.google.com/notebooks/data_table.ipynb>data table notebook</a>'\n",
              "          + ' to learn more about interactive tables.';\n",
              "        element.innerHTML = '';\n",
              "        dataTable['output_type'] = 'display_data';\n",
              "        await google.colab.output.renderOutput(dataTable, element);\n",
              "        const docLink = document.createElement('div');\n",
              "        docLink.innerHTML = docLinkHtml;\n",
              "        element.appendChild(docLink);\n",
              "      }\n",
              "    </script>\n",
              "  </div>\n",
              "\n",
              "\n",
              "<div id=\"df-54920b0b-f3f2-4908-9254-6a84c42d6768\">\n",
              "  <button class=\"colab-df-quickchart\" onclick=\"quickchart('df-54920b0b-f3f2-4908-9254-6a84c42d6768')\"\n",
              "            title=\"Suggest charts\"\n",
              "            style=\"display:none;\">\n",
              "\n",
              "<svg xmlns=\"http://www.w3.org/2000/svg\" height=\"24px\"viewBox=\"0 0 24 24\"\n",
              "     width=\"24px\">\n",
              "    <g>\n",
              "        <path d=\"M19 3H5c-1.1 0-2 .9-2 2v14c0 1.1.9 2 2 2h14c1.1 0 2-.9 2-2V5c0-1.1-.9-2-2-2zM9 17H7v-7h2v7zm4 0h-2V7h2v10zm4 0h-2v-4h2v4z\"/>\n",
              "    </g>\n",
              "</svg>\n",
              "  </button>\n",
              "\n",
              "<style>\n",
              "  .colab-df-quickchart {\n",
              "      --bg-color: #E8F0FE;\n",
              "      --fill-color: #1967D2;\n",
              "      --hover-bg-color: #E2EBFA;\n",
              "      --hover-fill-color: #174EA6;\n",
              "      --disabled-fill-color: #AAA;\n",
              "      --disabled-bg-color: #DDD;\n",
              "  }\n",
              "\n",
              "  [theme=dark] .colab-df-quickchart {\n",
              "      --bg-color: #3B4455;\n",
              "      --fill-color: #D2E3FC;\n",
              "      --hover-bg-color: #434B5C;\n",
              "      --hover-fill-color: #FFFFFF;\n",
              "      --disabled-bg-color: #3B4455;\n",
              "      --disabled-fill-color: #666;\n",
              "  }\n",
              "\n",
              "  .colab-df-quickchart {\n",
              "    background-color: var(--bg-color);\n",
              "    border: none;\n",
              "    border-radius: 50%;\n",
              "    cursor: pointer;\n",
              "    display: none;\n",
              "    fill: var(--fill-color);\n",
              "    height: 32px;\n",
              "    padding: 0;\n",
              "    width: 32px;\n",
              "  }\n",
              "\n",
              "  .colab-df-quickchart:hover {\n",
              "    background-color: var(--hover-bg-color);\n",
              "    box-shadow: 0 1px 2px rgba(60, 64, 67, 0.3), 0 1px 3px 1px rgba(60, 64, 67, 0.15);\n",
              "    fill: var(--button-hover-fill-color);\n",
              "  }\n",
              "\n",
              "  .colab-df-quickchart-complete:disabled,\n",
              "  .colab-df-quickchart-complete:disabled:hover {\n",
              "    background-color: var(--disabled-bg-color);\n",
              "    fill: var(--disabled-fill-color);\n",
              "    box-shadow: none;\n",
              "  }\n",
              "\n",
              "  .colab-df-spinner {\n",
              "    border: 2px solid var(--fill-color);\n",
              "    border-color: transparent;\n",
              "    border-bottom-color: var(--fill-color);\n",
              "    animation:\n",
              "      spin 1s steps(1) infinite;\n",
              "  }\n",
              "\n",
              "  @keyframes spin {\n",
              "    0% {\n",
              "      border-color: transparent;\n",
              "      border-bottom-color: var(--fill-color);\n",
              "      border-left-color: var(--fill-color);\n",
              "    }\n",
              "    20% {\n",
              "      border-color: transparent;\n",
              "      border-left-color: var(--fill-color);\n",
              "      border-top-color: var(--fill-color);\n",
              "    }\n",
              "    30% {\n",
              "      border-color: transparent;\n",
              "      border-left-color: var(--fill-color);\n",
              "      border-top-color: var(--fill-color);\n",
              "      border-right-color: var(--fill-color);\n",
              "    }\n",
              "    40% {\n",
              "      border-color: transparent;\n",
              "      border-right-color: var(--fill-color);\n",
              "      border-top-color: var(--fill-color);\n",
              "    }\n",
              "    60% {\n",
              "      border-color: transparent;\n",
              "      border-right-color: var(--fill-color);\n",
              "    }\n",
              "    80% {\n",
              "      border-color: transparent;\n",
              "      border-right-color: var(--fill-color);\n",
              "      border-bottom-color: var(--fill-color);\n",
              "    }\n",
              "    90% {\n",
              "      border-color: transparent;\n",
              "      border-bottom-color: var(--fill-color);\n",
              "    }\n",
              "  }\n",
              "</style>\n",
              "\n",
              "  <script>\n",
              "    async function quickchart(key) {\n",
              "      const quickchartButtonEl =\n",
              "        document.querySelector('#' + key + ' button');\n",
              "      quickchartButtonEl.disabled = true;  // To prevent multiple clicks.\n",
              "      quickchartButtonEl.classList.add('colab-df-spinner');\n",
              "      try {\n",
              "        const charts = await google.colab.kernel.invokeFunction(\n",
              "            'suggestCharts', [key], {});\n",
              "      } catch (error) {\n",
              "        console.error('Error during call to suggestCharts:', error);\n",
              "      }\n",
              "      quickchartButtonEl.classList.remove('colab-df-spinner');\n",
              "      quickchartButtonEl.classList.add('colab-df-quickchart-complete');\n",
              "    }\n",
              "    (() => {\n",
              "      let quickchartButtonEl =\n",
              "        document.querySelector('#df-54920b0b-f3f2-4908-9254-6a84c42d6768 button');\n",
              "      quickchartButtonEl.style.display =\n",
              "        google.colab.kernel.accessAllowed ? 'block' : 'none';\n",
              "    })();\n",
              "  </script>\n",
              "</div>\n",
              "    </div>\n",
              "  </div>\n"
            ]
          },
          "metadata": {},
          "execution_count": 178
        }
      ]
    },
    {
      "cell_type": "code",
      "source": [
        "hr_attrition_df.info()"
      ],
      "metadata": {
        "colab": {
          "base_uri": "https://localhost:8080/"
        },
        "id": "cWRRT2sCn9sm",
        "outputId": "933eb9dc-73e0-4374-c3b4-dd952102d7b9"
      },
      "execution_count": 179,
      "outputs": [
        {
          "output_type": "stream",
          "name": "stdout",
          "text": [
            "<class 'pandas.core.frame.DataFrame'>\n",
            "RangeIndex: 1470 entries, 0 to 1469\n",
            "Data columns (total 35 columns):\n",
            " #   Column                    Non-Null Count  Dtype \n",
            "---  ------                    --------------  ----- \n",
            " 0   Age                       1470 non-null   int64 \n",
            " 1   Attrition                 1470 non-null   object\n",
            " 2   BusinessTravel            1470 non-null   object\n",
            " 3   DailyRate                 1470 non-null   int64 \n",
            " 4   Department                1470 non-null   object\n",
            " 5   DistanceFromHome          1470 non-null   int64 \n",
            " 6   Education                 1470 non-null   int64 \n",
            " 7   EducationField            1470 non-null   object\n",
            " 8   EmployeeCount             1470 non-null   int64 \n",
            " 9   EmployeeNumber            1470 non-null   int64 \n",
            " 10  EnvironmentSatisfaction   1470 non-null   int64 \n",
            " 11  Gender                    1470 non-null   object\n",
            " 12  HourlyRate                1470 non-null   int64 \n",
            " 13  JobInvolvement            1470 non-null   int64 \n",
            " 14  JobLevel                  1470 non-null   int64 \n",
            " 15  JobRole                   1470 non-null   object\n",
            " 16  JobSatisfaction           1470 non-null   int64 \n",
            " 17  MaritalStatus             1470 non-null   object\n",
            " 18  MonthlyIncome             1470 non-null   int64 \n",
            " 19  MonthlyRate               1470 non-null   int64 \n",
            " 20  NumCompaniesWorked        1470 non-null   int64 \n",
            " 21  Over18                    1470 non-null   object\n",
            " 22  OverTime                  1470 non-null   object\n",
            " 23  PercentSalaryHike         1470 non-null   int64 \n",
            " 24  PerformanceRating         1470 non-null   int64 \n",
            " 25  RelationshipSatisfaction  1470 non-null   int64 \n",
            " 26  StandardHours             1470 non-null   int64 \n",
            " 27  StockOptionLevel          1470 non-null   int64 \n",
            " 28  TotalWorkingYears         1470 non-null   int64 \n",
            " 29  TrainingTimesLastYear     1470 non-null   int64 \n",
            " 30  WorkLifeBalance           1470 non-null   int64 \n",
            " 31  YearsAtCompany            1470 non-null   int64 \n",
            " 32  YearsInCurrentRole        1470 non-null   int64 \n",
            " 33  YearsSinceLastPromotion   1470 non-null   int64 \n",
            " 34  YearsWithCurrManager      1470 non-null   int64 \n",
            "dtypes: int64(26), object(9)\n",
            "memory usage: 402.1+ KB\n"
          ]
        }
      ]
    },
    {
      "cell_type": "markdown",
      "source": [
        "a)\n",
        "\n",
        "*   ¿Cuántas y cuáles de las variables son numéricas?\n",
        "*   ¿Cuántas y cuáles de estas variables numéricas son de valor entero?\n",
        "*   ¿Cuántas y cuáles de estas variables numéricas son de valor real (flotante)?\n",
        "*   De existir el caso, ¿cuántas y cuáles de estas variables numéricas se pueden\n",
        "anular del problema? Justifica tu respuesta.\n",
        "\n",
        "\n",
        "\n",
        "\n"
      ],
      "metadata": {
        "id": "ZNH5lrCPWjRG"
      }
    },
    {
      "cell_type": "code",
      "source": [
        "# Identificar variables numéricas\n",
        "numeric_variables = hr_attrition_df.select_dtypes(include=['int64', 'float64'])\n",
        "\n",
        "# Identificar variables numéricas enteras\n",
        "integer_variables = hr_attrition_df.select_dtypes(include='int64')\n",
        "\n",
        "# Identificar variables numéricas de valor real (flotante)\n",
        "float_variables = hr_attrition_df.select_dtypes(include='float64')\n",
        "\n",
        "# Imprimir resultados\n",
        "print(f'Variables Numéricas: {numeric_variables.columns}')\n",
        "print('')\n",
        "print(f'Variables Numéricas Enteras: {integer_variables.columns}')\n",
        "print('')\n",
        "print(f'Variables Numéricas de Valor Real (Flotante): {float_variables.columns}')"
      ],
      "metadata": {
        "colab": {
          "base_uri": "https://localhost:8080/"
        },
        "id": "qqWfVvEzcrmb",
        "outputId": "03e7b493-841e-4541-b80f-9335c37a01f1"
      },
      "execution_count": 180,
      "outputs": [
        {
          "output_type": "stream",
          "name": "stdout",
          "text": [
            "Variables Numéricas: Index(['Age', 'DailyRate', 'DistanceFromHome', 'Education', 'EmployeeCount',\n",
            "       'EmployeeNumber', 'EnvironmentSatisfaction', 'HourlyRate',\n",
            "       'JobInvolvement', 'JobLevel', 'JobSatisfaction', 'MonthlyIncome',\n",
            "       'MonthlyRate', 'NumCompaniesWorked', 'PercentSalaryHike',\n",
            "       'PerformanceRating', 'RelationshipSatisfaction', 'StandardHours',\n",
            "       'StockOptionLevel', 'TotalWorkingYears', 'TrainingTimesLastYear',\n",
            "       'WorkLifeBalance', 'YearsAtCompany', 'YearsInCurrentRole',\n",
            "       'YearsSinceLastPromotion', 'YearsWithCurrManager'],\n",
            "      dtype='object')\n",
            "\n",
            "Variables Numéricas Enteras: Index(['Age', 'DailyRate', 'DistanceFromHome', 'Education', 'EmployeeCount',\n",
            "       'EmployeeNumber', 'EnvironmentSatisfaction', 'HourlyRate',\n",
            "       'JobInvolvement', 'JobLevel', 'JobSatisfaction', 'MonthlyIncome',\n",
            "       'MonthlyRate', 'NumCompaniesWorked', 'PercentSalaryHike',\n",
            "       'PerformanceRating', 'RelationshipSatisfaction', 'StandardHours',\n",
            "       'StockOptionLevel', 'TotalWorkingYears', 'TrainingTimesLastYear',\n",
            "       'WorkLifeBalance', 'YearsAtCompany', 'YearsInCurrentRole',\n",
            "       'YearsSinceLastPromotion', 'YearsWithCurrManager'],\n",
            "      dtype='object')\n",
            "\n",
            "Variables Numéricas de Valor Real (Flotante): Index([], dtype='object')\n"
          ]
        }
      ]
    },
    {
      "cell_type": "code",
      "source": [
        "#convertir valores a numericos\n",
        "hr_attrition_df_corr = hr_attrition_df.copy()\n",
        "hr_attrition_df_corr['attrition_numeric'] = hr_attrition_df_corr['Attrition'].map({'Yes': 1, 'No': 0})\n",
        "\n",
        "#Correlacion\n",
        "correlation_matrix = hr_attrition_df_corr.corr()\n",
        "correlation_with_attrition = correlation_matrix['attrition_numeric'].sort_values(ascending=True)\n",
        "correlation_with_attrition"
      ],
      "metadata": {
        "colab": {
          "base_uri": "https://localhost:8080/"
        },
        "id": "Td4ji9IjrKQW",
        "outputId": "bcde2ffd-9674-4ad5-a0c4-aa95de2139de"
      },
      "execution_count": 181,
      "outputs": [
        {
          "output_type": "stream",
          "name": "stderr",
          "text": [
            "<ipython-input-181-f6639c0409f7>:6: FutureWarning: The default value of numeric_only in DataFrame.corr is deprecated. In a future version, it will default to False. Select only valid columns or specify the value of numeric_only to silence this warning.\n",
            "  correlation_matrix = hr_attrition_df_corr.corr()\n"
          ]
        },
        {
          "output_type": "execute_result",
          "data": {
            "text/plain": [
              "TotalWorkingYears          -0.171063\n",
              "JobLevel                   -0.169105\n",
              "YearsInCurrentRole         -0.160545\n",
              "MonthlyIncome              -0.159840\n",
              "Age                        -0.159205\n",
              "YearsWithCurrManager       -0.156199\n",
              "StockOptionLevel           -0.137145\n",
              "YearsAtCompany             -0.134392\n",
              "JobInvolvement             -0.130016\n",
              "JobSatisfaction            -0.103481\n",
              "EnvironmentSatisfaction    -0.103369\n",
              "WorkLifeBalance            -0.063939\n",
              "TrainingTimesLastYear      -0.059478\n",
              "DailyRate                  -0.056652\n",
              "RelationshipSatisfaction   -0.045872\n",
              "YearsSinceLastPromotion    -0.033019\n",
              "Education                  -0.031373\n",
              "PercentSalaryHike          -0.013478\n",
              "EmployeeNumber             -0.010577\n",
              "HourlyRate                 -0.006846\n",
              "PerformanceRating           0.002889\n",
              "MonthlyRate                 0.015170\n",
              "NumCompaniesWorked          0.043494\n",
              "DistanceFromHome            0.077924\n",
              "attrition_numeric           1.000000\n",
              "EmployeeCount                    NaN\n",
              "StandardHours                    NaN\n",
              "Name: attrition_numeric, dtype: float64"
            ]
          },
          "metadata": {},
          "execution_count": 181
        }
      ]
    },
    {
      "cell_type": "code",
      "source": [
        "print(f'Podemos eliminar las variables EmployeeCount y StandardHours ya que no tienen relacion con la variable principal')"
      ],
      "metadata": {
        "colab": {
          "base_uri": "https://localhost:8080/"
        },
        "id": "-QsweqsKx7Px",
        "outputId": "4d0df262-279d-43eb-ba74-ca07bdc2cf59"
      },
      "execution_count": 182,
      "outputs": [
        {
          "output_type": "stream",
          "name": "stdout",
          "text": [
            "Podemos eliminar las variables EmployeeCount y StandardHours ya que no tienen relacion con la variable principal\n"
          ]
        }
      ]
    },
    {
      "cell_type": "markdown",
      "source": [
        "b)\n",
        "*   ¿Cuántas y cuáles de las variables son categóricas?\n",
        "*   ¿Cuántas y cuáles de estas variables son binarias?\n",
        "*   ¿Cuántas y cuáles de estas variables son nominales? Indica el total de\n",
        "niveles que tiene cada una de estas variables.\n",
        "*   ¿Cuántas y cuáles de estas variables son ordinales? Indica el total de niveles\n",
        "que tiene cada una de estas variables.\n",
        "*   De existir el caso, ¿cuántas y cuáles de estas variables categóricas se pueden\n",
        "anular del problema? Justifica tu respuesta.\n"
      ],
      "metadata": {
        "id": "tGIwdjW_W3AJ"
      }
    },
    {
      "cell_type": "code",
      "source": [
        "# Identificar variables categóricas\n",
        "categorical_variables = hr_attrition_df.select_dtypes(include='object')\n",
        "\n",
        "# Identificar variables categóricas binarias\n",
        "binary_categorical_variables = [var for var in categorical_variables.columns if len(hr_attrition_df[var].unique()) == 2]\n",
        "binary_categorical_variables.append('Over18')\n",
        "\n",
        "# Identificar variables categóricas\n",
        "non_binary_categorical_variables = [var for var in categorical_variables.columns if var not in binary_categorical_variables]\n",
        "\n",
        "#identificar variables nominales y ordinales\n",
        "nominal_categorical_variables = ['Department','JobRole','MaritalStatus']\n",
        "ordinal_categorical_variables = ['BusinessTravel','EducationField']\n",
        "\n",
        "\n",
        "# Imprimir resultados\n",
        "print(f'Variables Categóricas: {categorical_variables.columns}')\n",
        "print('')\n",
        "print(f'Variables Categóricas Binarias: {binary_categorical_variables}')\n",
        "print('')\n",
        "print(f'Variables Categóricas ordinales y nominales : {non_binary_categorical_variables}')\n",
        "print('')\n",
        "nominal_categorical_variables = [var for var in categorical_variables.columns if var in nominal_categorical_variables]\n",
        "nominal_levels = {var: len(hr_attrition_df[var].unique()) for var in nominal_categorical_variables}\n",
        "print(f'Variables nominales con sus niveles : {nominal_levels}')\n",
        "print('')\n",
        "ordinal_categorical_variables = [var for var in categorical_variables.columns if var in ordinal_categorical_variables]\n",
        "ordinal_levels = {var: len(hr_attrition_df[var].unique()) for var in ordinal_categorical_variables}\n",
        "print(f'Variables nominales con sus niveles : {ordinal_levels}')\n"
      ],
      "metadata": {
        "colab": {
          "base_uri": "https://localhost:8080/"
        },
        "id": "wdRFqFond0u1",
        "outputId": "656ba9af-e0ec-43c6-f253-60f137924a31"
      },
      "execution_count": 183,
      "outputs": [
        {
          "output_type": "stream",
          "name": "stdout",
          "text": [
            "Variables Categóricas: Index(['Attrition', 'BusinessTravel', 'Department', 'EducationField', 'Gender',\n",
            "       'JobRole', 'MaritalStatus', 'Over18', 'OverTime'],\n",
            "      dtype='object')\n",
            "\n",
            "Variables Categóricas Binarias: ['Attrition', 'Gender', 'OverTime', 'Over18']\n",
            "\n",
            "Variables Categóricas ordinales y nominales : ['BusinessTravel', 'Department', 'EducationField', 'JobRole', 'MaritalStatus']\n",
            "\n",
            "Variables nominales con sus niveles : {'Department': 3, 'JobRole': 9, 'MaritalStatus': 3}\n",
            "\n",
            "Variables nominales con sus niveles : {'BusinessTravel': 3, 'EducationField': 6}\n"
          ]
        }
      ]
    },
    {
      "cell_type": "markdown",
      "source": [
        "c)\n",
        "*   En esta base de datos y con base a la información dada, ¿existe alguna o algunas\n",
        "variables cuya clasificación en algún tipo de dato dependa del analista? ¿Cuáles y por qué?\n"
      ],
      "metadata": {
        "id": "MKl5eDQ_XboU"
      }
    },
    {
      "cell_type": "code",
      "source": [
        "print(f'Yo considero que si, por ejemplo el genero se podria considerar una variable binaria, hombre y mujer, pero dependiendo del analista podria considerar diferentes generos como por ejemplo, hombre, mujer, nobinario, transexual, etc. el cual podrian impactar el resultado de nuestro modelo')"
      ],
      "metadata": {
        "colab": {
          "base_uri": "https://localhost:8080/"
        },
        "id": "NEs5g162wa3M",
        "outputId": "f15aa536-6c14-438b-ede7-cea7d42017b4"
      },
      "execution_count": 184,
      "outputs": [
        {
          "output_type": "stream",
          "name": "stdout",
          "text": [
            "Yo considero que si, por ejemplo el genero se podria considerar una variable binaria, hombre y mujer, pero dependiendo del analista podria considerar diferentes generos como por ejemplo, hombre, mujer, nobinario, transexual, etc. el cual podrian impactar el resultado de nuestro modelo\n"
          ]
        }
      ]
    },
    {
      "cell_type": "markdown",
      "source": [
        "d)\n",
        "*   De existir, elimina del problema todas las variables que consideraste que no están aportando información alguna.\n"
      ],
      "metadata": {
        "id": "UX1ZI_ZcXjLa"
      }
    },
    {
      "cell_type": "code",
      "source": [
        "#Eliminar columnas\n",
        "columnas_a_eliminar = ['EmployeeCount','StandardHours']\n",
        "hr_attrition_df = hr_attrition_df.drop(columnas_a_eliminar, axis=1)\n",
        "\n",
        "# Mostrar el DataFrame resultante\n",
        "hr_attrition_df.head()"
      ],
      "metadata": {
        "colab": {
          "base_uri": "https://localhost:8080/",
          "height": 325
        },
        "id": "CxN4qrUExT9a",
        "outputId": "df076f5a-5c89-467c-ae05-3b11a7178ca6"
      },
      "execution_count": 185,
      "outputs": [
        {
          "output_type": "execute_result",
          "data": {
            "text/plain": [
              "   Age Attrition     BusinessTravel  DailyRate              Department  \\\n",
              "0   41       Yes      Travel_Rarely       1102                   Sales   \n",
              "1   49        No  Travel_Frequently        279  Research & Development   \n",
              "2   37       Yes      Travel_Rarely       1373  Research & Development   \n",
              "3   33        No  Travel_Frequently       1392  Research & Development   \n",
              "4   27        No      Travel_Rarely        591  Research & Development   \n",
              "\n",
              "   DistanceFromHome  Education EducationField  EmployeeNumber  \\\n",
              "0                 1          2  Life Sciences               1   \n",
              "1                 8          1  Life Sciences               2   \n",
              "2                 2          2          Other               4   \n",
              "3                 3          4  Life Sciences               5   \n",
              "4                 2          1        Medical               7   \n",
              "\n",
              "   EnvironmentSatisfaction  ... PerformanceRating  RelationshipSatisfaction  \\\n",
              "0                        2  ...                 3                         1   \n",
              "1                        3  ...                 4                         4   \n",
              "2                        4  ...                 3                         2   \n",
              "3                        4  ...                 3                         3   \n",
              "4                        1  ...                 3                         4   \n",
              "\n",
              "   StockOptionLevel  TotalWorkingYears TrainingTimesLastYear  WorkLifeBalance  \\\n",
              "0                 0                  8                     0                1   \n",
              "1                 1                 10                     3                3   \n",
              "2                 0                  7                     3                3   \n",
              "3                 0                  8                     3                3   \n",
              "4                 1                  6                     3                3   \n",
              "\n",
              "  YearsAtCompany  YearsInCurrentRole  YearsSinceLastPromotion  \\\n",
              "0              6                   4                        0   \n",
              "1             10                   7                        1   \n",
              "2              0                   0                        0   \n",
              "3              8                   7                        3   \n",
              "4              2                   2                        2   \n",
              "\n",
              "   YearsWithCurrManager  \n",
              "0                     5  \n",
              "1                     7  \n",
              "2                     0  \n",
              "3                     0  \n",
              "4                     2  \n",
              "\n",
              "[5 rows x 33 columns]"
            ],
            "text/html": [
              "\n",
              "  <div id=\"df-e2046823-fb96-4373-9dcc-b6c80c364c13\" class=\"colab-df-container\">\n",
              "    <div>\n",
              "<style scoped>\n",
              "    .dataframe tbody tr th:only-of-type {\n",
              "        vertical-align: middle;\n",
              "    }\n",
              "\n",
              "    .dataframe tbody tr th {\n",
              "        vertical-align: top;\n",
              "    }\n",
              "\n",
              "    .dataframe thead th {\n",
              "        text-align: right;\n",
              "    }\n",
              "</style>\n",
              "<table border=\"1\" class=\"dataframe\">\n",
              "  <thead>\n",
              "    <tr style=\"text-align: right;\">\n",
              "      <th></th>\n",
              "      <th>Age</th>\n",
              "      <th>Attrition</th>\n",
              "      <th>BusinessTravel</th>\n",
              "      <th>DailyRate</th>\n",
              "      <th>Department</th>\n",
              "      <th>DistanceFromHome</th>\n",
              "      <th>Education</th>\n",
              "      <th>EducationField</th>\n",
              "      <th>EmployeeNumber</th>\n",
              "      <th>EnvironmentSatisfaction</th>\n",
              "      <th>...</th>\n",
              "      <th>PerformanceRating</th>\n",
              "      <th>RelationshipSatisfaction</th>\n",
              "      <th>StockOptionLevel</th>\n",
              "      <th>TotalWorkingYears</th>\n",
              "      <th>TrainingTimesLastYear</th>\n",
              "      <th>WorkLifeBalance</th>\n",
              "      <th>YearsAtCompany</th>\n",
              "      <th>YearsInCurrentRole</th>\n",
              "      <th>YearsSinceLastPromotion</th>\n",
              "      <th>YearsWithCurrManager</th>\n",
              "    </tr>\n",
              "  </thead>\n",
              "  <tbody>\n",
              "    <tr>\n",
              "      <th>0</th>\n",
              "      <td>41</td>\n",
              "      <td>Yes</td>\n",
              "      <td>Travel_Rarely</td>\n",
              "      <td>1102</td>\n",
              "      <td>Sales</td>\n",
              "      <td>1</td>\n",
              "      <td>2</td>\n",
              "      <td>Life Sciences</td>\n",
              "      <td>1</td>\n",
              "      <td>2</td>\n",
              "      <td>...</td>\n",
              "      <td>3</td>\n",
              "      <td>1</td>\n",
              "      <td>0</td>\n",
              "      <td>8</td>\n",
              "      <td>0</td>\n",
              "      <td>1</td>\n",
              "      <td>6</td>\n",
              "      <td>4</td>\n",
              "      <td>0</td>\n",
              "      <td>5</td>\n",
              "    </tr>\n",
              "    <tr>\n",
              "      <th>1</th>\n",
              "      <td>49</td>\n",
              "      <td>No</td>\n",
              "      <td>Travel_Frequently</td>\n",
              "      <td>279</td>\n",
              "      <td>Research &amp; Development</td>\n",
              "      <td>8</td>\n",
              "      <td>1</td>\n",
              "      <td>Life Sciences</td>\n",
              "      <td>2</td>\n",
              "      <td>3</td>\n",
              "      <td>...</td>\n",
              "      <td>4</td>\n",
              "      <td>4</td>\n",
              "      <td>1</td>\n",
              "      <td>10</td>\n",
              "      <td>3</td>\n",
              "      <td>3</td>\n",
              "      <td>10</td>\n",
              "      <td>7</td>\n",
              "      <td>1</td>\n",
              "      <td>7</td>\n",
              "    </tr>\n",
              "    <tr>\n",
              "      <th>2</th>\n",
              "      <td>37</td>\n",
              "      <td>Yes</td>\n",
              "      <td>Travel_Rarely</td>\n",
              "      <td>1373</td>\n",
              "      <td>Research &amp; Development</td>\n",
              "      <td>2</td>\n",
              "      <td>2</td>\n",
              "      <td>Other</td>\n",
              "      <td>4</td>\n",
              "      <td>4</td>\n",
              "      <td>...</td>\n",
              "      <td>3</td>\n",
              "      <td>2</td>\n",
              "      <td>0</td>\n",
              "      <td>7</td>\n",
              "      <td>3</td>\n",
              "      <td>3</td>\n",
              "      <td>0</td>\n",
              "      <td>0</td>\n",
              "      <td>0</td>\n",
              "      <td>0</td>\n",
              "    </tr>\n",
              "    <tr>\n",
              "      <th>3</th>\n",
              "      <td>33</td>\n",
              "      <td>No</td>\n",
              "      <td>Travel_Frequently</td>\n",
              "      <td>1392</td>\n",
              "      <td>Research &amp; Development</td>\n",
              "      <td>3</td>\n",
              "      <td>4</td>\n",
              "      <td>Life Sciences</td>\n",
              "      <td>5</td>\n",
              "      <td>4</td>\n",
              "      <td>...</td>\n",
              "      <td>3</td>\n",
              "      <td>3</td>\n",
              "      <td>0</td>\n",
              "      <td>8</td>\n",
              "      <td>3</td>\n",
              "      <td>3</td>\n",
              "      <td>8</td>\n",
              "      <td>7</td>\n",
              "      <td>3</td>\n",
              "      <td>0</td>\n",
              "    </tr>\n",
              "    <tr>\n",
              "      <th>4</th>\n",
              "      <td>27</td>\n",
              "      <td>No</td>\n",
              "      <td>Travel_Rarely</td>\n",
              "      <td>591</td>\n",
              "      <td>Research &amp; Development</td>\n",
              "      <td>2</td>\n",
              "      <td>1</td>\n",
              "      <td>Medical</td>\n",
              "      <td>7</td>\n",
              "      <td>1</td>\n",
              "      <td>...</td>\n",
              "      <td>3</td>\n",
              "      <td>4</td>\n",
              "      <td>1</td>\n",
              "      <td>6</td>\n",
              "      <td>3</td>\n",
              "      <td>3</td>\n",
              "      <td>2</td>\n",
              "      <td>2</td>\n",
              "      <td>2</td>\n",
              "      <td>2</td>\n",
              "    </tr>\n",
              "  </tbody>\n",
              "</table>\n",
              "<p>5 rows × 33 columns</p>\n",
              "</div>\n",
              "    <div class=\"colab-df-buttons\">\n",
              "\n",
              "  <div class=\"colab-df-container\">\n",
              "    <button class=\"colab-df-convert\" onclick=\"convertToInteractive('df-e2046823-fb96-4373-9dcc-b6c80c364c13')\"\n",
              "            title=\"Convert this dataframe to an interactive table.\"\n",
              "            style=\"display:none;\">\n",
              "\n",
              "  <svg xmlns=\"http://www.w3.org/2000/svg\" height=\"24px\" viewBox=\"0 -960 960 960\">\n",
              "    <path d=\"M120-120v-720h720v720H120Zm60-500h600v-160H180v160Zm220 220h160v-160H400v160Zm0 220h160v-160H400v160ZM180-400h160v-160H180v160Zm440 0h160v-160H620v160ZM180-180h160v-160H180v160Zm440 0h160v-160H620v160Z\"/>\n",
              "  </svg>\n",
              "    </button>\n",
              "\n",
              "  <style>\n",
              "    .colab-df-container {\n",
              "      display:flex;\n",
              "      gap: 12px;\n",
              "    }\n",
              "\n",
              "    .colab-df-convert {\n",
              "      background-color: #E8F0FE;\n",
              "      border: none;\n",
              "      border-radius: 50%;\n",
              "      cursor: pointer;\n",
              "      display: none;\n",
              "      fill: #1967D2;\n",
              "      height: 32px;\n",
              "      padding: 0 0 0 0;\n",
              "      width: 32px;\n",
              "    }\n",
              "\n",
              "    .colab-df-convert:hover {\n",
              "      background-color: #E2EBFA;\n",
              "      box-shadow: 0px 1px 2px rgba(60, 64, 67, 0.3), 0px 1px 3px 1px rgba(60, 64, 67, 0.15);\n",
              "      fill: #174EA6;\n",
              "    }\n",
              "\n",
              "    .colab-df-buttons div {\n",
              "      margin-bottom: 4px;\n",
              "    }\n",
              "\n",
              "    [theme=dark] .colab-df-convert {\n",
              "      background-color: #3B4455;\n",
              "      fill: #D2E3FC;\n",
              "    }\n",
              "\n",
              "    [theme=dark] .colab-df-convert:hover {\n",
              "      background-color: #434B5C;\n",
              "      box-shadow: 0px 1px 3px 1px rgba(0, 0, 0, 0.15);\n",
              "      filter: drop-shadow(0px 1px 2px rgba(0, 0, 0, 0.3));\n",
              "      fill: #FFFFFF;\n",
              "    }\n",
              "  </style>\n",
              "\n",
              "    <script>\n",
              "      const buttonEl =\n",
              "        document.querySelector('#df-e2046823-fb96-4373-9dcc-b6c80c364c13 button.colab-df-convert');\n",
              "      buttonEl.style.display =\n",
              "        google.colab.kernel.accessAllowed ? 'block' : 'none';\n",
              "\n",
              "      async function convertToInteractive(key) {\n",
              "        const element = document.querySelector('#df-e2046823-fb96-4373-9dcc-b6c80c364c13');\n",
              "        const dataTable =\n",
              "          await google.colab.kernel.invokeFunction('convertToInteractive',\n",
              "                                                    [key], {});\n",
              "        if (!dataTable) return;\n",
              "\n",
              "        const docLinkHtml = 'Like what you see? Visit the ' +\n",
              "          '<a target=\"_blank\" href=https://colab.research.google.com/notebooks/data_table.ipynb>data table notebook</a>'\n",
              "          + ' to learn more about interactive tables.';\n",
              "        element.innerHTML = '';\n",
              "        dataTable['output_type'] = 'display_data';\n",
              "        await google.colab.output.renderOutput(dataTable, element);\n",
              "        const docLink = document.createElement('div');\n",
              "        docLink.innerHTML = docLinkHtml;\n",
              "        element.appendChild(docLink);\n",
              "      }\n",
              "    </script>\n",
              "  </div>\n",
              "\n",
              "\n",
              "<div id=\"df-7f5e7627-140d-460e-b359-7aa5c3e9c580\">\n",
              "  <button class=\"colab-df-quickchart\" onclick=\"quickchart('df-7f5e7627-140d-460e-b359-7aa5c3e9c580')\"\n",
              "            title=\"Suggest charts\"\n",
              "            style=\"display:none;\">\n",
              "\n",
              "<svg xmlns=\"http://www.w3.org/2000/svg\" height=\"24px\"viewBox=\"0 0 24 24\"\n",
              "     width=\"24px\">\n",
              "    <g>\n",
              "        <path d=\"M19 3H5c-1.1 0-2 .9-2 2v14c0 1.1.9 2 2 2h14c1.1 0 2-.9 2-2V5c0-1.1-.9-2-2-2zM9 17H7v-7h2v7zm4 0h-2V7h2v10zm4 0h-2v-4h2v4z\"/>\n",
              "    </g>\n",
              "</svg>\n",
              "  </button>\n",
              "\n",
              "<style>\n",
              "  .colab-df-quickchart {\n",
              "      --bg-color: #E8F0FE;\n",
              "      --fill-color: #1967D2;\n",
              "      --hover-bg-color: #E2EBFA;\n",
              "      --hover-fill-color: #174EA6;\n",
              "      --disabled-fill-color: #AAA;\n",
              "      --disabled-bg-color: #DDD;\n",
              "  }\n",
              "\n",
              "  [theme=dark] .colab-df-quickchart {\n",
              "      --bg-color: #3B4455;\n",
              "      --fill-color: #D2E3FC;\n",
              "      --hover-bg-color: #434B5C;\n",
              "      --hover-fill-color: #FFFFFF;\n",
              "      --disabled-bg-color: #3B4455;\n",
              "      --disabled-fill-color: #666;\n",
              "  }\n",
              "\n",
              "  .colab-df-quickchart {\n",
              "    background-color: var(--bg-color);\n",
              "    border: none;\n",
              "    border-radius: 50%;\n",
              "    cursor: pointer;\n",
              "    display: none;\n",
              "    fill: var(--fill-color);\n",
              "    height: 32px;\n",
              "    padding: 0;\n",
              "    width: 32px;\n",
              "  }\n",
              "\n",
              "  .colab-df-quickchart:hover {\n",
              "    background-color: var(--hover-bg-color);\n",
              "    box-shadow: 0 1px 2px rgba(60, 64, 67, 0.3), 0 1px 3px 1px rgba(60, 64, 67, 0.15);\n",
              "    fill: var(--button-hover-fill-color);\n",
              "  }\n",
              "\n",
              "  .colab-df-quickchart-complete:disabled,\n",
              "  .colab-df-quickchart-complete:disabled:hover {\n",
              "    background-color: var(--disabled-bg-color);\n",
              "    fill: var(--disabled-fill-color);\n",
              "    box-shadow: none;\n",
              "  }\n",
              "\n",
              "  .colab-df-spinner {\n",
              "    border: 2px solid var(--fill-color);\n",
              "    border-color: transparent;\n",
              "    border-bottom-color: var(--fill-color);\n",
              "    animation:\n",
              "      spin 1s steps(1) infinite;\n",
              "  }\n",
              "\n",
              "  @keyframes spin {\n",
              "    0% {\n",
              "      border-color: transparent;\n",
              "      border-bottom-color: var(--fill-color);\n",
              "      border-left-color: var(--fill-color);\n",
              "    }\n",
              "    20% {\n",
              "      border-color: transparent;\n",
              "      border-left-color: var(--fill-color);\n",
              "      border-top-color: var(--fill-color);\n",
              "    }\n",
              "    30% {\n",
              "      border-color: transparent;\n",
              "      border-left-color: var(--fill-color);\n",
              "      border-top-color: var(--fill-color);\n",
              "      border-right-color: var(--fill-color);\n",
              "    }\n",
              "    40% {\n",
              "      border-color: transparent;\n",
              "      border-right-color: var(--fill-color);\n",
              "      border-top-color: var(--fill-color);\n",
              "    }\n",
              "    60% {\n",
              "      border-color: transparent;\n",
              "      border-right-color: var(--fill-color);\n",
              "    }\n",
              "    80% {\n",
              "      border-color: transparent;\n",
              "      border-right-color: var(--fill-color);\n",
              "      border-bottom-color: var(--fill-color);\n",
              "    }\n",
              "    90% {\n",
              "      border-color: transparent;\n",
              "      border-bottom-color: var(--fill-color);\n",
              "    }\n",
              "  }\n",
              "</style>\n",
              "\n",
              "  <script>\n",
              "    async function quickchart(key) {\n",
              "      const quickchartButtonEl =\n",
              "        document.querySelector('#' + key + ' button');\n",
              "      quickchartButtonEl.disabled = true;  // To prevent multiple clicks.\n",
              "      quickchartButtonEl.classList.add('colab-df-spinner');\n",
              "      try {\n",
              "        const charts = await google.colab.kernel.invokeFunction(\n",
              "            'suggestCharts', [key], {});\n",
              "      } catch (error) {\n",
              "        console.error('Error during call to suggestCharts:', error);\n",
              "      }\n",
              "      quickchartButtonEl.classList.remove('colab-df-spinner');\n",
              "      quickchartButtonEl.classList.add('colab-df-quickchart-complete');\n",
              "    }\n",
              "    (() => {\n",
              "      let quickchartButtonEl =\n",
              "        document.querySelector('#df-7f5e7627-140d-460e-b359-7aa5c3e9c580 button');\n",
              "      quickchartButtonEl.style.display =\n",
              "        google.colab.kernel.accessAllowed ? 'block' : 'none';\n",
              "    })();\n",
              "  </script>\n",
              "</div>\n",
              "    </div>\n",
              "  </div>\n"
            ]
          },
          "metadata": {},
          "execution_count": 185
        }
      ]
    },
    {
      "cell_type": "markdown",
      "source": [
        "3.- Realiza una partición de los datos en Entrenamiento, Validación y Prueba, del 70%, 15% y\n",
        "15%, respectivamente. Llama a dichos conjuntos Xtrain, Xval, Xtest, ytrain, yval, ytest, para\n",
        "los datos de entrada y de salida, respectivamente. Asegúrate que dicha partición conserve\n",
        "la estratificación de las clases de la variable “Attrition”.\n"
      ],
      "metadata": {
        "id": "-4oOwRPmYKmK"
      }
    },
    {
      "cell_type": "code",
      "source": [
        "from sklearn.model_selection import train_test_split\n",
        "\n",
        "X = hr_attrition_df.drop('Attrition', axis=1)\n",
        "y = hr_attrition_df['Attrition']\n",
        "\n",
        "# Realizar la partición estratificada\n",
        "X_train, X_temp, y_train, y_temp = train_test_split(X, y, test_size=0.3, stratify=y, random_state=42)\n",
        "\n",
        "# Dividir el conjunto temporal en conjuntos de validación y prueba (mitad y mitad)\n",
        "X_val, X_test, y_val, y_test = train_test_split(X_temp, y_temp, test_size=0.5, stratify=y_temp, random_state=42)"
      ],
      "metadata": {
        "id": "o7y3xgycySiw"
      },
      "execution_count": 186,
      "outputs": []
    },
    {
      "cell_type": "markdown",
      "source": [
        "a)\n",
        "*   Despliega la dimensión obtenida de los tres conjuntos: Entrenamiento, Validación y\n",
        "Prueba.\n"
      ],
      "metadata": {
        "id": "mJajLFDSYQ7h"
      }
    },
    {
      "cell_type": "code",
      "source": [
        "# Mostrar las formas (shapes) de los conjuntos resultantes\n",
        "print(\"Train shapes:\", X_train.shape, y_train.shape,)\n",
        "print(\"Validation shapes:\", X_val.shape, y_val.shape)\n",
        "print(\"Test shapes:\", X_test.shape, y_test.shape)"
      ],
      "metadata": {
        "colab": {
          "base_uri": "https://localhost:8080/"
        },
        "id": "ZDTD_1l2yUM8",
        "outputId": "7c40d7cf-001a-47ff-cb28-bb2548657406"
      },
      "execution_count": 187,
      "outputs": [
        {
          "output_type": "stream",
          "name": "stdout",
          "text": [
            "Train shapes: (1029, 32) (1029,)\n",
            "Validation shapes: (220, 32) (220,)\n",
            "Test shapes: (221, 32) (221,)\n"
          ]
        }
      ]
    },
    {
      "cell_type": "markdown",
      "source": [
        "4.-Usando solamente el conjunto de Entrenamiento, obtener los histogramas de las variables\n",
        "numéricas.\n"
      ],
      "metadata": {
        "id": "1DFtRxb-YYs6"
      }
    },
    {
      "cell_type": "code",
      "source": [
        "\n",
        "numeric_variables = X_train.select_dtypes(include='number')\n",
        "\n",
        "fig, axes = plt.subplots(nrows=len(numeric_variables.columns) // 2, ncols=2, figsize=(30, 40))\n",
        "fig.tight_layout(pad=5.0)\n",
        "\n",
        "for i, column in enumerate(numeric_variables.columns):\n",
        "    row, col = i // 2, i % 2\n",
        "    axes[row, col].hist(X_train[column], bins=20, color='skyblue', edgecolor='black')\n",
        "    axes[row, col].set_title(column)\n",
        "    axes[row, col].set_xlabel('Value')\n",
        "    axes[row, col].set_ylabel('Frequency')\n",
        "\n",
        "plt.show()"
      ],
      "metadata": {
        "colab": {
          "base_uri": "https://localhost:8080/",
          "height": 1000
        },
        "id": "33xgWdhH8MoI",
        "outputId": "728ffc1e-8929-45d5-c4ce-c2d7261b22ac"
      },
      "execution_count": 188,
      "outputs": [
        {
          "output_type": "display_data",
          "data": {
            "text/plain": [
              "<Figure size 3000x4000 with 24 Axes>"
            ],
            "image/png": "[encoded data removed]"
          },
          "metadata": {}
        }
      ]
    },
    {
      "cell_type": "markdown",
      "source": [
        "\n",
        "a)\n",
        "*   Con base a estos gráficos ¿qué tipo de transformaciones sugieres llevar a cabo en\n",
        "dichas variables?\n",
        "*   Aplica las transformaciones que hayas determinado realizar, evitando el\n",
        "filtrado de información (data-leakage). A estas nuevas variables\n",
        "transformadas llamarlas XtrainT, XvalT y XtestT."
      ],
      "metadata": {
        "id": "_BDJMBdWYg8X"
      }
    },
    {
      "cell_type": "code",
      "source": [
        "print('Se pueden identificar valores mayores al rango de 0-1 por lo tanto se aplicara una transformacion de escalamiento, utilizaremos la transformacion de z-score')\n",
        "print('Tambien se le aplicara un transformacion a los datos para que su distribucion sea mas simetrica')\n",
        "print('Y a los valores categoricos se les realizara una transformacion de codificacion')"
      ],
      "metadata": {
        "colab": {
          "base_uri": "https://localhost:8080/"
        },
        "id": "aeHyJuh7orq4",
        "outputId": "7c444cfc-70c6-422f-b5f1-193391d67389"
      },
      "execution_count": 189,
      "outputs": [
        {
          "output_type": "stream",
          "name": "stdout",
          "text": [
            "Se pueden identificar valores mayores al rango de 0-1 por lo tanto se aplicara una transformacion de escalamiento, utilizaremos la transformacion de z-score\n",
            "Tambien se le aplicara un transformacion a los datos para que su distribucion sea mas simetrica\n",
            "Y a los valores categoricos se les realizara una transformacion de codificacion\n"
          ]
        }
      ]
    },
    {
      "cell_type": "code",
      "source": [
        "from sklearn.preprocessing import PowerTransformer\n",
        "\n",
        "# Inicializa el transformador Yeo-Johnson\n",
        "transformer = PowerTransformer(method='yeo-johnson', standardize=False)\n",
        "numeric_variables = X_train.select_dtypes(include=['int64', 'float64'])\n",
        "for var in numeric_variables:\n",
        "    X_train[[var]] = transformer.fit_transform(X_train[[var]])\n",
        "    X_val[[var]] = transformer.transform(X_val[[var]])\n",
        "    X_test[[var]] = transformer.transform(X_test[[var]])"
      ],
      "metadata": {
        "id": "JB6Ry9qdpoHL"
      },
      "execution_count": 190,
      "outputs": []
    },
    {
      "cell_type": "code",
      "source": [
        "from sklearn.preprocessing import StandardScaler\n",
        "\n",
        "# Inicializa el transformador Yeo-Johnson\n",
        "scaler = StandardScaler()\n",
        "for var in numeric_variables:\n",
        "    X_train[[var]] = scaler.fit_transform(X_train[[var]])\n",
        "    X_val[[var]] = scaler.transform(X_val[[var]])\n",
        "    X_test[[var]] = scaler.transform(X_test[[var]])"
      ],
      "metadata": {
        "id": "b0QAZNv-tYRu"
      },
      "execution_count": 191,
      "outputs": []
    },
    {
      "cell_type": "markdown",
      "source": [
        "5.-Aplica la transformación LabelEncoder() de sklearn a todas las variables binarias,\n",
        "evitando el filtrado de información."
      ],
      "metadata": {
        "id": "L4hlocvKYlDs"
      }
    },
    {
      "cell_type": "code",
      "source": [
        "from sklearn.preprocessing import LabelEncoder\n",
        "label_encoder = LabelEncoder()\n",
        "categorical_variables = X_train.select_dtypes(include='object').columns\n",
        "\n",
        "for var in categorical_variables:\n",
        "    X_train[var] = label_encoder.fit_transform(X_train[var])\n",
        "    X_val[var] = label_encoder.transform(X_val[var])\n",
        "    X_test[var] = label_encoder.transform(X_test[var])"
      ],
      "metadata": {
        "id": "FimOhlSJrkuj"
      },
      "execution_count": 192,
      "outputs": []
    },
    {
      "cell_type": "code",
      "source": [
        "X_trainT = X_train.copy()\n",
        "X_valT = X_val.copy()\n",
        "X_testT = X_test.copy()"
      ],
      "metadata": {
        "id": "wouis0MHuOYP"
      },
      "execution_count": 193,
      "outputs": []
    },
    {
      "cell_type": "markdown",
      "source": [
        "\n",
        "a)\n",
        "*   En particular, obtener la distribución de las clases de la variable de salida\n",
        "“Attrition”. Con base a dicha distribución, ¿podemos considerar que tenemos un\n",
        "problema de datos no balanceados?\n"
      ],
      "metadata": {
        "id": "Gkb6jJKjYukO"
      }
    },
    {
      "cell_type": "code",
      "source": [
        "print('Si se puede ver que los datos no estan balanceados por eso aplicamos la tranformacion debox-cot para tener una distribucion mas balanceada')"
      ],
      "metadata": {
        "colab": {
          "base_uri": "https://localhost:8080/"
        },
        "id": "zwcxvooYuzla",
        "outputId": "edb21c6b-4f7a-4b0a-dcc7-699f322c013b"
      },
      "execution_count": 194,
      "outputs": [
        {
          "output_type": "stream",
          "name": "stdout",
          "text": [
            "Si se puede ver que los datos no estan balanceados por eso aplicamos la tranformacion debox-cot para tener una distribucion mas balanceada\n"
          ]
        }
      ]
    },
    {
      "cell_type": "markdown",
      "source": [
        "6.- Realiza una inspección de las variables ordinales y determina qué transformaciones\n",
        "aplicarles, en caso de aplicar alguna. Justifica la decisión que tomes.\n"
      ],
      "metadata": {
        "id": "fiWwEkVuYunO"
      }
    },
    {
      "cell_type": "code",
      "source": [
        "#transformaciones\n",
        "from sklearn.preprocessing import OneHotEncoder\n",
        "encoder = OneHotEncoder(drop='first')\n",
        "#identificar variables nominales y ordinales\n",
        "ordinal_categorical_variables = ['BusinessTravel','EducationField']\n",
        "for var in ordinal_categorical_variables:\n",
        "    X_train[[var]] = encoder.fit_transform(X_train[[var]])\n",
        "    X_val[[var]] = encoder.transform(X_val[[var]])\n",
        "    X_test[[var]] = encoder.transform(X_test[[var]])"
      ],
      "metadata": {
        "id": "FqrpZXy4u_pV"
      },
      "execution_count": 195,
      "outputs": []
    },
    {
      "cell_type": "markdown",
      "source": [
        "7 Obtener la matriz de correlación de los factores obtenidos hasta el momento. Debes\n",
        "incluir la variable “Attrition”.\n"
      ],
      "metadata": {
        "id": "LEoyk9i3Yupy"
      }
    },
    {
      "cell_type": "code",
      "source": [
        "\n",
        "# Concatenar X_train y y_train\n",
        "train_data = pd.concat([X_train, y_train], axis=1)\n",
        "\n",
        "#convertir valores a numericos\n",
        "train_data['attrition_numeric'] = train_data['Attrition'].map({'Yes': 1, 'No': 0})\n",
        "\n",
        "#Correlacion\n",
        "correlation_matrix = train_data.corr()\n",
        "correlation_with_attrition = correlation_matrix['attrition_numeric'].sort_values(ascending=True)\n",
        "correlation_with_attrition"
      ],
      "metadata": {
        "colab": {
          "base_uri": "https://localhost:8080/"
        },
        "id": "iiceOBxpv8TO",
        "outputId": "e470aaac-4a19-4051-8139-57d6bff0ce25"
      },
      "execution_count": 196,
      "outputs": [
        {
          "output_type": "stream",
          "name": "stderr",
          "text": [
            "<ipython-input-196-17f189fa5a95>:8: FutureWarning: The default value of numeric_only in DataFrame.corr is deprecated. In a future version, it will default to False. Select only valid columns or specify the value of numeric_only to silence this warning.\n",
            "  correlation_matrix = train_data.corr()\n"
          ]
        },
        {
          "output_type": "execute_result",
          "data": {
            "text/plain": [
              "TotalWorkingYears          -0.234477\n",
              "YearsAtCompany             -0.220676\n",
              "MonthlyIncome              -0.218410\n",
              "YearsWithCurrManager       -0.211185\n",
              "Age                        -0.201524\n",
              "YearsInCurrentRole         -0.200589\n",
              "JobLevel                   -0.187801\n",
              "StockOptionLevel           -0.184527\n",
              "JobInvolvement             -0.114748\n",
              "EnvironmentSatisfaction    -0.107632\n",
              "JobSatisfaction            -0.105733\n",
              "YearsSinceLastPromotion    -0.073545\n",
              "WorkLifeBalance            -0.070491\n",
              "DailyRate                  -0.062438\n",
              "RelationshipSatisfaction   -0.060546\n",
              "TrainingTimesLastYear      -0.048750\n",
              "HourlyRate                 -0.042494\n",
              "Education                  -0.035624\n",
              "PercentSalaryHike          -0.026890\n",
              "PerformanceRating           0.002557\n",
              "MonthlyRate                 0.018729\n",
              "EmployeeNumber              0.028165\n",
              "Gender                      0.035458\n",
              "JobRole                     0.062030\n",
              "NumCompaniesWorked          0.064763\n",
              "Department                  0.074633\n",
              "DistanceFromHome            0.078597\n",
              "MaritalStatus               0.158253\n",
              "OverTime                    0.216307\n",
              "attrition_numeric           1.000000\n",
              "Over18                           NaN\n",
              "Name: attrition_numeric, dtype: float64"
            ]
          },
          "metadata": {},
          "execution_count": 196
        }
      ]
    },
    {
      "cell_type": "code",
      "source": [],
      "metadata": {
        "id": "vep1113G0aXJ"
      },
      "execution_count": 196,
      "outputs": []
    },
    {
      "cell_type": "markdown",
      "source": [
        "a)\n",
        "*   Indica las correlaciones positivas “fuertes” entre pares de factores que encuentres\n",
        "dentro de la matriz.\n"
      ],
      "metadata": {
        "id": "mMNBVFcAYuvI"
      }
    },
    {
      "cell_type": "code",
      "source": [
        "correlation_with_attrition_df = pd.DataFrame(correlation_with_attrition)\n",
        "corr_positiva= correlation_with_attrition_df.query('attrition_numeric > 0')\n",
        "corr_positiva"
      ],
      "metadata": {
        "colab": {
          "base_uri": "https://localhost:8080/",
          "height": 394
        },
        "id": "g7c6EVVY0Le8",
        "outputId": "0bd355ff-96df-4d4c-f9ee-b453eed49c81"
      },
      "execution_count": 197,
      "outputs": [
        {
          "output_type": "execute_result",
          "data": {
            "text/plain": [
              "                    attrition_numeric\n",
              "PerformanceRating            0.002557\n",
              "MonthlyRate                  0.018729\n",
              "EmployeeNumber               0.028165\n",
              "Gender                       0.035458\n",
              "JobRole                      0.062030\n",
              "NumCompaniesWorked           0.064763\n",
              "Department                   0.074633\n",
              "DistanceFromHome             0.078597\n",
              "MaritalStatus                0.158253\n",
              "OverTime                     0.216307\n",
              "attrition_numeric            1.000000"
            ],
            "text/html": [
              "\n",
              "  <div id=\"df-d28d208b-c8e5-4900-97b5-de052a959b80\" class=\"colab-df-container\">\n",
              "    <div>\n",
              "<style scoped>\n",
              "    .dataframe tbody tr th:only-of-type {\n",
              "        vertical-align: middle;\n",
              "    }\n",
              "\n",
              "    .dataframe tbody tr th {\n",
              "        vertical-align: top;\n",
              "    }\n",
              "\n",
              "    .dataframe thead th {\n",
              "        text-align: right;\n",
              "    }\n",
              "</style>\n",
              "<table border=\"1\" class=\"dataframe\">\n",
              "  <thead>\n",
              "    <tr style=\"text-align: right;\">\n",
              "      <th></th>\n",
              "      <th>attrition_numeric</th>\n",
              "    </tr>\n",
              "  </thead>\n",
              "  <tbody>\n",
              "    <tr>\n",
              "      <th>PerformanceRating</th>\n",
              "      <td>0.002557</td>\n",
              "    </tr>\n",
              "    <tr>\n",
              "      <th>MonthlyRate</th>\n",
              "      <td>0.018729</td>\n",
              "    </tr>\n",
              "    <tr>\n",
              "      <th>EmployeeNumber</th>\n",
              "      <td>0.028165</td>\n",
              "    </tr>\n",
              "    <tr>\n",
              "      <th>Gender</th>\n",
              "      <td>0.035458</td>\n",
              "    </tr>\n",
              "    <tr>\n",
              "      <th>JobRole</th>\n",
              "      <td>0.062030</td>\n",
              "    </tr>\n",
              "    <tr>\n",
              "      <th>NumCompaniesWorked</th>\n",
              "      <td>0.064763</td>\n",
              "    </tr>\n",
              "    <tr>\n",
              "      <th>Department</th>\n",
              "      <td>0.074633</td>\n",
              "    </tr>\n",
              "    <tr>\n",
              "      <th>DistanceFromHome</th>\n",
              "      <td>0.078597</td>\n",
              "    </tr>\n",
              "    <tr>\n",
              "      <th>MaritalStatus</th>\n",
              "      <td>0.158253</td>\n",
              "    </tr>\n",
              "    <tr>\n",
              "      <th>OverTime</th>\n",
              "      <td>0.216307</td>\n",
              "    </tr>\n",
              "    <tr>\n",
              "      <th>attrition_numeric</th>\n",
              "      <td>1.000000</td>\n",
              "    </tr>\n",
              "  </tbody>\n",
              "</table>\n",
              "</div>\n",
              "    <div class=\"colab-df-buttons\">\n",
              "\n",
              "  <div class=\"colab-df-container\">\n",
              "    <button class=\"colab-df-convert\" onclick=\"convertToInteractive('df-d28d208b-c8e5-4900-97b5-de052a959b80')\"\n",
              "            title=\"Convert this dataframe to an interactive table.\"\n",
              "            style=\"display:none;\">\n",
              "\n",
              "  <svg xmlns=\"http://www.w3.org/2000/svg\" height=\"24px\" viewBox=\"0 -960 960 960\">\n",
              "    <path d=\"M120-120v-720h720v720H120Zm60-500h600v-160H180v160Zm220 220h160v-160H400v160Zm0 220h160v-160H400v160ZM180-400h160v-160H180v160Zm440 0h160v-160H620v160ZM180-180h160v-160H180v160Zm440 0h160v-160H620v160Z\"/>\n",
              "  </svg>\n",
              "    </button>\n",
              "\n",
              "  <style>\n",
              "    .colab-df-container {\n",
              "      display:flex;\n",
              "      gap: 12px;\n",
              "    }\n",
              "\n",
              "    .colab-df-convert {\n",
              "      background-color: #E8F0FE;\n",
              "      border: none;\n",
              "      border-radius: 50%;\n",
              "      cursor: pointer;\n",
              "      display: none;\n",
              "      fill: #1967D2;\n",
              "      height: 32px;\n",
              "      padding: 0 0 0 0;\n",
              "      width: 32px;\n",
              "    }\n",
              "\n",
              "    .colab-df-convert:hover {\n",
              "      background-color: #E2EBFA;\n",
              "      box-shadow: 0px 1px 2px rgba(60, 64, 67, 0.3), 0px 1px 3px 1px rgba(60, 64, 67, 0.15);\n",
              "      fill: #174EA6;\n",
              "    }\n",
              "\n",
              "    .colab-df-buttons div {\n",
              "      margin-bottom: 4px;\n",
              "    }\n",
              "\n",
              "    [theme=dark] .colab-df-convert {\n",
              "      background-color: #3B4455;\n",
              "      fill: #D2E3FC;\n",
              "    }\n",
              "\n",
              "    [theme=dark] .colab-df-convert:hover {\n",
              "      background-color: #434B5C;\n",
              "      box-shadow: 0px 1px 3px 1px rgba(0, 0, 0, 0.15);\n",
              "      filter: drop-shadow(0px 1px 2px rgba(0, 0, 0, 0.3));\n",
              "      fill: #FFFFFF;\n",
              "    }\n",
              "  </style>\n",
              "\n",
              "    <script>\n",
              "      const buttonEl =\n",
              "        document.querySelector('#df-d28d208b-c8e5-4900-97b5-de052a959b80 button.colab-df-convert');\n",
              "      buttonEl.style.display =\n",
              "        google.colab.kernel.accessAllowed ? 'block' : 'none';\n",
              "\n",
              "      async function convertToInteractive(key) {\n",
              "        const element = document.querySelector('#df-d28d208b-c8e5-4900-97b5-de052a959b80');\n",
              "        const dataTable =\n",
              "          await google.colab.kernel.invokeFunction('convertToInteractive',\n",
              "                                                    [key], {});\n",
              "        if (!dataTable) return;\n",
              "\n",
              "        const docLinkHtml = 'Like what you see? Visit the ' +\n",
              "          '<a target=\"_blank\" href=https://colab.research.google.com/notebooks/data_table.ipynb>data table notebook</a>'\n",
              "          + ' to learn more about interactive tables.';\n",
              "        element.innerHTML = '';\n",
              "        dataTable['output_type'] = 'display_data';\n",
              "        await google.colab.output.renderOutput(dataTable, element);\n",
              "        const docLink = document.createElement('div');\n",
              "        docLink.innerHTML = docLinkHtml;\n",
              "        element.appendChild(docLink);\n",
              "      }\n",
              "    </script>\n",
              "  </div>\n",
              "\n",
              "\n",
              "<div id=\"df-386f5d74-857e-4abd-90a5-b8c7c806ab18\">\n",
              "  <button class=\"colab-df-quickchart\" onclick=\"quickchart('df-386f5d74-857e-4abd-90a5-b8c7c806ab18')\"\n",
              "            title=\"Suggest charts\"\n",
              "            style=\"display:none;\">\n",
              "\n",
              "<svg xmlns=\"http://www.w3.org/2000/svg\" height=\"24px\"viewBox=\"0 0 24 24\"\n",
              "     width=\"24px\">\n",
              "    <g>\n",
              "        <path d=\"M19 3H5c-1.1 0-2 .9-2 2v14c0 1.1.9 2 2 2h14c1.1 0 2-.9 2-2V5c0-1.1-.9-2-2-2zM9 17H7v-7h2v7zm4 0h-2V7h2v10zm4 0h-2v-4h2v4z\"/>\n",
              "    </g>\n",
              "</svg>\n",
              "  </button>\n",
              "\n",
              "<style>\n",
              "  .colab-df-quickchart {\n",
              "      --bg-color: #E8F0FE;\n",
              "      --fill-color: #1967D2;\n",
              "      --hover-bg-color: #E2EBFA;\n",
              "      --hover-fill-color: #174EA6;\n",
              "      --disabled-fill-color: #AAA;\n",
              "      --disabled-bg-color: #DDD;\n",
              "  }\n",
              "\n",
              "  [theme=dark] .colab-df-quickchart {\n",
              "      --bg-color: #3B4455;\n",
              "      --fill-color: #D2E3FC;\n",
              "      --hover-bg-color: #434B5C;\n",
              "      --hover-fill-color: #FFFFFF;\n",
              "      --disabled-bg-color: #3B4455;\n",
              "      --disabled-fill-color: #666;\n",
              "  }\n",
              "\n",
              "  .colab-df-quickchart {\n",
              "    background-color: var(--bg-color);\n",
              "    border: none;\n",
              "    border-radius: 50%;\n",
              "    cursor: pointer;\n",
              "    display: none;\n",
              "    fill: var(--fill-color);\n",
              "    height: 32px;\n",
              "    padding: 0;\n",
              "    width: 32px;\n",
              "  }\n",
              "\n",
              "  .colab-df-quickchart:hover {\n",
              "    background-color: var(--hover-bg-color);\n",
              "    box-shadow: 0 1px 2px rgba(60, 64, 67, 0.3), 0 1px 3px 1px rgba(60, 64, 67, 0.15);\n",
              "    fill: var(--button-hover-fill-color);\n",
              "  }\n",
              "\n",
              "  .colab-df-quickchart-complete:disabled,\n",
              "  .colab-df-quickchart-complete:disabled:hover {\n",
              "    background-color: var(--disabled-bg-color);\n",
              "    fill: var(--disabled-fill-color);\n",
              "    box-shadow: none;\n",
              "  }\n",
              "\n",
              "  .colab-df-spinner {\n",
              "    border: 2px solid var(--fill-color);\n",
              "    border-color: transparent;\n",
              "    border-bottom-color: var(--fill-color);\n",
              "    animation:\n",
              "      spin 1s steps(1) infinite;\n",
              "  }\n",
              "\n",
              "  @keyframes spin {\n",
              "    0% {\n",
              "      border-color: transparent;\n",
              "      border-bottom-color: var(--fill-color);\n",
              "      border-left-color: var(--fill-color);\n",
              "    }\n",
              "    20% {\n",
              "      border-color: transparent;\n",
              "      border-left-color: var(--fill-color);\n",
              "      border-top-color: var(--fill-color);\n",
              "    }\n",
              "    30% {\n",
              "      border-color: transparent;\n",
              "      border-left-color: var(--fill-color);\n",
              "      border-top-color: var(--fill-color);\n",
              "      border-right-color: var(--fill-color);\n",
              "    }\n",
              "    40% {\n",
              "      border-color: transparent;\n",
              "      border-right-color: var(--fill-color);\n",
              "      border-top-color: var(--fill-color);\n",
              "    }\n",
              "    60% {\n",
              "      border-color: transparent;\n",
              "      border-right-color: var(--fill-color);\n",
              "    }\n",
              "    80% {\n",
              "      border-color: transparent;\n",
              "      border-right-color: var(--fill-color);\n",
              "      border-bottom-color: var(--fill-color);\n",
              "    }\n",
              "    90% {\n",
              "      border-color: transparent;\n",
              "      border-bottom-color: var(--fill-color);\n",
              "    }\n",
              "  }\n",
              "</style>\n",
              "\n",
              "  <script>\n",
              "    async function quickchart(key) {\n",
              "      const quickchartButtonEl =\n",
              "        document.querySelector('#' + key + ' button');\n",
              "      quickchartButtonEl.disabled = true;  // To prevent multiple clicks.\n",
              "      quickchartButtonEl.classList.add('colab-df-spinner');\n",
              "      try {\n",
              "        const charts = await google.colab.kernel.invokeFunction(\n",
              "            'suggestCharts', [key], {});\n",
              "      } catch (error) {\n",
              "        console.error('Error during call to suggestCharts:', error);\n",
              "      }\n",
              "      quickchartButtonEl.classList.remove('colab-df-spinner');\n",
              "      quickchartButtonEl.classList.add('colab-df-quickchart-complete');\n",
              "    }\n",
              "    (() => {\n",
              "      let quickchartButtonEl =\n",
              "        document.querySelector('#df-386f5d74-857e-4abd-90a5-b8c7c806ab18 button');\n",
              "      quickchartButtonEl.style.display =\n",
              "        google.colab.kernel.accessAllowed ? 'block' : 'none';\n",
              "    })();\n",
              "  </script>\n",
              "</div>\n",
              "    </div>\n",
              "  </div>\n"
            ]
          },
          "metadata": {},
          "execution_count": 197
        }
      ]
    },
    {
      "cell_type": "markdown",
      "source": [
        "b)\n",
        "*   Indica las correlaciones negativas “fuertes” entre pares de factores que encuentres\n",
        "dentro de la matriz."
      ],
      "metadata": {
        "id": "LOdGnJwAYuxg"
      }
    },
    {
      "cell_type": "code",
      "source": [
        "corr_negativa= correlation_with_attrition_df.query('attrition_numeric < 0')\n",
        "corr_negativa"
      ],
      "metadata": {
        "colab": {
          "base_uri": "https://localhost:8080/",
          "height": 645
        },
        "id": "upr2iosrzidd",
        "outputId": "5d2c4134-a6e1-4bdd-d702-60c5cc932bf4"
      },
      "execution_count": 198,
      "outputs": [
        {
          "output_type": "execute_result",
          "data": {
            "text/plain": [
              "                          attrition_numeric\n",
              "TotalWorkingYears                 -0.234477\n",
              "YearsAtCompany                    -0.220676\n",
              "MonthlyIncome                     -0.218410\n",
              "YearsWithCurrManager              -0.211185\n",
              "Age                               -0.201524\n",
              "YearsInCurrentRole                -0.200589\n",
              "JobLevel                          -0.187801\n",
              "StockOptionLevel                  -0.184527\n",
              "JobInvolvement                    -0.114748\n",
              "EnvironmentSatisfaction           -0.107632\n",
              "JobSatisfaction                   -0.105733\n",
              "YearsSinceLastPromotion           -0.073545\n",
              "WorkLifeBalance                   -0.070491\n",
              "DailyRate                         -0.062438\n",
              "RelationshipSatisfaction          -0.060546\n",
              "TrainingTimesLastYear             -0.048750\n",
              "HourlyRate                        -0.042494\n",
              "Education                         -0.035624\n",
              "PercentSalaryHike                 -0.026890"
            ],
            "text/html": [
              "\n",
              "  <div id=\"df-01e7b55d-b9ac-4c5b-b670-21f6e16f9850\" class=\"colab-df-container\">\n",
              "    <div>\n",
              "<style scoped>\n",
              "    .dataframe tbody tr th:only-of-type {\n",
              "        vertical-align: middle;\n",
              "    }\n",
              "\n",
              "    .dataframe tbody tr th {\n",
              "        vertical-align: top;\n",
              "    }\n",
              "\n",
              "    .dataframe thead th {\n",
              "        text-align: right;\n",
              "    }\n",
              "</style>\n",
              "<table border=\"1\" class=\"dataframe\">\n",
              "  <thead>\n",
              "    <tr style=\"text-align: right;\">\n",
              "      <th></th>\n",
              "      <th>attrition_numeric</th>\n",
              "    </tr>\n",
              "  </thead>\n",
              "  <tbody>\n",
              "    <tr>\n",
              "      <th>TotalWorkingYears</th>\n",
              "      <td>-0.234477</td>\n",
              "    </tr>\n",
              "    <tr>\n",
              "      <th>YearsAtCompany</th>\n",
              "      <td>-0.220676</td>\n",
              "    </tr>\n",
              "    <tr>\n",
              "      <th>MonthlyIncome</th>\n",
              "      <td>-0.218410</td>\n",
              "    </tr>\n",
              "    <tr>\n",
              "      <th>YearsWithCurrManager</th>\n",
              "      <td>-0.211185</td>\n",
              "    </tr>\n",
              "    <tr>\n",
              "      <th>Age</th>\n",
              "      <td>-0.201524</td>\n",
              "    </tr>\n",
              "    <tr>\n",
              "      <th>YearsInCurrentRole</th>\n",
              "      <td>-0.200589</td>\n",
              "    </tr>\n",
              "    <tr>\n",
              "      <th>JobLevel</th>\n",
              "      <td>-0.187801</td>\n",
              "    </tr>\n",
              "    <tr>\n",
              "      <th>StockOptionLevel</th>\n",
              "      <td>-0.184527</td>\n",
              "    </tr>\n",
              "    <tr>\n",
              "      <th>JobInvolvement</th>\n",
              "      <td>-0.114748</td>\n",
              "    </tr>\n",
              "    <tr>\n",
              "      <th>EnvironmentSatisfaction</th>\n",
              "      <td>-0.107632</td>\n",
              "    </tr>\n",
              "    <tr>\n",
              "      <th>JobSatisfaction</th>\n",
              "      <td>-0.105733</td>\n",
              "    </tr>\n",
              "    <tr>\n",
              "      <th>YearsSinceLastPromotion</th>\n",
              "      <td>-0.073545</td>\n",
              "    </tr>\n",
              "    <tr>\n",
              "      <th>WorkLifeBalance</th>\n",
              "      <td>-0.070491</td>\n",
              "    </tr>\n",
              "    <tr>\n",
              "      <th>DailyRate</th>\n",
              "      <td>-0.062438</td>\n",
              "    </tr>\n",
              "    <tr>\n",
              "      <th>RelationshipSatisfaction</th>\n",
              "      <td>-0.060546</td>\n",
              "    </tr>\n",
              "    <tr>\n",
              "      <th>TrainingTimesLastYear</th>\n",
              "      <td>-0.048750</td>\n",
              "    </tr>\n",
              "    <tr>\n",
              "      <th>HourlyRate</th>\n",
              "      <td>-0.042494</td>\n",
              "    </tr>\n",
              "    <tr>\n",
              "      <th>Education</th>\n",
              "      <td>-0.035624</td>\n",
              "    </tr>\n",
              "    <tr>\n",
              "      <th>PercentSalaryHike</th>\n",
              "      <td>-0.026890</td>\n",
              "    </tr>\n",
              "  </tbody>\n",
              "</table>\n",
              "</div>\n",
              "    <div class=\"colab-df-buttons\">\n",
              "\n",
              "  <div class=\"colab-df-container\">\n",
              "    <button class=\"colab-df-convert\" onclick=\"convertToInteractive('df-01e7b55d-b9ac-4c5b-b670-21f6e16f9850')\"\n",
              "            title=\"Convert this dataframe to an interactive table.\"\n",
              "            style=\"display:none;\">\n",
              "\n",
              "  <svg xmlns=\"http://www.w3.org/2000/svg\" height=\"24px\" viewBox=\"0 -960 960 960\">\n",
              "    <path d=\"M120-120v-720h720v720H120Zm60-500h600v-160H180v160Zm220 220h160v-160H400v160Zm0 220h160v-160H400v160ZM180-400h160v-160H180v160Zm440 0h160v-160H620v160ZM180-180h160v-160H180v160Zm440 0h160v-160H620v160Z\"/>\n",
              "  </svg>\n",
              "    </button>\n",
              "\n",
              "  <style>\n",
              "    .colab-df-container {\n",
              "      display:flex;\n",
              "      gap: 12px;\n",
              "    }\n",
              "\n",
              "    .colab-df-convert {\n",
              "      background-color: #E8F0FE;\n",
              "      border: none;\n",
              "      border-radius: 50%;\n",
              "      cursor: pointer;\n",
              "      display: none;\n",
              "      fill: #1967D2;\n",
              "      height: 32px;\n",
              "      padding: 0 0 0 0;\n",
              "      width: 32px;\n",
              "    }\n",
              "\n",
              "    .colab-df-convert:hover {\n",
              "      background-color: #E2EBFA;\n",
              "      box-shadow: 0px 1px 2px rgba(60, 64, 67, 0.3), 0px 1px 3px 1px rgba(60, 64, 67, 0.15);\n",
              "      fill: #174EA6;\n",
              "    }\n",
              "\n",
              "    .colab-df-buttons div {\n",
              "      margin-bottom: 4px;\n",
              "    }\n",
              "\n",
              "    [theme=dark] .colab-df-convert {\n",
              "      background-color: #3B4455;\n",
              "      fill: #D2E3FC;\n",
              "    }\n",
              "\n",
              "    [theme=dark] .colab-df-convert:hover {\n",
              "      background-color: #434B5C;\n",
              "      box-shadow: 0px 1px 3px 1px rgba(0, 0, 0, 0.15);\n",
              "      filter: drop-shadow(0px 1px 2px rgba(0, 0, 0, 0.3));\n",
              "      fill: #FFFFFF;\n",
              "    }\n",
              "  </style>\n",
              "\n",
              "    <script>\n",
              "      const buttonEl =\n",
              "        document.querySelector('#df-01e7b55d-b9ac-4c5b-b670-21f6e16f9850 button.colab-df-convert');\n",
              "      buttonEl.style.display =\n",
              "        google.colab.kernel.accessAllowed ? 'block' : 'none';\n",
              "\n",
              "      async function convertToInteractive(key) {\n",
              "        const element = document.querySelector('#df-01e7b55d-b9ac-4c5b-b670-21f6e16f9850');\n",
              "        const dataTable =\n",
              "          await google.colab.kernel.invokeFunction('convertToInteractive',\n",
              "                                                    [key], {});\n",
              "        if (!dataTable) return;\n",
              "\n",
              "        const docLinkHtml = 'Like what you see? Visit the ' +\n",
              "          '<a target=\"_blank\" href=https://colab.research.google.com/notebooks/data_table.ipynb>data table notebook</a>'\n",
              "          + ' to learn more about interactive tables.';\n",
              "        element.innerHTML = '';\n",
              "        dataTable['output_type'] = 'display_data';\n",
              "        await google.colab.output.renderOutput(dataTable, element);\n",
              "        const docLink = document.createElement('div');\n",
              "        docLink.innerHTML = docLinkHtml;\n",
              "        element.appendChild(docLink);\n",
              "      }\n",
              "    </script>\n",
              "  </div>\n",
              "\n",
              "\n",
              "<div id=\"df-f88670bf-64df-447f-b911-1e2412a4cd9c\">\n",
              "  <button class=\"colab-df-quickchart\" onclick=\"quickchart('df-f88670bf-64df-447f-b911-1e2412a4cd9c')\"\n",
              "            title=\"Suggest charts\"\n",
              "            style=\"display:none;\">\n",
              "\n",
              "<svg xmlns=\"http://www.w3.org/2000/svg\" height=\"24px\"viewBox=\"0 0 24 24\"\n",
              "     width=\"24px\">\n",
              "    <g>\n",
              "        <path d=\"M19 3H5c-1.1 0-2 .9-2 2v14c0 1.1.9 2 2 2h14c1.1 0 2-.9 2-2V5c0-1.1-.9-2-2-2zM9 17H7v-7h2v7zm4 0h-2V7h2v10zm4 0h-2v-4h2v4z\"/>\n",
              "    </g>\n",
              "</svg>\n",
              "  </button>\n",
              "\n",
              "<style>\n",
              "  .colab-df-quickchart {\n",
              "      --bg-color: #E8F0FE;\n",
              "      --fill-color: #1967D2;\n",
              "      --hover-bg-color: #E2EBFA;\n",
              "      --hover-fill-color: #174EA6;\n",
              "      --disabled-fill-color: #AAA;\n",
              "      --disabled-bg-color: #DDD;\n",
              "  }\n",
              "\n",
              "  [theme=dark] .colab-df-quickchart {\n",
              "      --bg-color: #3B4455;\n",
              "      --fill-color: #D2E3FC;\n",
              "      --hover-bg-color: #434B5C;\n",
              "      --hover-fill-color: #FFFFFF;\n",
              "      --disabled-bg-color: #3B4455;\n",
              "      --disabled-fill-color: #666;\n",
              "  }\n",
              "\n",
              "  .colab-df-quickchart {\n",
              "    background-color: var(--bg-color);\n",
              "    border: none;\n",
              "    border-radius: 50%;\n",
              "    cursor: pointer;\n",
              "    display: none;\n",
              "    fill: var(--fill-color);\n",
              "    height: 32px;\n",
              "    padding: 0;\n",
              "    width: 32px;\n",
              "  }\n",
              "\n",
              "  .colab-df-quickchart:hover {\n",
              "    background-color: var(--hover-bg-color);\n",
              "    box-shadow: 0 1px 2px rgba(60, 64, 67, 0.3), 0 1px 3px 1px rgba(60, 64, 67, 0.15);\n",
              "    fill: var(--button-hover-fill-color);\n",
              "  }\n",
              "\n",
              "  .colab-df-quickchart-complete:disabled,\n",
              "  .colab-df-quickchart-complete:disabled:hover {\n",
              "    background-color: var(--disabled-bg-color);\n",
              "    fill: var(--disabled-fill-color);\n",
              "    box-shadow: none;\n",
              "  }\n",
              "\n",
              "  .colab-df-spinner {\n",
              "    border: 2px solid var(--fill-color);\n",
              "    border-color: transparent;\n",
              "    border-bottom-color: var(--fill-color);\n",
              "    animation:\n",
              "      spin 1s steps(1) infinite;\n",
              "  }\n",
              "\n",
              "  @keyframes spin {\n",
              "    0% {\n",
              "      border-color: transparent;\n",
              "      border-bottom-color: var(--fill-color);\n",
              "      border-left-color: var(--fill-color);\n",
              "    }\n",
              "    20% {\n",
              "      border-color: transparent;\n",
              "      border-left-color: var(--fill-color);\n",
              "      border-top-color: var(--fill-color);\n",
              "    }\n",
              "    30% {\n",
              "      border-color: transparent;\n",
              "      border-left-color: var(--fill-color);\n",
              "      border-top-color: var(--fill-color);\n",
              "      border-right-color: var(--fill-color);\n",
              "    }\n",
              "    40% {\n",
              "      border-color: transparent;\n",
              "      border-right-color: var(--fill-color);\n",
              "      border-top-color: var(--fill-color);\n",
              "    }\n",
              "    60% {\n",
              "      border-color: transparent;\n",
              "      border-right-color: var(--fill-color);\n",
              "    }\n",
              "    80% {\n",
              "      border-color: transparent;\n",
              "      border-right-color: var(--fill-color);\n",
              "      border-bottom-color: var(--fill-color);\n",
              "    }\n",
              "    90% {\n",
              "      border-color: transparent;\n",
              "      border-bottom-color: var(--fill-color);\n",
              "    }\n",
              "  }\n",
              "</style>\n",
              "\n",
              "  <script>\n",
              "    async function quickchart(key) {\n",
              "      const quickchartButtonEl =\n",
              "        document.querySelector('#' + key + ' button');\n",
              "      quickchartButtonEl.disabled = true;  // To prevent multiple clicks.\n",
              "      quickchartButtonEl.classList.add('colab-df-spinner');\n",
              "      try {\n",
              "        const charts = await google.colab.kernel.invokeFunction(\n",
              "            'suggestCharts', [key], {});\n",
              "      } catch (error) {\n",
              "        console.error('Error during call to suggestCharts:', error);\n",
              "      }\n",
              "      quickchartButtonEl.classList.remove('colab-df-spinner');\n",
              "      quickchartButtonEl.classList.add('colab-df-quickchart-complete');\n",
              "    }\n",
              "    (() => {\n",
              "      let quickchartButtonEl =\n",
              "        document.querySelector('#df-f88670bf-64df-447f-b911-1e2412a4cd9c button');\n",
              "      quickchartButtonEl.style.display =\n",
              "        google.colab.kernel.accessAllowed ? 'block' : 'none';\n",
              "    })();\n",
              "  </script>\n",
              "</div>\n",
              "    </div>\n",
              "  </div>\n"
            ]
          },
          "metadata": {},
          "execution_count": 198
        }
      ]
    },
    {
      "cell_type": "markdown",
      "source": [
        "8.- Aplica la transformación get_dummies() de Pandas a las variables nominales, evitando el\n",
        "filtrado de información y usando el argumento “drop_first” para generar “k-1” variables\n",
        "“dummies”, de las “k” que cada variable.\n"
      ],
      "metadata": {
        "id": "lcpLFl2dYuz-"
      }
    },
    {
      "cell_type": "code",
      "source": [
        "nominal_categorical_variables = ['Department','JobRole','MaritalStatus']\n",
        "# Aplica la transformación get_dummies a las variables nominales\n",
        "X_train = pd.get_dummies(X_train, columns=nominal_categorical_variables, drop_first=True)\n",
        "X_val = pd.get_dummies(X_val, columns=nominal_categorical_variables, drop_first=True)\n",
        "X_test = pd.get_dummies(X_test, columns=nominal_categorical_variables, drop_first=True)"
      ],
      "metadata": {
        "id": "-6OtDhPs5plN"
      },
      "execution_count": 199,
      "outputs": []
    },
    {
      "cell_type": "markdown",
      "source": [
        "9.- Usa la instrucción XtrainT.head().T, para desplegar los primeros registros de tus datos de\n",
        "entrenamiento con todas las transformaciones realizadas hasta ahora.\n",
        "NOTA: Hasta aquí, los nombres de tus variables deben seguir siendo los mismos: XtrainT,\n",
        "XvalT, XtestT, ytrainT, yvalT, ytestT.\n",
        "\n"
      ],
      "metadata": {
        "id": "dTGn8qLNYu2Q"
      }
    },
    {
      "cell_type": "markdown",
      "source": [
        "a)\n",
        "*   Despliega las dimensiones de los conjuntos XtrainT, XvalT y XtestT."
      ],
      "metadata": {
        "id": "6xGNvINZZHEH"
      }
    },
    {
      "cell_type": "code",
      "source": [
        "X_trainT.head()"
      ],
      "metadata": {
        "colab": {
          "base_uri": "https://localhost:8080/",
          "height": 255
        },
        "id": "X010mq3n77OG",
        "outputId": "0b1b4335-6a1b-45f7-c736-49dc2e0797b6"
      },
      "execution_count": 200,
      "outputs": [
        {
          "output_type": "execute_result",
          "data": {
            "text/plain": [
              "           Age  BusinessTravel  DailyRate  Department  DistanceFromHome  \\\n",
              "853  -2.391887               2  -0.347553           1          0.348865   \n",
              "435  -0.353325               2   1.141375           1          0.905166   \n",
              "587   1.527326               2   1.246078           1          0.563410   \n",
              "1170 -1.124560               1  -0.487993           1         -1.028925   \n",
              "159  -0.235577               1  -1.300662           2         -1.028925   \n",
              "\n",
              "      Education  EducationField  EmployeeNumber  EnvironmentSatisfaction  \\\n",
              "853   -0.892418               1        0.384716                 0.226553   \n",
              "435   -1.745796               3       -0.622562                -0.696247   \n",
              "587    1.095098               1       -0.214118                 1.233457   \n",
              "1170   0.060530               3        1.025994                 1.233457   \n",
              "159    1.095098               2       -1.406515                 0.226553   \n",
              "\n",
              "      Gender  ...  PerformanceRating  RelationshipSatisfaction  \\\n",
              "853        1  ...       4.857226e-17                  0.182557   \n",
              "435        1  ...      -6.938894e-18                  1.197420   \n",
              "587        0  ...       4.857226e-17                 -0.734785   \n",
              "1170       1  ...      -6.938894e-18                  0.182557   \n",
              "159        0  ...      -6.938894e-18                  1.197420   \n",
              "\n",
              "      StockOptionLevel  TotalWorkingYears  TrainingTimesLastYear  \\\n",
              "853          -1.091279          -2.023489               1.018793   \n",
              "435          -1.091279           0.652257              -0.556046   \n",
              "587           0.549654          -0.105623               0.269258   \n",
              "1170         -1.091279          -0.613636              -2.644319   \n",
              "159           0.549654          -0.613636               0.269258   \n",
              "\n",
              "      WorkLifeBalance  YearsAtCompany  YearsInCurrentRole  \\\n",
              "853          0.273666       -1.445727           -0.920176   \n",
              "435          1.975866        0.323378            0.680377   \n",
              "587          0.273666       -0.068153           -0.458391   \n",
              "1170        -1.096718       -0.309430           -0.458391   \n",
              "159          0.273666       -0.309430           -0.099711   \n",
              "\n",
              "      YearsSinceLastPromotion  YearsWithCurrManager  \n",
              "853                 -1.103143             -1.549324  \n",
              "435                  1.456410              0.907359  \n",
              "587                  0.087639              0.230119  \n",
              "1170                 0.087639             -0.417512  \n",
              "159                  0.087639             -0.417512  \n",
              "\n",
              "[5 rows x 32 columns]"
            ],
            "text/html": [
              "\n",
              "  <div id=\"df-75c67b94-2f65-4732-8f4e-1c8b44225a16\" class=\"colab-df-container\">\n",
              "    <div>\n",
              "<style scoped>\n",
              "    .dataframe tbody tr th:only-of-type {\n",
              "        vertical-align: middle;\n",
              "    }\n",
              "\n",
              "    .dataframe tbody tr th {\n",
              "        vertical-align: top;\n",
              "    }\n",
              "\n",
              "    .dataframe thead th {\n",
              "        text-align: right;\n",
              "    }\n",
              "</style>\n",
              "<table border=\"1\" class=\"dataframe\">\n",
              "  <thead>\n",
              "    <tr style=\"text-align: right;\">\n",
              "      <th></th>\n",
              "      <th>Age</th>\n",
              "      <th>BusinessTravel</th>\n",
              "      <th>DailyRate</th>\n",
              "      <th>Department</th>\n",
              "      <th>DistanceFromHome</th>\n",
              "      <th>Education</th>\n",
              "      <th>EducationField</th>\n",
              "      <th>EmployeeNumber</th>\n",
              "      <th>EnvironmentSatisfaction</th>\n",
              "      <th>Gender</th>\n",
              "      <th>...</th>\n",
              "      <th>PerformanceRating</th>\n",
              "      <th>RelationshipSatisfaction</th>\n",
              "      <th>StockOptionLevel</th>\n",
              "      <th>TotalWorkingYears</th>\n",
              "      <th>TrainingTimesLastYear</th>\n",
              "      <th>WorkLifeBalance</th>\n",
              "      <th>YearsAtCompany</th>\n",
              "      <th>YearsInCurrentRole</th>\n",
              "      <th>YearsSinceLastPromotion</th>\n",
              "      <th>YearsWithCurrManager</th>\n",
              "    </tr>\n",
              "  </thead>\n",
              "  <tbody>\n",
              "    <tr>\n",
              "      <th>853</th>\n",
              "      <td>-2.391887</td>\n",
              "      <td>2</td>\n",
              "      <td>-0.347553</td>\n",
              "      <td>1</td>\n",
              "      <td>0.348865</td>\n",
              "      <td>-0.892418</td>\n",
              "      <td>1</td>\n",
              "      <td>0.384716</td>\n",
              "      <td>0.226553</td>\n",
              "      <td>1</td>\n",
              "      <td>...</td>\n",
              "      <td>4.857226e-17</td>\n",
              "      <td>0.182557</td>\n",
              "      <td>-1.091279</td>\n",
              "      <td>-2.023489</td>\n",
              "      <td>1.018793</td>\n",
              "      <td>0.273666</td>\n",
              "      <td>-1.445727</td>\n",
              "      <td>-0.920176</td>\n",
              "      <td>-1.103143</td>\n",
              "      <td>-1.549324</td>\n",
              "    </tr>\n",
              "    <tr>\n",
              "      <th>435</th>\n",
              "      <td>-0.353325</td>\n",
              "      <td>2</td>\n",
              "      <td>1.141375</td>\n",
              "      <td>1</td>\n",
              "      <td>0.905166</td>\n",
              "      <td>-1.745796</td>\n",
              "      <td>3</td>\n",
              "      <td>-0.622562</td>\n",
              "      <td>-0.696247</td>\n",
              "      <td>1</td>\n",
              "      <td>...</td>\n",
              "      <td>-6.938894e-18</td>\n",
              "      <td>1.197420</td>\n",
              "      <td>-1.091279</td>\n",
              "      <td>0.652257</td>\n",
              "      <td>-0.556046</td>\n",
              "      <td>1.975866</td>\n",
              "      <td>0.323378</td>\n",
              "      <td>0.680377</td>\n",
              "      <td>1.456410</td>\n",
              "      <td>0.907359</td>\n",
              "    </tr>\n",
              "    <tr>\n",
              "      <th>587</th>\n",
              "      <td>1.527326</td>\n",
              "      <td>2</td>\n",
              "      <td>1.246078</td>\n",
              "      <td>1</td>\n",
              "      <td>0.563410</td>\n",
              "      <td>1.095098</td>\n",
              "      <td>1</td>\n",
              "      <td>-0.214118</td>\n",
              "      <td>1.233457</td>\n",
              "      <td>0</td>\n",
              "      <td>...</td>\n",
              "      <td>4.857226e-17</td>\n",
              "      <td>-0.734785</td>\n",
              "      <td>0.549654</td>\n",
              "      <td>-0.105623</td>\n",
              "      <td>0.269258</td>\n",
              "      <td>0.273666</td>\n",
              "      <td>-0.068153</td>\n",
              "      <td>-0.458391</td>\n",
              "      <td>0.087639</td>\n",
              "      <td>0.230119</td>\n",
              "    </tr>\n",
              "    <tr>\n",
              "      <th>1170</th>\n",
              "      <td>-1.124560</td>\n",
              "      <td>1</td>\n",
              "      <td>-0.487993</td>\n",
              "      <td>1</td>\n",
              "      <td>-1.028925</td>\n",
              "      <td>0.060530</td>\n",
              "      <td>3</td>\n",
              "      <td>1.025994</td>\n",
              "      <td>1.233457</td>\n",
              "      <td>1</td>\n",
              "      <td>...</td>\n",
              "      <td>-6.938894e-18</td>\n",
              "      <td>0.182557</td>\n",
              "      <td>-1.091279</td>\n",
              "      <td>-0.613636</td>\n",
              "      <td>-2.644319</td>\n",
              "      <td>-1.096718</td>\n",
              "      <td>-0.309430</td>\n",
              "      <td>-0.458391</td>\n",
              "      <td>0.087639</td>\n",
              "      <td>-0.417512</td>\n",
              "    </tr>\n",
              "    <tr>\n",
              "      <th>159</th>\n",
              "      <td>-0.235577</td>\n",
              "      <td>1</td>\n",
              "      <td>-1.300662</td>\n",
              "      <td>2</td>\n",
              "      <td>-1.028925</td>\n",
              "      <td>1.095098</td>\n",
              "      <td>2</td>\n",
              "      <td>-1.406515</td>\n",
              "      <td>0.226553</td>\n",
              "      <td>0</td>\n",
              "      <td>...</td>\n",
              "      <td>-6.938894e-18</td>\n",
              "      <td>1.197420</td>\n",
              "      <td>0.549654</td>\n",
              "      <td>-0.613636</td>\n",
              "      <td>0.269258</td>\n",
              "      <td>0.273666</td>\n",
              "      <td>-0.309430</td>\n",
              "      <td>-0.099711</td>\n",
              "      <td>0.087639</td>\n",
              "      <td>-0.417512</td>\n",
              "    </tr>\n",
              "  </tbody>\n",
              "</table>\n",
              "<p>5 rows × 32 columns</p>\n",
              "</div>\n",
              "    <div class=\"colab-df-buttons\">\n",
              "\n",
              "  <div class=\"colab-df-container\">\n",
              "    <button class=\"colab-df-convert\" onclick=\"convertToInteractive('df-75c67b94-2f65-4732-8f4e-1c8b44225a16')\"\n",
              "            title=\"Convert this dataframe to an interactive table.\"\n",
              "            style=\"display:none;\">\n",
              "\n",
              "  <svg xmlns=\"http://www.w3.org/2000/svg\" height=\"24px\" viewBox=\"0 -960 960 960\">\n",
              "    <path d=\"M120-120v-720h720v720H120Zm60-500h600v-160H180v160Zm220 220h160v-160H400v160Zm0 220h160v-160H400v160ZM180-400h160v-160H180v160Zm440 0h160v-160H620v160ZM180-180h160v-160H180v160Zm440 0h160v-160H620v160Z\"/>\n",
              "  </svg>\n",
              "    </button>\n",
              "\n",
              "  <style>\n",
              "    .colab-df-container {\n",
              "      display:flex;\n",
              "      gap: 12px;\n",
              "    }\n",
              "\n",
              "    .colab-df-convert {\n",
              "      background-color: #E8F0FE;\n",
              "      border: none;\n",
              "      border-radius: 50%;\n",
              "      cursor: pointer;\n",
              "      display: none;\n",
              "      fill: #1967D2;\n",
              "      height: 32px;\n",
              "      padding: 0 0 0 0;\n",
              "      width: 32px;\n",
              "    }\n",
              "\n",
              "    .colab-df-convert:hover {\n",
              "      background-color: #E2EBFA;\n",
              "      box-shadow: 0px 1px 2px rgba(60, 64, 67, 0.3), 0px 1px 3px 1px rgba(60, 64, 67, 0.15);\n",
              "      fill: #174EA6;\n",
              "    }\n",
              "\n",
              "    .colab-df-buttons div {\n",
              "      margin-bottom: 4px;\n",
              "    }\n",
              "\n",
              "    [theme=dark] .colab-df-convert {\n",
              "      background-color: #3B4455;\n",
              "      fill: #D2E3FC;\n",
              "    }\n",
              "\n",
              "    [theme=dark] .colab-df-convert:hover {\n",
              "      background-color: #434B5C;\n",
              "      box-shadow: 0px 1px 3px 1px rgba(0, 0, 0, 0.15);\n",
              "      filter: drop-shadow(0px 1px 2px rgba(0, 0, 0, 0.3));\n",
              "      fill: #FFFFFF;\n",
              "    }\n",
              "  </style>\n",
              "\n",
              "    <script>\n",
              "      const buttonEl =\n",
              "        document.querySelector('#df-75c67b94-2f65-4732-8f4e-1c8b44225a16 button.colab-df-convert');\n",
              "      buttonEl.style.display =\n",
              "        google.colab.kernel.accessAllowed ? 'block' : 'none';\n",
              "\n",
              "      async function convertToInteractive(key) {\n",
              "        const element = document.querySelector('#df-75c67b94-2f65-4732-8f4e-1c8b44225a16');\n",
              "        const dataTable =\n",
              "          await google.colab.kernel.invokeFunction('convertToInteractive',\n",
              "                                                    [key], {});\n",
              "        if (!dataTable) return;\n",
              "\n",
              "        const docLinkHtml = 'Like what you see? Visit the ' +\n",
              "          '<a target=\"_blank\" href=https://colab.research.google.com/notebooks/data_table.ipynb>data table notebook</a>'\n",
              "          + ' to learn more about interactive tables.';\n",
              "        element.innerHTML = '';\n",
              "        dataTable['output_type'] = 'display_data';\n",
              "        await google.colab.output.renderOutput(dataTable, element);\n",
              "        const docLink = document.createElement('div');\n",
              "        docLink.innerHTML = docLinkHtml;\n",
              "        element.appendChild(docLink);\n",
              "      }\n",
              "    </script>\n",
              "  </div>\n",
              "\n",
              "\n",
              "<div id=\"df-adabe486-9aea-4a4c-97c0-5c628177732e\">\n",
              "  <button class=\"colab-df-quickchart\" onclick=\"quickchart('df-adabe486-9aea-4a4c-97c0-5c628177732e')\"\n",
              "            title=\"Suggest charts\"\n",
              "            style=\"display:none;\">\n",
              "\n",
              "<svg xmlns=\"http://www.w3.org/2000/svg\" height=\"24px\"viewBox=\"0 0 24 24\"\n",
              "     width=\"24px\">\n",
              "    <g>\n",
              "        <path d=\"M19 3H5c-1.1 0-2 .9-2 2v14c0 1.1.9 2 2 2h14c1.1 0 2-.9 2-2V5c0-1.1-.9-2-2-2zM9 17H7v-7h2v7zm4 0h-2V7h2v10zm4 0h-2v-4h2v4z\"/>\n",
              "    </g>\n",
              "</svg>\n",
              "  </button>\n",
              "\n",
              "<style>\n",
              "  .colab-df-quickchart {\n",
              "      --bg-color: #E8F0FE;\n",
              "      --fill-color: #1967D2;\n",
              "      --hover-bg-color: #E2EBFA;\n",
              "      --hover-fill-color: #174EA6;\n",
              "      --disabled-fill-color: #AAA;\n",
              "      --disabled-bg-color: #DDD;\n",
              "  }\n",
              "\n",
              "  [theme=dark] .colab-df-quickchart {\n",
              "      --bg-color: #3B4455;\n",
              "      --fill-color: #D2E3FC;\n",
              "      --hover-bg-color: #434B5C;\n",
              "      --hover-fill-color: #FFFFFF;\n",
              "      --disabled-bg-color: #3B4455;\n",
              "      --disabled-fill-color: #666;\n",
              "  }\n",
              "\n",
              "  .colab-df-quickchart {\n",
              "    background-color: var(--bg-color);\n",
              "    border: none;\n",
              "    border-radius: 50%;\n",
              "    cursor: pointer;\n",
              "    display: none;\n",
              "    fill: var(--fill-color);\n",
              "    height: 32px;\n",
              "    padding: 0;\n",
              "    width: 32px;\n",
              "  }\n",
              "\n",
              "  .colab-df-quickchart:hover {\n",
              "    background-color: var(--hover-bg-color);\n",
              "    box-shadow: 0 1px 2px rgba(60, 64, 67, 0.3), 0 1px 3px 1px rgba(60, 64, 67, 0.15);\n",
              "    fill: var(--button-hover-fill-color);\n",
              "  }\n",
              "\n",
              "  .colab-df-quickchart-complete:disabled,\n",
              "  .colab-df-quickchart-complete:disabled:hover {\n",
              "    background-color: var(--disabled-bg-color);\n",
              "    fill: var(--disabled-fill-color);\n",
              "    box-shadow: none;\n",
              "  }\n",
              "\n",
              "  .colab-df-spinner {\n",
              "    border: 2px solid var(--fill-color);\n",
              "    border-color: transparent;\n",
              "    border-bottom-color: var(--fill-color);\n",
              "    animation:\n",
              "      spin 1s steps(1) infinite;\n",
              "  }\n",
              "\n",
              "  @keyframes spin {\n",
              "    0% {\n",
              "      border-color: transparent;\n",
              "      border-bottom-color: var(--fill-color);\n",
              "      border-left-color: var(--fill-color);\n",
              "    }\n",
              "    20% {\n",
              "      border-color: transparent;\n",
              "      border-left-color: var(--fill-color);\n",
              "      border-top-color: var(--fill-color);\n",
              "    }\n",
              "    30% {\n",
              "      border-color: transparent;\n",
              "      border-left-color: var(--fill-color);\n",
              "      border-top-color: var(--fill-color);\n",
              "      border-right-color: var(--fill-color);\n",
              "    }\n",
              "    40% {\n",
              "      border-color: transparent;\n",
              "      border-right-color: var(--fill-color);\n",
              "      border-top-color: var(--fill-color);\n",
              "    }\n",
              "    60% {\n",
              "      border-color: transparent;\n",
              "      border-right-color: var(--fill-color);\n",
              "    }\n",
              "    80% {\n",
              "      border-color: transparent;\n",
              "      border-right-color: var(--fill-color);\n",
              "      border-bottom-color: var(--fill-color);\n",
              "    }\n",
              "    90% {\n",
              "      border-color: transparent;\n",
              "      border-bottom-color: var(--fill-color);\n",
              "    }\n",
              "  }\n",
              "</style>\n",
              "\n",
              "  <script>\n",
              "    async function quickchart(key) {\n",
              "      const quickchartButtonEl =\n",
              "        document.querySelector('#' + key + ' button');\n",
              "      quickchartButtonEl.disabled = true;  // To prevent multiple clicks.\n",
              "      quickchartButtonEl.classList.add('colab-df-spinner');\n",
              "      try {\n",
              "        const charts = await google.colab.kernel.invokeFunction(\n",
              "            'suggestCharts', [key], {});\n",
              "      } catch (error) {\n",
              "        console.error('Error during call to suggestCharts:', error);\n",
              "      }\n",
              "      quickchartButtonEl.classList.remove('colab-df-spinner');\n",
              "      quickchartButtonEl.classList.add('colab-df-quickchart-complete');\n",
              "    }\n",
              "    (() => {\n",
              "      let quickchartButtonEl =\n",
              "        document.querySelector('#df-adabe486-9aea-4a4c-97c0-5c628177732e button');\n",
              "      quickchartButtonEl.style.display =\n",
              "        google.colab.kernel.accessAllowed ? 'block' : 'none';\n",
              "    })();\n",
              "  </script>\n",
              "</div>\n",
              "    </div>\n",
              "  </div>\n"
            ]
          },
          "metadata": {},
          "execution_count": 200
        }
      ]
    },
    {
      "cell_type": "code",
      "source": [
        "X_testT.head()"
      ],
      "metadata": {
        "colab": {
          "base_uri": "https://localhost:8080/",
          "height": 255
        },
        "id": "YNvz5omK79kh",
        "outputId": "935252a2-5451-4155-c63c-679021e45eeb"
      },
      "execution_count": 201,
      "outputs": [
        {
          "output_type": "execute_result",
          "data": {
            "text/plain": [
              "           Age  BusinessTravel  DailyRate  Department  DistanceFromHome  \\\n",
              "1280  0.102235               2   1.057825           0          0.225601   \n",
              "1212 -0.235577               2  -0.263101           1          1.173000   \n",
              "1226 -0.473875               1  -0.503781           1          0.460823   \n",
              "1379 -1.124560               1   1.272113           0          1.341987   \n",
              "684   0.419366               2  -0.314165           2          0.460823   \n",
              "\n",
              "      Education  EducationField  EmployeeNumber  EnvironmentSatisfaction  \\\n",
              "1280  -0.892418               4        1.219230                 0.226553   \n",
              "1212   0.060530               1        1.096749                -0.696247   \n",
              "1226   0.060530               1        1.121942                -1.517060   \n",
              "1379   0.060530               0        1.412605                -1.517060   \n",
              "684    1.095098               2        0.016762                -1.517060   \n",
              "\n",
              "      Gender  ...  PerformanceRating  RelationshipSatisfaction  \\\n",
              "1280       1  ...      -6.938894e-18                  0.182557   \n",
              "1212       0  ...      -6.938894e-18                 -0.734785   \n",
              "1226       1  ...      -6.938894e-18                 -1.535783   \n",
              "1379       0  ...      -6.938894e-18                 -1.535783   \n",
              "684        1  ...      -6.938894e-18                 -0.734785   \n",
              "\n",
              "      StockOptionLevel  TotalWorkingYears  TrainingTimesLastYear  \\\n",
              "1280         -1.091279           1.051162               1.018793   \n",
              "1212         -1.091279           0.039567               0.269258   \n",
              "1226          0.549654           0.039567               0.269258   \n",
              "1379         -1.091279          -2.023489              -0.556046   \n",
              "684           0.549654           0.175781              -0.556046   \n",
              "\n",
              "      WorkLifeBalance  YearsAtCompany  YearsInCurrentRole  \\\n",
              "1280        -1.096718        0.772732           -1.604469   \n",
              "1212         0.273666        0.772732            1.240639   \n",
              "1226        -1.096718       -0.068153           -0.458391   \n",
              "1379         0.273666       -1.445727           -1.604469   \n",
              "684         -1.096718       -1.445727           -1.604469   \n",
              "\n",
              "      YearsSinceLastPromotion  YearsWithCurrManager  \n",
              "1280                 1.103333              0.907359  \n",
              "1212                 1.531487              0.907359  \n",
              "1226                 0.087639             -0.063441  \n",
              "1379                -1.103143             -1.549324  \n",
              "684                 -1.103143             -1.549324  \n",
              "\n",
              "[5 rows x 32 columns]"
            ],
            "text/html": [
              "\n",
              "  <div id=\"df-ae9a4567-f88e-4629-b500-57e0daa6b479\" class=\"colab-df-container\">\n",
              "    <div>\n",
              "<style scoped>\n",
              "    .dataframe tbody tr th:only-of-type {\n",
              "        vertical-align: middle;\n",
              "    }\n",
              "\n",
              "    .dataframe tbody tr th {\n",
              "        vertical-align: top;\n",
              "    }\n",
              "\n",
              "    .dataframe thead th {\n",
              "        text-align: right;\n",
              "    }\n",
              "</style>\n",
              "<table border=\"1\" class=\"dataframe\">\n",
              "  <thead>\n",
              "    <tr style=\"text-align: right;\">\n",
              "      <th></th>\n",
              "      <th>Age</th>\n",
              "      <th>BusinessTravel</th>\n",
              "      <th>DailyRate</th>\n",
              "      <th>Department</th>\n",
              "      <th>DistanceFromHome</th>\n",
              "      <th>Education</th>\n",
              "      <th>EducationField</th>\n",
              "      <th>EmployeeNumber</th>\n",
              "      <th>EnvironmentSatisfaction</th>\n",
              "      <th>Gender</th>\n",
              "      <th>...</th>\n",
              "      <th>PerformanceRating</th>\n",
              "      <th>RelationshipSatisfaction</th>\n",
              "      <th>StockOptionLevel</th>\n",
              "      <th>TotalWorkingYears</th>\n",
              "      <th>TrainingTimesLastYear</th>\n",
              "      <th>WorkLifeBalance</th>\n",
              "      <th>YearsAtCompany</th>\n",
              "      <th>YearsInCurrentRole</th>\n",
              "      <th>YearsSinceLastPromotion</th>\n",
              "      <th>YearsWithCurrManager</th>\n",
              "    </tr>\n",
              "  </thead>\n",
              "  <tbody>\n",
              "    <tr>\n",
              "      <th>1280</th>\n",
              "      <td>0.102235</td>\n",
              "      <td>2</td>\n",
              "      <td>1.057825</td>\n",
              "      <td>0</td>\n",
              "      <td>0.225601</td>\n",
              "      <td>-0.892418</td>\n",
              "      <td>4</td>\n",
              "      <td>1.219230</td>\n",
              "      <td>0.226553</td>\n",
              "      <td>1</td>\n",
              "      <td>...</td>\n",
              "      <td>-6.938894e-18</td>\n",
              "      <td>0.182557</td>\n",
              "      <td>-1.091279</td>\n",
              "      <td>1.051162</td>\n",
              "      <td>1.018793</td>\n",
              "      <td>-1.096718</td>\n",
              "      <td>0.772732</td>\n",
              "      <td>-1.604469</td>\n",
              "      <td>1.103333</td>\n",
              "      <td>0.907359</td>\n",
              "    </tr>\n",
              "    <tr>\n",
              "      <th>1212</th>\n",
              "      <td>-0.235577</td>\n",
              "      <td>2</td>\n",
              "      <td>-0.263101</td>\n",
              "      <td>1</td>\n",
              "      <td>1.173000</td>\n",
              "      <td>0.060530</td>\n",
              "      <td>1</td>\n",
              "      <td>1.096749</td>\n",
              "      <td>-0.696247</td>\n",
              "      <td>0</td>\n",
              "      <td>...</td>\n",
              "      <td>-6.938894e-18</td>\n",
              "      <td>-0.734785</td>\n",
              "      <td>-1.091279</td>\n",
              "      <td>0.039567</td>\n",
              "      <td>0.269258</td>\n",
              "      <td>0.273666</td>\n",
              "      <td>0.772732</td>\n",
              "      <td>1.240639</td>\n",
              "      <td>1.531487</td>\n",
              "      <td>0.907359</td>\n",
              "    </tr>\n",
              "    <tr>\n",
              "      <th>1226</th>\n",
              "      <td>-0.473875</td>\n",
              "      <td>1</td>\n",
              "      <td>-0.503781</td>\n",
              "      <td>1</td>\n",
              "      <td>0.460823</td>\n",
              "      <td>0.060530</td>\n",
              "      <td>1</td>\n",
              "      <td>1.121942</td>\n",
              "      <td>-1.517060</td>\n",
              "      <td>1</td>\n",
              "      <td>...</td>\n",
              "      <td>-6.938894e-18</td>\n",
              "      <td>-1.535783</td>\n",
              "      <td>0.549654</td>\n",
              "      <td>0.039567</td>\n",
              "      <td>0.269258</td>\n",
              "      <td>-1.096718</td>\n",
              "      <td>-0.068153</td>\n",
              "      <td>-0.458391</td>\n",
              "      <td>0.087639</td>\n",
              "      <td>-0.063441</td>\n",
              "    </tr>\n",
              "    <tr>\n",
              "      <th>1379</th>\n",
              "      <td>-1.124560</td>\n",
              "      <td>1</td>\n",
              "      <td>1.272113</td>\n",
              "      <td>0</td>\n",
              "      <td>1.341987</td>\n",
              "      <td>0.060530</td>\n",
              "      <td>0</td>\n",
              "      <td>1.412605</td>\n",
              "      <td>-1.517060</td>\n",
              "      <td>0</td>\n",
              "      <td>...</td>\n",
              "      <td>-6.938894e-18</td>\n",
              "      <td>-1.535783</td>\n",
              "      <td>-1.091279</td>\n",
              "      <td>-2.023489</td>\n",
              "      <td>-0.556046</td>\n",
              "      <td>0.273666</td>\n",
              "      <td>-1.445727</td>\n",
              "      <td>-1.604469</td>\n",
              "      <td>-1.103143</td>\n",
              "      <td>-1.549324</td>\n",
              "    </tr>\n",
              "    <tr>\n",
              "      <th>684</th>\n",
              "      <td>0.419366</td>\n",
              "      <td>2</td>\n",
              "      <td>-0.314165</td>\n",
              "      <td>2</td>\n",
              "      <td>0.460823</td>\n",
              "      <td>1.095098</td>\n",
              "      <td>2</td>\n",
              "      <td>0.016762</td>\n",
              "      <td>-1.517060</td>\n",
              "      <td>1</td>\n",
              "      <td>...</td>\n",
              "      <td>-6.938894e-18</td>\n",
              "      <td>-0.734785</td>\n",
              "      <td>0.549654</td>\n",
              "      <td>0.175781</td>\n",
              "      <td>-0.556046</td>\n",
              "      <td>-1.096718</td>\n",
              "      <td>-1.445727</td>\n",
              "      <td>-1.604469</td>\n",
              "      <td>-1.103143</td>\n",
              "      <td>-1.549324</td>\n",
              "    </tr>\n",
              "  </tbody>\n",
              "</table>\n",
              "<p>5 rows × 32 columns</p>\n",
              "</div>\n",
              "    <div class=\"colab-df-buttons\">\n",
              "\n",
              "  <div class=\"colab-df-container\">\n",
              "    <button class=\"colab-df-convert\" onclick=\"convertToInteractive('df-ae9a4567-f88e-4629-b500-57e0daa6b479')\"\n",
              "            title=\"Convert this dataframe to an interactive table.\"\n",
              "            style=\"display:none;\">\n",
              "\n",
              "  <svg xmlns=\"http://www.w3.org/2000/svg\" height=\"24px\" viewBox=\"0 -960 960 960\">\n",
              "    <path d=\"M120-120v-720h720v720H120Zm60-500h600v-160H180v160Zm220 220h160v-160H400v160Zm0 220h160v-160H400v160ZM180-400h160v-160H180v160Zm440 0h160v-160H620v160ZM180-180h160v-160H180v160Zm440 0h160v-160H620v160Z\"/>\n",
              "  </svg>\n",
              "    </button>\n",
              "\n",
              "  <style>\n",
              "    .colab-df-container {\n",
              "      display:flex;\n",
              "      gap: 12px;\n",
              "    }\n",
              "\n",
              "    .colab-df-convert {\n",
              "      background-color: #E8F0FE;\n",
              "      border: none;\n",
              "      border-radius: 50%;\n",
              "      cursor: pointer;\n",
              "      display: none;\n",
              "      fill: #1967D2;\n",
              "      height: 32px;\n",
              "      padding: 0 0 0 0;\n",
              "      width: 32px;\n",
              "    }\n",
              "\n",
              "    .colab-df-convert:hover {\n",
              "      background-color: #E2EBFA;\n",
              "      box-shadow: 0px 1px 2px rgba(60, 64, 67, 0.3), 0px 1px 3px 1px rgba(60, 64, 67, 0.15);\n",
              "      fill: #174EA6;\n",
              "    }\n",
              "\n",
              "    .colab-df-buttons div {\n",
              "      margin-bottom: 4px;\n",
              "    }\n",
              "\n",
              "    [theme=dark] .colab-df-convert {\n",
              "      background-color: #3B4455;\n",
              "      fill: #D2E3FC;\n",
              "    }\n",
              "\n",
              "    [theme=dark] .colab-df-convert:hover {\n",
              "      background-color: #434B5C;\n",
              "      box-shadow: 0px 1px 3px 1px rgba(0, 0, 0, 0.15);\n",
              "      filter: drop-shadow(0px 1px 2px rgba(0, 0, 0, 0.3));\n",
              "      fill: #FFFFFF;\n",
              "    }\n",
              "  </style>\n",
              "\n",
              "    <script>\n",
              "      const buttonEl =\n",
              "        document.querySelector('#df-ae9a4567-f88e-4629-b500-57e0daa6b479 button.colab-df-convert');\n",
              "      buttonEl.style.display =\n",
              "        google.colab.kernel.accessAllowed ? 'block' : 'none';\n",
              "\n",
              "      async function convertToInteractive(key) {\n",
              "        const element = document.querySelector('#df-ae9a4567-f88e-4629-b500-57e0daa6b479');\n",
              "        const dataTable =\n",
              "          await google.colab.kernel.invokeFunction('convertToInteractive',\n",
              "                                                    [key], {});\n",
              "        if (!dataTable) return;\n",
              "\n",
              "        const docLinkHtml = 'Like what you see? Visit the ' +\n",
              "          '<a target=\"_blank\" href=https://colab.research.google.com/notebooks/data_table.ipynb>data table notebook</a>'\n",
              "          + ' to learn more about interactive tables.';\n",
              "        element.innerHTML = '';\n",
              "        dataTable['output_type'] = 'display_data';\n",
              "        await google.colab.output.renderOutput(dataTable, element);\n",
              "        const docLink = document.createElement('div');\n",
              "        docLink.innerHTML = docLinkHtml;\n",
              "        element.appendChild(docLink);\n",
              "      }\n",
              "    </script>\n",
              "  </div>\n",
              "\n",
              "\n",
              "<div id=\"df-89396f14-0992-42db-9311-431508b3b263\">\n",
              "  <button class=\"colab-df-quickchart\" onclick=\"quickchart('df-89396f14-0992-42db-9311-431508b3b263')\"\n",
              "            title=\"Suggest charts\"\n",
              "            style=\"display:none;\">\n",
              "\n",
              "<svg xmlns=\"http://www.w3.org/2000/svg\" height=\"24px\"viewBox=\"0 0 24 24\"\n",
              "     width=\"24px\">\n",
              "    <g>\n",
              "        <path d=\"M19 3H5c-1.1 0-2 .9-2 2v14c0 1.1.9 2 2 2h14c1.1 0 2-.9 2-2V5c0-1.1-.9-2-2-2zM9 17H7v-7h2v7zm4 0h-2V7h2v10zm4 0h-2v-4h2v4z\"/>\n",
              "    </g>\n",
              "</svg>\n",
              "  </button>\n",
              "\n",
              "<style>\n",
              "  .colab-df-quickchart {\n",
              "      --bg-color: #E8F0FE;\n",
              "      --fill-color: #1967D2;\n",
              "      --hover-bg-color: #E2EBFA;\n",
              "      --hover-fill-color: #174EA6;\n",
              "      --disabled-fill-color: #AAA;\n",
              "      --disabled-bg-color: #DDD;\n",
              "  }\n",
              "\n",
              "  [theme=dark] .colab-df-quickchart {\n",
              "      --bg-color: #3B4455;\n",
              "      --fill-color: #D2E3FC;\n",
              "      --hover-bg-color: #434B5C;\n",
              "      --hover-fill-color: #FFFFFF;\n",
              "      --disabled-bg-color: #3B4455;\n",
              "      --disabled-fill-color: #666;\n",
              "  }\n",
              "\n",
              "  .colab-df-quickchart {\n",
              "    background-color: var(--bg-color);\n",
              "    border: none;\n",
              "    border-radius: 50%;\n",
              "    cursor: pointer;\n",
              "    display: none;\n",
              "    fill: var(--fill-color);\n",
              "    height: 32px;\n",
              "    padding: 0;\n",
              "    width: 32px;\n",
              "  }\n",
              "\n",
              "  .colab-df-quickchart:hover {\n",
              "    background-color: var(--hover-bg-color);\n",
              "    box-shadow: 0 1px 2px rgba(60, 64, 67, 0.3), 0 1px 3px 1px rgba(60, 64, 67, 0.15);\n",
              "    fill: var(--button-hover-fill-color);\n",
              "  }\n",
              "\n",
              "  .colab-df-quickchart-complete:disabled,\n",
              "  .colab-df-quickchart-complete:disabled:hover {\n",
              "    background-color: var(--disabled-bg-color);\n",
              "    fill: var(--disabled-fill-color);\n",
              "    box-shadow: none;\n",
              "  }\n",
              "\n",
              "  .colab-df-spinner {\n",
              "    border: 2px solid var(--fill-color);\n",
              "    border-color: transparent;\n",
              "    border-bottom-color: var(--fill-color);\n",
              "    animation:\n",
              "      spin 1s steps(1) infinite;\n",
              "  }\n",
              "\n",
              "  @keyframes spin {\n",
              "    0% {\n",
              "      border-color: transparent;\n",
              "      border-bottom-color: var(--fill-color);\n",
              "      border-left-color: var(--fill-color);\n",
              "    }\n",
              "    20% {\n",
              "      border-color: transparent;\n",
              "      border-left-color: var(--fill-color);\n",
              "      border-top-color: var(--fill-color);\n",
              "    }\n",
              "    30% {\n",
              "      border-color: transparent;\n",
              "      border-left-color: var(--fill-color);\n",
              "      border-top-color: var(--fill-color);\n",
              "      border-right-color: var(--fill-color);\n",
              "    }\n",
              "    40% {\n",
              "      border-color: transparent;\n",
              "      border-right-color: var(--fill-color);\n",
              "      border-top-color: var(--fill-color);\n",
              "    }\n",
              "    60% {\n",
              "      border-color: transparent;\n",
              "      border-right-color: var(--fill-color);\n",
              "    }\n",
              "    80% {\n",
              "      border-color: transparent;\n",
              "      border-right-color: var(--fill-color);\n",
              "      border-bottom-color: var(--fill-color);\n",
              "    }\n",
              "    90% {\n",
              "      border-color: transparent;\n",
              "      border-bottom-color: var(--fill-color);\n",
              "    }\n",
              "  }\n",
              "</style>\n",
              "\n",
              "  <script>\n",
              "    async function quickchart(key) {\n",
              "      const quickchartButtonEl =\n",
              "        document.querySelector('#' + key + ' button');\n",
              "      quickchartButtonEl.disabled = true;  // To prevent multiple clicks.\n",
              "      quickchartButtonEl.classList.add('colab-df-spinner');\n",
              "      try {\n",
              "        const charts = await google.colab.kernel.invokeFunction(\n",
              "            'suggestCharts', [key], {});\n",
              "      } catch (error) {\n",
              "        console.error('Error during call to suggestCharts:', error);\n",
              "      }\n",
              "      quickchartButtonEl.classList.remove('colab-df-spinner');\n",
              "      quickchartButtonEl.classList.add('colab-df-quickchart-complete');\n",
              "    }\n",
              "    (() => {\n",
              "      let quickchartButtonEl =\n",
              "        document.querySelector('#df-89396f14-0992-42db-9311-431508b3b263 button');\n",
              "      quickchartButtonEl.style.display =\n",
              "        google.colab.kernel.accessAllowed ? 'block' : 'none';\n",
              "    })();\n",
              "  </script>\n",
              "</div>\n",
              "    </div>\n",
              "  </div>\n"
            ]
          },
          "metadata": {},
          "execution_count": 201
        }
      ]
    },
    {
      "cell_type": "code",
      "source": [
        "X_valT.head()"
      ],
      "metadata": {
        "colab": {
          "base_uri": "https://localhost:8080/",
          "height": 255
        },
        "id": "KjxbC8C979q2",
        "outputId": "dc5e295b-3d60-41b5-a926-ea61ff95a4b9"
      },
      "execution_count": 202,
      "outputs": [
        {
          "output_type": "execute_result",
          "data": {
            "text/plain": [
              "           Age  BusinessTravel  DailyRate  Department  DistanceFromHome  \\\n",
              "972  -2.577667               0   0.801173           1         -1.478052   \n",
              "132  -0.597379               2  -0.618074           2          1.231884   \n",
              "1355 -0.007923               2  -1.203386           2          1.046238   \n",
              "665   1.092881               2   1.523150           2         -1.028925   \n",
              "1468  1.270810               1   0.570606           2         -1.028925   \n",
              "\n",
              "      Education  EducationField  EmployeeNumber  EnvironmentSatisfaction  \\\n",
              "972    0.060530               1        0.639277                 1.233457   \n",
              "132    0.060530               1       -1.515031                -0.696247   \n",
              "1355  -0.892418               2        1.366642                 0.226553   \n",
              "665    1.095098               1       -0.029783                 1.233457   \n",
              "1468   0.060530               3        1.565143                 1.233457   \n",
              "\n",
              "      Gender  ...  PerformanceRating  RelationshipSatisfaction  \\\n",
              "972        0  ...      -6.938894e-18                  0.182557   \n",
              "132        0  ...      -6.938894e-18                  0.182557   \n",
              "1355       1  ...      -6.938894e-18                  0.182557   \n",
              "665        0  ...      -6.938894e-18                 -1.535783   \n",
              "1468       1  ...      -6.938894e-18                  1.197420   \n",
              "\n",
              "      StockOptionLevel  TotalWorkingYears  TrainingTimesLastYear  \\\n",
              "972          -1.091279          -2.604063               1.713000   \n",
              "132           0.549654          -1.045618              -0.556046   \n",
              "1355          1.320686           0.304259              -1.495666   \n",
              "665          -1.091279          -1.309018               0.269258   \n",
              "1468         -1.091279           0.859491               0.269258   \n",
              "\n",
              "      WorkLifeBalance  YearsAtCompany  YearsInCurrentRole  \\\n",
              "972          1.975866       -2.226537           -1.604469   \n",
              "132          0.273666       -0.958175           -0.458391   \n",
              "1355        -2.121636       -0.309430           -0.458391   \n",
              "665         -1.096718       -0.597684           -0.458391   \n",
              "1468        -1.096718        0.636452            0.680377   \n",
              "\n",
              "      YearsSinceLastPromotion  YearsWithCurrManager  \n",
              "972                 -1.103143             -1.549324  \n",
              "132                  0.600513             -0.417512  \n",
              "1355                 0.087639             -0.063441  \n",
              "665                  0.087639             -0.417512  \n",
              "1468                -1.103143              1.090510  \n",
              "\n",
              "[5 rows x 32 columns]"
            ],
            "text/html": [
              "\n",
              "  <div id=\"df-e1deabc5-565e-40c8-82aa-a13b1cb8984e\" class=\"colab-df-container\">\n",
              "    <div>\n",
              "<style scoped>\n",
              "    .dataframe tbody tr th:only-of-type {\n",
              "        vertical-align: middle;\n",
              "    }\n",
              "\n",
              "    .dataframe tbody tr th {\n",
              "        vertical-align: top;\n",
              "    }\n",
              "\n",
              "    .dataframe thead th {\n",
              "        text-align: right;\n",
              "    }\n",
              "</style>\n",
              "<table border=\"1\" class=\"dataframe\">\n",
              "  <thead>\n",
              "    <tr style=\"text-align: right;\">\n",
              "      <th></th>\n",
              "      <th>Age</th>\n",
              "      <th>BusinessTravel</th>\n",
              "      <th>DailyRate</th>\n",
              "      <th>Department</th>\n",
              "      <th>DistanceFromHome</th>\n",
              "      <th>Education</th>\n",
              "      <th>EducationField</th>\n",
              "      <th>EmployeeNumber</th>\n",
              "      <th>EnvironmentSatisfaction</th>\n",
              "      <th>Gender</th>\n",
              "      <th>...</th>\n",
              "      <th>PerformanceRating</th>\n",
              "      <th>RelationshipSatisfaction</th>\n",
              "      <th>StockOptionLevel</th>\n",
              "      <th>TotalWorkingYears</th>\n",
              "      <th>TrainingTimesLastYear</th>\n",
              "      <th>WorkLifeBalance</th>\n",
              "      <th>YearsAtCompany</th>\n",
              "      <th>YearsInCurrentRole</th>\n",
              "      <th>YearsSinceLastPromotion</th>\n",
              "      <th>YearsWithCurrManager</th>\n",
              "    </tr>\n",
              "  </thead>\n",
              "  <tbody>\n",
              "    <tr>\n",
              "      <th>972</th>\n",
              "      <td>-2.577667</td>\n",
              "      <td>0</td>\n",
              "      <td>0.801173</td>\n",
              "      <td>1</td>\n",
              "      <td>-1.478052</td>\n",
              "      <td>0.060530</td>\n",
              "      <td>1</td>\n",
              "      <td>0.639277</td>\n",
              "      <td>1.233457</td>\n",
              "      <td>0</td>\n",
              "      <td>...</td>\n",
              "      <td>-6.938894e-18</td>\n",
              "      <td>0.182557</td>\n",
              "      <td>-1.091279</td>\n",
              "      <td>-2.604063</td>\n",
              "      <td>1.713000</td>\n",
              "      <td>1.975866</td>\n",
              "      <td>-2.226537</td>\n",
              "      <td>-1.604469</td>\n",
              "      <td>-1.103143</td>\n",
              "      <td>-1.549324</td>\n",
              "    </tr>\n",
              "    <tr>\n",
              "      <th>132</th>\n",
              "      <td>-0.597379</td>\n",
              "      <td>2</td>\n",
              "      <td>-0.618074</td>\n",
              "      <td>2</td>\n",
              "      <td>1.231884</td>\n",
              "      <td>0.060530</td>\n",
              "      <td>1</td>\n",
              "      <td>-1.515031</td>\n",
              "      <td>-0.696247</td>\n",
              "      <td>0</td>\n",
              "      <td>...</td>\n",
              "      <td>-6.938894e-18</td>\n",
              "      <td>0.182557</td>\n",
              "      <td>0.549654</td>\n",
              "      <td>-1.045618</td>\n",
              "      <td>-0.556046</td>\n",
              "      <td>0.273666</td>\n",
              "      <td>-0.958175</td>\n",
              "      <td>-0.458391</td>\n",
              "      <td>0.600513</td>\n",
              "      <td>-0.417512</td>\n",
              "    </tr>\n",
              "    <tr>\n",
              "      <th>1355</th>\n",
              "      <td>-0.007923</td>\n",
              "      <td>2</td>\n",
              "      <td>-1.203386</td>\n",
              "      <td>2</td>\n",
              "      <td>1.046238</td>\n",
              "      <td>-0.892418</td>\n",
              "      <td>2</td>\n",
              "      <td>1.366642</td>\n",
              "      <td>0.226553</td>\n",
              "      <td>1</td>\n",
              "      <td>...</td>\n",
              "      <td>-6.938894e-18</td>\n",
              "      <td>0.182557</td>\n",
              "      <td>1.320686</td>\n",
              "      <td>0.304259</td>\n",
              "      <td>-1.495666</td>\n",
              "      <td>-2.121636</td>\n",
              "      <td>-0.309430</td>\n",
              "      <td>-0.458391</td>\n",
              "      <td>0.087639</td>\n",
              "      <td>-0.063441</td>\n",
              "    </tr>\n",
              "    <tr>\n",
              "      <th>665</th>\n",
              "      <td>1.092881</td>\n",
              "      <td>2</td>\n",
              "      <td>1.523150</td>\n",
              "      <td>2</td>\n",
              "      <td>-1.028925</td>\n",
              "      <td>1.095098</td>\n",
              "      <td>1</td>\n",
              "      <td>-0.029783</td>\n",
              "      <td>1.233457</td>\n",
              "      <td>0</td>\n",
              "      <td>...</td>\n",
              "      <td>-6.938894e-18</td>\n",
              "      <td>-1.535783</td>\n",
              "      <td>-1.091279</td>\n",
              "      <td>-1.309018</td>\n",
              "      <td>0.269258</td>\n",
              "      <td>-1.096718</td>\n",
              "      <td>-0.597684</td>\n",
              "      <td>-0.458391</td>\n",
              "      <td>0.087639</td>\n",
              "      <td>-0.417512</td>\n",
              "    </tr>\n",
              "    <tr>\n",
              "      <th>1468</th>\n",
              "      <td>1.270810</td>\n",
              "      <td>1</td>\n",
              "      <td>0.570606</td>\n",
              "      <td>2</td>\n",
              "      <td>-1.028925</td>\n",
              "      <td>0.060530</td>\n",
              "      <td>3</td>\n",
              "      <td>1.565143</td>\n",
              "      <td>1.233457</td>\n",
              "      <td>1</td>\n",
              "      <td>...</td>\n",
              "      <td>-6.938894e-18</td>\n",
              "      <td>1.197420</td>\n",
              "      <td>-1.091279</td>\n",
              "      <td>0.859491</td>\n",
              "      <td>0.269258</td>\n",
              "      <td>-1.096718</td>\n",
              "      <td>0.636452</td>\n",
              "      <td>0.680377</td>\n",
              "      <td>-1.103143</td>\n",
              "      <td>1.090510</td>\n",
              "    </tr>\n",
              "  </tbody>\n",
              "</table>\n",
              "<p>5 rows × 32 columns</p>\n",
              "</div>\n",
              "    <div class=\"colab-df-buttons\">\n",
              "\n",
              "  <div class=\"colab-df-container\">\n",
              "    <button class=\"colab-df-convert\" onclick=\"convertToInteractive('df-e1deabc5-565e-40c8-82aa-a13b1cb8984e')\"\n",
              "            title=\"Convert this dataframe to an interactive table.\"\n",
              "            style=\"display:none;\">\n",
              "\n",
              "  <svg xmlns=\"http://www.w3.org/2000/svg\" height=\"24px\" viewBox=\"0 -960 960 960\">\n",
              "    <path d=\"M120-120v-720h720v720H120Zm60-500h600v-160H180v160Zm220 220h160v-160H400v160Zm0 220h160v-160H400v160ZM180-400h160v-160H180v160Zm440 0h160v-160H620v160ZM180-180h160v-160H180v160Zm440 0h160v-160H620v160Z\"/>\n",
              "  </svg>\n",
              "    </button>\n",
              "\n",
              "  <style>\n",
              "    .colab-df-container {\n",
              "      display:flex;\n",
              "      gap: 12px;\n",
              "    }\n",
              "\n",
              "    .colab-df-convert {\n",
              "      background-color: #E8F0FE;\n",
              "      border: none;\n",
              "      border-radius: 50%;\n",
              "      cursor: pointer;\n",
              "      display: none;\n",
              "      fill: #1967D2;\n",
              "      height: 32px;\n",
              "      padding: 0 0 0 0;\n",
              "      width: 32px;\n",
              "    }\n",
              "\n",
              "    .colab-df-convert:hover {\n",
              "      background-color: #E2EBFA;\n",
              "      box-shadow: 0px 1px 2px rgba(60, 64, 67, 0.3), 0px 1px 3px 1px rgba(60, 64, 67, 0.15);\n",
              "      fill: #174EA6;\n",
              "    }\n",
              "\n",
              "    .colab-df-buttons div {\n",
              "      margin-bottom: 4px;\n",
              "    }\n",
              "\n",
              "    [theme=dark] .colab-df-convert {\n",
              "      background-color: #3B4455;\n",
              "      fill: #D2E3FC;\n",
              "    }\n",
              "\n",
              "    [theme=dark] .colab-df-convert:hover {\n",
              "      background-color: #434B5C;\n",
              "      box-shadow: 0px 1px 3px 1px rgba(0, 0, 0, 0.15);\n",
              "      filter: drop-shadow(0px 1px 2px rgba(0, 0, 0, 0.3));\n",
              "      fill: #FFFFFF;\n",
              "    }\n",
              "  </style>\n",
              "\n",
              "    <script>\n",
              "      const buttonEl =\n",
              "        document.querySelector('#df-e1deabc5-565e-40c8-82aa-a13b1cb8984e button.colab-df-convert');\n",
              "      buttonEl.style.display =\n",
              "        google.colab.kernel.accessAllowed ? 'block' : 'none';\n",
              "\n",
              "      async function convertToInteractive(key) {\n",
              "        const element = document.querySelector('#df-e1deabc5-565e-40c8-82aa-a13b1cb8984e');\n",
              "        const dataTable =\n",
              "          await google.colab.kernel.invokeFunction('convertToInteractive',\n",
              "                                                    [key], {});\n",
              "        if (!dataTable) return;\n",
              "\n",
              "        const docLinkHtml = 'Like what you see? Visit the ' +\n",
              "          '<a target=\"_blank\" href=https://colab.research.google.com/notebooks/data_table.ipynb>data table notebook</a>'\n",
              "          + ' to learn more about interactive tables.';\n",
              "        element.innerHTML = '';\n",
              "        dataTable['output_type'] = 'display_data';\n",
              "        await google.colab.output.renderOutput(dataTable, element);\n",
              "        const docLink = document.createElement('div');\n",
              "        docLink.innerHTML = docLinkHtml;\n",
              "        element.appendChild(docLink);\n",
              "      }\n",
              "    </script>\n",
              "  </div>\n",
              "\n",
              "\n",
              "<div id=\"df-e8385ed9-bcd2-451a-af07-c1a7b626440e\">\n",
              "  <button class=\"colab-df-quickchart\" onclick=\"quickchart('df-e8385ed9-bcd2-451a-af07-c1a7b626440e')\"\n",
              "            title=\"Suggest charts\"\n",
              "            style=\"display:none;\">\n",
              "\n",
              "<svg xmlns=\"http://www.w3.org/2000/svg\" height=\"24px\"viewBox=\"0 0 24 24\"\n",
              "     width=\"24px\">\n",
              "    <g>\n",
              "        <path d=\"M19 3H5c-1.1 0-2 .9-2 2v14c0 1.1.9 2 2 2h14c1.1 0 2-.9 2-2V5c0-1.1-.9-2-2-2zM9 17H7v-7h2v7zm4 0h-2V7h2v10zm4 0h-2v-4h2v4z\"/>\n",
              "    </g>\n",
              "</svg>\n",
              "  </button>\n",
              "\n",
              "<style>\n",
              "  .colab-df-quickchart {\n",
              "      --bg-color: #E8F0FE;\n",
              "      --fill-color: #1967D2;\n",
              "      --hover-bg-color: #E2EBFA;\n",
              "      --hover-fill-color: #174EA6;\n",
              "      --disabled-fill-color: #AAA;\n",
              "      --disabled-bg-color: #DDD;\n",
              "  }\n",
              "\n",
              "  [theme=dark] .colab-df-quickchart {\n",
              "      --bg-color: #3B4455;\n",
              "      --fill-color: #D2E3FC;\n",
              "      --hover-bg-color: #434B5C;\n",
              "      --hover-fill-color: #FFFFFF;\n",
              "      --disabled-bg-color: #3B4455;\n",
              "      --disabled-fill-color: #666;\n",
              "  }\n",
              "\n",
              "  .colab-df-quickchart {\n",
              "    background-color: var(--bg-color);\n",
              "    border: none;\n",
              "    border-radius: 50%;\n",
              "    cursor: pointer;\n",
              "    display: none;\n",
              "    fill: var(--fill-color);\n",
              "    height: 32px;\n",
              "    padding: 0;\n",
              "    width: 32px;\n",
              "  }\n",
              "\n",
              "  .colab-df-quickchart:hover {\n",
              "    background-color: var(--hover-bg-color);\n",
              "    box-shadow: 0 1px 2px rgba(60, 64, 67, 0.3), 0 1px 3px 1px rgba(60, 64, 67, 0.15);\n",
              "    fill: var(--button-hover-fill-color);\n",
              "  }\n",
              "\n",
              "  .colab-df-quickchart-complete:disabled,\n",
              "  .colab-df-quickchart-complete:disabled:hover {\n",
              "    background-color: var(--disabled-bg-color);\n",
              "    fill: var(--disabled-fill-color);\n",
              "    box-shadow: none;\n",
              "  }\n",
              "\n",
              "  .colab-df-spinner {\n",
              "    border: 2px solid var(--fill-color);\n",
              "    border-color: transparent;\n",
              "    border-bottom-color: var(--fill-color);\n",
              "    animation:\n",
              "      spin 1s steps(1) infinite;\n",
              "  }\n",
              "\n",
              "  @keyframes spin {\n",
              "    0% {\n",
              "      border-color: transparent;\n",
              "      border-bottom-color: var(--fill-color);\n",
              "      border-left-color: var(--fill-color);\n",
              "    }\n",
              "    20% {\n",
              "      border-color: transparent;\n",
              "      border-left-color: var(--fill-color);\n",
              "      border-top-color: var(--fill-color);\n",
              "    }\n",
              "    30% {\n",
              "      border-color: transparent;\n",
              "      border-left-color: var(--fill-color);\n",
              "      border-top-color: var(--fill-color);\n",
              "      border-right-color: var(--fill-color);\n",
              "    }\n",
              "    40% {\n",
              "      border-color: transparent;\n",
              "      border-right-color: var(--fill-color);\n",
              "      border-top-color: var(--fill-color);\n",
              "    }\n",
              "    60% {\n",
              "      border-color: transparent;\n",
              "      border-right-color: var(--fill-color);\n",
              "    }\n",
              "    80% {\n",
              "      border-color: transparent;\n",
              "      border-right-color: var(--fill-color);\n",
              "      border-bottom-color: var(--fill-color);\n",
              "    }\n",
              "    90% {\n",
              "      border-color: transparent;\n",
              "      border-bottom-color: var(--fill-color);\n",
              "    }\n",
              "  }\n",
              "</style>\n",
              "\n",
              "  <script>\n",
              "    async function quickchart(key) {\n",
              "      const quickchartButtonEl =\n",
              "        document.querySelector('#' + key + ' button');\n",
              "      quickchartButtonEl.disabled = true;  // To prevent multiple clicks.\n",
              "      quickchartButtonEl.classList.add('colab-df-spinner');\n",
              "      try {\n",
              "        const charts = await google.colab.kernel.invokeFunction(\n",
              "            'suggestCharts', [key], {});\n",
              "      } catch (error) {\n",
              "        console.error('Error during call to suggestCharts:', error);\n",
              "      }\n",
              "      quickchartButtonEl.classList.remove('colab-df-spinner');\n",
              "      quickchartButtonEl.classList.add('colab-df-quickchart-complete');\n",
              "    }\n",
              "    (() => {\n",
              "      let quickchartButtonEl =\n",
              "        document.querySelector('#df-e8385ed9-bcd2-451a-af07-c1a7b626440e button');\n",
              "      quickchartButtonEl.style.display =\n",
              "        google.colab.kernel.accessAllowed ? 'block' : 'none';\n",
              "    })();\n",
              "  </script>\n",
              "</div>\n",
              "    </div>\n",
              "  </div>\n"
            ]
          },
          "metadata": {},
          "execution_count": 202
        }
      ]
    },
    {
      "cell_type": "markdown",
      "source": [
        "**PARTE 2: Análisis exploratorio entre factores**"
      ],
      "metadata": {
        "id": "BcwplLRbZJVK"
      }
    },
    {
      "cell_type": "markdown",
      "source": [
        "10.- Se pueden analizar una buena cantidad de factores para buscar relaciones entre los\n",
        "factores y la variable de salida “Attrition”, la decisión de dejar un puesto. A a manera de\n",
        "ejemplos, veamos solo algunas de dichas relaciones gráficamente y que pueden aportar\n",
        "información al problema que enfrentamos.\n"
      ],
      "metadata": {
        "id": "Kro0wgTpZJXl"
      }
    },
    {
      "cell_type": "code",
      "source": [
        "df_visualization = hr_attrition_df.copy()"
      ],
      "metadata": {
        "id": "0X8tk37r8eK_"
      },
      "execution_count": 203,
      "outputs": []
    },
    {
      "cell_type": "markdown",
      "source": [
        "a)\n",
        "*   Las variables “Age” y “Attrition”.\n"
      ],
      "metadata": {
        "id": "0XSUOxFUZJat"
      }
    },
    {
      "cell_type": "code",
      "source": [
        "plt.figure(figsize=(10, 6))\n",
        "sns.countplot(x='Age', hue='Attrition', data=df_visualization)\n",
        "plt.title('Relación entre Age y Attrition')\n",
        "plt.show()"
      ],
      "metadata": {
        "colab": {
          "base_uri": "https://localhost:8080/",
          "height": 565
        },
        "id": "H8ssxjZb8hSd",
        "outputId": "d4bcfe93-2fc2-499c-d90b-ba8f667d2a98"
      },
      "execution_count": 204,
      "outputs": [
        {
          "output_type": "display_data",
          "data": {
            "text/plain": [
              "<Figure size 1000x600 with 1 Axes>"
            ],
            "image/png": "[encoded data removed]"
          },
          "metadata": {}
        }
      ]
    },
    {
      "cell_type": "markdown",
      "source": [
        "b)\n",
        "*   Las variables “Department” y “Attrition”.\n"
      ],
      "metadata": {
        "id": "fGWsWieOZfCt"
      }
    },
    {
      "cell_type": "code",
      "source": [
        "plt.figure(figsize=(10, 6))\n",
        "sns.countplot(x='Department', hue='Attrition', data=df_visualization)\n",
        "plt.title('Relación entre Department y Attrition')\n",
        "plt.show()"
      ],
      "metadata": {
        "colab": {
          "base_uri": "https://localhost:8080/",
          "height": 565
        },
        "id": "QkK0BOfD8htO",
        "outputId": "e2696b22-4d03-4beb-de2c-970cf326d825"
      },
      "execution_count": 205,
      "outputs": [
        {
          "output_type": "display_data",
          "data": {
            "text/plain": [
              "<Figure size 1000x600 with 1 Axes>"
            ],
            "image/png": "[encoded data removed]"
          },
          "metadata": {}
        }
      ]
    },
    {
      "cell_type": "markdown",
      "source": [
        "c)\n",
        "*   Las variables “Gender” y “Attrition”.\n"
      ],
      "metadata": {
        "id": "CyzYHyRaZfHA"
      }
    },
    {
      "cell_type": "code",
      "source": [
        "plt.figure(figsize=(10, 6))\n",
        "sns.countplot(x='Gender', hue='Attrition', data=df_visualization)\n",
        "plt.title('Relación entre Gender y Attrition')\n",
        "plt.show()"
      ],
      "metadata": {
        "colab": {
          "base_uri": "https://localhost:8080/",
          "height": 565
        },
        "id": "L8qpgd2Q8iLZ",
        "outputId": "83ea732d-d36c-47ab-ebb1-4e3153d65dd1"
      },
      "execution_count": 206,
      "outputs": [
        {
          "output_type": "display_data",
          "data": {
            "text/plain": [
              "<Figure size 1000x600 with 1 Axes>"
            ],
            "image/png": "[encoded data removed]"
          },
          "metadata": {}
        }
      ]
    },
    {
      "cell_type": "markdown",
      "source": [
        "d)\n",
        "*   Incluye alguna otra relación o relaciones que consideres relevantes.\n"
      ],
      "metadata": {
        "id": "Fdjm0Oz7ZfJl"
      }
    },
    {
      "cell_type": "code",
      "source": [
        "plt.figure(figsize=(10, 6))\n",
        "sns.countplot(x='OverTime', hue='Attrition', data=df_visualization)\n",
        "plt.title('Relación entre OverTime y Attrition')\n",
        "plt.show()"
      ],
      "metadata": {
        "colab": {
          "base_uri": "https://localhost:8080/",
          "height": 565
        },
        "id": "tgJAIEpk8oAR",
        "outputId": "38d04559-c5b6-4e3f-bae2-c69a47f9ac9b"
      },
      "execution_count": 207,
      "outputs": [
        {
          "output_type": "display_data",
          "data": {
            "text/plain": [
              "<Figure size 1000x600 with 1 Axes>"
            ],
            "image/png": "[encoded data removed]"
          },
          "metadata": {}
        }
      ]
    },
    {
      "cell_type": "markdown",
      "source": [
        "e)\n",
        "*   Con base a los gráficos obtenidos incluye tus conclusiones al respecto.\n",
        "NOTA: Puedes seleccionar el tipo de gráfico que consideres más adecuado. En particular te\n",
        "puedes apoyar en la librearía de seaborn. A manera de ejemplo puedes ver:\n",
        "https://seaborn.pydata.org/generated/seaborn.countplot.html"
      ],
      "metadata": {
        "id": "n6taD4aeZfMN"
      }
    },
    {
      "cell_type": "markdown",
      "source": [
        "**PARTE 3: Modelado**"
      ],
      "metadata": {
        "id": "WPBUwjzuZfOo"
      }
    },
    {
      "cell_type": "markdown",
      "source": [
        "11.- Utiliza los conjuntos de entrenamiento y validación para generar el mejor modelo no\n",
        "sobreentrenado de regresión logística usando la función LogisticRegression() de sklearn.\n",
        "\n"
      ],
      "metadata": {
        "id": "pLHMMUdrZfQ3"
      }
    },
    {
      "cell_type": "code",
      "source": [
        "from sklearn.linear_model import LogisticRegression\n",
        "from sklearn.metrics import accuracy_score, classification_report\n",
        "from sklearn.preprocessing import StandardScaler\n",
        "from sklearn.model_selection import train_test_split\n",
        "\n",
        "# Crear y ajustar el modelo de regresión logística\n",
        "logreg_model = LogisticRegression(random_state=42)\n",
        "\n",
        "# Entrenar el modelo\n",
        "logreg_model.fit(X_trainT, y_train)\n",
        "\n",
        "# Predecir en el conjunto de prueba\n",
        "y_pred = logreg_model.predict(X_testT)"
      ],
      "metadata": {
        "id": "dpVk9yQGakd8"
      },
      "execution_count": 208,
      "outputs": []
    },
    {
      "cell_type": "markdown",
      "source": [
        "a)\n",
        "*   Despliega los valores de la exactitud (accuracy) de los conjuntos de Entrenamiento\n",
        "y Validación.\n"
      ],
      "metadata": {
        "id": "ag5JS5YnZfTL"
      }
    },
    {
      "cell_type": "code",
      "source": [
        "# Evaluar el rendimiento del modelo en el conjunto de prueba\n",
        "accuracy = accuracy_score(y_test, y_pred)\n",
        "print(f'Accuracy en el conjunto de prueba: {accuracy}')"
      ],
      "metadata": {
        "colab": {
          "base_uri": "https://localhost:8080/"
        },
        "id": "T8X0xWIUa2bT",
        "outputId": "4ebd2a36-6cf4-4740-88d8-ec239918cc04"
      },
      "execution_count": 209,
      "outputs": [
        {
          "output_type": "stream",
          "name": "stdout",
          "text": [
            "Accuracy en el conjunto de prueba: 0.8642533936651584\n"
          ]
        }
      ]
    },
    {
      "cell_type": "markdown",
      "source": [
        "b)\n",
        "*   Utiliza los datos de validación para desplegar la matriz de confusión y el reporte\n",
        "dado por la función classification_report() de sklearn.\n"
      ],
      "metadata": {
        "id": "Hr0NtUuBZya6"
      }
    },
    {
      "cell_type": "code",
      "source": [
        "classification_rep = classification_report(y_test, y_pred)\n",
        "print('\\nClassification Report en el conjunto de prueba:\\n', classification_rep)"
      ],
      "metadata": {
        "colab": {
          "base_uri": "https://localhost:8080/"
        },
        "id": "S67EjP5Ia_VB",
        "outputId": "39421674-fb0a-4168-c707-875a2cfff1a2"
      },
      "execution_count": 210,
      "outputs": [
        {
          "output_type": "stream",
          "name": "stdout",
          "text": [
            "\n",
            "Classification Report en el conjunto de prueba:\n",
            "               precision    recall  f1-score   support\n",
            "\n",
            "          No       0.89      0.96      0.92       185\n",
            "         Yes       0.64      0.39      0.48        36\n",
            "\n",
            "    accuracy                           0.86       221\n",
            "   macro avg       0.76      0.67      0.70       221\n",
            "weighted avg       0.85      0.86      0.85       221\n",
            "\n"
          ]
        }
      ]
    },
    {
      "cell_type": "markdown",
      "source": [
        "c)\n",
        "*   Con base a estos resultados, ¿podemos decir que el modelo está subentrenado\n",
        "(underfitting)? ¿o sobreentrenado (overfitting)? Justifica tu respuesta.\n"
      ],
      "metadata": {
        "id": "K3XVZ0LnZydL"
      }
    },
    {
      "cell_type": "code",
      "source": [
        "print('Para la precision y el recall tenemos en la clasificacion de Yes, tenemos numero muy bajos .64 y .39 aunque la exactitud general es de un .84 yo creo que esta sobreentrenado')\n",
        "print('Creo que el modelo puede tener un mejor entrenamiento para un mejor indice de accuracy ')"
      ],
      "metadata": {
        "colab": {
          "base_uri": "https://localhost:8080/"
        },
        "id": "_m846YTbb-3F",
        "outputId": "520cbb17-d85b-4641-c1e4-d4d1c3337fd5"
      },
      "execution_count": 211,
      "outputs": [
        {
          "output_type": "stream",
          "name": "stdout",
          "text": [
            "Para la precision y el recall tenemos en la clasificacion de Yes, tenemos numero muy bajos .64 y .39 aunque la exactitud general es de un .84 yo creo que esta sobreentrenado\n",
            "Creo que el modelo puede tener un mejor entrenamiento para un mejor indice de accuracy \n"
          ]
        }
      ]
    },
    {
      "cell_type": "markdown",
      "source": [
        "d)\n",
        "*   ¿Consideras que tenemos un problema desbalanceado? Justifica tu respuesta.\n"
      ],
      "metadata": {
        "id": "azK6msJVZyfp"
      }
    },
    {
      "cell_type": "code",
      "source": [
        "print('Yo considero que si, ya que tenemos 185 valores en No y solo 36 valores en Yes esto puede ocacionar un desbalanceo de clases')"
      ],
      "metadata": {
        "colab": {
          "base_uri": "https://localhost:8080/"
        },
        "id": "NzsCFCWfc-x0",
        "outputId": "8b26890f-2d5b-4c2c-e2be-e4590d4cb327"
      },
      "execution_count": 212,
      "outputs": [
        {
          "output_type": "stream",
          "name": "stdout",
          "text": [
            "Yo considero que si, ya que tenemos 185 valores en No y solo 36 valores en Yes esto puede ocacionar un desbalanceo de clases\n"
          ]
        }
      ]
    },
    {
      "cell_type": "markdown",
      "source": [
        "e)\n",
        "*   Interpreta el valor numérico de la “precision” de la clase positiva.\n"
      ],
      "metadata": {
        "id": "EuZUKzlZZyiI"
      }
    },
    {
      "cell_type": "code",
      "source": [
        "print('Observo que la precisión para la clase \"Yes\" es 0.64, esto significa que del total de instancias que el modelo predijo como Yes,')\n",
        "print('el 64% correspondía a casos reales de atrición, y el 36% eran falsos positivos ')"
      ],
      "metadata": {
        "colab": {
          "base_uri": "https://localhost:8080/"
        },
        "id": "d3aqNn8tdY12",
        "outputId": "f60a2ce5-bfb5-4314-f354-4f3bae755f99"
      },
      "execution_count": 213,
      "outputs": [
        {
          "output_type": "stream",
          "name": "stdout",
          "text": [
            "Observo que la precisión para la clase \"Yes\" es 0.64, esto significa que del total de instancias que el modelo predijo como Yes,\n",
            "el 64% correspondía a casos reales de atrición, y el 36% eran falsos positivos \n"
          ]
        }
      ]
    },
    {
      "cell_type": "markdown",
      "source": [
        "f)\n",
        "*   Interpreta el valor numérico del “recall” de la clase positiva.\n"
      ],
      "metadata": {
        "id": "k0hNC0A_Zykn"
      }
    },
    {
      "cell_type": "code",
      "source": [
        "print('Observo que el recall para la clase \"Yes\" es 0.39. Esto significa que el modelo identificó correctamente el 39% de todas las instancias reales de atrición. ')\n",
        "print('el 61% restante corresponde a instancias de atrición que fueron clasificadas como no atrición (falsos negativos)')"
      ],
      "metadata": {
        "colab": {
          "base_uri": "https://localhost:8080/"
        },
        "id": "e7Q5Aczrd7bk",
        "outputId": "e45e9c57-51c4-44cc-e1e5-4f918f8de380"
      },
      "execution_count": 214,
      "outputs": [
        {
          "output_type": "stream",
          "name": "stdout",
          "text": [
            "Observo que el recall para la clase \"Yes\" es 0.39. Esto significa que el modelo identificó correctamente el 39% de todas las instancias reales de atrición. \n",
            "el 61% restante corresponde a instancias de atrición que fueron clasificadas como no atrición (falsos negativos)\n"
          ]
        }
      ]
    },
    {
      "cell_type": "markdown",
      "source": [
        "g)\n",
        "*   Con base al contexto de este problema, de rotación de personal, ¿cuál de las\n",
        "métricas, “precision” o “recall” consideras que es más importante disminuir su\n",
        "valor. Es decir, si no se puede disminuir el valor de ambos al mismo tiempo y\n",
        "debieras sacrificar uno de ellos, ¿cuál sería el que buscarías que fuera más cercano\n",
        "a cero? Justifica tu respuesta con base al contexto del problema."
      ],
      "metadata": {
        "id": "eF42NjDjZynF"
      }
    },
    {
      "cell_type": "code",
      "source": [
        "print('considero que  la métrica de \"recall\" podría considerarse más importante que la \"precision\"')\n",
        "print('creo que el no detectar adecuadamente que un empleado que está en riesgo de dejar la organización podría ser significativamente alto')\n",
        "print('y la organización podría perder la oportunidad de implementar medidas preventivas, retener talento valioso y mitigar la rotación de personal')"
      ],
      "metadata": {
        "colab": {
          "base_uri": "https://localhost:8080/"
        },
        "id": "b6FyldX7kf4G",
        "outputId": "59e5c160-ac2a-4c97-fae4-09983203b80c"
      },
      "execution_count": 215,
      "outputs": [
        {
          "output_type": "stream",
          "name": "stdout",
          "text": [
            "considero que  la métrica de \"recall\" podría considerarse más importante que la \"precision\"\n",
            "creo que el no detectar adecuadamente que un empleado que está en riesgo de dejar la organización podría ser significativamente alto\n",
            "y la organización podría perder la oportunidad de implementar medidas preventivas, retener talento valioso y mitigar la rotación de personal\n"
          ]
        }
      ]
    },
    {
      "cell_type": "markdown",
      "source": [
        "12.- Utiliza los conjuntos de entrenamiento y validación para generar el mejor modelo no\n",
        "sobreentrenado de los vecinos más cercanos kNN, usando la función\n",
        "KNeighborsClassifier() de sklearn.\n",
        "\n"
      ],
      "metadata": {
        "id": "mCIzkqrfZypg"
      }
    },
    {
      "cell_type": "code",
      "source": [
        "from sklearn.neighbors import KNeighborsClassifier\n",
        "from sklearn.metrics import accuracy_score, classification_report\n",
        "\n",
        "# Crear y ajustar el modelo kNN\n",
        "knn_model = KNeighborsClassifier(n_neighbors=5)\n",
        "knn_model.fit(X_trainT, y_train)\n",
        "\n",
        "\n",
        "y_pred = knn_model.predict(X_valT)"
      ],
      "metadata": {
        "id": "TIMUj59blCvD"
      },
      "execution_count": 216,
      "outputs": []
    },
    {
      "cell_type": "markdown",
      "source": [
        "a)\n",
        "*   Despliega los valores de la exactitud (accuracy) de los conjuntos de Entrenamiento\n",
        "y Validación.\n"
      ],
      "metadata": {
        "id": "3nbzmAZOZyr_"
      }
    },
    {
      "cell_type": "code",
      "source": [
        "accuracy = accuracy_score(y_val, y_pred)\n",
        "print(f'Accuracy en el conjunto de validación: {accuracy}')"
      ],
      "metadata": {
        "colab": {
          "base_uri": "https://localhost:8080/"
        },
        "id": "tofyJ8xQlyIT",
        "outputId": "01dad75e-1815-475a-9ccc-ed5f4e7d6aad"
      },
      "execution_count": 217,
      "outputs": [
        {
          "output_type": "stream",
          "name": "stdout",
          "text": [
            "Accuracy en el conjunto de validación: 0.8318181818181818\n"
          ]
        }
      ]
    },
    {
      "cell_type": "markdown",
      "source": [
        "b)\n",
        "*   Utiliza los datos de validación para desplegar la matriz de confusión y el reporte\n",
        "dado por la función classification_report() de sklearn.\n"
      ],
      "metadata": {
        "id": "cL4p5jOAZyuO"
      }
    },
    {
      "cell_type": "code",
      "source": [
        "\n",
        "classification_rep = classification_report(y_val, y_pred)\n",
        "print('Classification Report en el conjunto de validación:')\n",
        "print(classification_rep)"
      ],
      "metadata": {
        "colab": {
          "base_uri": "https://localhost:8080/"
        },
        "id": "aUd8hRqalzXR",
        "outputId": "26339407-75a5-44af-9b8a-8efb911afa73"
      },
      "execution_count": 218,
      "outputs": [
        {
          "output_type": "stream",
          "name": "stdout",
          "text": [
            "Classification Report en el conjunto de validación:\n",
            "              precision    recall  f1-score   support\n",
            "\n",
            "          No       0.85      0.97      0.91       185\n",
            "         Yes       0.38      0.09      0.14        35\n",
            "\n",
            "    accuracy                           0.83       220\n",
            "   macro avg       0.61      0.53      0.52       220\n",
            "weighted avg       0.77      0.83      0.78       220\n",
            "\n"
          ]
        }
      ]
    },
    {
      "cell_type": "markdown",
      "source": [
        "c)\n",
        "*   Con base a estos resultados, ¿podemos decir que el modelo está subentrenado\n",
        "(underfitting)? ¿o sobreentrenado (overfitting)? Justifica tu respuesta.\n"
      ],
      "metadata": {
        "id": "INe45MRLZywu"
      }
    },
    {
      "cell_type": "code",
      "source": [
        "print('considero que el modelo esta sobreentrenado, el modelo parece estar capturando bien los patrones en la clase NO, pero tiene dificultades para predecir adecuadamente a la clase minoritaria Yes.')"
      ],
      "metadata": {
        "colab": {
          "base_uri": "https://localhost:8080/"
        },
        "id": "GRZpItiSmYQP",
        "outputId": "783ef84e-833d-4512-c5d4-6e2e54ce7104"
      },
      "execution_count": 219,
      "outputs": [
        {
          "output_type": "stream",
          "name": "stdout",
          "text": [
            "considero que el modelo esta sobreentrenado, el modelo parece estar capturando bien los patrones en la clase NO, pero tiene dificultades para predecir adecuadamente a la clase minoritaria Yes.\n"
          ]
        }
      ]
    },
    {
      "cell_type": "markdown",
      "source": [
        "d)\n",
        "*   Interpreta el valor numérico de la “precision” de la clase positiva.\n"
      ],
      "metadata": {
        "id": "p5Mng9xIZyzK"
      }
    },
    {
      "cell_type": "code",
      "source": [
        " print('la precisión es 0.38 significa que el 38% de las prediciones de \"Yes\" por el modelo son verdaderamente casos positivos, mientras que el 62% son falsos positivos')"
      ],
      "metadata": {
        "colab": {
          "base_uri": "https://localhost:8080/"
        },
        "id": "jwF6YqaOmx7t",
        "outputId": "8e179fb4-8401-46d8-e4e2-3d78cc90aa63"
      },
      "execution_count": 220,
      "outputs": [
        {
          "output_type": "stream",
          "name": "stdout",
          "text": [
            "la precisión es 0.38 significa que el 38% de las prediciones de \"Yes\" por el modelo son verdaderamente casos positivos, mientras que el 62% son falsos positivos\n"
          ]
        }
      ]
    },
    {
      "cell_type": "markdown",
      "source": [
        "e)\n",
        "*   Interpreta el valor numérico del “recall” de la clase positiva.\n"
      ],
      "metadata": {
        "id": "41oRWn_sZy1d"
      }
    },
    {
      "cell_type": "code",
      "source": [
        " print('el \"recall\" es 0.09 significa que solo el 9% de todos los casos positivos reales fueron identificados correctamente por el modelo, mientras que el 91% de los casos positivos reales fueron clasificados incorrectamente como negativos.')"
      ],
      "metadata": {
        "colab": {
          "base_uri": "https://localhost:8080/"
        },
        "id": "nQ8dXCA3m56j",
        "outputId": "d4cb4d00-16bd-44ea-fc08-8c8b0f1e640e"
      },
      "execution_count": 221,
      "outputs": [
        {
          "output_type": "stream",
          "name": "stdout",
          "text": [
            "el \"recall\" es 0.09 significa que solo el 9% de todos los casos positivos reales fueron identificados correctamente por el modelo, mientras que el 91% de los casos positivos reales fueron clasificados incorrectamente como negativos.\n"
          ]
        }
      ]
    },
    {
      "cell_type": "markdown",
      "source": [
        "f)\n",
        "*   Compara los resultados con los del modelo de Regresión Logística y escribe tus\n",
        "conclusiones."
      ],
      "metadata": {
        "id": "7gd5l6N6Zy35"
      }
    },
    {
      "cell_type": "code",
      "source": [
        "print('En genera la regresion logistica tiene mejores indicadores en comparacion a KNN, aunque en accuarency tienen un porcentaje similar podemos ver una gran diferencia')\n",
        "print('en el recall y la precision por mas de un 30% de diferencia ')"
      ],
      "metadata": {
        "colab": {
          "base_uri": "https://localhost:8080/"
        },
        "id": "vyP51pmznUER",
        "outputId": "dfd3251d-98c2-453c-e5ce-bc5c7c06691b"
      },
      "execution_count": 222,
      "outputs": [
        {
          "output_type": "stream",
          "name": "stdout",
          "text": [
            "En genera la regresion logistica tiene mejores indicadores en comparacion a KNN, aunque en accuarency tienen un porcentaje similar podemos ver una gran diferencia\n",
            "en el recall y la precision por mas de un 30% de diferencia \n"
          ]
        }
      ]
    },
    {
      "cell_type": "markdown",
      "source": [
        "**PARTE 4: Balanceo de Clases**"
      ],
      "metadata": {
        "id": "MBBPb7wzaJZO"
      }
    },
    {
      "cell_type": "markdown",
      "source": [
        "13.- Utiliza el argumento “class_weight” de la función LogisticRegression() de sklearn y los\n",
        "valores de los hiperparámetros que consideres más adecuados para obtener un modelo\n",
        "no sobreentrenado.\n",
        "\n"
      ],
      "metadata": {
        "id": "JASgLwdNaJbx"
      }
    },
    {
      "cell_type": "code",
      "source": [
        "from sklearn.linear_model import LogisticRegression\n",
        "from sklearn.metrics import accuracy_score, classification_report\n",
        "\n",
        "\n",
        "logreg_model_weighted = LogisticRegression(class_weight='balanced', random_state=42)\n",
        "logreg_model_weighted.fit(X_trainT, y_train)\n",
        "\n",
        "y_pred_weighted = logreg_model_weighted.predict(X_valT)\n",
        "\n"
      ],
      "metadata": {
        "id": "vdJk9NyCTpy1"
      },
      "execution_count": 223,
      "outputs": []
    },
    {
      "cell_type": "markdown",
      "source": [
        "a)\n",
        "*   Despliega los valores de la exactitud (accuracy) de los conjuntos de Entrenamiento\n",
        "y Validación."
      ],
      "metadata": {
        "id": "BDJugxGTaJeL"
      }
    },
    {
      "cell_type": "code",
      "source": [
        "accuracy_weighted = accuracy_score(y_val, y_pred_weighted)\n",
        "print(f'Accuracy en el conjunto de validación con pesos de clase: {accuracy_weighted}')\n",
        "\n"
      ],
      "metadata": {
        "colab": {
          "base_uri": "https://localhost:8080/"
        },
        "id": "DR8FV0kgTrkX",
        "outputId": "33a4c5fb-ead1-4755-87c2-823272d12264"
      },
      "execution_count": 224,
      "outputs": [
        {
          "output_type": "stream",
          "name": "stdout",
          "text": [
            "Accuracy en el conjunto de validación con pesos de clase: 0.7727272727272727\n"
          ]
        }
      ]
    },
    {
      "cell_type": "markdown",
      "source": [
        "\n",
        "b)\n",
        "*   Utiliza los datos de validación para desplegar la matriz de confusión y el reporte\n",
        "dado por la función classification_report() de sklearn."
      ],
      "metadata": {
        "id": "W97WX4rJaJgp"
      }
    },
    {
      "cell_type": "code",
      "source": [
        "classification_rep_weighted = classification_report(y_val, y_pred_weighted)\n",
        "print('Classification Report en el conjunto de validación con pesos de clase:')\n",
        "print(classification_rep_weighted)"
      ],
      "metadata": {
        "colab": {
          "base_uri": "https://localhost:8080/"
        },
        "id": "Abu2_7x2Ts9k",
        "outputId": "1f688211-90f4-4b1f-fdfd-1513bdd14d5c"
      },
      "execution_count": 225,
      "outputs": [
        {
          "output_type": "stream",
          "name": "stdout",
          "text": [
            "Classification Report en el conjunto de validación con pesos de clase:\n",
            "              precision    recall  f1-score   support\n",
            "\n",
            "          No       0.94      0.78      0.85       185\n",
            "         Yes       0.39      0.74      0.51        35\n",
            "\n",
            "    accuracy                           0.77       220\n",
            "   macro avg       0.66      0.76      0.68       220\n",
            "weighted avg       0.85      0.77      0.80       220\n",
            "\n"
          ]
        }
      ]
    },
    {
      "cell_type": "markdown",
      "source": [
        "\n",
        "c)\n",
        "*   Compara los resultados con los modelos anteriores y escribe tus conclusiones."
      ],
      "metadata": {
        "id": "v-ar0Pl_aJjI"
      }
    },
    {
      "cell_type": "code",
      "source": [
        "print('el uso del argumento class_weight ha mejorado el balance en la clasificación de ambas clases en comparación con el modelo sin este ajuste')\n",
        "print('el cambio mas notable es en el recall de tener un porcentaje de un maximo 39% a un 74%')"
      ],
      "metadata": {
        "colab": {
          "base_uri": "https://localhost:8080/"
        },
        "id": "2-j7g779VBi7",
        "outputId": "e197d77b-4bcb-4c5e-daf8-9f45dc81e4d1"
      },
      "execution_count": 226,
      "outputs": [
        {
          "output_type": "stream",
          "name": "stdout",
          "text": [
            "el uso del argumento class_weight ha mejorado el balance en la clasificación de ambas clases en comparación con el modelo sin este ajuste\n",
            "el cambio mas notable es en el recall de tener un porcentaje de un maximo 39% a un 74%\n"
          ]
        }
      ]
    },
    {
      "cell_type": "markdown",
      "source": [
        "\n",
        "14.- Utiliza el método SMOTE de la librería “Imbalanced-learn” y los valores de los\n",
        "hiperparámetros que consideres más adecuados para obtener el mejor modelo posible."
      ],
      "metadata": {
        "id": "v4PZvhlnaJlk"
      }
    },
    {
      "cell_type": "code",
      "source": [
        "#!pip uninstall scikit-learn --yes\n",
        "#!pip uninstall imblearn --yes\n",
        "#!pip install scikit-learn==1.2.2\n",
        "#!pip install imblearn"
      ],
      "metadata": {
        "id": "l0EWS7CFtbug"
      },
      "execution_count": 227,
      "outputs": []
    },
    {
      "cell_type": "code",
      "source": [
        "from imblearn.over_sampling import SMOTE\n",
        "from sklearn.linear_model import LogisticRegression\n",
        "from sklearn.metrics import accuracy_score, classification_report\n",
        "from sklearn.model_selection import train_test_split\n",
        "\n",
        "smote = SMOTE(random_state=42)\n",
        "X_train_resampled, y_train_resampled = smote.fit_resample(X_trainT, y_train)\n",
        "\n",
        "logreg_model_smote = LogisticRegression(random_state=42)\n",
        "logreg_model_smote.fit(X_train_resampled, y_train_resampled)\n",
        "\n",
        "y_pred_smote = logreg_model_smote.predict(X_valT)\n"
      ],
      "metadata": {
        "id": "8S2BxGf-UFed"
      },
      "execution_count": 228,
      "outputs": []
    },
    {
      "cell_type": "markdown",
      "source": [
        "\n",
        "a)\n",
        "*   Despliega los valores de la exactitud (accuracy) de los conjuntos de Entrenamiento\n",
        "y Validación."
      ],
      "metadata": {
        "id": "Ikt6w2gwaJn8"
      }
    },
    {
      "cell_type": "code",
      "source": [
        "accuracy_smote = accuracy_score(y_val, y_pred_smote)\n",
        "print(f'Accuracy en el conjunto de validación con SMOTE: {accuracy_smote}')"
      ],
      "metadata": {
        "colab": {
          "base_uri": "https://localhost:8080/"
        },
        "id": "DzikEaqYUMY0",
        "outputId": "c39cd9de-bd56-4f43-cb68-5b69b073cf50"
      },
      "execution_count": 229,
      "outputs": [
        {
          "output_type": "stream",
          "name": "stdout",
          "text": [
            "Accuracy en el conjunto de validación con SMOTE: 0.7136363636363636\n"
          ]
        }
      ]
    },
    {
      "cell_type": "markdown",
      "source": [
        "\n",
        "b)\n",
        "*   Utiliza los datos de validación para desplegar la matriz de confusión y el reporte\n",
        "dado por la función classification_report() de sklearn."
      ],
      "metadata": {
        "id": "RO2a9__iaJqb"
      }
    },
    {
      "cell_type": "code",
      "source": [
        "classification_rep_smote = classification_report(y_val, y_pred_smote)\n",
        "print('Classification Report en el conjunto de validación con SMOTE:')\n",
        "print(classification_rep_smote)"
      ],
      "metadata": {
        "colab": {
          "base_uri": "https://localhost:8080/"
        },
        "id": "rBnl1ycfUNn4",
        "outputId": "8fc275fc-5609-4f8d-e592-0f51922a6fa8"
      },
      "execution_count": 230,
      "outputs": [
        {
          "output_type": "stream",
          "name": "stdout",
          "text": [
            "Classification Report en el conjunto de validación con SMOTE:\n",
            "              precision    recall  f1-score   support\n",
            "\n",
            "          No       0.90      0.74      0.81       185\n",
            "         Yes       0.29      0.57      0.39        35\n",
            "\n",
            "    accuracy                           0.71       220\n",
            "   macro avg       0.60      0.66      0.60       220\n",
            "weighted avg       0.80      0.71      0.75       220\n",
            "\n"
          ]
        }
      ]
    },
    {
      "cell_type": "markdown",
      "source": [
        "\n",
        "c)\n",
        "*   Compara los resultados con los modelos anteriores y escribe tus conclusiones."
      ],
      "metadata": {
        "id": "PMg9teW1aJu-"
      }
    },
    {
      "cell_type": "code",
      "source": [
        "print('En este tambien podemos ver un aumento significativo en el recall pero vemos afectacion en la presicion disminuyendo considerablemente')"
      ],
      "metadata": {
        "colab": {
          "base_uri": "https://localhost:8080/"
        },
        "id": "lLtY037OVgAX",
        "outputId": "db729358-ea0f-44fc-e850-317bb483481f"
      },
      "execution_count": 231,
      "outputs": [
        {
          "output_type": "stream",
          "name": "stdout",
          "text": [
            "En este tambien podemos ver un aumento significativo en el recall pero vemos afectacion en la presicion disminuyendo considerablemente\n"
          ]
        }
      ]
    },
    {
      "cell_type": "markdown",
      "source": [
        "\n",
        "15.- Aplica alguno de los modelos combinados de sub y sobre entrenamiento y reporta los\n",
        "resultados del mejor modelo que hayas obtenido. Compáralo con los anteriores e incluye\n",
        "tus conclusiones.\n",
        "NOTA: https://imbalanced-learn.org/stable/references/combine.html"
      ],
      "metadata": {
        "id": "oemObD_eaJxS"
      }
    },
    {
      "cell_type": "code",
      "source": [
        "from imblearn.combine import SMOTEENN\n",
        "from sklearn.metrics import accuracy_score, classification_report\n",
        "\n",
        "\n",
        "smote_enn = SMOTEENN(random_state=42)\n",
        "\n",
        "X_resampled, y_resampled = smote_enn.fit_resample(X_trainT, y_train)\n",
        "\n",
        "model = LogisticRegression(random_state=42)\n",
        "model.fit(X_resampled, y_resampled)\n",
        "\n",
        "y_pred_smoteenn = model.predict(X_valT)\n",
        "\n",
        "accuracy_smoteenn = accuracy_score(y_val, y_pred_smoteenn)\n",
        "print(f'Accuracy en el conjunto de validación con SMOTE-ENN: {accuracy_smoteenn}')\n",
        "\n",
        "classification_rep_smoteenn = classification_report(y_val, y_pred_smoteenn)\n",
        "print('Classification Report en el conjunto de validación con SMOTE-ENN:')\n",
        "print(classification_rep_smoteenn)"
      ],
      "metadata": {
        "colab": {
          "base_uri": "https://localhost:8080/"
        },
        "id": "nuotXx82ZpWA",
        "outputId": "026d4712-4a49-4c0e-f5aa-dd91eabd3beb"
      },
      "execution_count": 232,
      "outputs": [
        {
          "output_type": "stream",
          "name": "stdout",
          "text": [
            "Accuracy en el conjunto de validación con SMOTE-ENN: 0.5409090909090909\n",
            "Classification Report en el conjunto de validación con SMOTE-ENN:\n",
            "              precision    recall  f1-score   support\n",
            "\n",
            "          No       0.90      0.51      0.65       185\n",
            "         Yes       0.21      0.69      0.32        35\n",
            "\n",
            "    accuracy                           0.54       220\n",
            "   macro avg       0.55      0.60      0.49       220\n",
            "weighted avg       0.79      0.54      0.60       220\n",
            "\n"
          ]
        }
      ]
    },
    {
      "cell_type": "code",
      "source": [
        "print('Podemos ver un resultado similar al uso de smote y usando el argumento class_weight, en el recall se puede observar una mejoria pero afectacion en la precision')"
      ],
      "metadata": {
        "colab": {
          "base_uri": "https://localhost:8080/"
        },
        "id": "UvaHtYzBZzcY",
        "outputId": "c914b7fc-e1c0-4fca-d7c5-5ffc6055fdde"
      },
      "execution_count": 233,
      "outputs": [
        {
          "output_type": "stream",
          "name": "stdout",
          "text": [
            "Podemos ver un resultado similar al uso de smote y usando el argumento class_weight, en el recall se puede observar una mejoria pero afectacion en la precision\n"
          ]
        }
      ]
    },
    {
      "cell_type": "markdown",
      "source": [
        "**PARTE 5: La importancia de los factores**"
      ],
      "metadata": {
        "id": "0yDr1baXaJzY"
      }
    },
    {
      "cell_type": "markdown",
      "source": [
        "16.- Con base al mejor modelo de regresión logística obtenido hasta ahora, utiliza la magnitud\n",
        "de los coeficientes como métrica para identificar aquellos factores que se consideran los\n",
        "más importantes al problema de rotación de personal.\n",
        "\n"
      ],
      "metadata": {
        "id": "mIPFxd3faJ1I"
      }
    },
    {
      "cell_type": "code",
      "source": [
        "print('creo que es crítico identificar la mayor cantidad posible de casos positivos reales, para asegurarnos de capturar la mayoría de los empleados que realmente dejarán la organización')\n",
        "print('para esto me enfocaria en el recall de la funcion ')"
      ],
      "metadata": {
        "colab": {
          "base_uri": "https://localhost:8080/"
        },
        "id": "909DzmlefQ2n",
        "outputId": "77360b16-1f7a-497d-86aa-cd1a81ca4de2"
      },
      "execution_count": 234,
      "outputs": [
        {
          "output_type": "stream",
          "name": "stdout",
          "text": [
            "creo que es crítico identificar la mayor cantidad posible de casos positivos reales, para asegurarnos de capturar la mayoría de los empleados que realmente dejarán la organización\n",
            "para esto me enfocaria en el recall de la funcion \n"
          ]
        }
      ]
    },
    {
      "cell_type": "markdown",
      "source": [
        "a)\n",
        "*   Generar un gráfico de barras de los coeficientes indicando el nombre de cada factor\n",
        "asociado a cada barra (bin).\n"
      ],
      "metadata": {
        "id": "OM_QLL34apJR"
      }
    },
    {
      "cell_type": "code",
      "source": [
        "coeficients = logreg_model_weighted.coef_[0]\n",
        "coeficients"
      ],
      "metadata": {
        "colab": {
          "base_uri": "https://localhost:8080/"
        },
        "id": "UZE28u8BiGNC",
        "outputId": "ca3a4bc7-e3b9-462a-94ba-3d52a8fb5d35"
      },
      "execution_count": 235,
      "outputs": [
        {
          "output_type": "execute_result",
          "data": {
            "text/plain": [
              "array([-2.28040335e-01, -7.51733171e-03, -1.72943140e-01,  1.02581522e+00,\n",
              "        2.98665014e-01,  3.28478140e-02, -3.96397997e-02,  5.89686748e-02,\n",
              "       -4.13986460e-01,  3.51368977e-01, -1.32377536e-01, -2.63540240e-01,\n",
              "        2.17606031e-01, -1.06533505e-01, -3.98341308e-01,  2.17202022e-01,\n",
              "       -6.45048450e-01,  2.75100325e-02,  5.91002406e-01,  0.00000000e+00,\n",
              "        1.55943669e+00, -1.25884895e-01,  7.86429336e-17, -3.49140010e-01,\n",
              "       -3.91954282e-01, -5.49577800e-01, -1.69099537e-01, -1.28432264e-01,\n",
              "        3.18590428e-01, -2.47867771e-01,  4.30912519e-01, -4.03901239e-01])"
            ]
          },
          "metadata": {},
          "execution_count": 235
        }
      ]
    },
    {
      "cell_type": "code",
      "source": [
        "coeficients = logreg_model_weighted.coef_[0]\n",
        "feature_names = X_trainT.columns\n",
        "\n",
        "plt.figure(figsize=(10, 6))\n",
        "plt.barh(range(len(coeficients)), coeficients, tick_label=feature_names, color='skyblue')\n",
        "plt.xlabel('Coeficientes')\n",
        "plt.title('Coeficientes del Modelo de Regresión Logística')\n",
        "plt.show()"
      ],
      "metadata": {
        "colab": {
          "base_uri": "https://localhost:8080/",
          "height": 565
        },
        "id": "Hj6s1X-qh4py",
        "outputId": "94e2d106-2605-44f4-fdd9-3ccb984778d8"
      },
      "execution_count": 236,
      "outputs": [
        {
          "output_type": "display_data",
          "data": {
            "text/plain": [
              "<Figure size 1000x600 with 1 Axes>"
            ],
            "image/png": "[encoded data removed]"
          },
          "metadata": {}
        }
      ]
    },
    {
      "cell_type": "markdown",
      "source": [
        "b)\n",
        "*   ¿Cuáles factores consideras que son los que influyen mayormente a que un\n",
        "empleado abandone su trabajo (attrition)?"
      ],
      "metadata": {
        "id": "F_ED7PmMapP9"
      }
    },
    {
      "cell_type": "code",
      "source": [
        "print('Segun la grafica podemos observar que el overtime, el salario mensual, el ambiente laboral y los años desde la ultima promocion impactan de gran forma para que el empleado abandone su trabajo')"
      ],
      "metadata": {
        "colab": {
          "base_uri": "https://localhost:8080/"
        },
        "id": "0gLenaYziYdJ",
        "outputId": "ab062ce0-f09c-4ae0-a6f6-d82ea2a719b7"
      },
      "execution_count": 237,
      "outputs": [
        {
          "output_type": "stream",
          "name": "stdout",
          "text": [
            "Segun la grafica podemos observar que el overtime, el salario mensual, el ambiente laboral y los años desde la ultima promocion impactan de gran forma para que el empleado abandone su trabajo\n"
          ]
        }
      ]
    },
    {
      "cell_type": "markdown",
      "source": [
        "\n",
        "c)\n",
        "*   ¿Cuáles factores consideras que son los que influyen mayormente a que un\n",
        "empleado no abandone su trabajo (not attrition)?\n"
      ],
      "metadata": {
        "id": "5bweX33japSN"
      }
    },
    {
      "cell_type": "code",
      "source": [
        "print('Podemos observar en el grafico aspectos como la educacion, el rol, el genero entre otros')"
      ],
      "metadata": {
        "colab": {
          "base_uri": "https://localhost:8080/"
        },
        "id": "xm7fWvEGi8Py",
        "outputId": "31dacd67-af6b-4fd3-878e-2674dff2447f"
      },
      "execution_count": 238,
      "outputs": [
        {
          "output_type": "stream",
          "name": "stdout",
          "text": [
            "Podemos observar en el grafico aspectos como la educacion, el rol, el genero entre otros\n"
          ]
        }
      ]
    },
    {
      "cell_type": "markdown",
      "source": [
        "17.- Con base al mejor modelo que hayas obtenido hasta ahora ente regresión logística y el\n",
        "kNN, aplica la técnica de permutación de los factores con el método\n",
        "“permutation_importance()” de sklearn, y con la métrica “f1_weighted” del argumento\n",
        "“scoring” para identificar aquellos factores que se consideran los más importantes al\n",
        "problema de rotación de personal.\n"
      ],
      "metadata": {
        "id": "2bfWfmCWapUg"
      }
    },
    {
      "cell_type": "code",
      "source": [
        "#pip install --upgrade scikit-learn"
      ],
      "metadata": {
        "id": "iE1KmSrYq7h0"
      },
      "execution_count": 239,
      "outputs": []
    },
    {
      "cell_type": "code",
      "source": [
        "from sklearn.linear_model import LogisticRegression\n",
        "from sklearn.model_selection import permutation_test_score\n",
        "from sklearn.metrics import make_scorer, f1_score\n",
        "\n",
        "# Crear y ajustar el modelo de regresión logística\n",
        "logreg_model_weighted = LogisticRegression(class_weight='balanced', random_state=42)\n",
        "logreg_model_weighted.fit(X_trainT, y_train)\n",
        "\n",
        "# Definir la métrica a evaluar (f1_weighted)\n",
        "scorer = make_scorer(f1_score, average='weighted')\n",
        "\n",
        "# Realizar permutación y obtener la importancia de los factores\n",
        "_, perm_importance, _ = permutation_test_score(\n",
        "    logreg_model_weighted, X_valT, y_val, scoring=scorer, n_permutations=100, random_state=42\n",
        ")\n",
        "\n",
        "# Obtener los resultados y factores más importantes\n",
        "importance_means = np.mean(perm_importance, axis=0)  # Calcular la importancia media\n",
        "important_factors = X_trainT.columns[np.argsort(importance_means)[::-1]]\n",
        "\n",
        "# Imprimir resultados\n",
        "print(\"Importancia media de los factores:\")\n",
        "print(importance_means)\n",
        "print(\"\\nFactores más importantes:\")\n",
        "print(important_factors)\n"
      ],
      "metadata": {
        "colab": {
          "base_uri": "https://localhost:8080/"
        },
        "id": "-sq9pUrEmkTZ",
        "outputId": "dbd159d7-4fe0-4308-c2dc-ddb13ef84c22"
      },
      "execution_count": 240,
      "outputs": [
        {
          "output_type": "stream",
          "name": "stdout",
          "text": [
            "Importancia media de los factores:\n",
            "0.6398639249579816\n",
            "\n",
            "Factores más importantes:\n",
            "Index(['Age'], dtype='object')\n"
          ]
        }
      ]
    },
    {
      "cell_type": "markdown",
      "source": [
        "a)\n",
        "*   Generar un gráfico de barras de los coeficientes indicando el nombre de cada factor\n",
        "asociado a cada barra (bin).\n"
      ],
      "metadata": {
        "id": "05m_n3WOapW-"
      }
    },
    {
      "cell_type": "code",
      "source": [
        "coeficients = logreg_model_smote.coef_[0]\n",
        "feature_names = X_trainT.columns\n",
        "\n",
        "plt.figure(figsize=(10, 6))\n",
        "plt.barh(range(len(coeficients)), coeficients, tick_label=feature_names, color='skyblue')\n",
        "plt.xlabel('Coeficientes')\n",
        "plt.title('Coeficientes del Modelo de Regresión Logística')\n",
        "plt.show()"
      ],
      "metadata": {
        "colab": {
          "base_uri": "https://localhost:8080/",
          "height": 565
        },
        "id": "uEjGzD00lwEr",
        "outputId": "23dab15b-0843-4324-87d6-a23064a0757d"
      },
      "execution_count": 241,
      "outputs": [
        {
          "output_type": "display_data",
          "data": {
            "text/plain": [
              "<Figure size 1000x600 with 1 Axes>"
            ],
            "image/png": "[encoded data removed]"
          },
          "metadata": {}
        }
      ]
    },
    {
      "cell_type": "markdown",
      "source": [
        "b)\n",
        "*   ¿Cuáles factores consideras que son los que influyen mayormente a que un\n",
        "empleado abandone su trabajo (attrition)?\n"
      ],
      "metadata": {
        "id": "4Ch0SmyIapZi"
      }
    },
    {
      "cell_type": "code",
      "source": [
        "print('Segun la grafica podemos observar que el overtime, el numero de compañias trabajadas, stock options y los años totales de trabajo impactan de gran forma para que el empleado abandone su trabajo')"
      ],
      "metadata": {
        "colab": {
          "base_uri": "https://localhost:8080/"
        },
        "id": "HoV3Jn8Su5ip",
        "outputId": "958142db-0879-45ad-f4a4-8419b410e9bf"
      },
      "execution_count": 242,
      "outputs": [
        {
          "output_type": "stream",
          "name": "stdout",
          "text": [
            "Segun la grafica podemos observar que el overtime, el numero de compañias trabajadas, stock options y los años totales de trabajo impactan de gran forma para que el empleado abandone su trabajo\n"
          ]
        }
      ]
    },
    {
      "cell_type": "markdown",
      "source": [
        "c)\n",
        "*   ¿Cuáles factores consideras que son los que influyen mayormente a que un\n",
        "empleado no abandone su trabajo (not attrition)?\n"
      ],
      "metadata": {
        "id": "vyeAWao_apb6"
      }
    },
    {
      "cell_type": "code",
      "source": [
        "print('Podemos observar en el grafico aspectos como el departamento, el años en el rol, el genero entre otros')"
      ],
      "metadata": {
        "colab": {
          "base_uri": "https://localhost:8080/"
        },
        "id": "gPj_rHhHu7r9",
        "outputId": "d27ae978-6268-4f8a-fbc8-f2e3b91e271f"
      },
      "execution_count": 243,
      "outputs": [
        {
          "output_type": "stream",
          "name": "stdout",
          "text": [
            "Podemos observar en el grafico aspectos como el departamento, el años en el rol, el genero entre otros\n"
          ]
        }
      ]
    },
    {
      "cell_type": "markdown",
      "source": [
        "d)\n",
        "*   Compara los resultados con el ejercicio anterior e incluye tus comentarios. En\n",
        "particular, comenta cuál método te da los mejores factores que tienen mayor\n",
        "impacto en el problema de rotación de personal.\n"
      ],
      "metadata": {
        "id": "BjVSQu5wapeW"
      }
    },
    {
      "cell_type": "code",
      "source": [
        "print('considero que el que da mejores factores es el logreg_model_weighted, creo que los factores que muestran afecta mas en el problema de attrition')"
      ],
      "metadata": {
        "colab": {
          "base_uri": "https://localhost:8080/"
        },
        "id": "RZdto-PqvXqF",
        "outputId": "40c74f41-872c-4a57-b162-7c9bb9490e80"
      },
      "execution_count": 244,
      "outputs": [
        {
          "output_type": "stream",
          "name": "stdout",
          "text": [
            "considero que el que da mejores factores es el logreg_model_weighted, creo que los factores que muestran afecta mas en el problema de attrition\n"
          ]
        }
      ]
    },
    {
      "cell_type": "markdown",
      "source": [
        "18.- Con base al mejor modelo que hayas obtenido hasta ahora ente regresión logística y el\n",
        "kNN y de los factores de mayor impacto que encontraste en el inciso anterior, utiliza la\n",
        "clase SelectFromModel de sklearn para reducir la cantidad de factores del problema y\n",
        "volver a entrenar el modelo con los datos de entrenamiento y validación, de manera que el\n",
        "desempeño con esta cantidad de datos reducida sea aproximadamente la obtenida\n",
        "previamente con todos los factores. Recuerda evitar el filtrado de información del\n",
        "conjunto de entrenamiento a los conjuntos de validación y de prueba.\n"
      ],
      "metadata": {
        "id": "TBDmb-gpapgy"
      }
    },
    {
      "cell_type": "code",
      "source": [
        "from sklearn.feature_selection import SelectFromModel\n",
        "from sklearn.linear_model import LogisticRegression\n",
        "from sklearn.metrics import accuracy_score, classification_report\n",
        "\n",
        "logreg_model_weighted = LogisticRegression(class_weight='balanced', random_state=42)\n",
        "logreg_model_weighted.fit(X_trainT, y_train)\n",
        "\n",
        "selector = SelectFromModel(logreg_model_weighted, threshold=None, prefit=True)\n",
        "\n",
        "X_train_selected= selector.transform(X_trainT)\n",
        "X_val_selected = selector.transform(X_valT)"
      ],
      "metadata": {
        "colab": {
          "base_uri": "https://localhost:8080/"
        },
        "id": "Klm30Pba6IWs",
        "outputId": "58f61abc-c2d9-427e-a6ce-7cad43539194"
      },
      "execution_count": 245,
      "outputs": [
        {
          "output_type": "stream",
          "name": "stderr",
          "text": [
            "/usr/local/lib/python3.10/dist-packages/sklearn/base.py:432: UserWarning: X has feature names, but SelectFromModel was fitted without feature names\n",
            "  warnings.warn(\n",
            "/usr/local/lib/python3.10/dist-packages/sklearn/base.py:432: UserWarning: X has feature names, but SelectFromModel was fitted without feature names\n",
            "  warnings.warn(\n"
          ]
        }
      ]
    },
    {
      "cell_type": "markdown",
      "source": [
        "a)\n",
        "*   ¿A cuántos factores pudiste reducir el problema? Indica cuántos tenías y a cuántos\n",
        "se redujo, así como el porcentaje de reducción de factores.\n"
      ],
      "metadata": {
        "id": "HJHhBSNPapjL"
      }
    },
    {
      "cell_type": "code",
      "source": [
        "print(f' El numero final de factores es {len(X_train_selected)}')\n",
        "print(f' El numero anterior de factores es {len(X_trainT)}')\n",
        "print(f' El porcentaje de reduccion es {(len(X_train_selected)-len(X_trainT))/len(X_trainT)}')\n"
      ],
      "metadata": {
        "colab": {
          "base_uri": "https://localhost:8080/"
        },
        "id": "Tm1STh186x7p",
        "outputId": "d985962f-ae23-4b78-8e9d-62c566d74668"
      },
      "execution_count": 246,
      "outputs": [
        {
          "output_type": "stream",
          "name": "stdout",
          "text": [
            " El numero final de factores es 1029\n",
            " El numero anterior de factores es 1029\n",
            " El porcentaje de reduccion es 0.0\n"
          ]
        }
      ]
    },
    {
      "cell_type": "markdown",
      "source": [
        "b)\n",
        "*   Despliega la matriz de confusión y el reporte dado por la función\n",
        "classification_report()."
      ],
      "metadata": {
        "id": "_0Vvos9Baplp"
      }
    },
    {
      "cell_type": "code",
      "source": [
        "# Ajustar el modelo con las características seleccionadas\n",
        "logreg_model_selected = LogisticRegression(class_weight='balanced', random_state=42)\n",
        "logreg_model_selected.fit(X_train_selected, y_train)\n",
        "\n",
        "# Realizar predicciones en el conjunto de validación con características seleccionadas\n",
        "y_pred_selected = logreg_model_selected.predict(X_val_selected)\n",
        "\n",
        "# Evaluar el rendimiento del modelo en el conjunto de validación\n",
        "accuracy_selected = accuracy_score(y_val, y_pred_selected)\n",
        "classification_rep_selected = classification_report(y_val, y_pred_selected)\n",
        "\n",
        "# Imprimir resultados\n",
        "print(f'Accuracy en el conjunto de validación con características seleccionadas: {accuracy_selected}')\n",
        "print('Classification Report en el conjunto de validación con características seleccionadas:')\n",
        "print(classification_rep_selected)\n"
      ],
      "metadata": {
        "colab": {
          "base_uri": "https://localhost:8080/"
        },
        "id": "BkNox3MN81E5",
        "outputId": "ac512293-be1c-4938-c00b-efb222648177"
      },
      "execution_count": 247,
      "outputs": [
        {
          "output_type": "stream",
          "name": "stdout",
          "text": [
            "Accuracy en el conjunto de validación con características seleccionadas: 0.7363636363636363\n",
            "Classification Report en el conjunto de validación con características seleccionadas:\n",
            "              precision    recall  f1-score   support\n",
            "\n",
            "          No       0.93      0.74      0.83       185\n",
            "         Yes       0.34      0.71      0.46        35\n",
            "\n",
            "    accuracy                           0.74       220\n",
            "   macro avg       0.64      0.73      0.64       220\n",
            "weighted avg       0.84      0.74      0.77       220\n",
            "\n"
          ]
        }
      ]
    },
    {
      "cell_type": "markdown",
      "source": [
        "**PARTE 6: Modelo final y conclusiones**"
      ],
      "metadata": {
        "id": "KYehNf4Uapn1"
      }
    },
    {
      "cell_type": "markdown",
      "source": [
        "19.- Finalmente, con base a todos los resultados obtenidos hasta ahora, responde a los\n",
        "siguientes incisos para obtener el que consideres el mejor modelo para enfrentar el\n",
        "problema de rotación de personal a partir de los datos históricos iniciales.\n",
        "\n"
      ],
      "metadata": {
        "id": "7gB9iTBZapp_"
      }
    },
    {
      "cell_type": "markdown",
      "source": [
        "a)\n",
        "*   Forma un nuevo conjunto de Entrenamiento con los mejores conjuntos de\n",
        "entrenamiento y validación que hayas obtenido hasta ahora."
      ],
      "metadata": {
        "id": "6bixW-O1bQS4"
      }
    },
    {
      "cell_type": "code",
      "source": [
        "\n",
        "X_train_final = pd.concat([X_trainT, X_valT], axis=0)\n",
        "y_train_final = pd.concat([y_train, y_val], axis=0)\n",
        "\n",
        "print(X_train_final.shape, y_train_final.shape)"
      ],
      "metadata": {
        "colab": {
          "base_uri": "https://localhost:8080/"
        },
        "id": "tijZ0tmigrYL",
        "outputId": "966b4ff4-8714-49cb-b532-3aba8f96296f"
      },
      "execution_count": 248,
      "outputs": [
        {
          "output_type": "stream",
          "name": "stdout",
          "text": [
            "(1249, 32) (1249,)\n"
          ]
        }
      ]
    },
    {
      "cell_type": "markdown",
      "source": [
        "\n",
        "b)\n",
        "*   Selecciona el mejor modelo de aprendizaje automático que hayas obtenido hasta\n",
        "ahora, entre regresión logística y kNN. Explica por qué lo consideras el mejor\n",
        "modelo.\n"
      ],
      "metadata": {
        "id": "9GydXVq5bSXr"
      }
    },
    {
      "cell_type": "code",
      "source": [
        "print('Para el recall')"
      ],
      "metadata": {
        "colab": {
          "base_uri": "https://localhost:8080/"
        },
        "id": "iJt6k4CWkacV",
        "outputId": "de17dc8c-21bc-4dd7-839e-a81a984fc5b9"
      },
      "execution_count": 249,
      "outputs": [
        {
          "output_type": "stream",
          "name": "stdout",
          "text": [
            "Para el recall\n"
          ]
        }
      ]
    },
    {
      "cell_type": "code",
      "source": [
        "from sklearn.linear_model import LogisticRegression\n",
        "from sklearn.metrics import accuracy_score, classification_report\n",
        "\n",
        "\n",
        "logreg_model_weighted = LogisticRegression(class_weight='balanced', random_state=42)\n",
        "logreg_model_weighted.fit(X_train_final, y_train_final)\n",
        "\n",
        "y_pred_weighted = logreg_model_weighted.predict(X_valT)\n"
      ],
      "metadata": {
        "id": "OPe77u6dgsAP"
      },
      "execution_count": 250,
      "outputs": []
    },
    {
      "cell_type": "code",
      "source": [
        "print('Para la precision')"
      ],
      "metadata": {
        "colab": {
          "base_uri": "https://localhost:8080/"
        },
        "id": "wmktPob4kfqy",
        "outputId": "f9cfd2be-0512-4476-943d-0f2c78beff4c"
      },
      "execution_count": 251,
      "outputs": [
        {
          "output_type": "stream",
          "name": "stdout",
          "text": [
            "Para la precision\n"
          ]
        }
      ]
    },
    {
      "cell_type": "code",
      "source": [
        "from sklearn.linear_model import LogisticRegression\n",
        "from sklearn.metrics import accuracy_score, classification_report\n",
        "from sklearn.preprocessing import StandardScaler\n",
        "from sklearn.model_selection import train_test_split\n",
        "\n",
        "# Crear y ajustar el modelo de regresión logística\n",
        "logreg_model = LogisticRegression(random_state=42)\n",
        "\n",
        "# Entrenar el modelo\n",
        "logreg_model.fit(X_train_final, y_train_final)\n",
        "\n",
        "# Predecir en el conjunto de prueba\n",
        "y_pred = logreg_model.predict(X_valT)"
      ],
      "metadata": {
        "id": "wLwPmXYvj0cT"
      },
      "execution_count": 252,
      "outputs": []
    },
    {
      "cell_type": "markdown",
      "source": [
        "c)\n",
        "*   Entrena el modelo con el nuevo conjunto de entrenamiento aumentado y utiliza el\n",
        "conjunto de Prueba (Test) para obtener el desempeño final de tu mejor modelo.\n",
        "Para ello:\n",
        "*   Despliega la exactitud (accuracy) del conjunto de entrenamiento y del\n",
        "conjunto de Prueba para verificar que no esté sub o sobre entrenado.\n",
        "*   Despliega la matriz de confusión y el reporte dado por la función\n",
        "classification_report() del conjunto de Prueba.\n",
        "*    Incluye las conclusiones finales de la actividad. En particular interpreta y\n",
        "explica con base al problema de rotación de personal, los resultados\n",
        "obtenidos para las métricas “precision”, “recall” y “f1-score”."
      ],
      "metadata": {
        "id": "Km5jPtX4bTjK"
      }
    },
    {
      "cell_type": "code",
      "source": [
        "accuracy_weighted = accuracy_score(y_val, y_pred_weighted)\n",
        "print(f'Accuracy en el conjunto de validación con pesos de clase: {accuracy_weighted}')\n",
        "\n",
        "classification_rep_weighted = classification_report(y_val, y_pred_weighted)\n",
        "print('Classification Report en el conjunto de validación con pesos de clase:')\n",
        "print(classification_rep_weighted)"
      ],
      "metadata": {
        "colab": {
          "base_uri": "https://localhost:8080/"
        },
        "id": "rTxKMpBjmaFK",
        "outputId": "6f24e1bd-6bad-498e-b45f-68def59de652"
      },
      "execution_count": 253,
      "outputs": [
        {
          "output_type": "stream",
          "name": "stdout",
          "text": [
            "Accuracy en el conjunto de validación con pesos de clase: 0.7681818181818182\n",
            "Classification Report en el conjunto de validación con pesos de clase:\n",
            "              precision    recall  f1-score   support\n",
            "\n",
            "          No       0.95      0.77      0.85       185\n",
            "         Yes       0.39      0.77      0.51        35\n",
            "\n",
            "    accuracy                           0.77       220\n",
            "   macro avg       0.67      0.77      0.68       220\n",
            "weighted avg       0.86      0.77      0.79       220\n",
            "\n"
          ]
        }
      ]
    },
    {
      "cell_type": "code",
      "source": [
        "accuracy_weighted = accuracy_score(y_val, y_pred)\n",
        "print(f'Accuracy en el conjunto de validación con pesos de clase: {accuracy_weighted}')\n",
        "\n",
        "classification_rep_weighted = classification_report(y_val, y_pred)\n",
        "print('Classification Report en el conjunto de validación con pesos de clase:')\n",
        "print(classification_rep_weighted)"
      ],
      "metadata": {
        "colab": {
          "base_uri": "https://localhost:8080/"
        },
        "id": "kKN9WdTEmbXV",
        "outputId": "3be9dde8-35e4-4f35-af9a-ab700680882e"
      },
      "execution_count": 254,
      "outputs": [
        {
          "output_type": "stream",
          "name": "stdout",
          "text": [
            "Accuracy en el conjunto de validación con pesos de clase: 0.8727272727272727\n",
            "Classification Report en el conjunto de validación con pesos de clase:\n",
            "              precision    recall  f1-score   support\n",
            "\n",
            "          No       0.88      0.99      0.93       185\n",
            "         Yes       0.82      0.26      0.39        35\n",
            "\n",
            "    accuracy                           0.87       220\n",
            "   macro avg       0.85      0.62      0.66       220\n",
            "weighted avg       0.87      0.87      0.84       220\n",
            "\n"
          ]
        }
      ]
    }
  ]
}
