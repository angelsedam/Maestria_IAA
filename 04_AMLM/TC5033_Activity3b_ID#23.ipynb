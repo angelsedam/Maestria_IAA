{
 "cells": [
  {
   "cell_type": "markdown",
   "id": "ecbb4c50",
   "metadata": {},
   "source": [
    "**Equipo 23**\n",
    "\n",
    "* **Luis Ángel Seda Marcos - A01795301**\n",
    "* **Eduardo Rodrigo Silva Orozco - A01795937**\n",
    "* **Gerardo Solís Hernández - A00952702**\n",
    "* **José Adán Vega Pérez - A01796093**"
   ]
  },
  {
   "cell_type": "markdown",
   "id": "940c6dbc",
   "metadata": {
    "id": "940c6dbc"
   },
   "source": [
    "## TC 5033\n",
    "### Word Embeddings\n",
    "\n",
    "<br>\n",
    "\n",
    "#### Activity 3b: Text Classification using RNNs and AG_NEWS dataset in PyTorch\n",
    "<br>\n",
    "\n",
    "- Objective:\n",
    "    - Understand the basics of Recurrent Neural Networks (RNNs) and their application in text classification.\n",
    "    - Learn how to handle a real-world text dataset, AG_NEWS, in PyTorch.\n",
    "    - Gain hands-on experience in defining, training, and evaluating a text classification model in PyTorch.\n",
    "    \n",
    "<br>\n",
    "\n",
    "- Instructions:\n",
    "    - Data Preparation: Starter code will be provided that loads the AG_NEWS dataset and prepares it for training. Do not modify this part. However, you should be sure to understand it, and comment it, the use of markdown cells is suggested.\n",
    "\n",
    "    - Model Setup: A skeleton code for the RNN model class will be provided. Complete this class and use it to instantiate your model.\n",
    "\n",
    "    - Implementing Accuracy Function: Write a function that takes model predictions and ground truth labels as input and returns the model's accuracy.\n",
    "\n",
    "    - Training Function: Implement a function that performs training on the given model using the AG_NEWS dataset. Your model should achieve an accuracy of at least 80% to get full marks for this part.\n",
    "\n",
    "    - Text Sampling: Write a function that takes a sample text as input and classifies it using your trained model.\n",
    "\n",
    "    - Confusion Matrix: Implement a function to display the confusion matrix for your model on the test data.\n",
    "\n",
    "    - Submission: Submit your completed Jupyter Notebook. Make sure to include a markdown cell at the beginning of the notebook that lists the names of all team members. Teams should consist of 3 to 4 members.\n",
    "    \n",
    "<br>\n",
    "\n",
    "- Evaluation Criteria:\n",
    "\n",
    "    - Correct setup of all the required libraries and modules (10%)\n",
    "    - Code Quality (30%): Your code should be well-organized, clearly commented, and easy to follow. Use also markdown cells for clarity. Comments should be given for all the provided code, this will help you understand its functionality.\n",
    "    \n",
    "   - Functionality (60%):\n",
    "        - All the functions should execute without errors and provide the expected outputs.\n",
    "        - RNN model class (20%)\n",
    "        - Accuracy fucntion (10%)\n",
    "        - Training function (10%)\n",
    "        - Sampling function (10%)\n",
    "        - Confucion matrix (10%)\n",
    "\n",
    "        - The model should achieve at least an 80% accuracy on the AG_NEWS test set for full marks in this criterion.\n"
   ]
  },
  {
   "cell_type": "markdown",
   "id": "4de318da",
   "metadata": {
    "id": "4de318da"
   },
   "source": [
    "Dataset\n",
    "\n",
    "https://pytorch.org/text/stable/datasets.html#text-classification\n",
    "\n",
    "https://paperswithcode.com/dataset/ag-news\n"
   ]
  },
  {
   "cell_type": "markdown",
   "id": "4a9801f9",
   "metadata": {
    "id": "4a9801f9"
   },
   "source": [
    "#### Install libraries (if needed)"
   ]
  },
  {
   "cell_type": "markdown",
   "id": "97QE07qUQXN4",
   "metadata": {
    "id": "97QE07qUQXN4"
   },
   "source": [
    "You may need to install the following libraries to ensure version compatibility. After installing them, please Restart the Session (Runtime -> Restart Session)"
   ]
  },
  {
   "cell_type": "code",
   "execution_count": 1,
   "id": "54394f53",
   "metadata": {
    "colab": {
     "base_uri": "https://localhost:8080/"
    },
    "executionInfo": {
     "elapsed": 197855,
     "status": "ok",
     "timestamp": 1730926937697,
     "user": {
      "displayName": "José Antonio Cantoral Ceballos",
      "userId": "04961139803161381162"
     },
     "user_tz": 360
    },
    "id": "54394f53",
    "outputId": "01dd9e91-176b-4879-f052-aaf17a90ef72"
   },
   "outputs": [
    {
     "name": "stdout",
     "output_type": "stream",
     "text": [
      "Looking in indexes: https://download.pytorch.org/whl/cu121\n",
      "Requirement already satisfied: torch==2.2.0+cu121 in c:\\users\\eduar\\appdata\\local\\programs\\python\\python312\\lib\\site-packages (2.2.0+cu121)\n",
      "Requirement already satisfied: torchvision==0.17.0+cu121 in c:\\users\\eduar\\appdata\\local\\programs\\python\\python312\\lib\\site-packages (0.17.0+cu121)\n",
      "Requirement already satisfied: torchaudio==2.2.0+cu121 in c:\\users\\eduar\\appdata\\local\\programs\\python\\python312\\lib\\site-packages (2.2.0+cu121)\n",
      "Requirement already satisfied: torchtext==0.16.2 in c:\\users\\eduar\\appdata\\local\\programs\\python\\python312\\lib\\site-packages (0.16.2+cpu)\n",
      "Requirement already satisfied: filelock in c:\\users\\eduar\\appdata\\local\\programs\\python\\python312\\lib\\site-packages (from torch==2.2.0+cu121) (3.17.0)\n",
      "Requirement already satisfied: typing-extensions>=4.8.0 in c:\\users\\eduar\\appdata\\local\\programs\\python\\python312\\lib\\site-packages (from torch==2.2.0+cu121) (4.12.2)\n",
      "Requirement already satisfied: sympy in c:\\users\\eduar\\appdata\\local\\programs\\python\\python312\\lib\\site-packages (from torch==2.2.0+cu121) (1.13.1)\n",
      "Requirement already satisfied: networkx in c:\\users\\eduar\\appdata\\local\\programs\\python\\python312\\lib\\site-packages (from torch==2.2.0+cu121) (3.4.2)\n",
      "Requirement already satisfied: jinja2 in c:\\users\\eduar\\appdata\\local\\programs\\python\\python312\\lib\\site-packages (from torch==2.2.0+cu121) (3.1.4)\n",
      "Requirement already satisfied: fsspec in c:\\users\\eduar\\appdata\\local\\programs\\python\\python312\\lib\\site-packages (from torch==2.2.0+cu121) (2025.2.0)\n",
      "Requirement already satisfied: numpy in c:\\users\\eduar\\appdata\\local\\programs\\python\\python312\\lib\\site-packages (from torchvision==0.17.0+cu121) (1.26.4)\n",
      "Requirement already satisfied: requests in c:\\users\\eduar\\appdata\\local\\programs\\python\\python312\\lib\\site-packages (from torchvision==0.17.0+cu121) (2.32.2)\n",
      "Requirement already satisfied: pillow!=8.3.*,>=5.3.0 in c:\\users\\eduar\\appdata\\local\\programs\\python\\python312\\lib\\site-packages (from torchvision==0.17.0+cu121) (10.3.0)\n",
      "Requirement already satisfied: tqdm in c:\\users\\eduar\\appdata\\local\\programs\\python\\python312\\lib\\site-packages (from torchtext==0.16.2) (4.67.0)\n",
      "Requirement already satisfied: torchdata==0.7.1 in c:\\users\\eduar\\appdata\\local\\programs\\python\\python312\\lib\\site-packages (from torchtext==0.16.2) (0.7.1)\n",
      "Requirement already satisfied: urllib3>=1.25 in c:\\users\\eduar\\appdata\\local\\programs\\python\\python312\\lib\\site-packages (from torchdata==0.7.1->torchtext==0.16.2) (2.2.1)\n",
      "Requirement already satisfied: MarkupSafe>=2.0 in c:\\users\\eduar\\appdata\\local\\programs\\python\\python312\\lib\\site-packages (from jinja2->torch==2.2.0+cu121) (2.1.5)\n",
      "Requirement already satisfied: charset-normalizer<4,>=2 in c:\\users\\eduar\\appdata\\local\\programs\\python\\python312\\lib\\site-packages (from requests->torchvision==0.17.0+cu121) (3.3.2)\n",
      "Requirement already satisfied: idna<4,>=2.5 in c:\\users\\eduar\\appdata\\local\\programs\\python\\python312\\lib\\site-packages (from requests->torchvision==0.17.0+cu121) (3.7)\n",
      "Requirement already satisfied: certifi>=2017.4.17 in c:\\users\\eduar\\appdata\\local\\programs\\python\\python312\\lib\\site-packages (from requests->torchvision==0.17.0+cu121) (2024.2.2)\n",
      "Requirement already satisfied: mpmath<1.4,>=1.1.0 in c:\\users\\eduar\\appdata\\local\\programs\\python\\python312\\lib\\site-packages (from sympy->torch==2.2.0+cu121) (1.3.0)\n",
      "Requirement already satisfied: colorama in c:\\users\\eduar\\appdata\\roaming\\python\\python312\\site-packages (from tqdm->torchtext==0.16.2) (0.4.6)\n",
      "Requirement already satisfied: pip in c:\\users\\eduar\\appdata\\local\\programs\\python\\python312\\lib\\site-packages (25.0.1)\n"
     ]
    }
   ],
   "source": [
    "!pip install torch==2.2.0+cu121 torchvision==0.17.0+cu121 torchaudio==2.2.0+cu121 torchtext==0.16.2 --index-url https://download.pytorch.org/whl/cu121\n",
    "!python.exe -m pip install --upgrade pip"
   ]
  },
  {
   "cell_type": "code",
   "execution_count": 2,
   "id": "3m9B33A8QOiI",
   "metadata": {
    "colab": {
     "base_uri": "https://localhost:8080/",
     "height": 919
    },
    "executionInfo": {
     "elapsed": 19793,
     "status": "ok",
     "timestamp": 1730927022196,
     "user": {
      "displayName": "José Antonio Cantoral Ceballos",
      "userId": "04961139803161381162"
     },
     "user_tz": 360
    },
    "id": "3m9B33A8QOiI",
    "outputId": "252d46f9-a554-4b2e-e736-9c7db762ae5c"
   },
   "outputs": [
    {
     "name": "stdout",
     "output_type": "stream",
     "text": [
      "Collecting scipy==1.9.3\n",
      "  Using cached scipy-1.9.3.tar.gz (42.1 MB)\n",
      "  Installing build dependencies: started\n",
      "  Installing build dependencies: finished with status 'done'\n",
      "  Getting requirements to build wheel: started\n",
      "  Getting requirements to build wheel: finished with status 'done'\n",
      "  Installing backend dependencies: started\n",
      "  Installing backend dependencies: finished with status 'done'\n",
      "  Preparing metadata (pyproject.toml): started\n",
      "  Preparing metadata (pyproject.toml): finished with status 'error'\n"
     ]
    },
    {
     "name": "stderr",
     "output_type": "stream",
     "text": [
      "  error: subprocess-exited-with-error\n",
      "  \n",
      "  × Preparing metadata (pyproject.toml) did not run successfully.\n",
      "  │ exit code: 1\n",
      "  ╰─> [45 lines of output]\n",
      "      + meson setup C:\\Users\\eduar\\AppData\\Local\\Temp\\pip-install-so2mdxzg\\scipy_91d5bb4671e1483ab5379d2dd3e92c61 C:\\Users\\eduar\\AppData\\Local\\Temp\\pip-install-so2mdxzg\\scipy_91d5bb4671e1483ab5379d2dd3e92c61\\.mesonpy-amcbja10 -Dbuildtype=release -Db_ndebug=if-release -Db_vscrt=md --native-file=C:\\Users\\eduar\\AppData\\Local\\Temp\\pip-install-so2mdxzg\\scipy_91d5bb4671e1483ab5379d2dd3e92c61\\.mesonpy-amcbja10\\meson-python-native-file.ini\n",
      "      The Meson build system\n",
      "      Version: 1.7.0\n",
      "      Source dir: C:\\Users\\eduar\\AppData\\Local\\Temp\\pip-install-so2mdxzg\\scipy_91d5bb4671e1483ab5379d2dd3e92c61\n",
      "      Build dir: C:\\Users\\eduar\\AppData\\Local\\Temp\\pip-install-so2mdxzg\\scipy_91d5bb4671e1483ab5379d2dd3e92c61\\.mesonpy-amcbja10\n",
      "      Build type: native build\n",
      "      Project name: SciPy\n",
      "      Project version: 1.9.3\n",
      "      Activating VS 17.12.1\n",
      "      C compiler for the host machine: cl (msvc 19.42.34433 \"Compilador de optimizaciï¿½n de C/C++ de Microsoft (R) versiï¿½n 19.42.34433 para x64\")\n",
      "      C linker for the host machine: link link 14.42.34433.0\n",
      "      C++ compiler for the host machine: cl (msvc 19.42.34433 \"Compilador de optimizaciï¿½n de C/C++ de Microsoft (R) versiï¿½n 19.42.34433 para x64\")\n",
      "      C++ linker for the host machine: link link 14.42.34433.0\n",
      "      Host machine cpu family: x86_64\n",
      "      Host machine cpu: x86_64\n",
      "      Compiler for C supports arguments -Wno-unused-but-set-variable: NO\n",
      "      Compiler for C supports arguments -Wno-unused-but-set-variable: NO (cached)\n",
      "      Compiler for C supports arguments -Wno-unused-function: NO\n",
      "      Compiler for C supports arguments -Wno-conversion: NO\n",
      "      Compiler for C supports arguments -Wno-misleading-indentation: NO\n",
      "      Compiler for C supports arguments -Wno-incompatible-pointer-types: NO\n",
      "      Library m found: NO\n",
      "      \n",
      "      ..\\meson.build:57:0: ERROR: Unknown compiler(s): [['ifort'], ['gfortran'], ['flang-new'], ['flang'], ['pgfortran'], ['g95']]\n",
      "      The following exception(s) were encountered:\n",
      "      Running `ifort --help` gave \"[WinError 2] El sistema no puede encontrar el archivo especificado\"\n",
      "      Running `ifort --version` gave \"[WinError 2] El sistema no puede encontrar el archivo especificado\"\n",
      "      Running `ifort -V` gave \"[WinError 2] El sistema no puede encontrar el archivo especificado\"\n",
      "      Running `gfortran --help` gave \"[WinError 2] El sistema no puede encontrar el archivo especificado\"\n",
      "      Running `gfortran --version` gave \"[WinError 2] El sistema no puede encontrar el archivo especificado\"\n",
      "      Running `gfortran -V` gave \"[WinError 2] El sistema no puede encontrar el archivo especificado\"\n",
      "      Running `flang-new --help` gave \"[WinError 2] El sistema no puede encontrar el archivo especificado\"\n",
      "      Running `flang-new --version` gave \"[WinError 2] El sistema no puede encontrar el archivo especificado\"\n",
      "      Running `flang-new -V` gave \"[WinError 2] El sistema no puede encontrar el archivo especificado\"\n",
      "      Running `flang --help` gave \"[WinError 2] El sistema no puede encontrar el archivo especificado\"\n",
      "      Running `flang --version` gave \"[WinError 2] El sistema no puede encontrar el archivo especificado\"\n",
      "      Running `flang -V` gave \"[WinError 2] El sistema no puede encontrar el archivo especificado\"\n",
      "      Running `pgfortran --help` gave \"[WinError 2] El sistema no puede encontrar el archivo especificado\"\n",
      "      Running `pgfortran --version` gave \"[WinError 2] El sistema no puede encontrar el archivo especificado\"\n",
      "      Running `pgfortran -V` gave \"[WinError 2] El sistema no puede encontrar el archivo especificado\"\n",
      "      Running `g95 --help` gave \"[WinError 2] El sistema no puede encontrar el archivo especificado\"\n",
      "      Running `g95 --version` gave \"[WinError 2] El sistema no puede encontrar el archivo especificado\"\n",
      "      Running `g95 -V` gave \"[WinError 2] El sistema no puede encontrar el archivo especificado\"\n",
      "      \n",
      "      A full log can be found at C:\\Users\\eduar\\AppData\\Local\\Temp\\pip-install-so2mdxzg\\scipy_91d5bb4671e1483ab5379d2dd3e92c61\\.mesonpy-amcbja10\\meson-logs\\meson-log.txt\n",
      "      [end of output]\n",
      "  \n",
      "  note: This error originates from a subprocess, and is likely not a problem with pip.\n",
      "error: metadata-generation-failed\n",
      "\n",
      "× Encountered error while generating package metadata.\n",
      "╰─> See above for output.\n",
      "\n",
      "note: This is an issue with the package mentioned above, not pip.\n",
      "hint: See above for details.\n"
     ]
    },
    {
     "name": "stdout",
     "output_type": "stream",
     "text": [
      "Requirement already satisfied: scikit-plot in c:\\users\\eduar\\appdata\\local\\programs\\python\\python312\\lib\\site-packages (0.3.7)\n",
      "Requirement already satisfied: matplotlib>=1.4.0 in c:\\users\\eduar\\appdata\\local\\programs\\python\\python312\\lib\\site-packages (from scikit-plot) (3.9.0)\n",
      "Requirement already satisfied: scikit-learn>=0.18 in c:\\users\\eduar\\appdata\\local\\programs\\python\\python312\\lib\\site-packages (from scikit-plot) (1.4.2)\n",
      "Requirement already satisfied: scipy>=0.9 in c:\\users\\eduar\\appdata\\local\\programs\\python\\python312\\lib\\site-packages (from scikit-plot) (1.13.0)\n",
      "Requirement already satisfied: joblib>=0.10 in c:\\users\\eduar\\appdata\\local\\programs\\python\\python312\\lib\\site-packages (from scikit-plot) (1.4.2)\n",
      "Requirement already satisfied: contourpy>=1.0.1 in c:\\users\\eduar\\appdata\\local\\programs\\python\\python312\\lib\\site-packages (from matplotlib>=1.4.0->scikit-plot) (1.2.1)\n",
      "Requirement already satisfied: cycler>=0.10 in c:\\users\\eduar\\appdata\\local\\programs\\python\\python312\\lib\\site-packages (from matplotlib>=1.4.0->scikit-plot) (0.12.1)\n",
      "Requirement already satisfied: fonttools>=4.22.0 in c:\\users\\eduar\\appdata\\local\\programs\\python\\python312\\lib\\site-packages (from matplotlib>=1.4.0->scikit-plot) (4.51.0)\n",
      "Requirement already satisfied: kiwisolver>=1.3.1 in c:\\users\\eduar\\appdata\\local\\programs\\python\\python312\\lib\\site-packages (from matplotlib>=1.4.0->scikit-plot) (1.4.5)\n",
      "Requirement already satisfied: numpy>=1.23 in c:\\users\\eduar\\appdata\\local\\programs\\python\\python312\\lib\\site-packages (from matplotlib>=1.4.0->scikit-plot) (1.26.4)\n",
      "Requirement already satisfied: packaging>=20.0 in c:\\users\\eduar\\appdata\\roaming\\python\\python312\\site-packages (from matplotlib>=1.4.0->scikit-plot) (24.0)\n",
      "Requirement already satisfied: pillow>=8 in c:\\users\\eduar\\appdata\\local\\programs\\python\\python312\\lib\\site-packages (from matplotlib>=1.4.0->scikit-plot) (10.3.0)\n",
      "Requirement already satisfied: pyparsing>=2.3.1 in c:\\users\\eduar\\appdata\\local\\programs\\python\\python312\\lib\\site-packages (from matplotlib>=1.4.0->scikit-plot) (3.1.2)\n",
      "Requirement already satisfied: python-dateutil>=2.7 in c:\\users\\eduar\\appdata\\roaming\\python\\python312\\site-packages (from matplotlib>=1.4.0->scikit-plot) (2.9.0.post0)\n",
      "Requirement already satisfied: threadpoolctl>=2.0.0 in c:\\users\\eduar\\appdata\\local\\programs\\python\\python312\\lib\\site-packages (from scikit-learn>=0.18->scikit-plot) (3.5.0)\n",
      "Requirement already satisfied: six>=1.5 in c:\\users\\eduar\\appdata\\roaming\\python\\python312\\site-packages (from python-dateutil>=2.7->matplotlib>=1.4.0->scikit-plot) (1.16.0)\n",
      "Name: scikit-plot\n",
      "Version: 0.3.7\n",
      "Summary: An intuitive library to add plotting functionality to scikit-learn objects.\n",
      "Home-page: https://github.com/reiinakano/scikit-plot\n",
      "Author: Reiichiro Nakano\n",
      "Author-email: reiichiro.s.nakano@gmail.com\n",
      "License: MIT License\n",
      "Location: c:\\Users\\eduar\\AppData\\Local\\Programs\\Python\\Python312\\Lib\\site-packages\n",
      "Requires: joblib, matplotlib, scikit-learn, scipy\n",
      "Required-by: \n",
      "Scikit-plot is working!\n"
     ]
    }
   ],
   "source": [
    "# Install required dependencies\n",
    "!pip install scipy==1.9.3\n",
    "!pip install scikit-plot\n",
    "\n",
    "# Check if scikit-plot is correctly installed\n",
    "!pip show scikit-plot\n",
    "\n",
    "# You may receive a message to restart the session, this is OK.\n",
    "# After restarting, go straight to importing the libraries.\n",
    "\n",
    "import scikitplot as skplt\n",
    "print(\"Scikit-plot is working!\")"
   ]
  },
  {
   "cell_type": "markdown",
   "id": "9IUa6uRqQtGu",
   "metadata": {
    "id": "9IUa6uRqQtGu"
   },
   "source": [
    "## Import libraries"
   ]
  },
  {
   "cell_type": "code",
   "execution_count": 3,
   "id": "878b524f",
   "metadata": {
    "executionInfo": {
     "elapsed": 7208,
     "status": "ok",
     "timestamp": 1730927094550,
     "user": {
      "displayName": "José Antonio Cantoral Ceballos",
      "userId": "04961139803161381162"
     },
     "user_tz": 360
    },
    "id": "878b524f"
   },
   "outputs": [],
   "source": [
    "# The following libraries are required for running the given code\n",
    "# Please feel free to add any libraries you consider adequate to complete the assignment.\n",
    "\n",
    "# Basic libraries\n",
    "import numpy as np\n",
    "\n",
    "# PyTorch libraries\n",
    "import torch\n",
    "from torchtext.datasets import AG_NEWS\n",
    "from torch.utils.data import DataLoader, random_split\n",
    "from torchtext.data.utils import get_tokenizer\n",
    "from torchtext.vocab import build_vocab_from_iterator\n",
    "from torchtext.data.functional import to_map_style_dataset\n",
    "from torch import nn\n",
    "from torch.nn import functional as F\n",
    "import torch.optim as optim  # Optimizers\n",
    "\n",
    "# Libraries for evaluation and performance metrics\n",
    "from sklearn.metrics import accuracy_score, classification_report, confusion_matrix\n",
    "\n",
    "# Libraries for visualization\n",
    "import matplotlib.pyplot as plt\n",
    "import seaborn as sns  # Enhances visualization readability\n",
    "import scikitplot as skplt  # Suggested for plotting confusion matrix\n",
    "from tqdm import tqdm  # Helps with progress tracking\n",
    "\n",
    "# Garbage collection (useful for PyTorch memory management)\n",
    "import gc"
   ]
  },
  {
   "cell_type": "code",
   "execution_count": 4,
   "id": "3bab55f3",
   "metadata": {
    "colab": {
     "base_uri": "https://localhost:8080/"
    },
    "executionInfo": {
     "elapsed": 159,
     "status": "ok",
     "timestamp": 1730927097048,
     "user": {
      "displayName": "José Antonio Cantoral Ceballos",
      "userId": "04961139803161381162"
     },
     "user_tz": 360
    },
    "id": "3bab55f3",
    "outputId": "ceeb9cf1-327b-4c48-deda-c550651803ec"
   },
   "outputs": [
    {
     "name": "stdout",
     "output_type": "stream",
     "text": [
      "cuda\n"
     ]
    }
   ],
   "source": [
    "# Use GPU if available\n",
    "device = torch.device(\"cuda\" if torch.cuda.is_available() else \"cpu\")\n",
    "print(device)"
   ]
  },
  {
   "cell_type": "markdown",
   "id": "3d38956d",
   "metadata": {
    "id": "3d38956d"
   },
   "source": [
    "### Get the train and the test datasets and dataloaders"
   ]
  },
  {
   "cell_type": "markdown",
   "id": "e9c6b784",
   "metadata": {
    "id": "e9c6b784"
   },
   "source": [
    "Classes:\n",
    "\n",
    "* 1 - World\n",
    "\n",
    "* 2 - Sports\n",
    "\n",
    "* 3 - Business\n",
    "\n",
    "* 4 - Sci/Tech\n",
    "\n",
    "We will convert them to:\n",
    "\n",
    "* 0 - World\n",
    "\n",
    "* 1 - Sports\n",
    "\n",
    "* 2 - Business\n",
    "\n",
    "* 3 - Sci/Tech"
   ]
  },
  {
   "cell_type": "code",
   "execution_count": 5,
   "id": "49fbed19",
   "metadata": {
    "executionInfo": {
     "elapsed": 5438,
     "status": "ok",
     "timestamp": 1730927105127,
     "user": {
      "displayName": "José Antonio Cantoral Ceballos",
      "userId": "04961139803161381162"
     },
     "user_tz": 360
    },
    "id": "49fbed19"
   },
   "outputs": [],
   "source": [
    "train_dataset, test_dataset = AG_NEWS()\n",
    "train_dataset, test_dataset = to_map_style_dataset(train_dataset), to_map_style_dataset(test_dataset)"
   ]
  },
  {
   "cell_type": "code",
   "execution_count": 6,
   "id": "9c372eb9",
   "metadata": {
    "executionInfo": {
     "elapsed": 226,
     "status": "ok",
     "timestamp": 1730927106939,
     "user": {
      "displayName": "José Antonio Cantoral Ceballos",
      "userId": "04961139803161381162"
     },
     "user_tz": 360
    },
    "id": "9c372eb9"
   },
   "outputs": [],
   "source": [
    "# Get the tokeniser\n",
    "# Tokeniser object\n",
    "tokeniser = get_tokenizer('basic_english')\n",
    "\n",
    "def yield_tokens(data):\n",
    "    '''\n",
    "    Generate tokens from the dataset using the basic English tokenizer.\n",
    "\n",
    "    Parameters:\n",
    "    data (iterable): The dataset containing text samples.\n",
    "\n",
    "    Yields:\n",
    "    list: A list of tokenized words for each text sample.\n",
    "    '''\n",
    "    for _, text in data:\n",
    "        yield tokeniser(text)\n"
   ]
  },
  {
   "cell_type": "code",
   "execution_count": 7,
   "id": "794d0375",
   "metadata": {
    "executionInfo": {
     "elapsed": 6165,
     "status": "ok",
     "timestamp": 1730927114676,
     "user": {
      "displayName": "José Antonio Cantoral Ceballos",
      "userId": "04961139803161381162"
     },
     "user_tz": 360
    },
    "id": "794d0375"
   },
   "outputs": [],
   "source": [
    "# Build the vocabulary\n",
    "vocab = build_vocab_from_iterator(yield_tokens(train_dataset), specials=[\"<unk>\"])\n",
    "#set unknown token at position 0\n",
    "vocab.set_default_index(vocab[\"<unk>\"])"
   ]
  },
  {
   "cell_type": "code",
   "execution_count": 8,
   "id": "b48268d4",
   "metadata": {
    "colab": {
     "base_uri": "https://localhost:8080/"
    },
    "executionInfo": {
     "elapsed": 196,
     "status": "ok",
     "timestamp": 1730927117331,
     "user": {
      "displayName": "José Antonio Cantoral Ceballos",
      "userId": "04961139803161381162"
     },
     "user_tz": 360
    },
    "id": "b48268d4",
    "outputId": "f9c839a1-8598-41e9-c8a0-5e49ce5b5a9c"
   },
   "outputs": [
    {
     "name": "stdout",
     "output_type": "stream",
     "text": [
      "['welcome', 'to', 'tc5033'] [3314, 4, 0]\n"
     ]
    }
   ],
   "source": [
    "#test tokens\n",
    "tokens = tokeniser('Welcome to TC5033')\n",
    "print(tokens, vocab(tokens))"
   ]
  },
  {
   "cell_type": "code",
   "execution_count": 9,
   "id": "c8c8f6a6",
   "metadata": {
    "executionInfo": {
     "elapsed": 200,
     "status": "ok",
     "timestamp": 1730927118687,
     "user": {
      "displayName": "José Antonio Cantoral Ceballos",
      "userId": "04961139803161381162"
     },
     "user_tz": 360
    },
    "id": "c8c8f6a6"
   },
   "outputs": [],
   "source": [
    "# Split dataset into training and validation sets\n",
    "NUM_TRAIN = int(len(train_dataset)*0.9)\n",
    "NUM_VAL = len(train_dataset) - NUM_TRAIN"
   ]
  },
  {
   "cell_type": "code",
   "execution_count": 10,
   "id": "8290895e",
   "metadata": {
    "executionInfo": {
     "elapsed": 142,
     "status": "ok",
     "timestamp": 1730927121582,
     "user": {
      "displayName": "José Antonio Cantoral Ceballos",
      "userId": "04961139803161381162"
     },
     "user_tz": 360
    },
    "id": "8290895e"
   },
   "outputs": [],
   "source": [
    "# Split the training dataset into training and validation subsets\n",
    "train_dataset, val_dataset = random_split(train_dataset, [NUM_TRAIN, NUM_VAL])"
   ]
  },
  {
   "cell_type": "code",
   "execution_count": 11,
   "id": "cbc75b54",
   "metadata": {
    "colab": {
     "base_uri": "https://localhost:8080/"
    },
    "executionInfo": {
     "elapsed": 161,
     "status": "ok",
     "timestamp": 1730927125276,
     "user": {
      "displayName": "José Antonio Cantoral Ceballos",
      "userId": "04961139803161381162"
     },
     "user_tz": 360
    },
    "id": "cbc75b54",
    "outputId": "471ffecd-8d50-4c0b-8ad8-eab70f80c40d"
   },
   "outputs": [
    {
     "name": "stdout",
     "output_type": "stream",
     "text": [
      "108000 12000 7600\n"
     ]
    }
   ],
   "source": [
    "# Print the number of samples in each dataset (train, validation, and test)\n",
    "print(len(train_dataset), len(val_dataset), len(test_dataset))"
   ]
  },
  {
   "cell_type": "code",
   "execution_count": 12,
   "id": "ffdbf077",
   "metadata": {
    "executionInfo": {
     "elapsed": 160,
     "status": "ok",
     "timestamp": 1730927127379,
     "user": {
      "displayName": "José Antonio Cantoral Ceballos",
      "userId": "04961139803161381162"
     },
     "user_tz": 360
    },
    "id": "ffdbf077"
   },
   "outputs": [],
   "source": [
    "# Function passed to the DataLoader to process a batch of data as indicated\n",
    "def collate_batch(batch):\n",
    "    '''\n",
    "    Process a batch of data for the DataLoader.\n",
    "\n",
    "    This function tokenizes text, converts words to indices using the vocabulary,\n",
    "    pads sequences to a fixed length, and adjusts label indices.\n",
    "\n",
    "    Parameters:\n",
    "    batch (list of tuples): A batch of (label, text) pairs.\n",
    "\n",
    "    Returns:\n",
    "    tuple: Two tensors:\n",
    "        - x (torch.Tensor): Tokenized and padded text sequences.\n",
    "        - y (torch.Tensor): Labels adjusted to range 0-3.\n",
    "    '''\n",
    "    # Get label and text\n",
    "    y, x = list(zip(*batch))\n",
    "\n",
    "    # Create list with indices from tokeniser\n",
    "    x = [vocab(tokeniser(text)) for text in x]\n",
    "\n",
    "    # Pad or truncate sequences to max_tokens length\n",
    "    x = [t + ([0] * (max_tokens - len(t))) if len(t) < max_tokens else t[:max_tokens] for t in x]\n",
    "\n",
    "    # Convert lists to tensors and adjust labels (subtract 1 to shift to range 0-3)\n",
    "    return torch.tensor(x, dtype=torch.int32), torch.tensor(y, dtype=torch.int32) - 1\n"
   ]
  },
  {
   "cell_type": "code",
   "execution_count": 13,
   "id": "5eb459c7",
   "metadata": {
    "executionInfo": {
     "elapsed": 151,
     "status": "ok",
     "timestamp": 1730927128564,
     "user": {
      "displayName": "José Antonio Cantoral Ceballos",
      "userId": "04961139803161381162"
     },
     "user_tz": 360
    },
    "id": "5eb459c7"
   },
   "outputs": [],
   "source": [
    "# Define label categories\n",
    "labels = [\"World\", \"Sports\", \"Business\", \"Sci/Tech\"]\n",
    "\n",
    "# Set the maximum number of tokens per sequence (for padding/truncation)\n",
    "max_tokens = 50  \n",
    "\n",
    "# Define batch size for training and evaluation\n",
    "BATCH_SIZE = 256  "
   ]
  },
  {
   "cell_type": "code",
   "execution_count": 14,
   "id": "0a55e6ee",
   "metadata": {
    "executionInfo": {
     "elapsed": 178,
     "status": "ok",
     "timestamp": 1730927129681,
     "user": {
      "displayName": "José Antonio Cantoral Ceballos",
      "userId": "04961139803161381162"
     },
     "user_tz": 360
    },
    "id": "0a55e6ee"
   },
   "outputs": [],
   "source": [
    "# Create DataLoaders for training, validation, and testing datasets\n",
    "# DataLoader handles batching, shuffling, and applying the collate function\n",
    "\n",
    "train_loader = DataLoader(train_dataset, batch_size=BATCH_SIZE, collate_fn=collate_batch, shuffle=True)\n",
    "val_loader = DataLoader(val_dataset, batch_size=BATCH_SIZE, collate_fn=collate_batch, shuffle=True)\n",
    "test_loader = DataLoader(test_dataset, batch_size=BATCH_SIZE, collate_fn=collate_batch, shuffle=True)\n"
   ]
  },
  {
   "cell_type": "markdown",
   "id": "47b98898",
   "metadata": {
    "id": "47b98898"
   },
   "source": [
    "### Let us build our RNN model"
   ]
  },
  {
   "cell_type": "code",
   "execution_count": 15,
   "id": "50f20793",
   "metadata": {
    "executionInfo": {
     "elapsed": 193,
     "status": "ok",
     "timestamp": 1730927132530,
     "user": {
      "displayName": "José Antonio Cantoral Ceballos",
      "userId": "04961139803161381162"
     },
     "user_tz": 360
    },
    "id": "50f20793"
   },
   "outputs": [],
   "source": [
    "# Define model hyperparameters\n",
    "\n",
    "# Size of word embeddings (dimensionality of word vectors)\n",
    "EMBEDDING_SIZE = 300  \n",
    "\n",
    "# Number of neurons in the hidden layers of the RNN\n",
    "NEURONS = 256  \n",
    "\n",
    "# Number of recurrent layers in the RNN model\n",
    "LAYERS = 2  \n",
    "\n",
    "# Number of output classes (corresponding to the four labels)\n",
    "NUM_CLASSES = 4  "
   ]
  },
  {
   "cell_type": "markdown",
   "id": "08faea95",
   "metadata": {},
   "source": [
    "## Understanding the Model Architecture\n",
    "\n",
    "The model consists of three main components:\n",
    "\n",
    "1. **Embedding Layer**: Converts tokenized words into dense numerical representations.\n",
    "2. **GRU (Gated Recurrent Unit)**: Processes sequential data while preserving contextual information.\n",
    "3. **Fully Connected Layer**: Maps the final GRU output to four class probabilities.\n",
    "\n",
    "GRUs were chosen over LSTMs and standard RNNs due to their **computational efficiency** and ability to handle long-term dependencies effectively.\n"
   ]
  },
  {
   "cell_type": "code",
   "execution_count": 30,
   "id": "0f7f5621",
   "metadata": {
    "id": "0f7f5621",
    "outputId": "673b7ec3-7261-4848-fd8f-e1116533a8ba"
   },
   "outputs": [],
   "source": [
    "# Define the RNN-based text classification model\n",
    "class RNN_Model_1(nn.Module):\n",
    "    '''\n",
    "    RNN-based model for text classification.\n",
    "\n",
    "    Parameters:\n",
    "    - embed_size (int): Dimension of word embeddings.\n",
    "    - hidden (int): Number of neurons in the hidden layer.\n",
    "    - layers (int): Number of recurrent layers.\n",
    "    - num_classes (int): Number of output classes.\n",
    "\n",
    "    Architecture:\n",
    "    - An embedding layer to convert word indices into dense vectors.\n",
    "    - A recurrent neural network (RNN, GRU, or LSTM) to process sequences.\n",
    "    - A fully connected layer to output class probabilities.\n",
    "    '''\n",
    "    \n",
    "    def __init__(self, embed_size, hidden, layers, num_classes):\n",
    "        '''\n",
    "        Initializes the RNN model with embedding, recurrent, and output layers.\n",
    "        '''\n",
    "        super().__init__()\n",
    "\n",
    "        # Embedding layer to convert word indices into dense vectors\n",
    "        self.embedding_layer = nn.Embedding(num_embeddings=len(vocab),\n",
    "                                            embedding_dim=embed_size)\n",
    "\n",
    "        # Recurrent layer (LSTM in this case, change to GRU or RNN if needed)\n",
    "        self.rnn = nn.LSTM(input_size=embed_size,  \n",
    "                           hidden_size=hidden, \n",
    "                           num_layers=layers, \n",
    "                           batch_first=True)  # Ensures batch dimension comes first\n",
    "\n",
    "        # Fully connected output layer\n",
    "        self.fc = nn.Linear(hidden, num_classes)  # Maps hidden state to class scores\n",
    "\n",
    "    def forward(self, x):\n",
    "        '''\n",
    "        Forward pass for the model.\n",
    "\n",
    "        Parameters:\n",
    "        - x (torch.Tensor): Input tensor of tokenized sequences.\n",
    "\n",
    "        Returns:\n",
    "        - torch.Tensor: Logits for each class.\n",
    "        '''\n",
    "        # Asegurar que 'x' está en el mismo dispositivo que la capa de embedding\n",
    "        x = x.to(self.embedding_layer.weight.device)\n",
    "\n",
    "        # Convert word indices to embeddings\n",
    "        x = self.embedding_layer(x)\n",
    "\n",
    "        # Forward pass through LSTM (hidden states not needed for classification)\n",
    "        x, _ = self.rnn(x)  \n",
    "\n",
    "        # Take the output from the last time step\n",
    "        x = x[:, -1, :]\n",
    "\n",
    "        # Pass through the fully connected layer\n",
    "        x = self.fc(x)\n",
    "\n",
    "        return x\n",
    "\n"
   ]
  },
  {
   "cell_type": "markdown",
   "id": "80c0ce24",
   "metadata": {},
   "source": [
    "## Evaluating Model Accuracy\n",
    "\n",
    "After training, the model’s performance is evaluated using an **unseen test set** to assess its generalization capability.\n",
    "\n",
    "### Why Accuracy Matters?\n",
    "- The accuracy function computes the **percentage of correctly classified samples**.\n",
    "- A well-trained model should achieve **above 80% accuracy**.\n",
    "- However, accuracy alone does not provide insight into **which classes are misclassified**, making a **confusion matrix** necessary for deeper analysis.\n"
   ]
  },
  {
   "cell_type": "code",
   "execution_count": 37,
   "id": "2a42613f",
   "metadata": {
    "code_folding": [],
    "id": "2a42613f"
   },
   "outputs": [],
   "source": [
    "def accuracy(model, loader):\n",
    "    '''\n",
    "    Compute accuracy of the model on the given dataset.\n",
    "\n",
    "    Parameters:\n",
    "    - model (nn.Module): The trained model.\n",
    "    - loader (DataLoader): The DataLoader for test or validation data.\n",
    "\n",
    "    Returns:\n",
    "    - float: Accuracy of the model as a percentage.\n",
    "    '''\n",
    "    model.eval()  # Set the model to evaluation mode\n",
    "    correct = 0\n",
    "    total = 0\n",
    "\n",
    "    with torch.no_grad():  # No need to compute gradients\n",
    "        for x_batch, y_batch in loader:\n",
    "            # Move both input and target tensors to the same device\n",
    "            x_batch, y_batch = x_batch.to(device), y_batch.to(device)\n",
    "\n",
    "            # Forward pass\n",
    "            outputs = model(x_batch)\n",
    "\n",
    "            # Move outputs to the same device as y_batch before comparison\n",
    "            _, predicted = torch.max(outputs, 1)  \n",
    "            predicted = predicted.to(device)  # Asegurar que está en el mismo dispositivo que y_batch\n",
    "\n",
    "            # Compare predictions with actual labels\n",
    "            correct += (predicted == y_batch).sum().item()\n",
    "            total += y_batch.size(0)\n",
    "\n",
    "    return correct / total  # Returns accuracy as a float\n"
   ]
  },
  {
   "cell_type": "markdown",
   "id": "0d6c7cb6",
   "metadata": {},
   "source": [
    "## Training Process\n",
    "\n",
    "The model is trained using the **Adam optimizer**, which dynamically adjusts learning rates to optimize weight updates.\n",
    "\n",
    "### Key Components:\n",
    "- **Loss Function**: Cross-Entropy Loss, which is well-suited for multi-class classification.\n",
    "- **Training Loop**:\n",
    "  - Fetches a batch of training samples.\n",
    "  - Converts them into tensors and moves them to the GPU (if available).\n",
    "  - Performs a **forward pass** to generate predictions.\n",
    "  - Computes loss and performs **backpropagation** to update model weights.\n",
    "\n",
    "The model is trained for **30 epochs**, balancing between overfitting and effective learning.\n"
   ]
  },
  {
   "cell_type": "code",
   "execution_count": 55,
   "id": "5e843e1f",
   "metadata": {
    "code_folding": [],
    "id": "5e843e1f"
   },
   "outputs": [],
   "source": [
    "def train(model, optimiser, epochs=100):\n",
    "    '''\n",
    "    Train the model using the specified optimizer and dataset.\n",
    "\n",
    "    Parameters:\n",
    "    - model (nn.Module): The neural network model to be trained.\n",
    "    - optimiser (torch.optim.Optimizer): The optimizer used for updating weights.\n",
    "    - epochs (int, optional): Number of training epochs. Default is 100.\n",
    "\n",
    "    Returns:\n",
    "    - None: The function updates the model parameters in-place.\n",
    "    '''\n",
    "    model.to(device)  # Mueve el modelo a GPU/CPU\n",
    "    loss_fn = nn.CrossEntropyLoss()\n",
    "\n",
    "    for epoch in range(epochs):\n",
    "        model.train()  # Modo de entrenamiento\n",
    "\n",
    "        for x_batch, y_batch in train_loader:\n",
    "            # Mover los datos a CUDA o CPU\n",
    "            x_batch = x_batch.to(device)\n",
    "            y_batch = y_batch.to(device).long()  # 🔥 Convertir a int64\n",
    "\n",
    "            optimiser.zero_grad()  # Resetear gradientes\n",
    "\n",
    "            # Forward pass\n",
    "            outputs = model(x_batch)\n",
    "            loss = loss_fn(outputs, y_batch)  # Calcular pérdida\n",
    "\n",
    "            loss.backward()  # Backpropagation\n",
    "            optimiser.step()  # Actualizar pesos\n",
    "\n",
    "        print(f'Epoch [{epoch+1}/{epochs}], Loss: {loss.item():.4f}')\n"
   ]
  },
  {
   "cell_type": "code",
   "execution_count": 56,
   "id": "0a686fa6",
   "metadata": {},
   "outputs": [
    {
     "name": "stdout",
     "output_type": "stream",
     "text": [
      "Using device: cuda\n",
      "0.2407\n"
     ]
    }
   ],
   "source": [
    "gru_model.to(device)  # Move model to the correct device (cuda or cpu)\n",
    "print(f\"Using device: {device}\")\n",
    "print(f'{accuracy(gru_model, test_loader):.4f}')"
   ]
  },
  {
   "cell_type": "code",
   "execution_count": 58,
   "id": "87775b29",
   "metadata": {
    "id": "87775b29"
   },
   "outputs": [],
   "source": [
    "# Define the number of epochs for training\n",
    "epochs = 30  # Adjust as needed\n",
    "\n",
    "# Define the learning rate for the optimizer\n",
    "lr = 0.001  # Common starting value, can be tuned\n",
    "\n",
    "# Instantiate the GRU model\n",
    "gru_model = RNN_Model_1(EMBEDDING_SIZE, NEURONS, LAYERS, NUM_CLASSES)\n",
    "\n",
    "# Define the optimizer (linked to gru_model)\n",
    "optimiser = torch.optim.Adam(gru_model.parameters(), lr=lr)"
   ]
  },
  {
   "cell_type": "code",
   "execution_count": 59,
   "id": "aec12a1b",
   "metadata": {
    "id": "aec12a1b",
    "scrolled": true
   },
   "outputs": [
    {
     "name": "stdout",
     "output_type": "stream",
     "text": [
      "Epoch [1/30], Loss: 0.3294\n",
      "Epoch [2/30], Loss: 0.2915\n",
      "Epoch [3/30], Loss: 0.3002\n",
      "Epoch [4/30], Loss: 0.1265\n",
      "Epoch [5/30], Loss: 0.1726\n",
      "Epoch [6/30], Loss: 0.0698\n",
      "Epoch [7/30], Loss: 0.1115\n",
      "Epoch [8/30], Loss: 0.0605\n",
      "Epoch [9/30], Loss: 0.0605\n",
      "Epoch [10/30], Loss: 0.0603\n",
      "Epoch [11/30], Loss: 0.0156\n",
      "Epoch [12/30], Loss: 0.0259\n",
      "Epoch [13/30], Loss: 0.0095\n",
      "Epoch [14/30], Loss: 0.0121\n",
      "Epoch [15/30], Loss: 0.0256\n",
      "Epoch [16/30], Loss: 0.0032\n",
      "Epoch [17/30], Loss: 0.0075\n",
      "Epoch [18/30], Loss: 0.0182\n",
      "Epoch [19/30], Loss: 0.0009\n",
      "Epoch [20/30], Loss: 0.0224\n",
      "Epoch [21/30], Loss: 0.0028\n",
      "Epoch [22/30], Loss: 0.0022\n",
      "Epoch [23/30], Loss: 0.0185\n",
      "Epoch [24/30], Loss: 0.0128\n",
      "Epoch [25/30], Loss: 0.0048\n",
      "Epoch [26/30], Loss: 0.0003\n",
      "Epoch [27/30], Loss: 0.0144\n",
      "Epoch [28/30], Loss: 0.0003\n",
      "Epoch [29/30], Loss: 0.0175\n",
      "Epoch [30/30], Loss: 0.0015\n"
     ]
    }
   ],
   "source": [
    "# Train the model\n",
    "# This function trains the GRU model using the specified optimizer and number of epochs.\n",
    "# It iterates over the dataset, updates the model weights, and minimizes the loss function.\n",
    "\n",
    "train(gru_model, optimiser=optimiser, epochs=epochs)"
   ]
  },
  {
   "cell_type": "code",
   "execution_count": 60,
   "id": "7a3ef175",
   "metadata": {
    "id": "7a3ef175"
   },
   "outputs": [
    {
     "name": "stdout",
     "output_type": "stream",
     "text": [
      "0.9072\n"
     ]
    }
   ],
   "source": [
    "# Evaluate the model on the test dataset\n",
    "# This function calculates the accuracy of the trained GRU model using the test data.\n",
    "# It returns a float value representing the percentage of correctly classified samples.\n",
    "\n",
    "print(f'{accuracy(gru_model, test_loader):.4f}')\n"
   ]
  },
  {
   "cell_type": "code",
   "execution_count": null,
   "id": "ed30693d",
   "metadata": {
    "id": "ed30693d"
   },
   "outputs": [
    {
     "name": "stdout",
     "output_type": "stream",
     "text": [
      "Predicted category: Business\n"
     ]
    }
   ],
   "source": [
    "# Function to classify a given text using the trained GRU model\n",
    "# This function tokenizes the input text, converts it to indices, and predicts the class.\n",
    "# The model is set to evaluation mode to prevent gradient updates during inference.\n",
    "# Finally, it returns the predicted category based on the highest probability output.\n",
    "def sample_text(model, text):\n",
    "    '''\n",
    "    Classify a given text using the trained GRU model.\n",
    "\n",
    "    Parameters:\n",
    "    - model (nn.Module): Trained model.\n",
    "    - text (str): Input text to classify.\n",
    "\n",
    "    Returns:\n",
    "    - str: Predicted class label.\n",
    "    '''\n",
    "    model.eval()  # Poner el modelo en modo evaluación\n",
    "\n",
    "    # Tokenizar el texto\n",
    "    tokens = tokeniser(text)\n",
    "    \n",
    "    # Convertir tokens a índices del vocabulario\n",
    "    indices = vocab(tokens)\n",
    "    \n",
    "    # Asegurar que la longitud sea de max_tokens con padding/truncation\n",
    "    indices = indices[:max_tokens] + [0] * (max_tokens - len(indices))\n",
    "\n",
    "    # Convertir a tensor y mover a la misma GPU/CPU que el modelo\n",
    "    tensor_input = torch.tensor(indices).unsqueeze(0).to(device)  \n",
    "\n",
    "    # Forward pass con el modelo\n",
    "    with torch.no_grad():\n",
    "        output = model(tensor_input)\n",
    "        predicted_class = torch.argmax(output, dim=1).item()  # Obtener la clase con mayor probabilidad\n",
    "\n",
    "    return labels[predicted_class]  # Devolver la categoría predicha\n",
    "\n",
    "# Prueba con un texto de ejemplo\n",
    "sample_text_input = \"Stock prices are going up in the market today.\"\n",
    "print(\"Predicted category:\", sample_text(gru_model, sample_text_input))\n"
   ]
  },
  {
   "cell_type": "code",
   "execution_count": 64,
   "id": "534f0220",
   "metadata": {
    "id": "534f0220"
   },
   "outputs": [],
   "source": [
    "def sample_text(model, text):\n",
    "    '''\n",
    "    Classifies a given text using the trained model.\n",
    "\n",
    "    Parameters:\n",
    "    - model (nn.Module): The trained model.\n",
    "    - text (str): The input text to classify.\n",
    "\n",
    "    Returns:\n",
    "    - str: The predicted category.\n",
    "    '''\n",
    "    model.eval()  # Set the model to evaluation mode\n",
    "\n",
    "    # Tokenize and convert text to numerical indices\n",
    "    tokens = tokeniser(text)\n",
    "    token_indices = vocab(tokens)\n",
    "\n",
    "    # Pad or truncate to `max_tokens`\n",
    "    token_indices = token_indices[:max_tokens] + [0] * (max_tokens - len(token_indices))\n",
    "\n",
    "    # Convert to tensor and move to the same device as the model\n",
    "    input_tensor = torch.tensor([token_indices], dtype=torch.int32).to(device)\n",
    "\n",
    "    # Forward pass\n",
    "    with torch.no_grad():\n",
    "        output = model(input_tensor)\n",
    "\n",
    "    # Get the predicted class\n",
    "    predicted_class = torch.argmax(output, dim=1).item()\n",
    "\n",
    "    # Return the corresponding category\n",
    "    return labels[predicted_class]\n"
   ]
  },
  {
   "cell_type": "code",
   "execution_count": null,
   "id": "e7d73f69",
   "metadata": {
    "id": "e7d73f69"
   },
   "outputs": [
    {
     "name": "stdout",
     "output_type": "stream",
     "text": [
      "Business\n",
      "Sports\n",
      "Sci/Tech\n",
      "World\n"
     ]
    }
   ],
   "source": [
    "# \"Testing the function\n",
    "print(sample_text(gru_model, \"The stock market saw a significant rise today.\"))\n",
    "print(sample_text(gru_model, \"The World Cup final was an intense match.\"))\n",
    "print(sample_text(gru_model, \"Scientists discovered a new planet in the solar system.\"))\n",
    "print(sample_text(gru_model, \"The president gave a speech on international relations.\"))"
   ]
  },
  {
   "cell_type": "markdown",
   "id": "56550b4e",
   "metadata": {},
   "source": [
    "## Interpreting the Confusion Matrix\n",
    "\n",
    "The confusion matrix provides a detailed breakdown of how the model classifies each category.\n",
    "\n",
    "### How to Read the Matrix:\n",
    "- **Diagonal values** indicate correctly classified samples.\n",
    "- **Off-diagonal values** represent misclassifications.\n",
    "- If errors are concentrated between two specific classes (e.g., Business ↔ Sci/Tech), it suggests **semantic overlap** between these categories.\n",
    "- If one class has significantly higher misclassification rates, it may require **better representation in the training data**.\n",
    "\n",
    "The confusion matrix allows us to **identify weak areas in the model** and develop targeted improvements.\n"
   ]
  },
  {
   "cell_type": "code",
   "execution_count": 67,
   "id": "bb38e093",
   "metadata": {
    "id": "bb38e093"
   },
   "outputs": [
    {
     "data": {
      "image/png": "[encoded data removed]",
      "text/plain": [
       "<Figure size 800x600 with 2 Axes>"
      ]
     },
     "metadata": {},
     "output_type": "display_data"
    }
   ],
   "source": [
    "# Function to generate and display the confusion matrix.\n",
    "# This visualization helps assess the model's performance by showing how many samples were correctly or incorrectly classified.\n",
    "# Ideally, the majority of values should be along the diagonal, indicating correct classifications.\n",
    "# Off-diagonal values represent misclassifications, helping identify potential weaknesses in the model.\n",
    "\n",
    "def plot_confusion_matrix(model, loader):\n",
    "    '''\n",
    "    Generates and displays a confusion matrix for the model's predictions.\n",
    "\n",
    "    Parameters:\n",
    "    - model (nn.Module): The trained model.\n",
    "    - loader (DataLoader): The DataLoader for the test dataset.\n",
    "\n",
    "    Returns:\n",
    "    - None: Displays a heatmap of the confusion matrix.\n",
    "    '''\n",
    "    model.eval()  # Set model to evaluation mode\n",
    "    all_preds = []\n",
    "    all_labels = []\n",
    "\n",
    "    with torch.no_grad():\n",
    "        for x_batch, y_batch in loader:\n",
    "            x_batch, y_batch = x_batch.to(device), y_batch.to(device)\n",
    "            outputs = model(x_batch)\n",
    "            _, predicted = torch.max(outputs, 1)\n",
    "            all_preds.extend(predicted.cpu().numpy())  # Move to CPU and convert to list\n",
    "            all_labels.extend(y_batch.cpu().numpy())\n",
    "\n",
    "    # Compute the confusion matrix\n",
    "    cm = confusion_matrix(all_labels, all_preds)\n",
    "\n",
    "    # Plot the confusion matrix\n",
    "    plt.figure(figsize=(8,6))\n",
    "    sns.heatmap(cm, annot=True, fmt=\"d\", cmap=\"Blues\", xticklabels=labels, yticklabels=labels)\n",
    "    plt.xlabel(\"Predicted Label\")\n",
    "    plt.ylabel(\"True Label\")\n",
    "    plt.title(\"Confusion Matrix\")\n",
    "    plt.show()\n",
    "\n",
    "# Run the function to generate the confusion matrix\n",
    "plot_confusion_matrix(gru_model, test_loader)"
   ]
  },
  {
   "cell_type": "markdown",
   "id": "aaca4c3d",
   "metadata": {},
   "source": [
    "# Final Conclusion: Performance and Insights\n",
    "\n",
    "The **GRU-based text classification model** trained on the **AG_NEWS dataset** has achieved an impressive **accuracy of 90.72%** on the test set. This result highlights the model’s effectiveness in distinguishing between different news categories while also revealing areas for potential improvement.\n",
    "\n",
    "---\n",
    "\n",
    "## Key Observations\n",
    "\n",
    "### 1. Strong Model Performance\n",
    "- The model performed exceptionally well, especially in the **Sports** category, with only **31 misclassified samples** out of 1,900.\n",
    "- The **World** category also showed high accuracy, with **1,733 correct classifications** and **167 misclassifications**.\n",
    "- Overall, the model effectively learned **distinct features** of each news category.\n",
    "\n",
    "### 2. Identified Weaknesses and Misclassification Trends\n",
    "- The **Business** category showed the highest misclassification rate, particularly with **Sci/Tech**, where **161 Business articles were misclassified** as Sci/Tech.\n",
    "- This indicates that **many business articles contain technological themes**, causing **semantic overlap**.\n",
    "- Similarly, **67 World articles were misclassified as Sci/Tech**, likely due to **global news covering technological advancements**.\n",
    "- The model struggles with **subtle contextual similarities** between categories.\n",
    "\n",
    "### 3. Potential Areas for Improvement\n",
    "\n",
    "To further enhance classification performance, the following strategies should be considered:\n",
    "\n",
    "#### **Hyperparameter Optimization**\n",
    "- Fine-tuning **learning rates, batch size, dropout rates, and the number of recurrent layers** can improve model efficiency.\n",
    "\n",
    "#### **Pretrained Word Embeddings**\n",
    "- Instead of learning embeddings from scratch, utilizing **pretrained embeddings like GloVe or FastText** could enhance the model’s ability to understand word relationships.\n",
    "\n",
    "#### **Data Augmentation**\n",
    "- **Balancing class distributions**\n",
    "- **Introducing synonym replacement**\n",
    "- **Expanding the dataset with paraphrased news articles**\n",
    "\n",
    "These strategies could improve **generalization** and **reduce misclassification**.\n",
    "\n",
    "#### **Advanced Architectures**\n",
    "- Implementing **bidirectional GRUs** or **attention mechanisms** could allow the model to better capture **long-term dependencies** in the text.\n",
    "\n",
    "#### **Regularization Techniques**\n",
    "- Adding **dropout layers** and **L2 weight decay** can prevent **overfitting**, making the model more robust.\n",
    "\n",
    "#### **Improved Class Representation**\n",
    "- Conducting an in-depth analysis of **Business and Sci/Tech misclassifications** can help refine **tokenization strategies** and **feature extraction**.\n",
    "\n",
    "---\n",
    "\n",
    "## Final Verdict\n",
    "\n",
    "The **GRU-based model successfully classifies news articles** into four categories with a **high accuracy of 90.72%**. The **confusion matrix** provides deeper insights into **which categories are most prone to misclassification**, particularly **Business and Sci/Tech**.\n",
    "\n",
    "Overall, this study confirms that **GRUs are highly effective for text classification tasks**. While the model demonstrates **strong performance**, additional refinements in **handling category overlap and contextual similarities** could further enhance its accuracy.\n"
   ]
  }
 ],
 "metadata": {
  "colab": {
   "provenance": []
  },
  "kernelspec": {
   "display_name": "Python 3",
   "language": "python",
   "name": "python3"
  },
  "language_info": {
   "codemirror_mode": {
    "name": "ipython",
    "version": 3
   },
   "file_extension": ".py",
   "mimetype": "text/x-python",
   "name": "python",
   "nbconvert_exporter": "python",
   "pygments_lexer": "ipython3",
   "version": "3.12.3"
  },
  "varInspector": {
   "cols": {
    "lenName": 16,
    "lenType": 16,
    "lenVar": 40
   },
   "kernels_config": {
    "python": {
     "delete_cmd_postfix": "",
     "delete_cmd_prefix": "del ",
     "library": "var_list.py",
     "varRefreshCmd": "print(var_dic_list())"
    },
    "r": {
     "delete_cmd_postfix": ") ",
     "delete_cmd_prefix": "rm(",
     "library": "var_list.r",
     "varRefreshCmd": "cat(var_dic_list()) "
    }
   },
   "types_to_exclude": [
    "module",
    "function",
    "builtin_function_or_method",
    "instance",
    "_Feature"
   ],
   "window_display": false
  }
 },
 "nbformat": 4,
 "nbformat_minor": 5
}
